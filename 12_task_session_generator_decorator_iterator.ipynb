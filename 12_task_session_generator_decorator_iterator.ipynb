{
  "nbformat": 4,
  "nbformat_minor": 0,
  "metadata": {
    "colab": {
      "provenance": [],
      "include_colab_link": true
    },
    "kernelspec": {
      "name": "python3",
      "display_name": "Python 3"
    },
    "language_info": {
      "name": "python"
    }
  },
  "cells": [
    {
      "cell_type": "markdown",
      "metadata": {
        "id": "view-in-github",
        "colab_type": "text"
      },
      "source": [
        "<a href=\"https://colab.research.google.com/github/kaynatmozammil/Data-Science-/blob/main/12_task_session_generator_decorator_iterator.ipynb\" target=\"_parent\"><img src=\"https://colab.research.google.com/assets/colab-badge.svg\" alt=\"Open In Colab\"/></a>"
      ]
    },
    {
      "cell_type": "markdown",
      "source": [
        "## Namespace and Scope"
      ],
      "metadata": {
        "id": "hM8V4LxHKV6x"
      }
    },
    {
      "cell_type": "markdown",
      "source": [
        "###`Q1:` Write `Person` Class as given below and then display it's namespace.\n",
        "\n"
      ],
      "metadata": {
        "id": "Kl3s2TonKYgY"
      }
    },
    {
      "cell_type": "markdown",
      "source": [
        "```\n",
        "Class Name - Person\n",
        "\n",
        "Attributes:\n",
        "name - public\n",
        "state - public\n",
        "city - private\n",
        "age - private\n",
        "\n",
        "Methods:\n",
        "address - public\n",
        "It give address of the person as \"<name>, <city>, <state>\"\n",
        "```"
      ],
      "metadata": {
        "id": "grudG97hL83C"
      }
    },
    {
      "cell_type": "code",
      "source": [
        "#Write your code here\n",
        "class Person:\n",
        "  def __init__(self,name ,state):\n",
        "    self.name  = name\n",
        "    self.state = state\n",
        "    self.__city = None\n",
        "    self.__age = None\n",
        "  def set_city(self,city):\n",
        "    self.__city = city\n",
        "  def get_city(self):\n",
        "    return self.__city\n",
        "\n",
        "  def set_age(self,age):\n",
        "    self.__age = age\n",
        "  def get_age(self):\n",
        "    return self.__age\n",
        "  def address(self):\n",
        "      return f'{self.name},{self.__city},{self.state}'\n",
        "\n",
        "for i in Person.__dict__:\n",
        "  print(i)"
      ],
      "metadata": {
        "id": "BRq-I4jmKX0U",
        "colab": {
          "base_uri": "https://localhost:8080/"
        },
        "outputId": "99184c58-f84f-498f-f0a2-85609609d323"
      },
      "execution_count": null,
      "outputs": [
        {
          "output_type": "stream",
          "name": "stdout",
          "text": [
            "__module__\n",
            "__init__\n",
            "set_city\n",
            "get_city\n",
            "set_age\n",
            "get_age\n",
            "address\n",
            "__dict__\n",
            "__weakref__\n",
            "__doc__\n"
          ]
        }
      ]
    },
    {
      "cell_type": "code",
      "source": [],
      "metadata": {
        "id": "8XD7YgT-L_ZU"
      },
      "execution_count": null,
      "outputs": []
    },
    {
      "cell_type": "markdown",
      "source": [
        "###`Q2:` Write a program to show namespace of object/instance of above(Person) class."
      ],
      "metadata": {
        "id": "NLtOPOXDL_zB"
      }
    },
    {
      "cell_type": "code",
      "source": [
        "# Write your code here\n",
        "p = Person('Kaynat','Bihar')\n",
        "p.set_city('Begusarai')\n",
        "p.set_age('20')\n",
        "print('Address: ',p.address())\n",
        "\n",
        "for i in p.__dict__:\n",
        "  print(i)\n",
        "print(p.__dict__ )"
      ],
      "metadata": {
        "id": "w3fj9tf0MJ3Z",
        "colab": {
          "base_uri": "https://localhost:8080/"
        },
        "outputId": "08babd41-6a2a-4bc7-b786-a38676c564c0"
      },
      "execution_count": null,
      "outputs": [
        {
          "output_type": "stream",
          "name": "stdout",
          "text": [
            "Address:  Kaynat,Begusarai,Bihar\n",
            "name\n",
            "state\n",
            "_Person__city\n",
            "_Person__age\n",
            "{'name': 'Kaynat', 'state': 'Bihar', '_Person__city': 'Begusarai', '_Person__age': '20'}\n"
          ]
        }
      ]
    },
    {
      "cell_type": "code",
      "source": [],
      "metadata": {
        "id": "J2C13ZiuNGP3"
      },
      "execution_count": null,
      "outputs": []
    },
    {
      "cell_type": "markdown",
      "source": [
        "###`Q3:` Write a recursive program to to calculate `gcd` and print no. of function calls taken to find the solution.\n",
        "```\n",
        "gcd(5,10) -> result in 5 as gcd and function call 3\n",
        "```"
      ],
      "metadata": {
        "id": "rRnCZmlUY8sn"
      }
    },
    {
      "cell_type": "code",
      "source": [
        "#Write your code here\n",
        "# O(min(a,b))\n",
        "# O(log(min(a,b)))\n",
        "# def gcd(a,b):\n",
        "#   if a == b:\n",
        "#     return a\n",
        "#   elif a > b:\n",
        "#     return gcd(a-b,b)\n",
        "#   else:\n",
        "#     return gcd(b-a,a)\n",
        "# gcd(5,10)\n",
        "counter = 0\n",
        "def gcd(a,b):\n",
        "  global counter\n",
        "  counter += 1\n",
        "  if b == 0:\n",
        "    return a\n",
        "  else:\n",
        "      return gcd(b,a%b)\n",
        "\n",
        "print(gcd(10,5),counter)"
      ],
      "metadata": {
        "id": "jYiVzxhUZRln",
        "colab": {
          "base_uri": "https://localhost:8080/"
        },
        "outputId": "24f5f09b-8e90-46e1-9ddd-d29c3f0461b1"
      },
      "execution_count": null,
      "outputs": [
        {
          "output_type": "stream",
          "name": "stdout",
          "text": [
            "5 2\n"
          ]
        }
      ]
    },
    {
      "cell_type": "code",
      "source": [],
      "metadata": {
        "id": "gwnOjBakeEiE"
      },
      "execution_count": null,
      "outputs": []
    },
    {
      "cell_type": "markdown",
      "source": [
        "## Itterator And Generator"
      ],
      "metadata": {
        "id": "FbDepR9QNGnh"
      }
    },
    {
      "cell_type": "markdown",
      "source": [
        "###`Q4:` Create MyEnumerate class,\n",
        "Create your own `MyEnumerate` class such that someone can use it instead of enumerate. It will need to return a `tuple` with each iteration, with the first element in the tuple being the `index` (starting with 0) and the second element being the `current element` from the underlying data structure. Trying to use `MyEnumerate` with a noniterable argument will result in an error.\n",
        "\n",
        "```\n",
        "for index, letter in MyEnumerate('abc'):\n",
        "    print(f'{index} : {letter}')\n",
        "```\n",
        "\n",
        "Output:\n",
        "```\n",
        "0 : a\n",
        "1 : b\n",
        "2 : c\n",
        "```"
      ],
      "metadata": {
        "id": "Nj5WaR_4NJTu"
      }
    },
    {
      "cell_type": "code",
      "source": [
        "class MyEnumerateIterator:\n",
        "    def __init__(self, data, max_items):\n",
        "        self.data = data\n",
        "        self.max_items = max_items\n",
        "        self.index = 0\n",
        "\n",
        "    def __next__(self):\n",
        "        if self.index >= self.max_items:\n",
        "            raise StopIteration\n",
        "        value = (self.index, self.data[self.index])\n",
        "        self.index += 1\n",
        "        return value\n",
        "\n",
        "class MyEnumerate:\n",
        "    def __init__(self, data):\n",
        "        self.data = data\n",
        "\n",
        "    def __iter__(self):\n",
        "        return MyEnumerateIterator(self.data, len(self.data))\n",
        "\n",
        "for index, letter in MyEnumerate('abc'):\n",
        "    print(f'{index} : {letter}')\n"
      ],
      "metadata": {
        "colab": {
          "base_uri": "https://localhost:8080/"
        },
        "id": "RqHw2Rxln7Vx",
        "outputId": "9186c8ab-52ad-4ed7-e3b9-a96c4dec63c3"
      },
      "execution_count": null,
      "outputs": [
        {
          "output_type": "stream",
          "name": "stdout",
          "text": [
            "0 : a\n",
            "1 : b\n",
            "2 : c\n"
          ]
        }
      ]
    },
    {
      "cell_type": "code",
      "source": [
        "\n",
        "class MyEnumerate:\n",
        "    def __init__(self, data):\n",
        "        self.data = data\n",
        "        self.index = 0\n",
        "    def __iter__(self):\n",
        "        return self\n",
        "\n",
        "\n",
        "    def __next__(self):\n",
        "        if self.index >= len(self.data):\n",
        "            raise StopIteration\n",
        "        value = (self.index, self.data[self.index])\n",
        "        self.index += 1\n",
        "        return value\n",
        "\n",
        "for index, letter in MyEnumerate('abc'):\n",
        "    print(f'{index} : {letter}')\n"
      ],
      "metadata": {
        "colab": {
          "base_uri": "https://localhost:8080/"
        },
        "id": "hIXMbIMpuEk2",
        "outputId": "aee88c51-b64c-4fd9-81d0-779b843bc509"
      },
      "execution_count": null,
      "outputs": [
        {
          "output_type": "stream",
          "name": "stdout",
          "text": [
            "0 : a\n",
            "1 : b\n",
            "2 : c\n"
          ]
        }
      ]
    },
    {
      "cell_type": "code",
      "source": [
        "\n",
        "l = [1,2,3]\n",
        "iterator = iter(l)\n",
        "next(iterator)"
      ],
      "metadata": {
        "id": "6zjcm2gxNbfJ",
        "colab": {
          "base_uri": "https://localhost:8080/"
        },
        "outputId": "399bf78b-6e11-4825-a66f-3cb32d84a20d"
      },
      "execution_count": null,
      "outputs": [
        {
          "output_type": "execute_result",
          "data": {
            "text/plain": [
              "1"
            ]
          },
          "metadata": {},
          "execution_count": 12
        }
      ]
    },
    {
      "cell_type": "code",
      "source": [
        "next(iterator)"
      ],
      "metadata": {
        "colab": {
          "base_uri": "https://localhost:8080/"
        },
        "id": "m_gdOG4ANkVN",
        "outputId": "d5e6cb23-fe41-42e1-fb6d-a4b9ba401cd7"
      },
      "execution_count": null,
      "outputs": [
        {
          "output_type": "execute_result",
          "data": {
            "text/plain": [
              "2"
            ]
          },
          "metadata": {},
          "execution_count": 13
        }
      ]
    },
    {
      "cell_type": "code",
      "source": [
        "next(iterator)"
      ],
      "metadata": {
        "id": "ya--mdHwNxdX",
        "colab": {
          "base_uri": "https://localhost:8080/"
        },
        "outputId": "c1da3bcf-bc54-488c-f82a-71f883af66ad"
      },
      "execution_count": null,
      "outputs": [
        {
          "output_type": "execute_result",
          "data": {
            "text/plain": [
              "3"
            ]
          },
          "metadata": {},
          "execution_count": 14
        }
      ]
    },
    {
      "cell_type": "code",
      "source": [
        "next(iterator)"
      ],
      "metadata": {
        "colab": {
          "base_uri": "https://localhost:8080/",
          "height": 141
        },
        "id": "BeHA1gKQnzhx",
        "outputId": "a4317988-7968-4d9c-dd9b-2a5c7b7255f2"
      },
      "execution_count": null,
      "outputs": [
        {
          "output_type": "error",
          "ename": "StopIteration",
          "evalue": "",
          "traceback": [
            "\u001b[0;31m---------------------------------------------------------------------------\u001b[0m",
            "\u001b[0;31mStopIteration\u001b[0m                             Traceback (most recent call last)",
            "\u001b[0;32m<ipython-input-15-4ce711c44abc>\u001b[0m in \u001b[0;36m<cell line: 1>\u001b[0;34m()\u001b[0m\n\u001b[0;32m----> 1\u001b[0;31m \u001b[0mnext\u001b[0m\u001b[0;34m(\u001b[0m\u001b[0miterator\u001b[0m\u001b[0;34m)\u001b[0m\u001b[0;34m\u001b[0m\u001b[0;34m\u001b[0m\u001b[0m\n\u001b[0m",
            "\u001b[0;31mStopIteration\u001b[0m: "
          ]
        }
      ]
    },
    {
      "cell_type": "markdown",
      "source": [
        "###`Q5:` Iterate in circle\n",
        "Define a class, `Circle`, that takes two arguments when defined: a sequence and a number. The idea is that the object will then return elements the defined number of times. If the number is greater than the number of elements, then the sequence  repeats as necessary. You can define an another class used as a helper (like I call `CircleIterator`).\n",
        "\n",
        "```\n",
        "c = Circle('abc', 5)\n",
        "d = Circle('abc', 7)\n",
        "print(list(c))\n",
        "print(list(d))\n",
        "```\n",
        "\n",
        "Output\n",
        "```\n",
        "[a, b, c, a, b]\n",
        "[a, b, c, a, b, c, a]\n",
        "```"
      ],
      "metadata": {
        "id": "U2Ai7rVDOLBw"
      }
    },
    {
      "cell_type": "code",
      "source": [
        "#Write your code here\n",
        "class Circle:\n",
        "  def __init__(self,data,max_iter):\n",
        "    self.data = data\n",
        "    self.index = 0\n",
        "    self.max_iter = max_iter\n",
        "  def __iter__(self):\n",
        "    return self\n",
        "\n",
        "  def __next__(self):\n",
        "    if self.index >= self.max_iter:\n",
        "      raise StopIteration\n",
        "\n",
        "    value = self.data[self.index % len(self.data)]\n",
        "    self.index += 1\n",
        "    return value\n"
      ],
      "metadata": {
        "id": "iwcTy1HyO5hs"
      },
      "execution_count": null,
      "outputs": []
    },
    {
      "cell_type": "code",
      "source": [
        "c = Circle('abc', 5)\n",
        "d = Circle('abc', 7)\n",
        "print(list(c))\n",
        "print(list(d))"
      ],
      "metadata": {
        "colab": {
          "base_uri": "https://localhost:8080/"
        },
        "id": "wZlcmTt7PHLm",
        "outputId": "525f5f10-96b4-4f59-ccac-c7f917bd743a"
      },
      "execution_count": null,
      "outputs": [
        {
          "output_type": "stream",
          "name": "stdout",
          "text": [
            "['a', 'b', 'c', 'a', 'b']\n",
            "['a', 'b', 'c', 'a', 'b', 'c', 'a']\n"
          ]
        }
      ]
    },
    {
      "cell_type": "code",
      "source": [],
      "metadata": {
        "colab": {
          "base_uri": "https://localhost:8080/"
        },
        "id": "saYZvaj6PxVW",
        "outputId": "b5b3108e-8faf-4cfd-d4b9-f4c0ec4c2381"
      },
      "execution_count": null,
      "outputs": [
        {
          "output_type": "stream",
          "name": "stdout",
          "text": [
            "['a', 'b', 'c', 'a', 'b']\n"
          ]
        }
      ]
    },
    {
      "cell_type": "code",
      "source": [],
      "metadata": {
        "id": "ElXQR_4kQmwO"
      },
      "execution_count": null,
      "outputs": []
    },
    {
      "cell_type": "markdown",
      "source": [
        "###`Q6:` Generator time elapsed\n",
        "Write a generator function whose argument must be iterable. With each iteration, the generator will return a two-element tuple. The first element in the tuple will be an integer indicating how many seconds have passed since the previous iteration. The tuple’s second element will be the next item from the passed argument.\n",
        "\n",
        "Note that the timing should be relative to the previous iteration, not when the\n",
        "generator was first created or invoked. Thus the timing number in the first iteration\n",
        "will be 0\n",
        "\n",
        "```\n",
        "for t in elapsed_since('abcd'):\n",
        "    print(t)\n",
        "    time.sleep(2)\n",
        "```\n",
        "\n",
        "Output:\n",
        "```\n",
        "(0.0, 'a')\n",
        "(2.005651817999933, 'b')\n",
        "(2.0023095009998997, 'c')\n",
        "(2.001949742000079, 'd')\n",
        "```\n",
        "Note: Your output may differ because of diffrent system has different processing configuration."
      ],
      "metadata": {
        "id": "17KyhciKQnAE"
      }
    },
    {
      "cell_type": "code",
      "source": [
        "#Write yor code\n",
        "import time\n",
        "def elapsed_since(data):\n",
        "  last_time = time.perf_counter()\n",
        "  for item in data:\n",
        "    current_time = time.perf_counter()\n",
        "    delta = current_time - last_time\n",
        "    yield(delta,item)\n",
        "for t in elapsed_since('abcd'):\n",
        "    print(t)\n",
        "    time.sleep(2)"
      ],
      "metadata": {
        "id": "UkH1tj9zQ-gc",
        "colab": {
          "base_uri": "https://localhost:8080/"
        },
        "outputId": "59adc3d0-0d26-4ec5-9a55-5e323e4352a6"
      },
      "execution_count": null,
      "outputs": [
        {
          "output_type": "stream",
          "name": "stdout",
          "text": [
            "(1.1530000278980879e-06, 'a')\n",
            "(2.003706098000009, 'b')\n",
            "(4.0059188250000375, 'c')\n",
            "(6.008158726000033, 'd')\n"
          ]
        }
      ]
    },
    {
      "cell_type": "code",
      "source": [],
      "metadata": {
        "colab": {
          "base_uri": "https://localhost:8080/"
        },
        "id": "i0X6JreBRlYG",
        "outputId": "f7bae901-6522-4cb7-bea2-5587cebd478a"
      },
      "execution_count": null,
      "outputs": [
        {
          "output_type": "stream",
          "name": "stdout",
          "text": [
            "(0.0, 'a')\n",
            "(2.005651817999933, 'b')\n",
            "(2.0023095009998997, 'c')\n",
            "(2.001949742000079, 'd')\n"
          ]
        }
      ]
    },
    {
      "cell_type": "markdown",
      "source": [
        "## Decorators"
      ],
      "metadata": {
        "id": "fXr3OJxJSC1j"
      }
    },
    {
      "cell_type": "markdown",
      "source": [
        "###`Q7:` Write a Python program to make a chain of function decorators (bold, italic, underline etc.) on a given function which prints \"hello world\"\n",
        "\n",
        "```\n",
        "def hello():\n",
        "    return \"hello world\"\n",
        "```\n",
        "\n",
        "```\n",
        "bold - wrap string with <b> tag. <b>Str</b>\n",
        "italic - wrap string with <i> tag. <i>Str</i>\n",
        "underline- wrap string with <u> tag. <u>Str</u>\n",
        "```"
      ],
      "metadata": {
        "id": "xSjvwAt-SFhi"
      }
    },
    {
      "cell_type": "code",
      "source": [
        "#Write your code here\n",
        "def make_bold(func):\n",
        "  def wrapped():\n",
        "    return \"<b>\" + func() + \"</b>\"\n",
        "  return wrapped\n",
        "\n",
        "def make_itelic(func):\n",
        "  def wrapped():\n",
        "    return \"<i>\" + func() + \"</i>\"\n",
        "  return wrapped\n",
        "\n",
        "def make_underline(func):\n",
        "  def wrapped():\n",
        "    return \"<u>\" + func() + \"</u>\"\n",
        "  return wrapped\n",
        "\n",
        "@make_itelic\n",
        "@make_underline\n",
        "@make_bold\n",
        "def hello():\n",
        "    return \"hello world\"\n",
        "\n",
        "print(hello())"
      ],
      "metadata": {
        "id": "prVeZGYlSorr",
        "colab": {
          "base_uri": "https://localhost:8080/"
        },
        "outputId": "c85fd336-6178-4523-9810-2f11f73cfc56"
      },
      "execution_count": null,
      "outputs": [
        {
          "output_type": "stream",
          "name": "stdout",
          "text": [
            "<i><u><b>hello world</b></u></i>\n"
          ]
        }
      ]
    },
    {
      "cell_type": "code",
      "source": [],
      "metadata": {
        "colab": {
          "base_uri": "https://localhost:8080/"
        },
        "id": "50wGH6zmSEv4",
        "outputId": "263dd662-7c5a-4f72-b394-71e04486d662"
      },
      "execution_count": null,
      "outputs": [
        {
          "output_type": "stream",
          "name": "stdout",
          "text": [
            "<b><i><u>hello world</u></i></b>\n"
          ]
        }
      ]
    },
    {
      "cell_type": "markdown",
      "source": [
        "###`Q8:` Write a decorator called `printer` which causes any decorated function to print their return values. If the return value of a given function is `None`, printer should do nothing.\n",
        "\n"
      ],
      "metadata": {
        "id": "miKBwPy4TQWa"
      }
    },
    {
      "cell_type": "code",
      "source": [
        "from functools import wraps\n",
        "def printer(func):\n",
        "    @wraps(func)\n",
        "    def inner(*args, **kwargs):\n",
        "        return_value = func(*args, **kwargs)\n",
        "        if return_value is not None:\n",
        "            print(return_value)\n",
        "        return return_value\n",
        "    return inner\n",
        "\n",
        "@printer\n",
        "def hello(string):\n",
        "    return string\n",
        "\n",
        "hello(\"hello\")\n"
      ],
      "metadata": {
        "colab": {
          "base_uri": "https://localhost:8080/",
          "height": 52
        },
        "id": "G35L-IkOeDhI",
        "outputId": "3640a715-2de6-48a3-e294-81e48463c6c8"
      },
      "execution_count": null,
      "outputs": [
        {
          "output_type": "stream",
          "name": "stdout",
          "text": [
            "hello\n"
          ]
        },
        {
          "output_type": "execute_result",
          "data": {
            "text/plain": [
              "'hello'"
            ],
            "application/vnd.google.colaboratory.intrinsic+json": {
              "type": "string"
            }
          },
          "metadata": {},
          "execution_count": 16
        }
      ]
    },
    {
      "cell_type": "code",
      "source": [
        "help(hello)"
      ],
      "metadata": {
        "colab": {
          "base_uri": "https://localhost:8080/"
        },
        "id": "U86ZE73WT-ux",
        "outputId": "15365a1a-599a-4237-b94e-9a01b5b180c6"
      },
      "execution_count": null,
      "outputs": [
        {
          "output_type": "stream",
          "name": "stdout",
          "text": [
            "Help on function hello in module __main__:\n",
            "\n",
            "hello(string)\n",
            "\n"
          ]
        }
      ]
    },
    {
      "cell_type": "markdown",
      "source": [
        "###`Q9:` Make a decorator which calls a given function twice. You can assume the functions don't return anything important, but they may take arguments.\n",
        "```\n",
        "#Lets say given function\n",
        "def hello(string):\n",
        "    print(string)\n",
        "\n",
        "#on calling after specified decorator is inplaced\n",
        "hello('hello')\n",
        "```\n",
        "\n",
        "Output:\n",
        "```\n",
        "hello\n",
        "hello\n",
        "```"
      ],
      "metadata": {
        "id": "DWJLjPOnURua"
      }
    },
    {
      "cell_type": "code",
      "source": [
        "#Write your cod here\n",
        "def double(func):\n",
        "  @wraps(func)\n",
        "  def inner(*args ,**kargs):\n",
        "    func(*args ,**kargs)\n",
        "    func(*args ,**kargs)\n",
        "  return inner\n",
        "@double\n",
        "def hello(string):\n",
        "    print(string)\n",
        "\n",
        "hello('hello')"
      ],
      "metadata": {
        "id": "e38y0cz7UTdD",
        "colab": {
          "base_uri": "https://localhost:8080/"
        },
        "outputId": "64b0f29e-29bb-4564-e881-bf18a8b830d0"
      },
      "execution_count": null,
      "outputs": [
        {
          "output_type": "stream",
          "name": "stdout",
          "text": [
            "hello\n",
            "hello\n"
          ]
        }
      ]
    },
    {
      "cell_type": "code",
      "source": [],
      "metadata": {
        "id": "wgkWUsJhUnQx"
      },
      "execution_count": null,
      "outputs": []
    },
    {
      "cell_type": "markdown",
      "source": [
        "### `Q10:` Write a decorator which doubles the return value of any function. And test that decoratos is working correctly or not using `asert`.\n",
        "\n",
        "```\n",
        "add(2,3) -> result in 10. Without decorator it should be 5.\n",
        "```"
      ],
      "metadata": {
        "id": "8btcQI9pWi2w"
      }
    },
    {
      "cell_type": "code",
      "source": [
        "# Write your code here\n",
        "assert 1 == 1"
      ],
      "metadata": {
        "id": "nG6S_zQ9XFb3"
      },
      "execution_count": null,
      "outputs": []
    },
    {
      "cell_type": "code",
      "source": [
        "def double(func):\n",
        "  @wraps(func)\n",
        "  def inner(*args ,**kargs):\n",
        "    return func(*args ,**kargs)*2\n",
        "  return inner\n",
        "@double\n",
        "def add_withDeco(a,b):\n",
        "  return a + b\n",
        "\n",
        "def add(a,b):\n",
        "  return a + b\n",
        "a = 2\n",
        "b = 3\n",
        "\n",
        "assert add(a,b)*2 == add_withDeco(a,b)  , \"values are not mathcing\"\n",
        "print(\"values are matching\")"
      ],
      "metadata": {
        "id": "s16-A_RpXp2K",
        "colab": {
          "base_uri": "https://localhost:8080/"
        },
        "outputId": "dd16f252-550d-400e-c86f-b055744106cd"
      },
      "execution_count": null,
      "outputs": [
        {
          "output_type": "stream",
          "name": "stdout",
          "text": [
            "values are matching\n"
          ]
        }
      ]
    }
  ]
}