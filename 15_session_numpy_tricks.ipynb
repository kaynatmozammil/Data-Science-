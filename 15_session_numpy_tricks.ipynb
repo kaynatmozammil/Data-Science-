{
  "cells": [
    {
      "cell_type": "markdown",
      "metadata": {
        "id": "view-in-github",
        "colab_type": "text"
      },
      "source": [
        "<a href=\"https://colab.research.google.com/github/kaynatmozammil/Data-Science-/blob/main/15_session_numpy_tricks.ipynb\" target=\"_parent\"><img src=\"https://colab.research.google.com/assets/colab-badge.svg\" alt=\"Open In Colab\"/></a>"
      ]
    },
    {
      "cell_type": "markdown",
      "metadata": {
        "id": "39-UcmoPggtI"
      },
      "source": [
        "### np.sort\n",
        "\n",
        "Return a sorted copy of an array.\n",
        "\n",
        "https://numpy.org/doc/stable/reference/generated/numpy.sort.html"
      ]
    },
    {
      "cell_type": "code",
      "execution_count": null,
      "metadata": {
        "colab": {
          "base_uri": "https://localhost:8080/"
        },
        "id": "vJUzuaz7gqTr",
        "outputId": "0f2911c7-2102-432d-8065-1a9640dac648"
      },
      "outputs": [
        {
          "data": {
            "text/plain": [
              "array([ 9, 12, 65, 56, 13, 55, 24, 63, 67, 14, 65, 44, 23, 10, 51])"
            ]
          },
          "execution_count": 4,
          "metadata": {},
          "output_type": "execute_result"
        }
      ],
      "source": [
        "# code\n",
        "import numpy as np\n",
        "a = np.random.randint(1,100,15)\n",
        "a"
      ]
    },
    {
      "cell_type": "code",
      "execution_count": null,
      "metadata": {
        "colab": {
          "base_uri": "https://localhost:8080/"
        },
        "id": "Dfer5zY9-HaK",
        "outputId": "f8f71a20-6023-4d42-b6e9-9d67fb7e73b4"
      },
      "outputs": [
        {
          "data": {
            "text/plain": [
              "array([[39, 58, 83, 15],\n",
              "       [ 9, 18, 10, 39],\n",
              "       [73, 92, 59, 75],\n",
              "       [ 9, 89, 93, 38],\n",
              "       [77, 79, 88, 51],\n",
              "       [31, 72, 93, 47]])"
            ]
          },
          "execution_count": 7,
          "metadata": {},
          "output_type": "execute_result"
        }
      ],
      "source": [
        "b = np.random.randint(1,100,24).reshape(6,4)\n",
        "b"
      ]
    },
    {
      "cell_type": "code",
      "execution_count": null,
      "metadata": {
        "colab": {
          "base_uri": "https://localhost:8080/"
        },
        "id": "LDqRA-c79xs9",
        "outputId": "84d935df-d0fa-49c1-d47f-0ab90221b57b"
      },
      "outputs": [
        {
          "data": {
            "text/plain": [
              "array([97, 88, 77, 70, 67, 67, 61, 50, 44, 39, 32, 13,  7,  7,  7])"
            ]
          },
          "execution_count": 6,
          "metadata": {},
          "output_type": "execute_result"
        }
      ],
      "source": [
        "np.sort(a)[::-1]"
      ]
    },
    {
      "cell_type": "code",
      "execution_count": null,
      "metadata": {
        "colab": {
          "base_uri": "https://localhost:8080/"
        },
        "id": "y9Eng7vF-CSE",
        "outputId": "cd4f845f-d7d2-4b7d-86bf-ba91df5c9d11"
      },
      "outputs": [
        {
          "data": {
            "text/plain": [
              "array([[ 4, 39,  5, 12],\n",
              "       [34, 65, 19, 48],\n",
              "       [75, 85, 60, 54],\n",
              "       [88, 92, 69, 58],\n",
              "       [92, 96, 88, 80],\n",
              "       [95, 97, 98, 88]])"
            ]
          },
          "execution_count": 5,
          "metadata": {},
          "output_type": "execute_result"
        }
      ],
      "source": [
        "np.sort(b,axis = 0)"
      ]
    },
    {
      "cell_type": "markdown",
      "metadata": {
        "id": "W8tttorjgrVf"
      },
      "source": [
        "### np.append\n",
        "\n",
        "The numpy.append() appends values along the mentioned axis at the end of the array\n",
        "\n",
        "https://numpy.org/doc/stable/reference/generated/numpy.append.html"
      ]
    },
    {
      "cell_type": "code",
      "execution_count": null,
      "metadata": {
        "colab": {
          "base_uri": "https://localhost:8080/"
        },
        "id": "Y3fHkR1gfd1X",
        "outputId": "ba1cb37a-a651-464e-b722-7432912d2c92"
      },
      "outputs": [
        {
          "data": {
            "text/plain": [
              "array([ 32,  88,  70,  67,  61,  13,   7,  44,  50,  39,  97,   7,  77,\n",
              "        67,   7, 676])"
            ]
          },
          "execution_count": 11,
          "metadata": {},
          "output_type": "execute_result"
        }
      ],
      "source": [
        "# code\n",
        "np.append(a,676)"
      ]
    },
    {
      "cell_type": "code",
      "execution_count": null,
      "metadata": {
        "colab": {
          "base_uri": "https://localhost:8080/"
        },
        "id": "il476ku4-yTe",
        "outputId": "01191617-364f-4837-bf2a-52224bd7bd43"
      },
      "outputs": [
        {
          "data": {
            "text/plain": [
              "array([[88, 39, 69, 80],\n",
              "       [75, 92, 60, 54],\n",
              "       [92, 96,  5, 58],\n",
              "       [ 4, 85, 19, 88],\n",
              "       [95, 65, 98, 12],\n",
              "       [34, 97, 88, 48]])"
            ]
          },
          "execution_count": 12,
          "metadata": {},
          "output_type": "execute_result"
        }
      ],
      "source": [
        "b"
      ]
    },
    {
      "cell_type": "code",
      "execution_count": null,
      "metadata": {
        "colab": {
          "base_uri": "https://localhost:8080/"
        },
        "id": "h_YPL9fe-tYN",
        "outputId": "3acf34f8-557c-41c5-ecbb-734018d8235d"
      },
      "outputs": [
        {
          "data": {
            "text/plain": [
              "array([[88., 39., 69., 80.,  1.],\n",
              "       [75., 92., 60., 54.,  1.],\n",
              "       [92., 96.,  5., 58.,  1.],\n",
              "       [ 4., 85., 19., 88.,  1.],\n",
              "       [95., 65., 98., 12.,  1.],\n",
              "       [34., 97., 88., 48.,  1.]])"
            ]
          },
          "execution_count": 14,
          "metadata": {},
          "output_type": "execute_result"
        }
      ],
      "source": [
        "np.append(b,np.ones((b.shape[0],1)),axis = 1)"
      ]
    },
    {
      "cell_type": "code",
      "execution_count": null,
      "metadata": {
        "colab": {
          "base_uri": "https://localhost:8080/"
        },
        "id": "Er_2D8TZ-uFB",
        "outputId": "55aa2fd0-94e1-41c6-b645-34ae5968a3f8"
      },
      "outputs": [
        {
          "data": {
            "text/plain": [
              "array([[88.        , 39.        , 69.        , 80.        ,  0.3030868 ],\n",
              "       [75.        , 92.        , 60.        , 54.        ,  0.6922322 ],\n",
              "       [92.        , 96.        ,  5.        , 58.        ,  0.65539535],\n",
              "       [ 4.        , 85.        , 19.        , 88.        ,  0.70737827],\n",
              "       [95.        , 65.        , 98.        , 12.        ,  0.17314318],\n",
              "       [34.        , 97.        , 88.        , 48.        ,  0.15647896]])"
            ]
          },
          "execution_count": 15,
          "metadata": {},
          "output_type": "execute_result"
        }
      ],
      "source": [
        "np.append(b,np.random.random((b.shape[0],1)),axis = 1)"
      ]
    },
    {
      "cell_type": "markdown",
      "metadata": {
        "id": "meIMn8T9g5-m"
      },
      "source": [
        "### np.concatenate\n",
        "\n",
        "numpy.concatenate() function concatenate a sequence of arrays along an existing axis.\n",
        "\n",
        "https://numpy.org/doc/stable/reference/generated/numpy.concatenate.html"
      ]
    },
    {
      "cell_type": "code",
      "execution_count": null,
      "metadata": {
        "colab": {
          "base_uri": "https://localhost:8080/"
        },
        "id": "Nrj1_QXfWZlV",
        "outputId": "b88ba285-bf9b-40be-aabe-0942e99b0d1b"
      },
      "outputs": [
        {
          "name": "stdout",
          "output_type": "stream",
          "text": [
            "[[0 1 2]\n",
            " [3 4 5]]\n",
            "[[ 6  7  8]\n",
            " [ 9 10 11]]\n"
          ]
        }
      ],
      "source": [
        "# code\n",
        "c = np.arange(6).reshape(2,3)\n",
        "d = np.arange(6,12).reshape(2,3)\n",
        "\n",
        "print(c)\n",
        "print(d)"
      ]
    },
    {
      "cell_type": "code",
      "execution_count": null,
      "metadata": {
        "colab": {
          "base_uri": "https://localhost:8080/"
        },
        "id": "fDHBrV7VA4yz",
        "outputId": "90a825c7-7c84-4c63-a309-a91d81bbd920"
      },
      "outputs": [
        {
          "data": {
            "text/plain": [
              "array([[ 0,  1,  2,  6,  7,  8],\n",
              "       [ 3,  4,  5,  9, 10, 11]])"
            ]
          },
          "execution_count": 20,
          "metadata": {},
          "output_type": "execute_result"
        }
      ],
      "source": [
        "np.concatenate((c,d),axis= 1)"
      ]
    },
    {
      "cell_type": "code",
      "execution_count": null,
      "metadata": {
        "colab": {
          "base_uri": "https://localhost:8080/"
        },
        "id": "GN9DnJ65Mr_b",
        "outputId": "1f19a77a-f17b-464c-a1cd-4b4cabb648c9"
      },
      "outputs": [
        {
          "data": {
            "text/plain": [
              "array([[ 0,  1,  2],\n",
              "       [ 3,  4,  5],\n",
              "       [ 6,  7,  8],\n",
              "       [ 9, 10, 11]])"
            ]
          },
          "execution_count": 21,
          "metadata": {},
          "output_type": "execute_result"
        }
      ],
      "source": [
        "np.concatenate((c,d),axis=0)"
      ]
    },
    {
      "cell_type": "markdown",
      "metadata": {
        "id": "oHGFqHcohFtB"
      },
      "source": [
        "### np.unique\n",
        "\n",
        "With the help of np.unique() method, we can get the unique values from an array given as parameter in np.unique() method.\n",
        "\n",
        "https://numpy.org/doc/stable/reference/generated/numpy.unique.html/"
      ]
    },
    {
      "cell_type": "code",
      "execution_count": null,
      "metadata": {
        "id": "NvG0KHpNWdN_"
      },
      "outputs": [],
      "source": [
        "# code\n",
        "e = np.array([1,1,2,2,3,3,4,4,5,5,6,6])"
      ]
    },
    {
      "cell_type": "code",
      "execution_count": null,
      "metadata": {
        "colab": {
          "base_uri": "https://localhost:8080/"
        },
        "id": "12Rzm6gpMJnv",
        "outputId": "51d12255-e754-41b6-9cca-92fde81308fd"
      },
      "outputs": [
        {
          "data": {
            "text/plain": [
              "array([1, 2, 3, 4, 5, 6])"
            ]
          },
          "execution_count": 25,
          "metadata": {},
          "output_type": "execute_result"
        }
      ],
      "source": [
        "np.unique(e)"
      ]
    },
    {
      "cell_type": "markdown",
      "metadata": {
        "id": "Wki2yOXaEZV3"
      },
      "source": [
        "### np.expand_dims\n",
        "\n",
        "With the help of Numpy.expand_dims() method, we can get the expanded dimensions of an array\n",
        "\n",
        "https://numpy.org/doc/stable/reference/generated/numpy.expand_dims.html"
      ]
    },
    {
      "cell_type": "code",
      "execution_count": null,
      "metadata": {
        "colab": {
          "base_uri": "https://localhost:8080/"
        },
        "id": "Pyvf-oZ0XTvr",
        "outputId": "ed112473-e229-4125-8f84-eb3eb936b5be"
      },
      "outputs": [
        {
          "data": {
            "text/plain": [
              "array([32, 88, 70, 67, 61, 13,  7, 44, 50, 39, 97,  7, 77, 67,  7])"
            ]
          },
          "execution_count": 26,
          "metadata": {},
          "output_type": "execute_result"
        }
      ],
      "source": [
        "# code\n",
        "a"
      ]
    },
    {
      "cell_type": "code",
      "execution_count": null,
      "metadata": {
        "colab": {
          "base_uri": "https://localhost:8080/"
        },
        "id": "uAVBEPgYMuc2",
        "outputId": "b0f56731-985e-42d7-cad5-b01bb82808cf"
      },
      "outputs": [
        {
          "data": {
            "text/plain": [
              "(15,)"
            ]
          },
          "execution_count": 31,
          "metadata": {},
          "output_type": "execute_result"
        }
      ],
      "source": [
        "a.shape"
      ]
    },
    {
      "cell_type": "code",
      "execution_count": null,
      "metadata": {
        "colab": {
          "base_uri": "https://localhost:8080/"
        },
        "id": "q4H8edeuMiIv",
        "outputId": "97ec23bf-fc0c-4e1b-8b55-0428b1ebb001"
      },
      "outputs": [
        {
          "data": {
            "text/plain": [
              "(1, 15)"
            ]
          },
          "execution_count": 32,
          "metadata": {},
          "output_type": "execute_result"
        }
      ],
      "source": [
        "np.expand_dims(a,axis  = 0).shape"
      ]
    },
    {
      "cell_type": "code",
      "execution_count": null,
      "metadata": {
        "colab": {
          "base_uri": "https://localhost:8080/"
        },
        "id": "cRLk_mL6M7E1",
        "outputId": "09774fce-91de-40cd-e717-3549a00b7da2"
      },
      "outputs": [
        {
          "data": {
            "text/plain": [
              "(15, 1)"
            ]
          },
          "execution_count": 34,
          "metadata": {},
          "output_type": "execute_result"
        }
      ],
      "source": [
        "np.expand_dims(a,axis  = 1).shape"
      ]
    },
    {
      "cell_type": "markdown",
      "metadata": {
        "id": "_HmpYNTFERjS"
      },
      "source": [
        "### np.where\n",
        "\n",
        "The numpy.where() function returns the indices of elements in an input array where the given condition is satisfied.\n",
        "\n",
        "https://numpy.org/doc/stable/reference/generated/numpy.where.html"
      ]
    },
    {
      "cell_type": "code",
      "execution_count": null,
      "metadata": {
        "colab": {
          "base_uri": "https://localhost:8080/"
        },
        "id": "H8k_ZDXjEo5W",
        "outputId": "042162e7-912d-4c0f-9cc1-a7c5eaa8b3e2"
      },
      "outputs": [
        {
          "data": {
            "text/plain": [
              "array([32, 88, 70, 67, 61, 13,  7, 44, 50, 39, 97,  7, 77, 67,  7])"
            ]
          },
          "execution_count": 35,
          "metadata": {},
          "output_type": "execute_result"
        }
      ],
      "source": [
        "a"
      ]
    },
    {
      "cell_type": "code",
      "execution_count": null,
      "metadata": {
        "colab": {
          "base_uri": "https://localhost:8080/"
        },
        "id": "n9mkvdFdHGLY",
        "outputId": "be64c32d-d19e-4c60-e882-451e8e08109c"
      },
      "outputs": [
        {
          "data": {
            "text/plain": [
              "(array([ 1,  2,  3,  4, 10, 12, 13]),)"
            ]
          },
          "execution_count": 36,
          "metadata": {},
          "output_type": "execute_result"
        }
      ],
      "source": [
        "# find all indices with value greater than 50\n",
        "np.where(a>50)"
      ]
    },
    {
      "cell_type": "code",
      "execution_count": null,
      "metadata": {
        "colab": {
          "base_uri": "https://localhost:8080/"
        },
        "id": "zJAUufBOHcu1",
        "outputId": "aeac2689-389a-4531-a40c-16e55dad26a7"
      },
      "outputs": [
        {
          "data": {
            "text/plain": [
              "array([32,  0,  0,  0,  0, 13,  7, 44, 50, 39,  0,  7,  0,  0,  7])"
            ]
          },
          "execution_count": 37,
          "metadata": {},
          "output_type": "execute_result"
        }
      ],
      "source": [
        "# replace all values > 50 with 0\n",
        "np.where(a>50,0,a)"
      ]
    },
    {
      "cell_type": "code",
      "execution_count": null,
      "metadata": {
        "colab": {
          "base_uri": "https://localhost:8080/"
        },
        "id": "Ygx7fC0BPP9e",
        "outputId": "029455f8-fafb-4786-8d88-f3fcb3ffc2cf"
      },
      "outputs": [
        {
          "data": {
            "text/plain": [
              "array([ 0,  0,  0, 67, 61, 13,  7,  0,  0, 39, 97,  7, 77, 67,  7])"
            ]
          },
          "execution_count": 38,
          "metadata": {},
          "output_type": "execute_result"
        }
      ],
      "source": [
        "np.where(a%2 == 0,0,a)\n"
      ]
    },
    {
      "cell_type": "markdown",
      "metadata": {
        "id": "jsGIGNtCIS5-"
      },
      "source": [
        "### np.argmax\n",
        "\n",
        "The numpy.argmax() function returns indices of the max element of the array in a particular axis.\n",
        "\n",
        "https://numpy.org/doc/stable/reference/generated/numpy.argmax.html"
      ]
    },
    {
      "cell_type": "code",
      "execution_count": null,
      "metadata": {
        "colab": {
          "base_uri": "https://localhost:8080/"
        },
        "id": "8YlXmMuaIRpj",
        "outputId": "b7a363d5-8712-450b-9ae1-b99c66aa359a"
      },
      "outputs": [
        {
          "data": {
            "text/plain": [
              "array([32, 88, 70, 67, 61, 13,  7, 44, 50, 39, 97,  7, 77, 67,  7])"
            ]
          },
          "execution_count": 39,
          "metadata": {},
          "output_type": "execute_result"
        }
      ],
      "source": [
        "# code\n",
        "a"
      ]
    },
    {
      "cell_type": "code",
      "execution_count": null,
      "metadata": {
        "colab": {
          "base_uri": "https://localhost:8080/"
        },
        "id": "w69tep9COK74",
        "outputId": "e8ff200b-14b0-4504-a463-a0acb65ccc5d"
      },
      "outputs": [
        {
          "data": {
            "text/plain": [
              "10"
            ]
          },
          "execution_count": 40,
          "metadata": {},
          "output_type": "execute_result"
        }
      ],
      "source": [
        "np.argmax(a)"
      ]
    },
    {
      "cell_type": "code",
      "execution_count": null,
      "metadata": {
        "colab": {
          "base_uri": "https://localhost:8080/"
        },
        "id": "CohggNGrP5am",
        "outputId": "eec17849-5c5d-4ba3-d6d5-bf5ee033a0ec"
      },
      "outputs": [
        {
          "data": {
            "text/plain": [
              "array([[88, 39, 69, 80],\n",
              "       [75, 92, 60, 54],\n",
              "       [92, 96,  5, 58],\n",
              "       [ 4, 85, 19, 88],\n",
              "       [95, 65, 98, 12],\n",
              "       [34, 97, 88, 48]])"
            ]
          },
          "execution_count": 43,
          "metadata": {},
          "output_type": "execute_result"
        }
      ],
      "source": [
        "b"
      ]
    },
    {
      "cell_type": "code",
      "execution_count": null,
      "metadata": {
        "colab": {
          "base_uri": "https://localhost:8080/"
        },
        "id": "TSyjgcXGOl3T",
        "outputId": "4fe47cf0-4dbd-4bf6-94be-860c0067e069"
      },
      "outputs": [
        {
          "data": {
            "text/plain": [
              "18"
            ]
          },
          "execution_count": 46,
          "metadata": {},
          "output_type": "execute_result"
        }
      ],
      "source": [
        "np.argmax(b)"
      ]
    },
    {
      "cell_type": "code",
      "execution_count": null,
      "metadata": {
        "colab": {
          "base_uri": "https://localhost:8080/"
        },
        "id": "m1OW77cVOYfI",
        "outputId": "211d4c42-f804-4a12-cdd8-31965a477535"
      },
      "outputs": [
        {
          "data": {
            "text/plain": [
              "array([4, 5, 4, 3])"
            ]
          },
          "execution_count": 47,
          "metadata": {},
          "output_type": "execute_result"
        }
      ],
      "source": [
        "np.argmax(b,axis = 0)"
      ]
    },
    {
      "cell_type": "code",
      "execution_count": null,
      "metadata": {
        "colab": {
          "base_uri": "https://localhost:8080/"
        },
        "id": "h8YvBJVfO6fH",
        "outputId": "00d180cb-ea21-465e-ba0c-ea9862558006"
      },
      "outputs": [
        {
          "data": {
            "text/plain": [
              "array([0, 1, 1, 3, 2, 1])"
            ]
          },
          "execution_count": 48,
          "metadata": {},
          "output_type": "execute_result"
        }
      ],
      "source": [
        "np.argmax(b,axis = 1)"
      ]
    },
    {
      "cell_type": "code",
      "execution_count": null,
      "metadata": {
        "colab": {
          "base_uri": "https://localhost:8080/"
        },
        "id": "ISwPq05BPFD7",
        "outputId": "983f9e5e-b830-4990-ecbe-cf19d9d7a1b2"
      },
      "outputs": [
        {
          "data": {
            "text/plain": [
              "array([32, 88, 70, 67, 61, 13,  7, 44, 50, 39, 97,  7, 77, 67,  7])"
            ]
          },
          "execution_count": 50,
          "metadata": {},
          "output_type": "execute_result"
        }
      ],
      "source": [
        "a"
      ]
    },
    {
      "cell_type": "code",
      "execution_count": null,
      "metadata": {
        "colab": {
          "base_uri": "https://localhost:8080/"
        },
        "id": "T9TrLGNBWjV1",
        "outputId": "b65fc0fa-9404-48e1-b21b-e8003ddbdfa0"
      },
      "outputs": [
        {
          "data": {
            "text/plain": [
              "6"
            ]
          },
          "execution_count": 49,
          "metadata": {},
          "output_type": "execute_result"
        }
      ],
      "source": [
        "# np.argmin\n",
        "np.argmin(a)"
      ]
    },
    {
      "cell_type": "code",
      "execution_count": null,
      "metadata": {
        "colab": {
          "base_uri": "https://localhost:8080/"
        },
        "id": "DqgAMcbZPMJ_",
        "outputId": "bd03cc36-050c-4a5e-9fc8-9f35dec92da7"
      },
      "outputs": [
        {
          "data": {
            "text/plain": [
              "12"
            ]
          },
          "execution_count": 51,
          "metadata": {},
          "output_type": "execute_result"
        }
      ],
      "source": [
        "np.argmin(b)"
      ]
    },
    {
      "cell_type": "markdown",
      "metadata": {
        "id": "1OdKi27pa091"
      },
      "source": [
        "### np.cumsum\n",
        "\n",
        "numpy.cumsum() function is used when we want to compute the cumulative sum of array elements over a given axis.\n",
        "\n",
        "https://numpy.org/doc/stable/reference/generated/numpy.cumsum.html"
      ]
    },
    {
      "cell_type": "code",
      "execution_count": null,
      "metadata": {
        "colab": {
          "base_uri": "https://localhost:8080/"
        },
        "id": "FNsV5nPjPZK0",
        "outputId": "af08fe97-126e-4e39-829d-24c0b9a6d1f0"
      },
      "outputs": [
        {
          "data": {
            "text/plain": [
              "array([ 9, 12, 65, 56, 13, 55, 24, 63, 67, 14, 65, 44, 23, 10, 51])"
            ]
          },
          "execution_count": 5,
          "metadata": {},
          "output_type": "execute_result"
        }
      ],
      "source": [
        "a"
      ]
    },
    {
      "cell_type": "code",
      "execution_count": null,
      "metadata": {
        "colab": {
          "base_uri": "https://localhost:8080/"
        },
        "id": "RtGuPGr9WlVV",
        "outputId": "241c28b8-25d1-48d7-b4d8-ba92f80d4277"
      },
      "outputs": [
        {
          "data": {
            "text/plain": [
              "array([  9,  21,  86, 142, 155, 210, 234, 297, 364, 378, 443, 487, 510,\n",
              "       520, 571])"
            ]
          },
          "execution_count": 6,
          "metadata": {},
          "output_type": "execute_result"
        }
      ],
      "source": [
        "\n",
        "np.cumsum(a)"
      ]
    },
    {
      "cell_type": "code",
      "execution_count": null,
      "metadata": {
        "colab": {
          "base_uri": "https://localhost:8080/"
        },
        "id": "tSW02ubSvO7b",
        "outputId": "25491d60-2c76-4b7a-ac7a-723778515aac"
      },
      "outputs": [
        {
          "data": {
            "text/plain": [
              "array([[39, 58, 83, 15],\n",
              "       [ 9, 18, 10, 39],\n",
              "       [73, 92, 59, 75],\n",
              "       [ 9, 89, 93, 38],\n",
              "       [77, 79, 88, 51],\n",
              "       [31, 72, 93, 47]])"
            ]
          },
          "execution_count": 8,
          "metadata": {},
          "output_type": "execute_result"
        }
      ],
      "source": [
        "b"
      ]
    },
    {
      "cell_type": "code",
      "execution_count": null,
      "metadata": {
        "colab": {
          "base_uri": "https://localhost:8080/"
        },
        "id": "y2hE3Q9rvXca",
        "outputId": "cc1497df-ef27-47c5-904f-bccf3c0dc1b3"
      },
      "outputs": [
        {
          "data": {
            "text/plain": [
              "array([  39,   97,  180,  195,  204,  222,  232,  271,  344,  436,  495,\n",
              "        570,  579,  668,  761,  799,  876,  955, 1043, 1094, 1125, 1197,\n",
              "       1290, 1337])"
            ]
          },
          "execution_count": 10,
          "metadata": {},
          "output_type": "execute_result"
        }
      ],
      "source": [
        "np.cumsum(b)"
      ]
    },
    {
      "cell_type": "code",
      "execution_count": null,
      "metadata": {
        "colab": {
          "base_uri": "https://localhost:8080/"
        },
        "id": "LJlSi11Mvcgt",
        "outputId": "64f835d9-eca6-4e8f-efc4-b286757a88bb"
      },
      "outputs": [
        {
          "data": {
            "text/plain": [
              "array([[ 39,  97, 180, 195],\n",
              "       [  9,  27,  37,  76],\n",
              "       [ 73, 165, 224, 299],\n",
              "       [  9,  98, 191, 229],\n",
              "       [ 77, 156, 244, 295],\n",
              "       [ 31, 103, 196, 243]])"
            ]
          },
          "execution_count": 12,
          "metadata": {},
          "output_type": "execute_result"
        }
      ],
      "source": [
        "np.cumsum(b,axis =1)"
      ]
    },
    {
      "cell_type": "code",
      "execution_count": null,
      "metadata": {
        "colab": {
          "base_uri": "https://localhost:8080/"
        },
        "id": "ahlDvem0vrLT",
        "outputId": "a848a463-b419-48ec-8f6e-b172ce358426"
      },
      "outputs": [
        {
          "data": {
            "text/plain": [
              "array([ 9, 12, 65, 56, 13, 55, 24, 63, 67, 14, 65, 44, 23, 10, 51])"
            ]
          },
          "execution_count": 13,
          "metadata": {},
          "output_type": "execute_result"
        }
      ],
      "source": [
        "# np.cumprod\n",
        "a"
      ]
    },
    {
      "cell_type": "code",
      "execution_count": null,
      "metadata": {
        "colab": {
          "base_uri": "https://localhost:8080/"
        },
        "id": "Bwr6c104vx3A",
        "outputId": "130b918e-00c3-4893-e5c8-0f6bc00c29c9"
      },
      "outputs": [
        {
          "data": {
            "text/plain": [
              "array([                  9,                 108,                7020,\n",
              "                    393120,             5110560,           281080800,\n",
              "                6745939200,        424994169600,      28474609363200,\n",
              "           398644531084800,   25911894520512000, 1140123358902528000,\n",
              "       7776093181048592384, 3973955515647717376, -242453512771481600])"
            ]
          },
          "execution_count": 14,
          "metadata": {},
          "output_type": "execute_result"
        }
      ],
      "source": [
        "np.cumprod(a)"
      ]
    },
    {
      "cell_type": "markdown",
      "metadata": {
        "id": "SIuRwLMjcnOl"
      },
      "source": [
        "### np.percentile\n",
        "\n",
        "numpy.percentile()function used to compute the nth percentile of the given data (array elements) along the specified axis.\n",
        "\n",
        "https://numpy.org/doc/stable/reference/generated/numpy.percentile.html"
      ]
    },
    {
      "cell_type": "code",
      "execution_count": null,
      "metadata": {
        "colab": {
          "base_uri": "https://localhost:8080/"
        },
        "id": "_o8iH4Evcl8C",
        "outputId": "2b1a5081-7e1d-4af9-db7f-feadb869be3c"
      },
      "outputs": [
        {
          "data": {
            "text/plain": [
              "array([ 9, 12, 65, 56, 13, 55, 24, 63, 67, 14, 65, 44, 23, 10, 51])"
            ]
          },
          "execution_count": 15,
          "metadata": {},
          "output_type": "execute_result"
        }
      ],
      "source": [
        "a"
      ]
    },
    {
      "cell_type": "code",
      "execution_count": null,
      "metadata": {
        "colab": {
          "base_uri": "https://localhost:8080/"
        },
        "id": "8T6C0DikwNe2",
        "outputId": "b0fa511c-78b7-4b99-a1ce-9c5291587d54"
      },
      "outputs": [
        {
          "data": {
            "text/plain": [
              "67.0"
            ]
          },
          "execution_count": 16,
          "metadata": {},
          "output_type": "execute_result"
        }
      ],
      "source": [
        "np.percentile(a,100)"
      ]
    },
    {
      "cell_type": "code",
      "execution_count": null,
      "metadata": {
        "colab": {
          "base_uri": "https://localhost:8080/"
        },
        "id": "HKzYnd4uwTt5",
        "outputId": "1a36a4dd-57b1-42b6-a2f1-a7710f5b85b2"
      },
      "outputs": [
        {
          "data": {
            "text/plain": [
              "9.0"
            ]
          },
          "execution_count": 18,
          "metadata": {},
          "output_type": "execute_result"
        }
      ],
      "source": [
        "np.percentile(a,0)"
      ]
    },
    {
      "cell_type": "code",
      "execution_count": null,
      "metadata": {
        "colab": {
          "base_uri": "https://localhost:8080/"
        },
        "id": "dP0yIE9cwZ07",
        "outputId": "1e51d34a-8895-40f0-b56b-cfc425d87986"
      },
      "outputs": [
        {
          "data": {
            "text/plain": [
              "44.0"
            ]
          },
          "execution_count": 19,
          "metadata": {},
          "output_type": "execute_result"
        }
      ],
      "source": [
        "np.percentile(a,50)"
      ]
    },
    {
      "cell_type": "code",
      "execution_count": null,
      "metadata": {
        "colab": {
          "base_uri": "https://localhost:8080/"
        },
        "id": "IiPkizWBwfEq",
        "outputId": "edf022ee-dd06-4ce6-c0d4-94c0d66db1ce"
      },
      "outputs": [
        {
          "data": {
            "text/plain": [
              "44.0"
            ]
          },
          "execution_count": 21,
          "metadata": {},
          "output_type": "execute_result"
        }
      ],
      "source": [
        "np.median(a)"
      ]
    },
    {
      "cell_type": "markdown",
      "metadata": {
        "id": "2C6nGaJHev5N"
      },
      "source": [
        "### np.histogram\n",
        "\n",
        "Numpy has a built-in numpy.histogram() function which represents the frequency of data distribution in the graphical form.\n",
        "\n",
        "https://numpy.org/doc/stable/reference/generated/numpy.histogram.html"
      ]
    },
    {
      "cell_type": "code",
      "execution_count": null,
      "metadata": {
        "colab": {
          "base_uri": "https://localhost:8080/"
        },
        "id": "S2pFLU5ZWuTx",
        "outputId": "7ff1bb8d-6422-4ed7-dcbc-f37304de9216"
      },
      "outputs": [
        {
          "data": {
            "text/plain": [
              "array([ 9, 12, 65, 56, 13, 55, 24, 63, 67, 14, 65, 44, 23, 10, 51])"
            ]
          },
          "execution_count": 22,
          "metadata": {},
          "output_type": "execute_result"
        }
      ],
      "source": [
        "# code\n",
        "a"
      ]
    },
    {
      "cell_type": "code",
      "execution_count": null,
      "metadata": {
        "colab": {
          "base_uri": "https://localhost:8080/"
        },
        "id": "wZlQuOFpSbE3",
        "outputId": "e8ba464a-5d76-4523-b5e4-2f2cf9a532aa"
      },
      "outputs": [
        {
          "data": {
            "text/plain": [
              "(array([15,  0]), array([  0,  70, 100]))"
            ]
          },
          "execution_count": 27,
          "metadata": {},
          "output_type": "execute_result"
        }
      ],
      "source": [
        "np.histogram(a,bins=[0,70,100])"
      ]
    },
    {
      "cell_type": "markdown",
      "metadata": {
        "id": "JxgMS0Zef8oQ"
      },
      "source": [
        "### np.corrcoef\n",
        "\n",
        "Return Pearson product-moment correlation coefficients.\n",
        "\n",
        "https://numpy.org/doc/stable/reference/generated/numpy.corrcoef.html"
      ]
    },
    {
      "cell_type": "code",
      "execution_count": null,
      "metadata": {
        "colab": {
          "base_uri": "https://localhost:8080/"
        },
        "id": "ZAMnvEm5WyUp",
        "outputId": "d14d8c46-ef08-4d58-8755-3759ecf13264"
      },
      "outputs": [
        {
          "data": {
            "text/plain": [
              "array([[1.        , 0.25344572],\n",
              "       [0.25344572, 1.        ]])"
            ]
          },
          "execution_count": 29,
          "metadata": {},
          "output_type": "execute_result"
        }
      ],
      "source": [
        "salary = np.array([20000,40000,25000,35000,60000])\n",
        "experience = np.array([1,3,2,4,2])\n",
        "\n",
        "np.corrcoef(salary,experience)"
      ]
    },
    {
      "cell_type": "markdown",
      "metadata": {
        "id": "Ot4h1PdGh-vI"
      },
      "source": [
        "### np.isin\n",
        "\n",
        "With the help of numpy.isin() method, we can see that one array having values are checked in a different numpy array having different elements with different sizes.\n",
        "\n",
        "https://numpy.org/doc/stable/reference/generated/numpy.isin.html"
      ]
    },
    {
      "cell_type": "code",
      "execution_count": null,
      "metadata": {
        "colab": {
          "base_uri": "https://localhost:8080/"
        },
        "id": "oyyVo0qnW2Cz",
        "outputId": "2deb5be7-0266-4593-a162-eaf6f89ec866"
      },
      "outputs": [
        {
          "data": {
            "text/plain": [
              "array([ 9, 12, 65, 56, 13, 55, 24, 63, 67, 14, 65, 44, 23, 10, 51])"
            ]
          },
          "execution_count": 31,
          "metadata": {},
          "output_type": "execute_result"
        }
      ],
      "source": [
        "# code\n",
        "a"
      ]
    },
    {
      "cell_type": "code",
      "execution_count": null,
      "metadata": {
        "colab": {
          "base_uri": "https://localhost:8080/"
        },
        "id": "ULXGfPCbzItQ",
        "outputId": "449cdfe1-b5be-4fc2-b8e3-73a1018efec1"
      },
      "outputs": [
        {
          "data": {
            "text/plain": [
              "array([10])"
            ]
          },
          "execution_count": 33,
          "metadata": {},
          "output_type": "execute_result"
        }
      ],
      "source": [
        "items = [10,20,30,40,50,60,70,80,90,100]\n",
        "\n",
        "a[np.isin(a,items)]"
      ]
    },
    {
      "cell_type": "markdown",
      "metadata": {
        "id": "8VKXXRjmicT-"
      },
      "source": [
        "### np.flip\n",
        "\n",
        "The numpy.flip() function reverses the order of array elements along the specified axis, preserving the shape of the array.\n",
        "\n",
        "https://numpy.org/doc/stable/reference/generated/numpy.flip.html"
      ]
    },
    {
      "cell_type": "code",
      "execution_count": null,
      "metadata": {
        "colab": {
          "base_uri": "https://localhost:8080/"
        },
        "id": "lMreAl7yEvBa",
        "outputId": "56488307-025f-498e-acf0-227825ca0b90"
      },
      "outputs": [
        {
          "data": {
            "text/plain": [
              "array([ 9, 12, 65, 56, 13, 55, 24, 63, 67, 14, 65, 44, 23, 10, 51])"
            ]
          },
          "execution_count": 35,
          "metadata": {},
          "output_type": "execute_result"
        }
      ],
      "source": [
        "# code\n",
        "a"
      ]
    },
    {
      "cell_type": "code",
      "execution_count": null,
      "metadata": {
        "colab": {
          "base_uri": "https://localhost:8080/"
        },
        "id": "71WYspmdzjDe",
        "outputId": "dcaa9d75-9f6c-4f7c-9257-f18043947508"
      },
      "outputs": [
        {
          "data": {
            "text/plain": [
              "array([51, 10, 23, 44, 65, 14, 67, 63, 24, 55, 13, 56, 65, 12,  9])"
            ]
          },
          "execution_count": 36,
          "metadata": {},
          "output_type": "execute_result"
        }
      ],
      "source": [
        "np.flip(a)"
      ]
    },
    {
      "cell_type": "code",
      "execution_count": null,
      "metadata": {
        "colab": {
          "base_uri": "https://localhost:8080/"
        },
        "id": "QPS4yX9ezpDS",
        "outputId": "a9bcb6de-7d47-4b9e-ac32-bef13f39b38e"
      },
      "outputs": [
        {
          "data": {
            "text/plain": [
              "array([[39, 58, 83, 15],\n",
              "       [ 9, 18, 10, 39],\n",
              "       [73, 92, 59, 75],\n",
              "       [ 9, 89, 93, 38],\n",
              "       [77, 79, 88, 51],\n",
              "       [31, 72, 93, 47]])"
            ]
          },
          "execution_count": 37,
          "metadata": {},
          "output_type": "execute_result"
        }
      ],
      "source": [
        "b"
      ]
    },
    {
      "cell_type": "code",
      "execution_count": null,
      "metadata": {
        "colab": {
          "base_uri": "https://localhost:8080/"
        },
        "id": "rEaAMEzMzrxU",
        "outputId": "338bb703-4a75-4946-a489-79734da47b17"
      },
      "outputs": [
        {
          "data": {
            "text/plain": [
              "array([[15, 83, 58, 39],\n",
              "       [39, 10, 18,  9],\n",
              "       [75, 59, 92, 73],\n",
              "       [38, 93, 89,  9],\n",
              "       [51, 88, 79, 77],\n",
              "       [47, 93, 72, 31]])"
            ]
          },
          "execution_count": 40,
          "metadata": {},
          "output_type": "execute_result"
        }
      ],
      "source": [
        "np.flip(b,axis = 1)"
      ]
    },
    {
      "cell_type": "markdown",
      "metadata": {
        "id": "n7jTKF2QjIz4"
      },
      "source": [
        "### np.put\n",
        "\n",
        "The numpy.put() function replaces specific elements of an array with given values of p_array. Array indexed works on flattened array.\n",
        "\n",
        "https://numpy.org/doc/stable/reference/generated/numpy.put.html"
      ]
    },
    {
      "cell_type": "code",
      "execution_count": null,
      "metadata": {
        "colab": {
          "base_uri": "https://localhost:8080/"
        },
        "id": "xZrJHzr0E0zN",
        "outputId": "8963a9ee-7b1f-45da-e98a-87ee0a43dd0e"
      },
      "outputs": [
        {
          "data": {
            "text/plain": [
              "array([334, 444,  65,  56,  13,  55,  24,  63,  67,  14,  65,  44,  23,\n",
              "        10,  51])"
            ]
          },
          "execution_count": 46,
          "metadata": {},
          "output_type": "execute_result"
        }
      ],
      "source": [
        "# code\n",
        "a"
      ]
    },
    {
      "cell_type": "code",
      "execution_count": null,
      "metadata": {
        "id": "KIepb2mx0EvF"
      },
      "outputs": [],
      "source": [
        "np.put(a,[0,1],[334,444])"
      ]
    },
    {
      "cell_type": "code",
      "execution_count": null,
      "metadata": {
        "colab": {
          "base_uri": "https://localhost:8080/"
        },
        "id": "3A85bwaR0L0Y",
        "outputId": "ddba59fc-fbdc-470c-dab2-68659def44cb"
      },
      "outputs": [
        {
          "data": {
            "text/plain": [
              "array([334, 444,  65,  56,  13,  55,  24,  63,  67,  14,  65,  44,  23,\n",
              "        10,  51])"
            ]
          },
          "execution_count": 45,
          "metadata": {},
          "output_type": "execute_result"
        }
      ],
      "source": [
        "a"
      ]
    },
    {
      "cell_type": "markdown",
      "metadata": {
        "id": "lYkpJg3kpSWB"
      },
      "source": [
        "### np.delete\n",
        "\n",
        "The numpy.delete() function returns a new array with the deletion of sub-arrays along with the mentioned axis.\n",
        "\n",
        "https://numpy.org/doc/stable/reference/generated/numpy.delete.html"
      ]
    },
    {
      "cell_type": "code",
      "execution_count": null,
      "metadata": {
        "colab": {
          "background_save": true
        },
        "id": "VmGLdiy5pQXc",
        "outputId": "fc49e168-85e2-4d54-cfb6-d53dc5b834d2"
      },
      "outputs": [
        {
          "data": {
            "text/plain": [
              "array([334, 444,  65,  56,  13,  55,  24,  63,  67,  14,  65,  44,  23,\n",
              "        10,  51])"
            ]
          },
          "execution_count": 47,
          "metadata": {},
          "output_type": "execute_result"
        }
      ],
      "source": [
        "# code\n",
        "a"
      ]
    },
    {
      "cell_type": "code",
      "execution_count": null,
      "metadata": {
        "id": "atRM-WZ70VBV"
      },
      "outputs": [],
      "source": []
    },
    {
      "cell_type": "markdown",
      "metadata": {
        "id": "Ei94MbFbrjvx"
      },
      "source": [
        "### Set functions\n",
        "\n",
        "- np.union1d\n",
        "- np.intersect1d\n",
        "- np.setdiff1d\n",
        "- np.setxor1d\n",
        "- np.in1d"
      ]
    },
    {
      "cell_type": "code",
      "execution_count": null,
      "metadata": {
        "colab": {
          "base_uri": "https://localhost:8080/"
        },
        "id": "hHSwzU1irY0f",
        "outputId": "b342e657-f1e1-4421-9447-e261ec0efc36"
      },
      "outputs": [
        {
          "data": {
            "text/plain": [
              "array([1, 2, 3, 4, 5, 6, 7])"
            ]
          },
          "execution_count": 182,
          "metadata": {},
          "output_type": "execute_result"
        }
      ],
      "source": [
        "m = np.array([1,2,3,4,5])\n",
        "n = np.array([3,4,5,6,7])\n",
        "\n",
        "np.union1d(m,n)"
      ]
    },
    {
      "cell_type": "code",
      "execution_count": null,
      "metadata": {
        "colab": {
          "base_uri": "https://localhost:8080/"
        },
        "id": "XSIuF3zWXZXP",
        "outputId": "3cb32023-afe2-4b1a-ba36-a7336083e7f6"
      },
      "outputs": [
        {
          "data": {
            "text/plain": [
              "array([3, 4, 5])"
            ]
          },
          "execution_count": 183,
          "metadata": {},
          "output_type": "execute_result"
        }
      ],
      "source": [
        "np.intersect1d(m,n)"
      ]
    },
    {
      "cell_type": "code",
      "execution_count": null,
      "metadata": {
        "colab": {
          "base_uri": "https://localhost:8080/"
        },
        "id": "HhGH8cskXgR5",
        "outputId": "9fe9818f-5d74-4590-e009-707b73f58a41"
      },
      "outputs": [
        {
          "data": {
            "text/plain": [
              "array([6, 7])"
            ]
          },
          "execution_count": 185,
          "metadata": {},
          "output_type": "execute_result"
        }
      ],
      "source": [
        "np.setdiff1d(n,m)"
      ]
    },
    {
      "cell_type": "code",
      "execution_count": null,
      "metadata": {
        "colab": {
          "base_uri": "https://localhost:8080/"
        },
        "id": "KaZbcTk0XubR",
        "outputId": "7d086410-d76c-4818-e35f-edf0792d54eb"
      },
      "outputs": [
        {
          "data": {
            "text/plain": [
              "array([1, 2, 6, 7])"
            ]
          },
          "execution_count": 186,
          "metadata": {},
          "output_type": "execute_result"
        }
      ],
      "source": [
        "np.setxor1d(m,n)"
      ]
    },
    {
      "cell_type": "code",
      "execution_count": null,
      "metadata": {
        "colab": {
          "base_uri": "https://localhost:8080/"
        },
        "id": "SqV9rpQ_XzVg",
        "outputId": "ad95c2eb-ed10-46ec-9c99-2a5fa4b3082a"
      },
      "outputs": [
        {
          "data": {
            "text/plain": [
              "array([1])"
            ]
          },
          "execution_count": 189,
          "metadata": {},
          "output_type": "execute_result"
        }
      ],
      "source": [
        "m[np.in1d(m,1)]"
      ]
    },
    {
      "cell_type": "markdown",
      "metadata": {
        "id": "uLxS7H2pr-rh"
      },
      "source": [
        "### np.clip\n",
        "\n",
        "numpy.clip() function is used to Clip (limit) the values in an array.\n",
        "\n",
        "https://numpy.org/doc/stable/reference/generated/numpy.clip.html"
      ]
    },
    {
      "cell_type": "code",
      "execution_count": null,
      "metadata": {
        "colab": {
          "base_uri": "https://localhost:8080/"
        },
        "id": "Q3S9gjNzsL73",
        "outputId": "536e7835-500c-4493-9f69-0273a967f8b4"
      },
      "outputs": [
        {
          "data": {
            "text/plain": [
              "array([110, 530,  28,  50,  38,  37,  94,  92,   5,  30,  68,   9,  78,\n",
              "         2,  21])"
            ]
          },
          "execution_count": 190,
          "metadata": {},
          "output_type": "execute_result"
        }
      ],
      "source": [
        "# code\n",
        "a"
      ]
    },
    {
      "cell_type": "code",
      "execution_count": null,
      "metadata": {
        "colab": {
          "base_uri": "https://localhost:8080/"
        },
        "id": "x08JKAVHYOxF",
        "outputId": "a8ba892e-f2ea-44a3-b48e-9a3996ff81f9"
      },
      "outputs": [
        {
          "data": {
            "text/plain": [
              "array([75, 75, 28, 50, 38, 37, 75, 75, 25, 30, 68, 25, 75, 25, 25])"
            ]
          },
          "execution_count": 191,
          "metadata": {},
          "output_type": "execute_result"
        }
      ],
      "source": [
        "np.clip(a,a_min=25,a_max=75)"
      ]
    },
    {
      "cell_type": "code",
      "execution_count": null,
      "metadata": {
        "id": "INpvUpf9InGT"
      },
      "outputs": [],
      "source": [
        "# 17. np.swapaxes"
      ]
    },
    {
      "cell_type": "code",
      "execution_count": null,
      "metadata": {
        "id": "AEFIFE1vJXDA"
      },
      "outputs": [],
      "source": [
        "# 18. np.uniform"
      ]
    },
    {
      "cell_type": "code",
      "execution_count": null,
      "metadata": {
        "id": "y7M0rggRKBIu"
      },
      "outputs": [],
      "source": [
        "# 19. np.count_nonzero"
      ]
    },
    {
      "cell_type": "code",
      "execution_count": null,
      "metadata": {
        "id": "Qy0-pdlOK9tC"
      },
      "outputs": [],
      "source": [
        "# 21. np.tile\n",
        "# https://www.kaggle.com/code/abhayparashar31/best-numpy-functions-for-data-science-50?scriptVersionId=98816580"
      ]
    },
    {
      "cell_type": "code",
      "execution_count": null,
      "metadata": {
        "id": "5DAEz6cbIdga"
      },
      "outputs": [],
      "source": [
        "# 22. np.repeat\n",
        "# https://towardsdatascience.com/10-numpy-functions-you-should-know-1dc4863764c5"
      ]
    },
    {
      "cell_type": "code",
      "execution_count": null,
      "metadata": {
        "id": "DdLxDfsMNfz8"
      },
      "outputs": [],
      "source": [
        "\n",
        "# 25. np.allclose and equals"
      ]
    },
    {
      "cell_type": "code",
      "execution_count": null,
      "metadata": {
        "id": "IYClnmitOqTl"
      },
      "outputs": [],
      "source": []
    },
    {
      "cell_type": "code",
      "execution_count": null,
      "metadata": {
        "id": "nWJdTlHCoQip"
      },
      "outputs": [],
      "source": []
    },
    {
      "cell_type": "code",
      "execution_count": null,
      "metadata": {
        "id": "KEkjJ5_owXc_"
      },
      "outputs": [],
      "source": []
    },
    {
      "cell_type": "code",
      "execution_count": null,
      "metadata": {
        "id": "veZNJm8xB4D_"
      },
      "outputs": [],
      "source": []
    },
    {
      "cell_type": "code",
      "execution_count": null,
      "metadata": {
        "id": "iNBbQiDeNnZm"
      },
      "outputs": [],
      "source": []
    },
    {
      "cell_type": "code",
      "execution_count": null,
      "metadata": {
        "id": "B9F5ogZENohK"
      },
      "outputs": [],
      "source": []
    }
  ],
  "metadata": {
    "colab": {
      "provenance": [],
      "include_colab_link": true
    },
    "kernelspec": {
      "display_name": "Python 3",
      "name": "python3"
    },
    "language_info": {
      "name": "python"
    }
  },
  "nbformat": 4,
  "nbformat_minor": 0
}