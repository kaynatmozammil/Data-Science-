{
  "nbformat": 4,
  "nbformat_minor": 0,
  "metadata": {
    "colab": {
      "provenance": [],
      "authorship_tag": "ABX9TyPOAro08KkU9NU239y+3j73",
      "include_colab_link": true
    },
    "kernelspec": {
      "name": "python3",
      "display_name": "Python 3"
    },
    "language_info": {
      "name": "python"
    }
  },
  "cells": [
    {
      "cell_type": "markdown",
      "metadata": {
        "id": "view-in-github",
        "colab_type": "text"
      },
      "source": [
        "<a href=\"https://colab.research.google.com/github/kaynatmozammil/Data-Science-/blob/main/07_session_OOP1.ipynb\" target=\"_parent\"><img src=\"https://colab.research.google.com/assets/colab-badge.svg\" alt=\"Open In Colab\"/></a>"
      ]
    },
    {
      "cell_type": "code",
      "execution_count": null,
      "metadata": {
        "colab": {
          "base_uri": "https://localhost:8080/",
          "height": 158
        },
        "id": "27Hx-KFhSwGG",
        "outputId": "9791fc0f-4f2b-49aa-aa52-377b37ed2d0e"
      },
      "outputs": [
        {
          "output_type": "error",
          "ename": "AttributeError",
          "evalue": "'list' object has no attribute 'upper'",
          "traceback": [
            "\u001b[0;31m---------------------------------------------------------------------------\u001b[0m",
            "\u001b[0;31mAttributeError\u001b[0m                            Traceback (most recent call last)",
            "\u001b[0;32m<ipython-input-1-9fa8b0af59ef>\u001b[0m in \u001b[0;36m<cell line: 2>\u001b[0;34m()\u001b[0m\n\u001b[1;32m      1\u001b[0m \u001b[0mL\u001b[0m \u001b[0;34m=\u001b[0m \u001b[0;34m[\u001b[0m\u001b[0;36m1\u001b[0m\u001b[0;34m,\u001b[0m\u001b[0;36m2\u001b[0m\u001b[0;34m,\u001b[0m\u001b[0;36m3\u001b[0m\u001b[0;34m]\u001b[0m\u001b[0;34m\u001b[0m\u001b[0;34m\u001b[0m\u001b[0m\n\u001b[0;32m----> 2\u001b[0;31m \u001b[0mL\u001b[0m\u001b[0;34m.\u001b[0m\u001b[0mupper\u001b[0m\u001b[0;34m(\u001b[0m\u001b[0;34m)\u001b[0m\u001b[0;34m\u001b[0m\u001b[0;34m\u001b[0m\u001b[0m\n\u001b[0m",
            "\u001b[0;31mAttributeError\u001b[0m: 'list' object has no attribute 'upper'"
          ]
        }
      ],
      "source": [
        " L = [1,2,3]\n",
        " L.upper()"
      ]
    },
    {
      "cell_type": "code",
      "source": [
        "s = 'hello'\n",
        "s.append('K')"
      ],
      "metadata": {
        "colab": {
          "base_uri": "https://localhost:8080/",
          "height": 158
        },
        "id": "zDgLbW0HS892",
        "outputId": "8a2f03cb-3e55-4b2f-d152-5d2c64cc10b7"
      },
      "execution_count": null,
      "outputs": [
        {
          "output_type": "error",
          "ename": "AttributeError",
          "evalue": "'str' object has no attribute 'append'",
          "traceback": [
            "\u001b[0;31m---------------------------------------------------------------------------\u001b[0m",
            "\u001b[0;31mAttributeError\u001b[0m                            Traceback (most recent call last)",
            "\u001b[0;32m<ipython-input-2-8f1ffb13d617>\u001b[0m in \u001b[0;36m<cell line: 2>\u001b[0;34m()\u001b[0m\n\u001b[1;32m      1\u001b[0m \u001b[0ms\u001b[0m \u001b[0;34m=\u001b[0m \u001b[0;34m'hello'\u001b[0m\u001b[0;34m\u001b[0m\u001b[0;34m\u001b[0m\u001b[0m\n\u001b[0;32m----> 2\u001b[0;31m \u001b[0ms\u001b[0m\u001b[0;34m.\u001b[0m\u001b[0mappend\u001b[0m\u001b[0;34m(\u001b[0m\u001b[0;34m'K'\u001b[0m\u001b[0;34m)\u001b[0m\u001b[0;34m\u001b[0m\u001b[0;34m\u001b[0m\u001b[0m\n\u001b[0m",
            "\u001b[0;31mAttributeError\u001b[0m: 'str' object has no attribute 'append'"
          ]
        }
      ]
    },
    {
      "cell_type": "code",
      "source": [
        "L = [1,2,3]\n",
        "print(type(L))"
      ],
      "metadata": {
        "colab": {
          "base_uri": "https://localhost:8080/"
        },
        "id": "KgaccTo0Vyuo",
        "outputId": "35ff0b8b-b2f4-4f52-c4cb-b3a881812f1b"
      },
      "execution_count": null,
      "outputs": [
        {
          "output_type": "stream",
          "name": "stdout",
          "text": [
            "<class 'list'>\n"
          ]
        }
      ]
    },
    {
      "cell_type": "code",
      "source": [
        "L.upper()\n",
        "L."
      ],
      "metadata": {
        "colab": {
          "base_uri": "https://localhost:8080/",
          "height": 141
        },
        "id": "NXBtGQnnV7-8",
        "outputId": "cfae79e3-45f1-4607-fa49-ee35cc45c27e"
      },
      "execution_count": null,
      "outputs": [
        {
          "output_type": "error",
          "ename": "AttributeError",
          "evalue": "'list' object has no attribute 'upper'",
          "traceback": [
            "\u001b[0;31m---------------------------------------------------------------------------\u001b[0m",
            "\u001b[0;31mAttributeError\u001b[0m                            Traceback (most recent call last)",
            "\u001b[0;32m<ipython-input-5-23af83e72fe0>\u001b[0m in \u001b[0;36m<cell line: 1>\u001b[0;34m()\u001b[0m\n\u001b[0;32m----> 1\u001b[0;31m \u001b[0mL\u001b[0m\u001b[0;34m.\u001b[0m\u001b[0mupper\u001b[0m\u001b[0;34m(\u001b[0m\u001b[0;34m)\u001b[0m\u001b[0;34m\u001b[0m\u001b[0;34m\u001b[0m\u001b[0m\n\u001b[0m",
            "\u001b[0;31mAttributeError\u001b[0m: 'list' object has no attribute 'upper'"
          ]
        }
      ]
    },
    {
      "cell_type": "code",
      "source": [
        "#syntax to create an object\n",
        "\n",
        "#objectname = classname()\n"
      ],
      "metadata": {
        "id": "CQ3C4Z21rYCc"
      },
      "execution_count": null,
      "outputs": []
    },
    {
      "cell_type": "code",
      "source": [
        "# Object literal\n",
        "L=[1,2,3]\n"
      ],
      "metadata": {
        "id": "iDhse4tWrkdA"
      },
      "execution_count": null,
      "outputs": []
    },
    {
      "cell_type": "code",
      "source": [
        "L = list()\n",
        "L\n"
      ],
      "metadata": {
        "colab": {
          "base_uri": "https://localhost:8080/"
        },
        "id": "Sqn4zRrJruQm",
        "outputId": "5b049531-a260-4fd1-e602-2b7e0542a451"
      },
      "execution_count": null,
      "outputs": [
        {
          "output_type": "execute_result",
          "data": {
            "text/plain": [
              "[]"
            ]
          },
          "metadata": {},
          "execution_count": 2
        }
      ]
    },
    {
      "cell_type": "code",
      "source": [
        "s = str()\n",
        "s"
      ],
      "metadata": {
        "colab": {
          "base_uri": "https://localhost:8080/",
          "height": 36
        },
        "id": "08vi__Q_rwzA",
        "outputId": "c0fe11ee-9862-44a1-f9a2-f7fbb6817b67"
      },
      "execution_count": null,
      "outputs": [
        {
          "output_type": "execute_result",
          "data": {
            "text/plain": [
              "''"
            ],
            "application/vnd.google.colaboratory.intrinsic+json": {
              "type": "string"
            }
          },
          "metadata": {},
          "execution_count": 3
        }
      ]
    },
    {
      "cell_type": "code",
      "source": [
        "# Pascal Case\n",
        "# HelloWorld"
      ],
      "metadata": {
        "id": "fiGYZevgsRXY"
      },
      "execution_count": null,
      "outputs": []
    },
    {
      "cell_type": "code",
      "source": [
        "#Code - banking appilication\n",
        "\n",
        "class Atm:\n",
        "\n",
        "  # constructor(Special function )-> superpower ->\n",
        "  def __init__(self):\n",
        "    print(id(self))\n",
        "    self.pin = ''\n",
        "    self.balance = 0\n",
        "    # print('mai to Execute ho gya')\n",
        "    self.menu()\n",
        "  def menu(self):\n",
        "    user_input=input(\"\"\"\n",
        "    Hi! how can i help you?\n",
        "    1. press 1 to create pin\n",
        "    2. Press 2 to change pin\n",
        "    3. Press 3 to check balance\n",
        "    4. Press 4 to withdraw\n",
        "    5. Anything else to exit\n",
        "    \"\"\")\n",
        "\n",
        "    if user_input =='1':\n",
        "      #create pin\n",
        "      self.create_pin()\n",
        "    elif user_input == '2':\n",
        "      #chnage pin\n",
        "      self.change_pin()\n",
        "\n",
        "    elif user_input == '3':\n",
        "      #Check balance\n",
        "      self.check_balance()\n",
        "      pass\n",
        "    elif user_input=='4':\n",
        "      #withdraw\n",
        "      self.withdraw()\n",
        "      pass\n",
        "    else:\n",
        "      exit()\n",
        "\n",
        "  def create_pin(self):\n",
        "    user_pin = input('Enter your pin')\n",
        "    self.pin = user_pin\n",
        "\n",
        "    user_balance = int(input(\"Enter Balnce\"))\n",
        "    self.balance = user_balance\n",
        "\n",
        "    print(\"Pin created successfully\")\n",
        "    self.menu()\n",
        "  def change_pin(self):\n",
        "    old_pin = input(\"Enter old pin\")\n",
        "\n",
        "    if old_pin == self.pin:\n",
        "      # let him change the pin\n",
        "      new_pin = input(\"Enter new pin\")\n",
        "      self.pin=new_pin\n",
        "      print(\"Pin change successfully\")\n",
        "      self.menu()\n",
        "    else:\n",
        "      print(\"Nai karne dunga\")\n",
        "      self.menu()\n",
        "\n",
        "  def check_balance(self):\n",
        "    user_pin = input(\"Enter your pin\")\n",
        "    if user_pin == self.pin:\n",
        "      print(\"Your balance is \", self.balance)\n",
        "      self.menu()\n",
        "\n",
        "    else:\n",
        "      print(\"Chal nikal le yaha se\")\n",
        "      self.menu()\n",
        "\n",
        "  def withdraw(self):\n",
        "    user_pin = input(\"Enter the pin\")\n",
        "\n",
        "    if user_pin==self.pin:\n",
        "      # Allow to withdraw\n",
        "\n",
        "      amount = int(input(\"Enter the amount\"))\n",
        "      if amount<=self.balance:\n",
        "        self.balance = self.balance - amount\n",
        "        print('Withdrawl successfully BAlance is ',self.balance)\n",
        "\n",
        "      else:\n",
        "        print(\"Abe gareeb\")\n",
        "    else:\n",
        "      print(\"Chor ho\")\n",
        "    self.menu()"
      ],
      "metadata": {
        "id": "qFrzfZajsKPb"
      },
      "execution_count": null,
      "outputs": []
    },
    {
      "cell_type": "code",
      "source": [
        "obj=Atm()"
      ],
      "metadata": {
        "colab": {
          "base_uri": "https://localhost:8080/"
        },
        "id": "a8TEjbFl51de",
        "outputId": "e1630388-6a93-416c-d4f4-124ffbcf71ab"
      },
      "execution_count": null,
      "outputs": [
        {
          "output_type": "stream",
          "name": "stdout",
          "text": [
            "140640295572512\n"
          ]
        }
      ]
    },
    {
      "cell_type": "code",
      "source": [
        "id(obj)"
      ],
      "metadata": {
        "colab": {
          "base_uri": "https://localhost:8080/"
        },
        "id": "Hl_WCJyw6mxz",
        "outputId": "38629e42-c552-463e-e766-4716cde9dc11"
      },
      "execution_count": null,
      "outputs": [
        {
          "output_type": "execute_result",
          "data": {
            "text/plain": [
              "140640295572512"
            ]
          },
          "metadata": {},
          "execution_count": 6
        }
      ]
    },
    {
      "cell_type": "code",
      "source": [
        "obj2=Atm()"
      ],
      "metadata": {
        "colab": {
          "base_uri": "https://localhost:8080/"
        },
        "id": "DbqTInCx8PYC",
        "outputId": "03ba850c-2f5e-4734-f44e-5cc87c7f8f28"
      },
      "execution_count": null,
      "outputs": [
        {
          "output_type": "stream",
          "name": "stdout",
          "text": [
            "140640295572224\n"
          ]
        }
      ]
    },
    {
      "cell_type": "code",
      "source": [
        "id(obj2)"
      ],
      "metadata": {
        "colab": {
          "base_uri": "https://localhost:8080/"
        },
        "id": "-bGCoP3V8Swf",
        "outputId": "6b319f67-f9bf-4505-db88-98c90aed27d6"
      },
      "execution_count": null,
      "outputs": [
        {
          "output_type": "execute_result",
          "data": {
            "text/plain": [
              "140640295572224"
            ]
          },
          "metadata": {},
          "execution_count": 8
        }
      ]
    },
    {
      "cell_type": "code",
      "source": [
        "obj."
      ],
      "metadata": {
        "id": "3bhNv15G5_TS"
      },
      "execution_count": null,
      "outputs": []
    },
    {
      "cell_type": "code",
      "source": [
        "print(type(obj))"
      ],
      "metadata": {
        "colab": {
          "base_uri": "https://localhost:8080/"
        },
        "id": "YNlyEiWTtCGr",
        "outputId": "3be830c1-3d5f-4147-c049-19c05600c486"
      },
      "execution_count": null,
      "outputs": [
        {
          "output_type": "stream",
          "name": "stdout",
          "text": [
            "<class '__main__.Atm'>\n"
          ]
        }
      ]
    },
    {
      "cell_type": "code",
      "source": [
        "obj2 = Atm()"
      ],
      "metadata": {
        "colab": {
          "base_uri": "https://localhost:8080/"
        },
        "id": "0LuUrE5ntPAe",
        "outputId": "504edc8d-4a6d-4fa8-bfdc-a2f5aa8785a5"
      },
      "execution_count": null,
      "outputs": [
        {
          "name": "stdout",
          "output_type": "stream",
          "text": [
            "\n",
            "    Hi! how can i help you?\n",
            "    1. press 1 to create pin\n",
            "    2. Press 2 to change pin\n",
            "    3. Press 3 to check balance\n",
            "    4. Press 4 to withdraw\n",
            "    5. Anything else to exit\n",
            "    1\n",
            "Enter your pin1234\n",
            "Enter Balnce10000\n",
            "Pin created successfully\n",
            "\n",
            "    Hi! how can i help you?\n",
            "    1. press 1 to create pin\n",
            "    2. Press 2 to change pin\n",
            "    3. Press 3 to check balance\n",
            "    4. Press 4 to withdraw\n",
            "    5. Anything else to exit\n",
            "    4\n",
            "Enter the pin1234\n",
            "Enter the amount12000\n",
            "Abe gareeb\n",
            "\n",
            "    Hi! how can i help you?\n",
            "    1. press 1 to create pin\n",
            "    2. Press 2 to change pin\n",
            "    3. Press 3 to check balance\n",
            "    4. Press 4 to withdraw\n",
            "    5. Anything else to exit\n",
            "    4\n",
            "Enter the pin80000\n",
            "Chor ho\n",
            "\n",
            "    Hi! how can i help you?\n",
            "    1. press 1 to create pin\n",
            "    2. Press 2 to change pin\n",
            "    3. Press 3 to check balance\n",
            "    4. Press 4 to withdraw\n",
            "    5. Anything else to exit\n",
            "    4\n",
            "Enter the pin1234\n",
            "Enter the amount8000\n",
            "Withdrawl successfully BAlance is  2000\n",
            "\n",
            "    Hi! how can i help you?\n",
            "    1. press 1 to create pin\n",
            "    2. Press 2 to change pin\n",
            "    3. Press 3 to check balance\n",
            "    4. Press 4 to withdraw\n",
            "    5. Anything else to exit\n",
            "    j\n"
          ]
        }
      ]
    },
    {
      "cell_type": "code",
      "source": [
        "L =[1,2,3]\n",
        "len(L) # function -> bcos it is outside the list class\n",
        "L.append(4) # method -> bcos it is inside the list class"
      ],
      "metadata": {
        "id": "li4Gxokfuzim"
      },
      "execution_count": null,
      "outputs": []
    },
    {
      "cell_type": "code",
      "source": [
        "from re import T\n",
        "class Temp:\n",
        "\n",
        "  def __init__(self):\n",
        "    print('Hello')\n",
        "\n",
        "obj = Temp()"
      ],
      "metadata": {
        "colab": {
          "base_uri": "https://localhost:8080/"
        },
        "id": "9V9gW5-u26-C",
        "outputId": "6f036f59-9661-4950-9062-ae8b2af78ec0"
      },
      "execution_count": null,
      "outputs": [
        {
          "output_type": "stream",
          "name": "stdout",
          "text": [
            "Hello\n"
          ]
        }
      ]
    },
    {
      "cell_type": "code",
      "source": [
        "3/4*1/2"
      ],
      "metadata": {
        "colab": {
          "base_uri": "https://localhost:8080/"
        },
        "id": "i1ZDnR8Q75xY",
        "outputId": "ce775347-a4cd-4d3d-8985-f3727884daa8"
      },
      "execution_count": null,
      "outputs": [
        {
          "output_type": "execute_result",
          "data": {
            "text/plain": [
              "0.375"
            ]
          },
          "metadata": {},
          "execution_count": 4
        }
      ]
    },
    {
      "cell_type": "code",
      "source": [
        "class Fraction:\n",
        "\n",
        "  # Parameterized constructor\n",
        "  def __init__(self,x,y):\n",
        "    self.num=x;\n",
        "    self.den = y;\n",
        "\n",
        "  def __str__(self):\n",
        "    return '{}/{}'.format(self.num,self.den)\n",
        "\n",
        "  def __add__(self,other):\n",
        "    new_num= self.num*other.den+other.num*self.den\n",
        "    new_den = self.den*other.den\n",
        "\n",
        "    return '{}/{}'.format(new_num,new_den)\n",
        "\n",
        "  def __sub__(self,other):\n",
        "    new_num= self.num*other.den-other.num*self.den\n",
        "    new_den = self.den*other.den\n",
        "\n",
        "    return '{}/{}'.format(new_num,new_den)\n",
        "  def __mul__(self,other):\n",
        "    new_num= self.num*other.num\n",
        "    new_den = self.den*other.den\n",
        "\n",
        "    return '{}/{}'.format(new_num,new_den)\n",
        "\n",
        "  def __truediv__(self,other):\n",
        "    new_num= self.num*other.den\n",
        "    new_den = self.den*other.num\n",
        "\n",
        "    return '{}/{}'.format(new_num,new_den)\n",
        "\n",
        "  def convert_to_decimal(self):\n",
        "    return self.num/self.den"
      ],
      "metadata": {
        "id": "AICmpZO579dV"
      },
      "execution_count": null,
      "outputs": []
    },
    {
      "cell_type": "code",
      "source": [
        "fr1 = Fraction(3,4)\n",
        "fr2 = Fraction(5,6)"
      ],
      "metadata": {
        "id": "95a2RKyz9Wqc"
      },
      "execution_count": null,
      "outputs": []
    },
    {
      "cell_type": "code",
      "source": [
        "print(fr1)\n",
        "# 3/4\n",
        "print(fr2)\n"
      ],
      "metadata": {
        "colab": {
          "base_uri": "https://localhost:8080/"
        },
        "id": "VgC8xwhf9eIa",
        "outputId": "06385a97-27f9-4cbe-b13e-8c257105628a"
      },
      "execution_count": null,
      "outputs": [
        {
          "output_type": "stream",
          "name": "stdout",
          "text": [
            "3/4\n",
            "5/6\n"
          ]
        }
      ]
    },
    {
      "cell_type": "code",
      "source": [
        "fr1.convert_to_decimal()"
      ],
      "metadata": {
        "id": "ePVZXk7ACxFj",
        "outputId": "e6f29d76-9fa3-42a1-9367-2139abfd792b",
        "colab": {
          "base_uri": "https://localhost:8080/"
        }
      },
      "execution_count": null,
      "outputs": [
        {
          "output_type": "execute_result",
          "data": {
            "text/plain": [
              "0.75"
            ]
          },
          "metadata": {},
          "execution_count": 59
        }
      ]
    },
    {
      "cell_type": "code",
      "source": [
        "print(fr1+fr2)"
      ],
      "metadata": {
        "colab": {
          "base_uri": "https://localhost:8080/"
        },
        "id": "lgu0x9SK_KPu",
        "outputId": "07a2ead0-a864-49c3-d44e-e240691b44ed"
      },
      "execution_count": null,
      "outputs": [
        {
          "output_type": "stream",
          "name": "stdout",
          "text": [
            "38/24\n"
          ]
        }
      ]
    },
    {
      "cell_type": "code",
      "source": [
        "s1 ={1,2,3}\n",
        "s2 = {4,5,6}\n",
        "\n",
        "s1+s2"
      ],
      "metadata": {
        "colab": {
          "base_uri": "https://localhost:8080/",
          "height": 176
        },
        "id": "3FC2SXQ3_RW7",
        "outputId": "6b3b6b8b-ca14-4225-f41c-9f1dd10d2d15"
      },
      "execution_count": null,
      "outputs": [
        {
          "output_type": "error",
          "ename": "TypeError",
          "evalue": "unsupported operand type(s) for +: 'set' and 'set'",
          "traceback": [
            "\u001b[0;31m---------------------------------------------------------------------------\u001b[0m",
            "\u001b[0;31mTypeError\u001b[0m                                 Traceback (most recent call last)",
            "\u001b[0;32m<ipython-input-33-883835dc45b9>\u001b[0m in \u001b[0;36m<cell line: 4>\u001b[0;34m()\u001b[0m\n\u001b[1;32m      2\u001b[0m \u001b[0ms2\u001b[0m \u001b[0;34m=\u001b[0m \u001b[0;34m{\u001b[0m\u001b[0;36m4\u001b[0m\u001b[0;34m,\u001b[0m\u001b[0;36m5\u001b[0m\u001b[0;34m,\u001b[0m\u001b[0;36m6\u001b[0m\u001b[0;34m}\u001b[0m\u001b[0;34m\u001b[0m\u001b[0;34m\u001b[0m\u001b[0m\n\u001b[1;32m      3\u001b[0m \u001b[0;34m\u001b[0m\u001b[0m\n\u001b[0;32m----> 4\u001b[0;31m \u001b[0ms1\u001b[0m\u001b[0;34m+\u001b[0m\u001b[0ms2\u001b[0m\u001b[0;34m\u001b[0m\u001b[0;34m\u001b[0m\u001b[0m\n\u001b[0m",
            "\u001b[0;31mTypeError\u001b[0m: unsupported operand type(s) for +: 'set' and 'set'"
          ]
        }
      ]
    },
    {
      "cell_type": "code",
      "source": [
        "print(fr1-fr2)"
      ],
      "metadata": {
        "colab": {
          "base_uri": "https://localhost:8080/"
        },
        "id": "VWVTgFz3A6bp",
        "outputId": "a03cacc9-d835-4fb1-8179-db3449bca0f6"
      },
      "execution_count": null,
      "outputs": [
        {
          "output_type": "stream",
          "name": "stdout",
          "text": [
            "-2/24\n"
          ]
        }
      ]
    },
    {
      "cell_type": "code",
      "source": [
        "print(fr1*fr2)"
      ],
      "metadata": {
        "colab": {
          "base_uri": "https://localhost:8080/"
        },
        "id": "jUQU0qExBy6x",
        "outputId": "684a5005-20e4-4cae-992d-e07a4608e096"
      },
      "execution_count": null,
      "outputs": [
        {
          "output_type": "stream",
          "name": "stdout",
          "text": [
            "15/24\n"
          ]
        }
      ]
    },
    {
      "cell_type": "code",
      "source": [
        "print(fr1/fr2)"
      ],
      "metadata": {
        "colab": {
          "base_uri": "https://localhost:8080/"
        },
        "id": "v1gqjbEiCLxI",
        "outputId": "0024a138-548d-4893-e4de-2de9dc908ead"
      },
      "execution_count": null,
      "outputs": [
        {
          "output_type": "stream",
          "name": "stdout",
          "text": [
            "18/20\n"
          ]
        }
      ]
    }
  ]
}