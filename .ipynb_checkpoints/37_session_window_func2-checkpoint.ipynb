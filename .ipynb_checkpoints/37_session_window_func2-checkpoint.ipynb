{
 "cells": [
  {
   "cell_type": "code",
   "execution_count": 2,
   "id": "a4c6ad3e-dfb2-48ae-be97-825a90c5a375",
   "metadata": {},
   "outputs": [],
   "source": [
    "import pandas as pd\n",
    "import mysql.connector"
   ]
  },
  {
   "cell_type": "code",
   "execution_count": 8,
   "id": "f0c73407-953d-45ef-87e7-1a29ba98ebd6",
   "metadata": {},
   "outputs": [],
   "source": [
    "conn = mysql.connector.connect(\n",
    "    host = 'localhost',\n",
    "    user = 'root', \n",
    "    password = 'Kaynat@73'\n",
    ")"
   ]
  },
  {
   "cell_type": "code",
   "execution_count": 11,
   "id": "3af66029-acd8-45b5-bcf9-04c30495d816",
   "metadata": {},
   "outputs": [
    {
     "name": "stderr",
     "output_type": "stream",
     "text": [
      "C:\\Users\\kayna\\AppData\\Local\\Temp\\ipykernel_9044\\824058086.py:1: UserWarning: pandas only supports SQLAlchemy connectable (engine/connection) or database string URI or sqlite3 DBAPI2 connection. Other DBAPI2 objects are not tested. Please consider using SQLAlchemy.\n",
      "  df = pd.read_sql_query(\"\"\"\n"
     ]
    }
   ],
   "source": [
    "df = pd.read_sql_query(\"\"\"\n",
    "SELECT * FROM (\n",
    "SELECT \n",
    "CONCAT(\"match-\",CAST( ROW_NUMBER() OVER(ORDER BY ID) AS CHAR )) AS 'match_no',\n",
    "SUM(batsman_run) AS 'run_scored',\n",
    "SUM(SUM(batsman_run)) OVER (ROWS BETWEEN UNBOUNDED PRECEDING AND CURRENT ROW) AS 'career_runs',\n",
    "AVG(SUM(batsman_run)) OVER (ROWS BETWEEN UNBOUNDED PRECEDING AND CURRENT ROW) AS 'career_avg',\n",
    "AVG(SUM(batsman_run)) OVER (ROWS BETWEEN 9 PRECEDING AND CURRENT ROW) AS 'rolling_avg'\n",
    "FROM kaynatx.ipl\n",
    "WHERE batter = 'V kohli'\n",
    "GROUP BY ID\n",
    ") t\n",
    "\"\"\", conn)"
   ]
  },
  {
   "cell_type": "code",
   "execution_count": 12,
   "id": "3b368282-bf63-4dab-bfec-6f0a3c5bf885",
   "metadata": {},
   "outputs": [
    {
     "data": {
      "text/html": [
       "<div>\n",
       "<style scoped>\n",
       "    .dataframe tbody tr th:only-of-type {\n",
       "        vertical-align: middle;\n",
       "    }\n",
       "\n",
       "    .dataframe tbody tr th {\n",
       "        vertical-align: top;\n",
       "    }\n",
       "\n",
       "    .dataframe thead th {\n",
       "        text-align: right;\n",
       "    }\n",
       "</style>\n",
       "<table border=\"1\" class=\"dataframe\">\n",
       "  <thead>\n",
       "    <tr style=\"text-align: right;\">\n",
       "      <th></th>\n",
       "      <th>match_no</th>\n",
       "      <th>run_scored</th>\n",
       "      <th>career_runs</th>\n",
       "      <th>career_avg</th>\n",
       "      <th>rolling_avg</th>\n",
       "    </tr>\n",
       "  </thead>\n",
       "  <tbody>\n",
       "    <tr>\n",
       "      <th>0</th>\n",
       "      <td>match-1</td>\n",
       "      <td>1.0</td>\n",
       "      <td>1.0</td>\n",
       "      <td>1.0000</td>\n",
       "      <td>1.0000</td>\n",
       "    </tr>\n",
       "    <tr>\n",
       "      <th>1</th>\n",
       "      <td>match-2</td>\n",
       "      <td>23.0</td>\n",
       "      <td>24.0</td>\n",
       "      <td>12.0000</td>\n",
       "      <td>12.0000</td>\n",
       "    </tr>\n",
       "    <tr>\n",
       "      <th>2</th>\n",
       "      <td>match-3</td>\n",
       "      <td>13.0</td>\n",
       "      <td>37.0</td>\n",
       "      <td>12.3333</td>\n",
       "      <td>12.3333</td>\n",
       "    </tr>\n",
       "    <tr>\n",
       "      <th>3</th>\n",
       "      <td>match-4</td>\n",
       "      <td>12.0</td>\n",
       "      <td>49.0</td>\n",
       "      <td>12.2500</td>\n",
       "      <td>12.2500</td>\n",
       "    </tr>\n",
       "    <tr>\n",
       "      <th>4</th>\n",
       "      <td>match-5</td>\n",
       "      <td>1.0</td>\n",
       "      <td>50.0</td>\n",
       "      <td>10.0000</td>\n",
       "      <td>10.0000</td>\n",
       "    </tr>\n",
       "    <tr>\n",
       "      <th>...</th>\n",
       "      <td>...</td>\n",
       "      <td>...</td>\n",
       "      <td>...</td>\n",
       "      <td>...</td>\n",
       "      <td>...</td>\n",
       "    </tr>\n",
       "    <tr>\n",
       "      <th>210</th>\n",
       "      <td>match-211</td>\n",
       "      <td>0.0</td>\n",
       "      <td>6509.0</td>\n",
       "      <td>30.8483</td>\n",
       "      <td>16.3000</td>\n",
       "    </tr>\n",
       "    <tr>\n",
       "      <th>211</th>\n",
       "      <td>match-212</td>\n",
       "      <td>20.0</td>\n",
       "      <td>6529.0</td>\n",
       "      <td>30.7972</td>\n",
       "      <td>17.8000</td>\n",
       "    </tr>\n",
       "    <tr>\n",
       "      <th>212</th>\n",
       "      <td>match-213</td>\n",
       "      <td>73.0</td>\n",
       "      <td>6602.0</td>\n",
       "      <td>30.9953</td>\n",
       "      <td>20.3000</td>\n",
       "    </tr>\n",
       "    <tr>\n",
       "      <th>213</th>\n",
       "      <td>match-214</td>\n",
       "      <td>25.0</td>\n",
       "      <td>6627.0</td>\n",
       "      <td>30.9673</td>\n",
       "      <td>22.7000</td>\n",
       "    </tr>\n",
       "    <tr>\n",
       "      <th>214</th>\n",
       "      <td>match-215</td>\n",
       "      <td>7.0</td>\n",
       "      <td>6634.0</td>\n",
       "      <td>30.8558</td>\n",
       "      <td>22.2000</td>\n",
       "    </tr>\n",
       "  </tbody>\n",
       "</table>\n",
       "<p>215 rows × 5 columns</p>\n",
       "</div>"
      ],
      "text/plain": [
       "      match_no  run_scored  career_runs  career_avg  rolling_avg\n",
       "0      match-1         1.0          1.0      1.0000       1.0000\n",
       "1      match-2        23.0         24.0     12.0000      12.0000\n",
       "2      match-3        13.0         37.0     12.3333      12.3333\n",
       "3      match-4        12.0         49.0     12.2500      12.2500\n",
       "4      match-5         1.0         50.0     10.0000      10.0000\n",
       "..         ...         ...          ...         ...          ...\n",
       "210  match-211         0.0       6509.0     30.8483      16.3000\n",
       "211  match-212        20.0       6529.0     30.7972      17.8000\n",
       "212  match-213        73.0       6602.0     30.9953      20.3000\n",
       "213  match-214        25.0       6627.0     30.9673      22.7000\n",
       "214  match-215         7.0       6634.0     30.8558      22.2000\n",
       "\n",
       "[215 rows x 5 columns]"
      ]
     },
     "execution_count": 12,
     "metadata": {},
     "output_type": "execute_result"
    }
   ],
   "source": [
    "df"
   ]
  },
  {
   "cell_type": "code",
   "execution_count": 13,
   "id": "61edfcc3-f0be-447c-9097-0d78d948ab63",
   "metadata": {},
   "outputs": [
    {
     "data": {
      "text/html": [
       "<div>\n",
       "<style scoped>\n",
       "    .dataframe tbody tr th:only-of-type {\n",
       "        vertical-align: middle;\n",
       "    }\n",
       "\n",
       "    .dataframe tbody tr th {\n",
       "        vertical-align: top;\n",
       "    }\n",
       "\n",
       "    .dataframe thead th {\n",
       "        text-align: right;\n",
       "    }\n",
       "</style>\n",
       "<table border=\"1\" class=\"dataframe\">\n",
       "  <thead>\n",
       "    <tr style=\"text-align: right;\">\n",
       "      <th></th>\n",
       "      <th>match_no</th>\n",
       "      <th>run_scored</th>\n",
       "      <th>career_runs</th>\n",
       "      <th>career_avg</th>\n",
       "      <th>rolling_avg</th>\n",
       "    </tr>\n",
       "  </thead>\n",
       "  <tbody>\n",
       "    <tr>\n",
       "      <th>0</th>\n",
       "      <td>match-1</td>\n",
       "      <td>1.0</td>\n",
       "      <td>1.0</td>\n",
       "      <td>1.0000</td>\n",
       "      <td>1.0000</td>\n",
       "    </tr>\n",
       "    <tr>\n",
       "      <th>1</th>\n",
       "      <td>match-2</td>\n",
       "      <td>23.0</td>\n",
       "      <td>24.0</td>\n",
       "      <td>12.0000</td>\n",
       "      <td>12.0000</td>\n",
       "    </tr>\n",
       "    <tr>\n",
       "      <th>2</th>\n",
       "      <td>match-3</td>\n",
       "      <td>13.0</td>\n",
       "      <td>37.0</td>\n",
       "      <td>12.3333</td>\n",
       "      <td>12.3333</td>\n",
       "    </tr>\n",
       "    <tr>\n",
       "      <th>3</th>\n",
       "      <td>match-4</td>\n",
       "      <td>12.0</td>\n",
       "      <td>49.0</td>\n",
       "      <td>12.2500</td>\n",
       "      <td>12.2500</td>\n",
       "    </tr>\n",
       "    <tr>\n",
       "      <th>4</th>\n",
       "      <td>match-5</td>\n",
       "      <td>1.0</td>\n",
       "      <td>50.0</td>\n",
       "      <td>10.0000</td>\n",
       "      <td>10.0000</td>\n",
       "    </tr>\n",
       "  </tbody>\n",
       "</table>\n",
       "</div>"
      ],
      "text/plain": [
       "  match_no  run_scored  career_runs  career_avg  rolling_avg\n",
       "0  match-1         1.0          1.0      1.0000       1.0000\n",
       "1  match-2        23.0         24.0     12.0000      12.0000\n",
       "2  match-3        13.0         37.0     12.3333      12.3333\n",
       "3  match-4        12.0         49.0     12.2500      12.2500\n",
       "4  match-5         1.0         50.0     10.0000      10.0000"
      ]
     },
     "execution_count": 13,
     "metadata": {},
     "output_type": "execute_result"
    }
   ],
   "source": [
    "df.head()"
   ]
  },
  {
   "cell_type": "code",
   "execution_count": 10,
   "id": "33df87ef-cfdb-44e0-aeb0-bf625ef87228",
   "metadata": {},
   "outputs": [],
   "source": [
    "import matplotlib.pyplot as plt"
   ]
  },
  {
   "cell_type": "code",
   "execution_count": 15,
   "id": "5c08413d-4382-4d6a-a024-4c2863ab4405",
   "metadata": {},
   "outputs": [
    {
     "data": {
      "text/plain": [
       "[<matplotlib.lines.Line2D at 0x23920878200>]"
      ]
     },
     "execution_count": 15,
     "metadata": {},
     "output_type": "execute_result"
    },
    {
     "data": {
      "image/png": "[encoded data removed]",
      "text/plain": [
       "<Figure size 640x480 with 1 Axes>"
      ]
     },
     "metadata": {},
     "output_type": "display_data"
    }
   ],
   "source": [
    "plt.plot(df['match_no'],df['career_avg'])\n",
    "plt.plot(df['match_no'],df['rolling_avg'])"
   ]
  }
 ],
 "metadata": {
  "kernelspec": {
   "display_name": "Python 3 (ipykernel)",
   "language": "python",
   "name": "python3"
  },
  "language_info": {
   "codemirror_mode": {
    "name": "ipython",
    "version": 3
   },
   "file_extension": ".py",
   "mimetype": "text/x-python",
   "name": "python",
   "nbconvert_exporter": "python",
   "pygments_lexer": "ipython3",
   "version": "3.12.7"
  }
 },
 "nbformat": 4,
 "nbformat_minor": 5
}
