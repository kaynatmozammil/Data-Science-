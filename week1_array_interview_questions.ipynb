{
  "nbformat": 4,
  "nbformat_minor": 0,
  "metadata": {
    "colab": {
      "provenance": [],
      "include_colab_link": true
    },
    "kernelspec": {
      "name": "python3",
      "display_name": "Python 3"
    },
    "language_info": {
      "name": "python"
    }
  },
  "cells": [
    {
      "cell_type": "markdown",
      "metadata": {
        "id": "view-in-github",
        "colab_type": "text"
      },
      "source": [
        "<a href=\"https://colab.research.google.com/github/kaynatmozammil/Data-Science-/blob/main/week1_array_interview_questions.ipynb\" target=\"_parent\"><img src=\"https://colab.research.google.com/assets/colab-badge.svg\" alt=\"Open In Colab\"/></a>"
      ]
    },
    {
      "cell_type": "markdown",
      "source": [
        "## Points to remember\n",
        "\n",
        "- Codes asked are relatively easier in comparison to SDE roles\n",
        "- Pythonic syntax is preferred in most companies\n",
        "- Focus is on optimized code\n",
        "- Start with the simplest solution and then improve\n",
        "- A lot of questions are repeated so mugging up the approaches help\n",
        "- Build intuition using Python Tutor"
      ],
      "metadata": {
        "id": "lymMOnZVdJ_B"
      }
    },
    {
      "cell_type": "code",
      "source": [
        "# 1. Find the kth largest/smallest item from a list\n",
        "\n",
        "L = [12,23,1,4,56,34,22,3]\n",
        "k = 3\n",
        "L.sort(reverse = True)\n",
        "print(L[k-1])\n",
        "\n"
      ],
      "metadata": {
        "id": "ztJVsbJ-dK3x",
        "colab": {
          "base_uri": "https://localhost:8080/"
        },
        "outputId": "3f500f7b-394b-4832-aceb-ebbe12e93b83"
      },
      "execution_count": null,
      "outputs": [
        {
          "output_type": "stream",
          "name": "stdout",
          "text": [
            "23\n"
          ]
        }
      ]
    },
    {
      "cell_type": "code",
      "source": [
        "# 2. Check if an array is sorted\n",
        "L = [1,4,3,4,5]\n",
        "flag = True\n",
        "for i in range(0,len(L)-1):\n",
        "  if L[i] > L[i+1]:\n",
        "    flag = False\n",
        "if flag:\n",
        "  print(\"Sorted\")\n",
        "else:\n",
        "  print(\"Not sotred\")"
      ],
      "metadata": {
        "id": "arS5n6xI3BY5",
        "colab": {
          "base_uri": "https://localhost:8080/"
        },
        "outputId": "cd757a1a-6967-4704-a22d-8b34ad6e2fa9"
      },
      "execution_count": null,
      "outputs": [
        {
          "output_type": "stream",
          "name": "stdout",
          "text": [
            "Not sotred\n"
          ]
        }
      ]
    },
    {
      "cell_type": "code",
      "source": [
        "# 3. Find Min/Max in a given array\n",
        "\n",
        "L = [21,1,34,23,54,11,10]\n",
        "\n",
        "max_val = L[0]\n",
        "for i in L:\n",
        "  if i > max_val:\n",
        "    max_val = i\n",
        "print(max_val)\n",
        "\n",
        "min_val = L[0]\n",
        "for i in L:\n",
        "  if i < min_val:\n",
        "    min_val = i\n",
        "print(min_val)\n",
        "\n"
      ],
      "metadata": {
        "id": "s4iDxzcy3Ht0",
        "colab": {
          "base_uri": "https://localhost:8080/"
        },
        "outputId": "8be1ef73-9b29-428e-e59a-d9fa5314ec7f"
      },
      "execution_count": null,
      "outputs": [
        {
          "output_type": "stream",
          "name": "stdout",
          "text": [
            "54\n",
            "1\n"
          ]
        }
      ]
    },
    {
      "cell_type": "code",
      "source": [
        "# 4. Find the first element to occur k times in an array\n",
        "\n",
        "L = [1,1,2,3,4,4,5,5]\n",
        "k = 2\n",
        "\n",
        "d = {}\n",
        "\n",
        "for i in L:\n",
        "  if i in d:\n",
        "    d[i] = d[i] + i\n",
        "  else:\n",
        "    d[i] = 1\n",
        "\n",
        "for i in d:\n",
        "  if d[i]==k:\n",
        "    print(i)\n",
        "    break\n"
      ],
      "metadata": {
        "id": "2AsUw6fh3UmZ",
        "colab": {
          "base_uri": "https://localhost:8080/"
        },
        "outputId": "f7a8ece3-c1da-4b7d-9b4e-02df9cbcabb0"
      },
      "execution_count": null,
      "outputs": [
        {
          "output_type": "stream",
          "name": "stdout",
          "text": [
            "1\n"
          ]
        }
      ]
    },
    {
      "cell_type": "code",
      "source": [
        "# 5. Find duplicates in an array\n",
        "l = [1,1,2,2,3,4,4,5,5]\n",
        "d = {}\n",
        "\n",
        "for i in l:\n",
        "  if i in d:\n",
        "    d[i] = d[i] + i\n",
        "  else:\n",
        "    d[i] = 1\n",
        "\n",
        "for i in d:\n",
        "  if d[i]>1:\n",
        "    print(i)\n",
        "\n"
      ],
      "metadata": {
        "id": "b7WwScW6SRHN",
        "colab": {
          "base_uri": "https://localhost:8080/"
        },
        "outputId": "53e35212-eb2f-452d-caba-03ddb2c995d7"
      },
      "execution_count": null,
      "outputs": [
        {
          "output_type": "stream",
          "name": "stdout",
          "text": [
            "1\n",
            "2\n",
            "4\n",
            "5\n"
          ]
        }
      ]
    },
    {
      "cell_type": "code",
      "source": [
        "# 6. Rotate array to left d items\n",
        "L = [1,2,3,4,5]\n",
        "rotate = 2\n",
        "for i in range(rotate):\n",
        "  temp = L[0]\n",
        "  for j in range(0,len(L)-1):\n",
        "    L[j] = L[j+1]\n",
        "  L[len(L)-1] = temp\n",
        "print(L)"
      ],
      "metadata": {
        "id": "w7QY2t7M3rhI",
        "colab": {
          "base_uri": "https://localhost:8080/"
        },
        "outputId": "0514c2ab-637a-4c60-af89-b27456921a88"
      },
      "execution_count": null,
      "outputs": [
        {
          "output_type": "stream",
          "name": "stdout",
          "text": [
            "[3, 4, 5, 1, 2]\n"
          ]
        }
      ]
    },
    {
      "cell_type": "code",
      "source": [
        "# 7. Find intersection of 2 sorted arrays\n",
        "\n",
        "a = [1,2,3,4,5,8]\n",
        "b = [3,6,7,8]\n",
        "\n",
        "for i in a:\n",
        "  if i in b:\n",
        "    print(i)"
      ],
      "metadata": {
        "id": "FEhak99y3wgo",
        "colab": {
          "base_uri": "https://localhost:8080/"
        },
        "outputId": "470b53d7-8777-48a5-d3fe-f2c14145670e"
      },
      "execution_count": null,
      "outputs": [
        {
          "output_type": "stream",
          "name": "stdout",
          "text": [
            "3\n",
            "8\n"
          ]
        }
      ]
    },
    {
      "cell_type": "code",
      "source": [
        "a = [1,2,3,4,5,8]\n",
        "b = [3,6,7,8]\n",
        "\n",
        "i = j = 0\n",
        "while i<len(a) and j<len(b):\n",
        "  if a[i] == b[j]:\n",
        "    print(a[i])\n",
        "    j += 1\n",
        "    i += 1\n",
        "  elif a[i]>b[j]:\n",
        "    j = j+1\n",
        "  else:\n",
        "    i = i + 1\n",
        "\n",
        "\n"
      ],
      "metadata": {
        "colab": {
          "base_uri": "https://localhost:8080/"
        },
        "id": "0zCQuVT4-OHk",
        "outputId": "80b458fc-988d-4921-f2d8-61b3513e5d63"
      },
      "execution_count": null,
      "outputs": [
        {
          "output_type": "stream",
          "name": "stdout",
          "text": [
            "3\n",
            "8\n"
          ]
        }
      ]
    },
    {
      "cell_type": "code",
      "source": [
        "# 8. Find continous subarray with a given sum(given non-negative numbers)\n",
        "# return the starting and ending index of the subarray\n",
        "# return 1st subarray in case of multiple\n",
        "L = [1,22,13,7,9,11,10]\n",
        "s = 21\n",
        "for i in range(0,len(L)):\n",
        "  subarray = []\n",
        "  for j in range(i,len(L)):\n",
        "    subarray.append(L[j])\n",
        "    # print(subarray,sum(subarray))\n",
        "    if sum(subarray) == s:\n",
        "      print(subarray)\n"
      ],
      "metadata": {
        "id": "qamyLwBnZZxw",
        "colab": {
          "base_uri": "https://localhost:8080/"
        },
        "outputId": "2020c7a6-6db2-472e-8a4b-dd58488b02db"
      },
      "execution_count": null,
      "outputs": [
        {
          "output_type": "stream",
          "name": "stdout",
          "text": [
            "[11, 10]\n"
          ]
        }
      ]
    },
    {
      "cell_type": "code",
      "source": [
        "L = [1,22,13,7,9,11,10]\n",
        "s = 21\n",
        "d = {}\n",
        "curr_sum = 0\n",
        "\n",
        "for i in range(0,len(L)):\n",
        "  curr_sum = curr_sum + L[i]\n",
        "  if (curr_sum - s) in d:\n",
        "    print(d[curr_sum -s]+1,i)\n",
        "    break\n",
        "  d[curr_sum] = i"
      ],
      "metadata": {
        "colab": {
          "base_uri": "https://localhost:8080/"
        },
        "id": "ijwLqR6w6H0U",
        "outputId": "c9374011-c95e-4012-f736-b8d3a8407be9"
      },
      "execution_count": null,
      "outputs": [
        {
          "output_type": "stream",
          "name": "stdout",
          "text": [
            "5 6\n"
          ]
        }
      ]
    },
    {
      "cell_type": "code",
      "source": [
        "# 9. Find element with left side smaller/right side greater in an array\n",
        "\n",
        "L = [2,1,3,5,8,7,9]\n",
        "for i in range(1,len(L)-1):\n",
        "  flag = True\n",
        "\n",
        "  for j in range(0,i):\n",
        "    if L[j]>L[i]:\n",
        "      flag = False\n",
        "  for k in range(i+1,len(L)):\n",
        "    if L[k]<L[i]:\n",
        "      flag = False\n",
        "\n",
        "  if flag:\n",
        "    print(L[i])\n",
        "\n"
      ],
      "metadata": {
        "id": "CVwCKt5U3yb8",
        "colab": {
          "base_uri": "https://localhost:8080/"
        },
        "outputId": "607ba38a-e7b3-4565-fd40-530233527a07"
      },
      "execution_count": null,
      "outputs": [
        {
          "output_type": "stream",
          "name": "stdout",
          "text": [
            "3\n",
            "5\n"
          ]
        }
      ]
    },
    {
      "cell_type": "code",
      "source": [
        "L = [3,1,2,5,8,7,9]\n",
        "for i in range(1,len(L)-1):\n",
        "  if max(L[:i])<L[i]<min(L[i+1:]):\n",
        "    print(L[i])"
      ],
      "metadata": {
        "colab": {
          "base_uri": "https://localhost:8080/"
        },
        "id": "Mfsc-3kTxmNT",
        "outputId": "adbbe395-9791-4b38-9588-a291b046fdd8"
      },
      "execution_count": null,
      "outputs": [
        {
          "output_type": "stream",
          "name": "stdout",
          "text": [
            "5\n"
          ]
        }
      ]
    },
    {
      "cell_type": "code",
      "source": [
        "L = [3,1,2,5,8,7,9]\n",
        "max_arr = []\n",
        "max_val = L[0]\n",
        "min_arr = []\n",
        "min_val = L[-1]\n",
        "for i in L:\n",
        "  if i > max_val:\n",
        "    max_val = i\n",
        "  max_arr.append(max_val)\n",
        "for i in range(len(L)-1,-1,-1):\n",
        "  if L[i] < min_val:\n",
        "    min_val = L[i]\n",
        "\n",
        "  min_arr.insert(0,min_val)\n",
        "print(max_arr)\n",
        "print(min_arr)\n",
        "\n",
        "for i in range(1,len(L)-1):\n",
        "  if max_arr[i-1] < L[i] < min_arr[i+1]:\n",
        "    print(L[i])\n"
      ],
      "metadata": {
        "colab": {
          "base_uri": "https://localhost:8080/"
        },
        "id": "lTcOuVZ91AtQ",
        "outputId": "43444972-3ab8-4fc7-92e9-756c23ee8138"
      },
      "execution_count": null,
      "outputs": [
        {
          "output_type": "stream",
          "name": "stdout",
          "text": [
            "[3, 3, 3, 5, 8, 8, 9]\n",
            "[1, 1, 2, 5, 7, 7, 9]\n",
            "5\n"
          ]
        }
      ]
    },
    {
      "cell_type": "code",
      "source": [
        "# 10. Maximum sum subarray\n",
        "L = [-2,4,7,-1,6,-11,14,3,-1,-6]\n",
        "d = {}\n",
        "for i in range(0,len(L)):\n",
        "  subarray = []\n",
        "  for j in range(i,len(L)):\n",
        "    subarray.append(L[j])\n",
        "    # print(subarray,sum(subarray))\n",
        "    d[sum(subarray)] = subarray\n",
        "\n",
        "max_val = (max(d.keys()))\n",
        "for i in d:\n",
        "  if i == max_val:\n",
        "     print(d[i])\n",
        "\n"
      ],
      "metadata": {
        "id": "jnBIIWSf36ZW",
        "colab": {
          "base_uri": "https://localhost:8080/"
        },
        "outputId": "7105c0b6-481a-4984-eefa-f0ca6f90b0f7"
      },
      "execution_count": null,
      "outputs": [
        {
          "output_type": "stream",
          "name": "stdout",
          "text": [
            "[4, 7, -1, 6, -11, 14, 3, -1, -6]\n"
          ]
        }
      ]
    },
    {
      "cell_type": "code",
      "source": [
        "import sys\n",
        "L = [-2,4,7,-1,6,-11,14,3,-1,-6]\n",
        "\n",
        "curr_sum = 0\n",
        "curr_seq = []\n",
        "best_sum = L[0]\n",
        "best_seq =[]\n",
        "\n",
        "for i in L:\n",
        "  if i+curr_sum>i :\n",
        "    curr_sum = curr_sum + i\n",
        "    curr_seq.append(i)\n",
        "  else:\n",
        "    curr_sum = i\n",
        "    curr_seq.clear()\n",
        "    curr_seq.append(i)\n",
        "\n",
        "  if curr_sum > best_sum:\n",
        "    best_sum = curr_sum\n",
        "    best_seq = curr_seq\n",
        "  print(curr_seq,curr_sum)\n",
        "\n",
        "print(best_sum,best_seq)\n",
        "\n"
      ],
      "metadata": {
        "colab": {
          "base_uri": "https://localhost:8080/"
        },
        "id": "znzMPw9xsRsk",
        "outputId": "9c2b0899-c267-4e68-9767-adf231b059c2"
      },
      "execution_count": null,
      "outputs": [
        {
          "output_type": "stream",
          "name": "stdout",
          "text": [
            "[-2] -2\n",
            "[4] 4\n",
            "[4, 7] 11\n",
            "[4, 7, -1] 10\n",
            "[4, 7, -1, 6] 16\n",
            "[4, 7, -1, 6, -11] 5\n",
            "[4, 7, -1, 6, -11, 14] 19\n",
            "[4, 7, -1, 6, -11, 14, 3] 22\n",
            "[4, 7, -1, 6, -11, 14, 3, -1] 21\n",
            "[4, 7, -1, 6, -11, 14, 3, -1, -6] 15\n",
            "22 [4, 7, -1, 6, -11, 14, 3, -1, -6]\n"
          ]
        }
      ]
    },
    {
      "cell_type": "code",
      "source": [
        "import sys\n",
        "-sys.maxsize-1"
      ],
      "metadata": {
        "colab": {
          "base_uri": "https://localhost:8080/"
        },
        "id": "YAqi4jMGuK0V",
        "outputId": "3ad2ddd4-d3d2-4dd1-e516-3f1d1b7b560e"
      },
      "execution_count": null,
      "outputs": [
        {
          "output_type": "execute_result",
          "data": {
            "text/plain": [
              "-9223372036854775808"
            ]
          },
          "metadata": {},
          "execution_count": 20
        }
      ]
    },
    {
      "cell_type": "code",
      "source": [
        "# 11. Sort arrays with items 1 and 0"
      ],
      "metadata": {
        "id": "TEJ4_fAA38pT"
      },
      "execution_count": null,
      "outputs": []
    },
    {
      "cell_type": "code",
      "source": [
        "# 12. Move all -ve numbers to the end"
      ],
      "metadata": {
        "id": "QwxCLiXs3-s9"
      },
      "execution_count": null,
      "outputs": []
    },
    {
      "cell_type": "code",
      "source": [
        "# 13. Maximum Product Subarray"
      ],
      "metadata": {
        "id": "VWa9FDKr7Dyl"
      },
      "execution_count": null,
      "outputs": []
    },
    {
      "cell_type": "code",
      "source": [
        "# 14. Find union of 2 arrays"
      ],
      "metadata": {
        "id": "czP57bDP7H04"
      },
      "execution_count": null,
      "outputs": []
    },
    {
      "cell_type": "code",
      "source": [
        "# 15. Find Pythagorean triplets in an array"
      ],
      "metadata": {
        "id": "alYVlMK9ZKIy"
      },
      "execution_count": null,
      "outputs": []
    }
  ]
}