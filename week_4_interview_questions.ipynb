{
  "cells": [
    {
      "cell_type": "markdown",
      "metadata": {
        "id": "view-in-github",
        "colab_type": "text"
      },
      "source": [
        "<a href=\"https://colab.research.google.com/github/kaynatmozammil/Data-Science-/blob/main/week_4_interview_questions.ipynb\" target=\"_parent\"><img src=\"https://colab.research.google.com/assets/colab-badge.svg\" alt=\"Open In Colab\"/></a>"
      ]
    },
    {
      "cell_type": "code",
      "execution_count": null,
      "metadata": {
        "id": "HCn2UsMwMgrJ"
      },
      "outputs": [],
      "source": [
        "# 1. What do you mean by __name__ == '__main__'"
      ]
    },
    {
      "cell_type": "markdown",
      "metadata": {
        "id": "XymVT19OMyRK"
      },
      "source": [
        "### What is a module?\n",
        "\n",
        "Any file with an extention of .py is called a module in python.\n",
        "\n",
        "Whenever we execute a program it's module name is `__main__` and this name is stored in `__name__` variable"
      ]
    },
    {
      "cell_type": "code",
      "execution_count": null,
      "metadata": {
        "colab": {
          "base_uri": "https://localhost:8080/"
        },
        "id": "Arh7jMSuNLAd",
        "outputId": "83c1d5e0-a772-4ce5-d267-ad4eeb9e18ce"
      },
      "outputs": [
        {
          "name": "stdout",
          "output_type": "stream",
          "text": [
            "hello\n",
            "__main__\n"
          ]
        }
      ],
      "source": [
        "def display():\n",
        "  print('hello')\n",
        "\n",
        "display()\n",
        "print(__name__)"
      ]
    },
    {
      "cell_type": "markdown",
      "metadata": {
        "id": "s7XQDHr2OVb1"
      },
      "source": [
        "### Importing a module\n",
        "\n",
        "- But what is the need to import a module?\n",
        "- How to import a module"
      ]
    },
    {
      "cell_type": "code",
      "execution_count": null,
      "metadata": {
        "colab": {
          "base_uri": "https://localhost:8080/"
        },
        "id": "3ZIP03upNbvX",
        "outputId": "e468fb1c-7f93-493f-ed42-3738fe5641a1"
      },
      "outputs": [
        {
          "name": "stdout",
          "output_type": "stream",
          "text": [
            "Hellow Mozammil\n"
          ]
        }
      ],
      "source": [
        "# import a module\n",
        "import test\n",
        "test.hello('Mozammil')"
      ]
    },
    {
      "cell_type": "code",
      "execution_count": null,
      "metadata": {
        "colab": {
          "base_uri": "https://localhost:8080/"
        },
        "id": "t1AlPWXzOz2U",
        "outputId": "d6ac229c-23ee-4fac-8dc2-c7af6e6a345d"
      },
      "outputs": [
        {
          "name": "stdout",
          "output_type": "stream",
          "text": [
            "Hellow Kaynat\n",
            "8\n"
          ]
        }
      ],
      "source": [
        "# import multiple module -> user defined + builtin\n",
        "import math\n",
        "import test\n",
        "\n",
        "test.hello('Kaynat')\n",
        "print(math.floor(8.56))"
      ]
    },
    {
      "cell_type": "code",
      "execution_count": null,
      "metadata": {
        "id": "jjIQisWRR32M"
      },
      "outputs": [],
      "source": [
        "# show builtin modules\n"
      ]
    },
    {
      "cell_type": "markdown",
      "metadata": {
        "id": "zZqAvC2OR-ls"
      },
      "source": [
        "### Variations of import statement"
      ]
    },
    {
      "cell_type": "code",
      "execution_count": null,
      "metadata": {
        "id": "w39pRArFR51i"
      },
      "outputs": [],
      "source": [
        "# Normal\n",
        "import math\n",
        "import random"
      ]
    },
    {
      "cell_type": "code",
      "execution_count": null,
      "metadata": {
        "id": "B8nroR_dSE_K"
      },
      "outputs": [],
      "source": [
        "# clubbing together\n",
        "import math,random,test"
      ]
    },
    {
      "cell_type": "code",
      "execution_count": null,
      "metadata": {
        "colab": {
          "background_save": true,
          "base_uri": "https://localhost:8080/",
          "height": 223
        },
        "id": "lsTNKjyMSLAB",
        "outputId": "7dd6543f-1a3e-46d9-dac7-92040d7cb5d2"
      },
      "outputs": [
        {
          "ename": "ImportError",
          "evalue": "cannot import name 'hello' from 'test' (/usr/lib/python3.10/test/__init__.py)",
          "output_type": "error",
          "traceback": [
            "\u001b[0;31m---------------------------------------------------------------------------\u001b[0m",
            "\u001b[0;31mImportError\u001b[0m                               Traceback (most recent call last)",
            "\u001b[0;32m<ipython-input-3-cbe7c40736a8>\u001b[0m in \u001b[0;36m<cell line: 3>\u001b[0;34m()\u001b[0m\n\u001b[1;32m      1\u001b[0m \u001b[0;31m# importing specific names from module\u001b[0m\u001b[0;34m\u001b[0m\u001b[0;34m\u001b[0m\u001b[0m\n\u001b[1;32m      2\u001b[0m \u001b[0;32mfrom\u001b[0m \u001b[0mmath\u001b[0m \u001b[0;32mimport\u001b[0m \u001b[0mfactorial\u001b[0m\u001b[0;34m,\u001b[0m\u001b[0mfloor\u001b[0m\u001b[0;34m\u001b[0m\u001b[0;34m\u001b[0m\u001b[0m\n\u001b[0;32m----> 3\u001b[0;31m \u001b[0;32mfrom\u001b[0m \u001b[0mtest\u001b[0m \u001b[0;32mimport\u001b[0m \u001b[0mhello\u001b[0m\u001b[0;34m\u001b[0m\u001b[0;34m\u001b[0m\u001b[0m\n\u001b[0m\u001b[1;32m      4\u001b[0m \u001b[0;34m\u001b[0m\u001b[0m\n\u001b[1;32m      5\u001b[0m \u001b[0mprint\u001b[0m\u001b[0;34m(\u001b[0m\u001b[0mfactorial\u001b[0m\u001b[0;34m(\u001b[0m\u001b[0;36m5\u001b[0m\u001b[0;34m)\u001b[0m\u001b[0;34m)\u001b[0m\u001b[0;34m\u001b[0m\u001b[0;34m\u001b[0m\u001b[0m\n",
            "\u001b[0;31mImportError\u001b[0m: cannot import name 'hello' from 'test' (/usr/lib/python3.10/test/__init__.py)",
            "",
            "\u001b[0;31m---------------------------------------------------------------------------\u001b[0;32m\nNOTE: If your import is failing due to a missing package, you can\nmanually install dependencies using either !pip or !apt.\n\nTo view examples of installing some common dependencies, click the\n\"Open Examples\" button below.\n\u001b[0;31m---------------------------------------------------------------------------\u001b[0m\n"
          ]
        }
      ],
      "source": [
        "# importing specific names from module\n",
        "from math import factorial,floor\n",
        "from test import hello\n",
        "\n",
        "print(factorial(5))\n",
        "ceil(4.8)"
      ]
    },
    {
      "cell_type": "code",
      "execution_count": null,
      "metadata": {
        "colab": {
          "base_uri": "https://localhost:8080/"
        },
        "id": "6NVJQwHQSX4P",
        "outputId": "ac136cf9-4e0b-4039-fc8c-ad4563fd045b"
      },
      "outputs": [
        {
          "data": {
            "text/plain": [
              "120"
            ]
          },
          "execution_count": 7,
          "metadata": {},
          "output_type": "execute_result"
        }
      ],
      "source": [
        "# renaming modules\n",
        "import math as m\n",
        "import numpy as np\n",
        "import pandas as pd\n",
        "import matplotlib.pyplot as plt\n",
        "\n",
        "\n",
        "m.factorial(5)"
      ]
    },
    {
      "cell_type": "code",
      "execution_count": null,
      "metadata": {
        "colab": {
          "base_uri": "https://localhost:8080/"
        },
        "id": "BFPwon_SSbz_",
        "outputId": "8f5f9b9a-fdaa-428e-a84a-fbc0782b2a30"
      },
      "outputs": [
        {
          "data": {
            "text/plain": [
              "120"
            ]
          },
          "execution_count": 8,
          "metadata": {},
          "output_type": "execute_result"
        }
      ],
      "source": [
        "from math import factorial as f\n",
        "\n",
        "f(5)\n"
      ]
    },
    {
      "cell_type": "markdown",
      "metadata": {
        "id": "Wtoy82ePS8Yh"
      },
      "source": [
        "### Order of execution of a module"
      ]
    },
    {
      "cell_type": "code",
      "execution_count": null,
      "metadata": {
        "colab": {
          "base_uri": "https://localhost:8080/"
        },
        "id": "YEG0zgRCStde",
        "outputId": "d559a13a-2f79-403d-ea5e-17709a51dc0f"
      },
      "outputs": [
        {
          "name": "stdout",
          "output_type": "stream",
          "text": [
            "/content\n",
            "/env/python\n",
            "/usr/lib/python38.zip\n",
            "/usr/lib/python3.8\n",
            "/usr/lib/python3.8/lib-dynload\n",
            "\n",
            "/usr/local/lib/python3.8/dist-packages\n",
            "/usr/lib/python3/dist-packages\n",
            "/usr/local/lib/python3.8/dist-packages/IPython/extensions\n",
            "/root/.ipython\n"
          ]
        }
      ],
      "source": [
        "import sys\n",
        "for p in sys.path:\n",
        "  print(p)"
      ]
    },
    {
      "cell_type": "markdown",
      "metadata": {
        "id": "QBj3yM3ySWGE"
      },
      "source": [
        "### if `__name__` == `__main__`"
      ]
    },
    {
      "cell_type": "code",
      "execution_count": null,
      "metadata": {
        "id": "-68vYDYrTiyJ"
      },
      "outputs": [],
      "source": []
    },
    {
      "cell_type": "markdown",
      "metadata": {
        "id": "S81yyQIpVFZI"
      },
      "source": [
        "### What are packages in Python\n",
        "\n",
        "A package in python is a directory containing similar sub packages and modules.\n",
        "\n",
        "- A particular directory is treated as package if it has `__init__.py` file in it.\n",
        "- The `__init__.py` file may be empty or contain some initialization code related to the package"
      ]
    },
    {
      "cell_type": "code",
      "execution_count": null,
      "metadata": {
        "id": "0TPGU8kHVgV-"
      },
      "outputs": [],
      "source": []
    },
    {
      "cell_type": "markdown",
      "metadata": {
        "id": "8zaWkj4wV2mK"
      },
      "source": [
        "### What are 3rd party packages?\n",
        "\n",
        "- The python community creates packages and make it available for other programmers\n",
        "- PyPI -> Python Package Index\n",
        "- You can upload your own package\n",
        "- You can also install packages from PyPI and install using pip\n",
        "- pip is a package manager utility\n",
        "- it is automatically installed with python\n",
        "\n"
      ]
    },
    {
      "cell_type": "code",
      "execution_count": null,
      "metadata": {
        "id": "b-Cm7BNVV42v"
      },
      "outputs": [],
      "source": []
    }
  ],
  "metadata": {
    "colab": {
      "provenance": [],
      "include_colab_link": true
    },
    "kernelspec": {
      "display_name": "Python 3",
      "name": "python3"
    },
    "language_info": {
      "name": "python"
    }
  },
  "nbformat": 4,
  "nbformat_minor": 0
}