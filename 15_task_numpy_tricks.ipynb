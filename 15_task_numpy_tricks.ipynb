{
 "cells": [
  {
   "cell_type": "markdown",
   "metadata": {
    "id": "J88qfqQEk_sT"
   },
   "source": [
    "###`Q-1:` Create a random 3x4 matrix with value between 0-100. And perform below tasks\n",
    "\n",
    "    i. Sort this matrix. np.sort()\n",
    "    ii. Sort this matrix based on values in 2nd column.\n",
    "    iii. Sort this matrix based on max value in each row.\n",
    "    iv. Sort based on elements value.\n"
   ]
  },
  {
   "cell_type": "code",
   "execution_count": 2,
   "metadata": {},
   "outputs": [],
   "source": [
    "import numpy as np"
   ]
  },
  {
   "cell_type": "markdown",
   "metadata": {
    "id": "xpOwOdhqlE9R"
   },
   "source": [
    "See examples:\n",
    "```\n",
    "arr =\n",
    "    [[92 90 74]\n",
    "    [ 6 63 93]\n",
    "    [15 93 96]\n",
    "    [70 60 48]]\n",
    "```\n",
    "```\n",
    "i. np.sort\n",
    "[[74 90 92]\n",
    " [ 6 63 93]\n",
    " [15 93 96]\n",
    " [48 60 70]]\n",
    "\n",
    "ii. based on 2nd column\n",
    "[[70 60 48]\n",
    " [ 6 63 93]\n",
    " [92 90 74]\n",
    " [15 93 96]]\n",
    "\n",
    "iii. based on row max- ascending\n",
    "[[15 93 96]\n",
    " [ 6 63 93]\n",
    " [92 90 74]\n",
    " [70 60 48]]\n",
    "\n",
    "iv. based on elements value\n",
    "[[ 6 15 48]\n",
    " [60 63 70]\n",
    " [74 90 92]\n",
    " [93 93 96]]\n",
    "\n",
    "```"
   ]
  },
  {
   "cell_type": "code",
   "execution_count": 3,
   "metadata": {
    "id": "Auy-guUwlALv"
   },
   "outputs": [
    {
     "name": "stdout",
     "output_type": "stream",
     "text": [
      "[[14 35  7]\n",
      " [33 62 69]\n",
      " [73 14 35]\n",
      " [88 44 80]]\n",
      "[[ 7 14 35]\n",
      " [33 62 69]\n",
      " [14 35 73]\n",
      " [44 80 88]]\n"
     ]
    }
   ],
   "source": [
    "# code here\n",
    "arr = np.random.randint(0,100,(4,3))\n",
    "print(arr)\n",
    "#1\n",
    "print(np.sort(arr))\n",
    "#2\n"
   ]
  },
  {
   "cell_type": "code",
   "execution_count": 6,
   "metadata": {},
   "outputs": [
    {
     "name": "stdout",
     "output_type": "stream",
     "text": [
      "[35 62 14 44]\n",
      "[2 0 3 1]\n",
      "[[73 14 35]\n",
      " [14 35  7]\n",
      " [88 44 80]\n",
      " [33 62 69]]\n"
     ]
    }
   ],
   "source": [
    "#2\n",
    "print(arr[:,1])\n",
    "print(arr[:,1].argsort())\n",
    "print(arr[arr[:,1].argsort()])"
   ]
  },
  {
   "cell_type": "code",
   "execution_count": 8,
   "metadata": {},
   "outputs": [
    {
     "name": "stdout",
     "output_type": "stream",
     "text": [
      "[array([14, 35,  7]), array([33, 62, 69]), array([73, 14, 35]), array([88, 44, 80])]\n",
      "[[14 35  7]\n",
      " [33 62 69]\n",
      " [73 14 35]\n",
      " [88 44 80]]\n"
     ]
    }
   ],
   "source": [
    "#3\n",
    "print(sorted(arr,key=lambda x:max(x)))\n",
    "print(np.array(sorted(arr,key=lambda x:max(x))))"
   ]
  },
  {
   "cell_type": "code",
   "execution_count": 10,
   "metadata": {},
   "outputs": [
    {
     "name": "stdout",
     "output_type": "stream",
     "text": [
      "[[ 7 14 14]\n",
      " [33 35 35]\n",
      " [44 62 69]\n",
      " [73 80 88]]\n"
     ]
    }
   ],
   "source": [
    "print(np.sort(arr,axis=None).reshape(4,3))"
   ]
  },
  {
   "cell_type": "markdown",
   "metadata": {
    "id": "Jx_I3gx9lBay"
   },
   "source": [
    "###`Q-2:` There is an array of marks of 5 students in 4 subjects. Further you are asked to perform below task.\n",
    "    i. Add marks every student of an extra subject in the same array.\n",
    "    ii. Add two new students marks in respective 5 subjects.(one subject added in above task)\n",
    "    iii. Add extra column with sum of all subjects(5-subjects) marks\n",
    "    iv. Sort the array(non-ascending order) on total marks column--one added in above task. Show top 2 rows.\n",
    "\n",
    "Note: Change dimension of arrays during concatenation or appending if required."
   ]
  },
  {
   "cell_type": "markdown",
   "metadata": {
    "id": "lXF-CE6ylNIw"
   },
   "source": [
    "Given Array-\n",
    "```\n",
    "marks = [[13, 10,  9, 33],\n",
    "       [63, 46, 90, 42],\n",
    "       [39, 76, 13, 29],\n",
    "       [82,  9, 29, 78],\n",
    "       [67, 61, 59, 36]]\n",
    "\n",
    "extra_subject = [41, 87, 72, 36, 92]\n",
    "#Two extra students record-\n",
    "rec1 = [77, 83, 98, 95, 89]\n",
    "rec2 = [92, 71, 52, 61, 53]\n",
    "```"
   ]
  },
  {
   "cell_type": "code",
   "execution_count": 11,
   "metadata": {
    "id": "7YKsWO2olMkq"
   },
   "outputs": [
    {
     "name": "stdout",
     "output_type": "stream",
     "text": [
      "[[13 10  9 33]\n",
      " [63 46 90 42]\n",
      " [39 76 13 29]\n",
      " [82  9 29 78]\n",
      " [67 61 59 36]]\n",
      "[[41]\n",
      " [87]\n",
      " [72]\n",
      " [36]\n",
      " [92]]\n",
      "[[13 10  9 33 41]\n",
      " [63 46 90 42 87]\n",
      " [39 76 13 29 72]\n",
      " [82  9 29 78 36]\n",
      " [67 61 59 36 92]]\n",
      "[[13 10  9 33 41]\n",
      " [63 46 90 42 87]\n",
      " [39 76 13 29 72]\n",
      " [82  9 29 78 36]\n",
      " [67 61 59 36 92]]\n",
      "[[13 10  9 33 41]\n",
      " [63 46 90 42 87]\n",
      " [39 76 13 29 72]\n",
      " [82  9 29 78 36]\n",
      " [67 61 59 36 92]\n",
      " [77 83 98 95 89]\n",
      " [92 71 52 61 53]]\n",
      "[[13 10  9 33 41]\n",
      " [63 46 90 42 87]\n",
      " [39 76 13 29 72]\n",
      " [82  9 29 78 36]\n",
      " [67 61 59 36 92]\n",
      " [77 83 98 95 89]\n",
      " [92 71 52 61 53]]\n",
      "[[106]\n",
      " [328]\n",
      " [229]\n",
      " [234]\n",
      " [315]\n",
      " [442]\n",
      " [329]]\n",
      "[[ 13  10   9  33  41 106]\n",
      " [ 63  46  90  42  87 328]\n",
      " [ 39  76  13  29  72 229]\n",
      " [ 82   9  29  78  36 234]\n",
      " [ 67  61  59  36  92 315]\n",
      " [ 77  83  98  95  89 442]\n",
      " [ 92  71  52  61  53 329]]\n",
      "[[ 77  83  98  95  89 442]\n",
      " [ 92  71  52  61  53 329]\n",
      " [ 63  46  90  42  87 328]\n",
      " [ 67  61  59  36  92 315]\n",
      " [ 82   9  29  78  36 234]\n",
      " [ 39  76  13  29  72 229]\n",
      " [ 13  10   9  33  41 106]]\n"
     ]
    }
   ],
   "source": [
    "# code here\n",
    "marks = np.array([[13, 10,  9, 33],\n",
    "       [63, 46, 90, 42],\n",
    "       [39, 76, 13, 29],\n",
    "       [82,  9, 29, 78],\n",
    "       [67, 61, 59, 36]])\n",
    "print(marks)\n",
    "extra_subject = np.array([41, 87, 72, 36, 92]).reshape(-1,1)\n",
    "print(extra_subject)\n",
    "print(np.concatenate([marks,extra_subject],axis=1))\n",
    "marks = np.concatenate([marks,extra_subject],axis=1)\n",
    "print(marks)\n",
    "rec1 =np.array( [77, 83, 98, 95, 89]).reshape(1,-1)\n",
    "rec2 = np.array([92, 71, 52, 61, 53]).reshape(1,-1)\n",
    "print(np.concatenate([marks,rec1,rec2],axis=0))\n",
    "marks = np.concatenate([marks,rec1,rec2],axis=0)\n",
    "print(marks)\n",
    "sum_of_stud = marks.sum(axis=1,keepdims=True)\n",
    "print(sum_of_stud)\n",
    "marks = np.concatenate([marks,sum_of_stud],axis=1)\n",
    "print(marks)\n",
    "print(np.array(sorted(marks, key= lambda x: x[-1],reverse=True)))"
   ]
  },
  {
   "cell_type": "markdown",
   "metadata": {
    "id": "VmOyK_8klRqR"
   },
   "source": [
    "###`Q-3:` Find unique arrays from a 2D array column wise and row wise.\n",
    "```\n",
    "arr = np.array([[1,2,3,3,1,1],\n",
    "                [0,9,1,2,8,8],\n",
    "                [1,2,3,8,8,8],\n",
    "                [1,2,3,3,1,1]])\n",
    "```\n",
    "Expected Result-\n",
    "```\n",
    "Row Wise\n",
    "[[0 9 1 2 8 8]\n",
    " [1 2 3 3 1 1]\n",
    " [1 2 3 8 8 8]]\n",
    "\n",
    "Col Wise\n",
    "[[1 1 2 3 3]\n",
    " [0 8 9 1 2]\n",
    " [1 8 2 3 8]\n",
    " [1 1 2 3 3]]\n",
    "```"
   ]
  },
  {
   "cell_type": "code",
   "execution_count": 13,
   "metadata": {
    "id": "LJl10VQrlU5q"
   },
   "outputs": [
    {
     "name": "stdout",
     "output_type": "stream",
     "text": [
      "[[1 2 3 3 1 1]\n",
      " [0 9 1 2 8 8]\n",
      " [1 2 3 8 8 8]\n",
      " [1 2 3 3 1 1]]\n",
      "[[0 9 1 2 8 8]\n",
      " [1 2 3 3 1 1]\n",
      " [1 2 3 8 8 8]]\n",
      "[[1 1 2 3 3]\n",
      " [0 8 9 1 2]\n",
      " [1 8 2 3 8]\n",
      " [1 1 2 3 3]]\n"
     ]
    }
   ],
   "source": [
    "# code here\n",
    "arr = np.array([[1,2,3,3,1,1],\n",
    "                [0,9,1,2,8,8],\n",
    "                [1,2,3,8,8,8],\n",
    "                [1,2,3,3,1,1]])\n",
    "print(arr)\n",
    "print(np.unique(arr,axis=0))\n",
    "print(np.unique(arr,axis=1))"
   ]
  },
  {
   "cell_type": "markdown",
   "metadata": {
    "id": "RaXwVkywlWY2"
   },
   "source": [
    "###`Q-4:` Flip given 2-D array along both axes at the same time."
   ]
  },
  {
   "cell_type": "code",
   "execution_count": 14,
   "metadata": {
    "id": "mN7-4G8Kleeq"
   },
   "outputs": [
    {
     "name": "stdout",
     "output_type": "stream",
     "text": [
      "[[10 19 14 -2  8 -1]\n",
      " [ 0  6  1  2 11  7]\n",
      " [ 1  2  3  3  1  1]\n",
      " [ 1  2  3  8  8  8]\n",
      " [ 0  9  1  2  8  8]\n",
      " [ 1  2  3  3  1  1]]\n",
      "[[ 1  1  3  3  2  1]\n",
      " [ 8  8  2  1  9  0]\n",
      " [ 8  8  8  3  2  1]\n",
      " [ 1  1  3  3  2  1]\n",
      " [ 7 11  2  1  6  0]\n",
      " [-1  8 -2 14 19 10]]\n",
      "[[-1  8 -2 14 19 10]\n",
      " [ 7 11  2  1  6  0]\n",
      " [ 1  1  3  3  2  1]\n",
      " [ 8  8  8  3  2  1]\n",
      " [ 8  8  2  1  9  0]\n",
      " [ 1  1  3  3  2  1]]\n"
     ]
    }
   ],
   "source": [
    "# code here\n",
    "arr = np.array([[1,2,3,3,1,1],\n",
    "                [0,9,1,2,8,8],\n",
    "                [1,2,3,8,8,8],\n",
    "                [1,2,3,3,1,1],\n",
    "               [0,6,1,2,11,7],\n",
    "               [10,19,14,-2,8,-1]])\n",
    "print(np.flip(arr,axis=0))\n",
    "print(np.flip(arr,axis=1))\n",
    "print(np.flip(arr,axis=[0,1]))"
   ]
  },
  {
   "cell_type": "markdown",
   "metadata": {
    "id": "X0S7BUNTlfoq"
   },
   "source": [
    "### `Q-5:` Get row numbers of NumPy array having element larger than X.\n",
    "```\n",
    "arr = [[1,2,3,4,5],\n",
    "      [10,-3,30,4,5],\n",
    "      [3,2,5,-4,5],\n",
    "      [9,7,3,6,5]]\n",
    "\n",
    "X = 6\n",
    "```"
   ]
  },
  {
   "cell_type": "code",
   "execution_count": 18,
   "metadata": {
    "id": "bi8jRmWhlkBU"
   },
   "outputs": [
    {
     "data": {
      "text/plain": [
       "(array([1, 3], dtype=int64),)"
      ]
     },
     "execution_count": 18,
     "metadata": {},
     "output_type": "execute_result"
    }
   ],
   "source": [
    "# code here\n",
    "arr = np.array([[1,2,3,4,5],\n",
    "      [10,-3,30,4,5],\n",
    "      [3,2,5,-4,5],\n",
    "      [9,7,3,6,5]])\n",
    "\n",
    "X = 6\n",
    "\n",
    "# arr> X\n",
    "np.where(np.any(arr>X ,axis =1))\n",
    "# np.any(\n",
    "#     [[True, False],\n",
    "#     [True, False],\n",
    "#     [True, False]],\n",
    "#     # axis = 0\n",
    "# )"
   ]
  },
  {
   "cell_type": "markdown",
   "metadata": {
    "id": "DSCQMo4mlnDG"
   },
   "source": [
    "### `Q-6:` How to convert an array of arrays into a flat 1d array?\n"
   ]
  },
  {
   "cell_type": "code",
   "execution_count": 19,
   "metadata": {
    "id": "QZhSkUT2lsJW"
   },
   "outputs": [],
   "source": [
    "# These arrays are given.\n",
    "arr1 = np.arange(3)\n",
    "arr2 = np.arange(3,7)\n",
    "arr3 = np.arange(7,10)"
   ]
  },
  {
   "cell_type": "code",
   "execution_count": 20,
   "metadata": {
    "id": "f42OXNrFls0I"
   },
   "outputs": [
    {
     "data": {
      "text/plain": [
       "array([0, 1, 2, 3, 4, 5, 6, 7, 8, 9])"
      ]
     },
     "execution_count": 20,
     "metadata": {},
     "output_type": "execute_result"
    }
   ],
   "source": [
    "# code here\n",
    "np.concatenate([arr1,arr2,arr3])"
   ]
  },
  {
   "cell_type": "markdown",
   "metadata": {
    "id": "A1J4oOVCluqO"
   },
   "source": [
    "### `Q-7:` You are given a array. You have to find the minimum and maximum array element and remove that from the array.\n",
    "\n",
    "```python\n",
    "import numpy as np\n",
    "\n",
    "np.random.seed(400)\n",
    "arr = np.random.randint(100, 1000, 200).reshape((1, 200))\n",
    "```"
   ]
  },
  {
   "cell_type": "code",
   "execution_count": 24,
   "metadata": {
    "id": "c6kmgtUJlybZ"
   },
   "outputs": [
    {
     "name": "stdout",
     "output_type": "stream",
     "text": [
      "[[448 563 418 240 507 362 345 236 719 291 298 639 458 387 262 613 267 882\n",
      "  181 425 790 635 889 818 872 967 277 470 336 920 917 295 557 830 506 385\n",
      "  353 975 592 997 137 340 222 215 472 459 617 649 935 956 914 932 645 952\n",
      "  921 490 527 972 278 307 840 958 246 449 251 957 103 627 920 824 356 825\n",
      "  173 323 372 960 710 464 244 782 763 635 436 774 171 469 178 458 624 211\n",
      "  771 270 308 231 952 514 699 702 433 900 373 318 998 265 503 320 230 324\n",
      "  922 967 620 743 527 117 566 804 123 946 587 227 853 757 944 328 855 930\n",
      "  325 729 426 514 296 879 575 936 705 209 191 743 510 513 628 559 658 528\n",
      "  395 525 922 136 496 225 895 975 263 908 420 711 800 976 786 235 930 859\n",
      "  618 226 695 460 218 483 490 803 621 453 193 607 677 637 728 724 534 748\n",
      "  291 194 761 875 687 569 228 482 781 554 654 739 885 197 266 228 892 207\n",
      "  883 588]]\n",
      "998 103\n",
      "997 117\n"
     ]
    }
   ],
   "source": [
    "# code here\n",
    "np.random.seed(400)\n",
    "arr = np.random.randint(100, 1000, 200).reshape((1, 200))\n",
    "print(arr)\n",
    "max_element = arr.argmax()\n",
    "min_element = arr.argmin()\n",
    "print(arr.max(),arr.min())\n",
    "arr = np.delete(arr,max_element,axis = 1)\n",
    "arr = np.delete(arr,min_element,axis = 1)\n",
    "\n",
    "print(arr.max(),arr.min())"
   ]
  },
  {
   "cell_type": "markdown",
   "metadata": {
    "id": "0dHN1sdnl0Jy"
   },
   "source": [
    "### `Q-8:` You are given an arrays. You have to limit this array's elements between 100 to 200. $arr ∈ [100, 700]$. So replace those values accordingly with the minimum and maximum value. Then sort the array and perform the cumulative sum of that array."
   ]
  },
  {
   "cell_type": "code",
   "execution_count": 27,
   "metadata": {
    "id": "a3YF_E-Hlza7"
   },
   "outputs": [
    {
     "data": {
      "text/plain": [
       "array([  100,   200,   300,   400,   500,   600,   700,   800,   900,\n",
       "        1000,  1100,  1200,  1300,  1400,  1500,  1600,  1700,  1800,\n",
       "        1900,  2000,  2100,  2205,  2320,  2436,  2553,  2677,  2811,\n",
       "        2947,  3094,  3242,  3395,  3552,  3712,  3873,  4044,  4221,\n",
       "        4399,  4592,  4786,  4986,  5186,  5386,  5586,  5786,  5986,\n",
       "        6186,  6386,  6586,  6786,  6986,  7186,  7386,  7586,  7786,\n",
       "        7986,  8186,  8386,  8586,  8786,  8986,  9186,  9386,  9586,\n",
       "        9786,  9986, 10186, 10386, 10586, 10786, 10986, 11186, 11386,\n",
       "       11586, 11786, 11986, 12186, 12386, 12586, 12786, 12986, 13186,\n",
       "       13386, 13586, 13786, 13986, 14186, 14386, 14586, 14786, 14986,\n",
       "       15186, 15386, 15586, 15786, 15986, 16186, 16386, 16586, 16786,\n",
       "       16986, 17186, 17386, 17586, 17786, 17986, 18186, 18386, 18586,\n",
       "       18786, 18986, 19186, 19386, 19586, 19786, 19986, 20186, 20386,\n",
       "       20586, 20786, 20986, 21186, 21386, 21586, 21786, 21986, 22186,\n",
       "       22386, 22586, 22786, 22986, 23186, 23386, 23586, 23786, 23986,\n",
       "       24186, 24386, 24586, 24786, 24986, 25186, 25386, 25586, 25786,\n",
       "       25986, 26186, 26386, 26586, 26786, 26986, 27186, 27386, 27586,\n",
       "       27786, 27986, 28186, 28386, 28586, 28786, 28986, 29186, 29386,\n",
       "       29586, 29786, 29986, 30186, 30386, 30586, 30786, 30986, 31186,\n",
       "       31386, 31586, 31786, 31986, 32186, 32386, 32586, 32786, 32986,\n",
       "       33186, 33386, 33586, 33786, 33986, 34186, 34386, 34586, 34786,\n",
       "       34986, 35186, 35386, 35586, 35786, 35986, 36186, 36386, 36586,\n",
       "       36786, 36986, 37186, 37386, 37586, 37786, 37986, 38186, 38386,\n",
       "       38586, 38786, 38986, 39186, 39386, 39586, 39786, 39986, 40186,\n",
       "       40386, 40586, 40786, 40986, 41186, 41386, 41586, 41786, 41986,\n",
       "       42186, 42386, 42586, 42786, 42986, 43186, 43386, 43586, 43786,\n",
       "       43986, 44186, 44386, 44586, 44786, 44986, 45186, 45386, 45586,\n",
       "       45786, 45986, 46186, 46386, 46586, 46786, 46986, 47186, 47386,\n",
       "       47586, 47786, 47986, 48186, 48386, 48586, 48786, 48986, 49186,\n",
       "       49386, 49586, 49786, 49986, 50186, 50386, 50586, 50786, 50986,\n",
       "       51186, 51386, 51586, 51786, 51986, 52186, 52386, 52586, 52786,\n",
       "       52986, 53186, 53386, 53586, 53786, 53986, 54186, 54386, 54586,\n",
       "       54786, 54986, 55186, 55386, 55586, 55786, 55986, 56186, 56386,\n",
       "       56586, 56786, 56986, 57186, 57386, 57586, 57786, 57986, 58186,\n",
       "       58386, 58586, 58786, 58986, 59186, 59386, 59586, 59786, 59986,\n",
       "       60186, 60386, 60586, 60786, 60986, 61186, 61386, 61586, 61786,\n",
       "       61986, 62186, 62386, 62586, 62786, 62986, 63186, 63386, 63586,\n",
       "       63786, 63986, 64186, 64386, 64586, 64786, 64986, 65186, 65386,\n",
       "       65586, 65786, 65986, 66186, 66386, 66586, 66786, 66986, 67186,\n",
       "       67386, 67586, 67786, 67986, 68186, 68386, 68586, 68786, 68986,\n",
       "       69186, 69386, 69586, 69786, 69986, 70186, 70386, 70586, 70786,\n",
       "       70986, 71186, 71386, 71586, 71786, 71986, 72186, 72386, 72586,\n",
       "       72786, 72986, 73186, 73386, 73586, 73786, 73986, 74186, 74386,\n",
       "       74586, 74786, 74986, 75186, 75386, 75586, 75786, 75986, 76186,\n",
       "       76386, 76586, 76786, 76986, 77186, 77386, 77586, 77786, 77986,\n",
       "       78186, 78386, 78586, 78786, 78986, 79186, 79386, 79586, 79786,\n",
       "       79986, 80186, 80386, 80586, 80786, 80986, 81186, 81386, 81586,\n",
       "       81786, 81986, 82186, 82386, 82586, 82786, 82986, 83186, 83386,\n",
       "       83586, 83786, 83986, 84186, 84386, 84586, 84786, 84986, 85186,\n",
       "       85386, 85586, 85786, 85986, 86186, 86386, 86586, 86786, 86986,\n",
       "       87186, 87386, 87586, 87786, 87986, 88186, 88386, 88586, 88786,\n",
       "       88986, 89186, 89386, 89586, 89786, 89986, 90186, 90386, 90586,\n",
       "       90786, 90986, 91186, 91386, 91586, 91786, 91986, 92186, 92386,\n",
       "       92586, 92786, 92986, 93186, 93386, 93586, 93786, 93986, 94186,\n",
       "       94386, 94586, 94786, 94986, 95186, 95386, 95586, 95786, 95986,\n",
       "       96186, 96386, 96586, 96786, 96986])"
      ]
     },
     "execution_count": 27,
     "metadata": {},
     "output_type": "execute_result"
    }
   ],
   "source": [
    "# code here\n",
    "arr = np.random.randint(0,2000,500)\n",
    "np.cumsum(np.sort(np.clip(arr,100,200)))\n"
   ]
  },
  {
   "cell_type": "markdown",
   "metadata": {
    "id": "cXj90Susl4-I"
   },
   "source": [
    "### `Q-9:` You are given a array ($arr ∈ [0, 1]$). First you have round off the elements upto 3 decimal places and compare that\n",
    "- 0th percentile == minimum value of the array\n",
    "- 100th percentile == maximum value of the array\n",
    "- also find the difference betwen 51th percenile and 50th percentile values"
   ]
  },
  {
   "cell_type": "code",
   "execution_count": 33,
   "metadata": {
    "id": "SgBEHodgl7Lo"
   },
   "outputs": [
    {
     "name": "stdout",
     "output_type": "stream",
     "text": [
      "[0.092 0.244 0.756 0.18  0.276 0.127 0.9   0.343 0.217 0.529 0.044 0.625\n",
      " 0.704 0.77  0.605 0.831 0.138 0.068 0.311 0.831 0.616 0.177 0.277 0.618\n",
      " 0.281 0.586 0.689 0.477 0.738 0.106 0.331 0.801 0.566 0.911 0.988 0.347\n",
      " 0.154 0.143 0.181 0.75  0.469 0.7   0.18  0.375 0.996 0.511 0.855 0.994\n",
      " 0.516 0.713 0.485 0.957 0.953 0.511 0.365 0.007 0.795 0.185 0.346 0.862\n",
      " 0.503 0.421 0.317 0.315 0.206 0.34  0.37  0.419 0.362 0.609 0.423 0.536\n",
      " 0.178 0.548 0.306 0.078 0.915 0.837 0.673 0.814 0.251 0.008 0.881 0.83\n",
      " 0.053 0.316 0.208 0.452 0.168 0.279 0.016 0.12  0.782 0.424 0.374 0.684\n",
      " 0.102 0.529 0.701 0.816]\n",
      "0th percentile == minimum value of the array: True\n",
      "100th percentile == maximum value of the array: True\n",
      "also find the difference betwen 51th percenile and 50th percentile values:  0.022330000000000017\n"
     ]
    }
   ],
   "source": [
    "# code here\n",
    "arr = np.random.random(100)\n",
    "arr  = np.around(arr,decimals=3)\n",
    "print(arr)\n",
    "print(\"0th percentile == minimum value of the array:\",(np.percentile(arr,0)==arr.min()))\n",
    "print(\"100th percentile == maximum value of the array:\",(np.percentile(arr,0)==arr.min()))\n",
    "print(\"also find the difference betwen 51th percenile and 50th percentile values: \",(np.percentile(arr,51)-np.percentile(arr,50)))"
   ]
  }
 ],
 "metadata": {
  "colab": {
   "provenance": []
  },
  "kernelspec": {
   "display_name": "Python 3 (ipykernel)",
   "language": "python",
   "name": "python3"
  },
  "language_info": {
   "codemirror_mode": {
    "name": "ipython",
    "version": 3
   },
   "file_extension": ".py",
   "mimetype": "text/x-python",
   "name": "python",
   "nbconvert_exporter": "python",
   "pygments_lexer": "ipython3",
   "version": "3.11.7"
  }
 },
 "nbformat": 4,
 "nbformat_minor": 4
}
