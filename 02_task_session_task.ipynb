{
  "cells": [
    {
      "cell_type": "markdown",
      "metadata": {
        "id": "view-in-github",
        "colab_type": "text"
      },
      "source": [
        "<a href=\"https://colab.research.google.com/github/kaynatmozammil/Data-Science-/blob/main/02_task_session_task.ipynb\" target=\"_parent\"><img src=\"https://colab.research.google.com/assets/colab-badge.svg\" alt=\"Open In Colab\"/></a>"
      ]
    },
    {
      "cell_type": "markdown",
      "metadata": {
        "id": "w6RlOAXV2PWh"
      },
      "source": [
        "### `Problem 1`: Write a program that will give you in hand monthly salary after deduction on CTC - HRA(10%), DA(5%), PF(3%) and taxes deduction as below:\n",
        "\n",
        "> Salary(Lakhs) : Tax(%)\n",
        "\n",
        "*   Below 5 : 0%\n",
        "*   5-10 : 10%\n",
        "*   10-20 : 20%\n",
        "*   aboove 20 : 30%"
      ]
    },
    {
      "cell_type": "code",
      "execution_count": null,
      "metadata": {
        "colab": {
          "base_uri": "https://localhost:8080/"
        },
        "id": "7tMHvKYO2etI",
        "outputId": "1fb7489f-c28c-41bf-c970-abb8ce79b8ef"
      },
      "outputs": [
        {
          "name": "stdout",
          "output_type": "stream",
          "text": [
            "Enter CTC salary in lakh :1200000\n",
            "Monthly salary = 62000.0\n"
          ]
        }
      ],
      "source": [
        "# Write code here\n",
        "\n",
        "ctc = float(input(\"Enter CTC salary in lakh :\"))\n",
        "if ctc<500000:\n",
        "  total_deduction = ctc*0.1+ctc*0.05+ctc*0.03+ctc*0\n",
        "  monthly_salary=(ctc-total_deduction)/12\n",
        "  print(\"Monthly salary =\",monthly_salary)\n",
        "elif 500000<=ctc<1000000:\n",
        "  total_deduction = ctc*0.1+ctc*0.05+ctc*0.03+ctc*0.1\n",
        "  monthly_salary=(ctc-total_deduction)/12\n",
        "  print(\"Monthly salary =\",monthly_salary)\n",
        "elif 1000000<=ctc<2000000:\n",
        "  total_deduction = ctc*0.1+ctc*0.05+ctc*0.03+ctc*0.2\n",
        "  monthly_salary=(ctc-total_deduction)/12\n",
        "  print(\"Monthly salary =\",monthly_salary)\n",
        "elif ctc>2000000:\n",
        "  total_deduction = ctc*0.1+ctc*0.05+ctc*0.03+ctc*0.3\n",
        "  monthly_salary=(ctc-total_deduction)/12\n",
        "  print(\"Monthly salary =\",monthly_salary)"
      ]
    },
    {
      "cell_type": "code",
      "execution_count": null,
      "metadata": {
        "colab": {
          "base_uri": "https://localhost:8080/"
        },
        "id": "0AcHOqSIEMAq",
        "outputId": "745a5935-ab1d-4b78-adce-339a5a99f60c"
      },
      "outputs": [
        {
          "name": "stdout",
          "output_type": "stream",
          "text": [
            "Enter your CTC (in Lakhs): 5\n",
            "Your monthly salary after deductions is: Rs 21666.67\n"
          ]
        }
      ],
      "source": [
        "def calculate_monthly_salary(ctc):\n",
        "    # Deductions\n",
        "    hra_deduction = 0.1 * ctc\n",
        "    da_deduction = 0.05 * ctc\n",
        "    pf_deduction = 0.03 * ctc\n",
        "\n",
        "    # Tax deduction based on salary range\n",
        "    if ctc < 5:\n",
        "        tax_deduction = 0\n",
        "    elif 5 <= ctc < 10:\n",
        "        tax_deduction = 0.1 * ctc\n",
        "    elif 10 <= ctc < 20:\n",
        "        tax_deduction = 0.2 * ctc\n",
        "    else:\n",
        "        tax_deduction = 0.3 * ctc\n",
        "\n",
        "    # Total deductions\n",
        "    total_deduction = hra_deduction + da_deduction + pf_deduction + tax_deduction\n",
        "\n",
        "    # Monthly salary after deductions\n",
        "    monthly_salary = (ctc - total_deduction) / 12\n",
        "\n",
        "    return monthly_salary\n",
        "\n",
        "# Input CTC in Lakhs\n",
        "ctc = float(input(\"Enter your CTC (in Lakhs): \"))\n",
        "monthly_salary = calculate_monthly_salary(ctc * 100000)  # Convert Lakhs to Rupees\n",
        "print(\"Your monthly salary after deductions is: Rs\", round(monthly_salary, 2))\n"
      ]
    },
    {
      "cell_type": "markdown",
      "metadata": {
        "id": "tYzCGqwl2hfN"
      },
      "source": [
        "### `Problem 2`: Write a program that take a user input of three angles and will find out whether it can form a triangle or not."
      ]
    },
    {
      "cell_type": "code",
      "execution_count": null,
      "metadata": {
        "colab": {
          "base_uri": "https://localhost:8080/"
        },
        "id": "FYEqln-I2kxV",
        "outputId": "7b917c08-0143-4987-915b-01bcdfad20b4"
      },
      "outputs": [
        {
          "name": "stdout",
          "output_type": "stream",
          "text": [
            "Enter 1st angle 0\n",
            "Enter 2nd angle 12\n",
            "Enter 3rd angle 90\n",
            "Not a Triangle \n"
          ]
        }
      ],
      "source": [
        "# Write code here\n",
        "x = float(input(\"Enter 1st angle \"))\n",
        "y = float(input(\"Enter 2nd angle \"))\n",
        "z = float(input(\"Enter 3rd angle \"))\n",
        "\n",
        "sum = x+y+z\n",
        "\n",
        "if sum == 180 and x>0 and y>0 and z>0:\n",
        "  print(\"It is  a Triangle \")\n",
        "else:\n",
        "  print(\"Not a Triangle \")\n"
      ]
    },
    {
      "cell_type": "code",
      "execution_count": null,
      "metadata": {
        "id": "zoguee6UMmaa"
      },
      "outputs": [],
      "source": [
        "def is_triangle(angle1, angle2, angle3):\n",
        "    # Check if the sum of any two angles is greater than the third angle\n",
        "    if angle1 + angle2 + angle3 == 180 and angle1 > 0 and angle2 > 0 and angle3 > 0:\n",
        "        return True\n",
        "    else:\n",
        "        return False\n",
        "\n",
        "# Input three angles from the user\n",
        "angle1 = int(input(\"Enter the first angle: \"))\n",
        "angle2 = int(input(\"Enter the second angle: \"))\n",
        "angle3 = int(input(\"Enter the third angle: \"))\n",
        "\n",
        "# Check if the angles can form a triangle\n",
        "if is_triangle(angle1, angle2, angle3):\n",
        "    print(\"Yes, the angles can form a triangle.\")\n",
        "else:\n",
        "    print(\"No, the angles cannot form a triangle.\")\n"
      ]
    },
    {
      "cell_type": "markdown",
      "metadata": {
        "id": "5vEpPh8C2pE4"
      },
      "source": [
        "### `Problem 3`: Write a program that will take user input of cost price and selling price and determines whether its a loss or a profit."
      ]
    },
    {
      "cell_type": "code",
      "execution_count": null,
      "metadata": {
        "colab": {
          "base_uri": "https://localhost:8080/"
        },
        "id": "jDwBXlkO2sfl",
        "outputId": "256e32a3-8dc5-46ed-9f4d-a90c815c6ff4"
      },
      "outputs": [
        {
          "name": "stdout",
          "output_type": "stream",
          "text": [
            "Enter cost price23\n",
            "Enter selling price23\n",
            "neither profit nor loss\n"
          ]
        }
      ],
      "source": [
        "# Write code here\n",
        "cp = float(input(\"Enter cost price\"))\n",
        "sp = float(input(\"Enter selling price\"))\n",
        "\n",
        "if sp>cp:\n",
        "  print('Profit')\n",
        "elif cp>sp:\n",
        "  print('loss')\n",
        "else:\n",
        "  print('neither profit nor loss')"
      ]
    },
    {
      "cell_type": "code",
      "execution_count": null,
      "metadata": {
        "id": "APuILGHRw5Mn"
      },
      "outputs": [],
      "source": [
        "def calculate_profit_or_loss(cost_price, selling_price):\n",
        "    if selling_price > cost_price:\n",
        "        profit = selling_price - cost_price\n",
        "        return f\"Profit of ${profit:.2f}\"\n",
        "    elif selling_price < cost_price:\n",
        "        loss = cost_price - selling_price\n",
        "        return f\"Loss of ${loss:.2f}\"\n",
        "    else:\n",
        "        return \"No profit, no loss\"\n",
        "\n",
        "def main():\n",
        "    try:\n",
        "        cost_price = float(input(\"Enter the cost price: \"))\n",
        "        selling_price = float(input(\"Enter the selling price: \"))\n",
        "        result = calculate_profit_or_loss(cost_price, selling_price)\n",
        "        print(result)\n",
        "    except ValueError:\n",
        "        print(\"Please enter valid numbers for cost price and selling price.\")\n",
        "\n",
        "# if __name__ == \"__main__\":\n",
        "#     main()\n"
      ]
    },
    {
      "cell_type": "markdown",
      "metadata": {
        "id": "J_FG_cJW2ugT"
      },
      "source": [
        "### `Problem 4`: Write a menu-driven program -\n",
        "1. cm to ft\n",
        "2. km to miles\n",
        "3. USD to INR\n",
        "4. exit"
      ]
    },
    {
      "cell_type": "code",
      "execution_count": null,
      "metadata": {
        "colab": {
          "base_uri": "https://localhost:8080/"
        },
        "id": "yBHhaCGQ2zpD",
        "outputId": "5a623d4a-f5b3-419d-a2ae-d44860766bf1"
      },
      "outputs": [
        {
          "name": "stdout",
          "output_type": "stream",
          "text": [
            "1 for Cm to Fit\n",
            "2 for Km to miles\n",
            "3 for USD to IND\n",
            "4 for Exit\n",
            "Enetr Choice what do you want to do4\n",
            "Exit the program\n"
          ]
        }
      ],
      "source": [
        "# Write code here\n",
        "def cm_to_fit(cm):\n",
        "  return cm*0.0328084\n",
        "def km_to_miles(km):\n",
        "  return km*0.621371\n",
        "def USD_to_INR(USD):\n",
        "  return USD*83.71;\n",
        "\n",
        "while True:\n",
        "  print('1 for Cm to Fit')\n",
        "  print('2 for Km to miles')\n",
        "  print('3 for USD to IND')\n",
        "  print('4 for Exit')\n",
        "\n",
        "  choice = input(\"Enetr Choice what do you want to do\")\n",
        "\n",
        "  if choice=='1':\n",
        "    cm = float(input(\"Enetr value of cm\"))\n",
        "    result = cm_to_fit(cm)\n",
        "    print(result)\n",
        "  elif choice=='2':\n",
        "    km = float(input(\"Enetr value of km\"))\n",
        "    result = km_to_miles(km)\n",
        "    print(result)\n",
        "  elif choice=='3':\n",
        "    usd = float(input(\"Enetr value of usd\"))\n",
        "    result = USD_to_INR(usd)\n",
        "    print(result)\n",
        "  elif choice=='4':\n",
        "    print(\"Exit the program\")\n",
        "    break\n",
        "  else:\n",
        "    print(\"Invalid chice please enter valid choice\")"
      ]
    },
    {
      "cell_type": "markdown",
      "metadata": {
        "id": "LJJ30_Yw27ZU"
      },
      "source": [
        "### `Problem 5` - Exercise 12: Display Fibonacci series up to 10 terms.\n",
        "\n",
        "*Note: The Fibonacci Sequence is a series of numbers. The next number is found by adding up the two numbers before it. The first two numbers are 0 and 1. For example, 0, 1, 1, 2, 3, 5, 8, 13, 21. The next number in this series above is 13+21 = 34*"
      ]
    },
    {
      "cell_type": "code",
      "execution_count": null,
      "metadata": {
        "colab": {
          "base_uri": "https://localhost:8080/"
        },
        "id": "ae_1rpe52-5R",
        "outputId": "27324a36-a8ae-480a-9c16-ef2f51a1491f"
      },
      "outputs": [
        {
          "name": "stdout",
          "output_type": "stream",
          "text": [
            "0,1,1,2,3,5,8,13,21,34,"
          ]
        }
      ],
      "source": [
        "# Write code her\n",
        "n = 10\n",
        "t1 = 0\n",
        "t2 = 1\n",
        "print(t1, end=',')\n",
        "print(t2 , end=',')\n",
        "i=0\n",
        "for i in range(n-2):\n",
        "  t1,t2 = t2 , t1+t2\n",
        "  print(t2,end=',')\n",
        "\n"
      ]
    },
    {
      "cell_type": "code",
      "execution_count": null,
      "metadata": {
        "colab": {
          "base_uri": "https://localhost:8080/"
        },
        "id": "MF6xh85o8EH7",
        "outputId": "189da458-772f-4d38-ea29-9f7c4d6c1b6c"
      },
      "outputs": [
        {
          "name": "stdout",
          "output_type": "stream",
          "text": [
            "<class 'list'>\n",
            "Fibonacci series up to 10 terms:\n",
            "[0, 1, 1, 2, 3, 5, 8, 13, 21, 34]\n"
          ]
        }
      ],
      "source": [
        "def fibonacci(n):\n",
        "    fib_series = []\n",
        "    print(type(fib_series))\n",
        "    a, b = 0, 1\n",
        "    for _ in range(n):\n",
        "        fib_series.append(a)\n",
        "        a, b = b, a + b\n",
        "    return fib_series\n",
        "\n",
        "def main():\n",
        "    n = 10\n",
        "    fib_series = fibonacci(n)\n",
        "    print(\"Fibonacci series up to 10 terms:\")\n",
        "    print(fib_series)\n",
        "\n",
        "if __name__ == \"__main__\":\n",
        "    main()\n"
      ]
    },
    {
      "cell_type": "markdown",
      "metadata": {
        "id": "pk_I_S4m3PT5"
      },
      "source": [
        "### `Problem 6` - Find the factorial of a given number.\n",
        "\n",
        "Write a program to use the loop to find the factorial of a given number.\n",
        "\n",
        "The factorial (symbol: `!`) means to multiply all whole numbers from the chosen number down to 1.\n",
        "\n",
        "For example: calculate the factorial of 5\n",
        "\n",
        "```bash\n",
        "5! = 5 × 4 × 3 × 2 × 1 = 120\n",
        "```\n",
        "\n",
        "Output:\n",
        "\n",
        "```bash\n",
        "120\n",
        "```"
      ]
    },
    {
      "cell_type": "code",
      "execution_count": null,
      "metadata": {
        "colab": {
          "base_uri": "https://localhost:8080/"
        },
        "id": "lzXxHegx3Rkc",
        "outputId": "611650e5-ecbf-4b48-e3f6-d21a113b0b13"
      },
      "outputs": [
        {
          "name": "stdout",
          "output_type": "stream",
          "text": [
            "Enter a number for find fact6\n",
            "The factorial of 6 is 720\n"
          ]
        }
      ],
      "source": [
        "# Write code here\n",
        "def factorial(n):\n",
        "    if n < 0:\n",
        "        return \"Factorial is not defined for negative numbers\"\n",
        "    elif n == 0 or n == 1:\n",
        "        return 1\n",
        "    else:\n",
        "        result = 1\n",
        "        for i in range(2, n + 1):\n",
        "            result *= i\n",
        "        return result\n",
        "\n",
        "# Example usage:\n",
        "number = int(input(\"Enter a number for find fact\"))\n",
        "print(\"The factorial of\", number, \"is\", factorial(number))\n"
      ]
    },
    {
      "cell_type": "markdown",
      "metadata": {
        "id": "-17IOi-g3UpU"
      },
      "source": [
        "### `Problem 7` - Reverse a given integer number.\n",
        "\n",
        "Example:\n",
        "\n",
        "`Input:`\n",
        "\n",
        "```bash\n",
        "76542\n",
        "```\n",
        "\n",
        "`Output:`\n",
        "\n",
        "```bash\n",
        "24567\n",
        "```"
      ]
    },
    {
      "cell_type": "code",
      "execution_count": null,
      "metadata": {
        "colab": {
          "base_uri": "https://localhost:8080/"
        },
        "id": "wJwLpKCr3aVA",
        "outputId": "d2dac8c5-51e5-44f4-a584-1ef39fe21833"
      },
      "outputs": [
        {
          "name": "stdout",
          "output_type": "stream",
          "text": [
            "Original number: -12345\n",
            "Reversed number: -54321\n"
          ]
        }
      ],
      "source": [
        "# Write code here\n",
        "def reverse_integer(number):\n",
        "    reversed_number = 0\n",
        "    is_negative = False\n",
        "\n",
        "    # Check if the number is negative\n",
        "    if number < 0:\n",
        "        is_negative = True\n",
        "        number = abs(number)\n",
        "\n",
        "    # Reverse the number\n",
        "    while number != 0:\n",
        "        digit = number % 10\n",
        "        reversed_number = reversed_number * 10 + digit\n",
        "        number = number // 10\n",
        "\n",
        "    # Add back the negative sign if the original number was negative\n",
        "    if is_negative:\n",
        "        reversed_number *= -1\n",
        "\n",
        "    return reversed_number\n",
        "\n",
        "# Example usage:\n",
        "number = -12345\n",
        "print(\"Original number:\", number)\n",
        "print(\"Reversed number:\", reverse_integer(number))\n"
      ]
    },
    {
      "cell_type": "markdown",
      "metadata": {
        "id": "-t8PJQaY3sHf"
      },
      "source": [
        "### `Problem 8`: Take a user input as integer N. Find out the sum from 1 to N. If any number if divisible by 5, then skip that number. And if the sum is greater than 300, don't need to calculate the sum further more. Print the final result. And don't use for loop to solve this problem.\n",
        "\n",
        "**Example 1:**\n",
        "\n",
        "`Input:`\n",
        "\n",
        "```bash\n",
        "30\n",
        "```\n",
        "\n",
        "`Output:`\n",
        "\n",
        "```bash\n",
        "276\n",
        "```"
      ]
    },
    {
      "cell_type": "code",
      "execution_count": null,
      "metadata": {
        "id": "GZB6mGMP3ujT"
      },
      "outputs": [],
      "source": [
        "# Write code here\n",
        "n = int(input(\"Enter the number\"))\n",
        "sum = 0\n",
        "for i in range(1,n+1):\n",
        "  if i%5 ==0:\n",
        "    continue\n",
        "  sum += i\n",
        "  if sum>300  :\n",
        "    sum -=i\n",
        "    break\n",
        "print(sum)"
      ]
    },
    {
      "cell_type": "code",
      "execution_count": null,
      "metadata": {
        "colab": {
          "base_uri": "https://localhost:8080/",
          "height": 228
        },
        "id": "xpBw9Vi430Vb",
        "outputId": "29a437b6-b04e-4db2-8d72-5f1a133a865b"
      },
      "outputs": [
        {
          "name": "stdout",
          "output_type": "stream",
          "text": [
            "Enter the number30\n"
          ]
        },
        {
          "ename": "KeyboardInterrupt",
          "evalue": "",
          "output_type": "error",
          "traceback": [
            "\u001b[0;31m---------------------------------------------------------------------------\u001b[0m",
            "\u001b[0;31mKeyboardInterrupt\u001b[0m                         Traceback (most recent call last)",
            "\u001b[0;32m<ipython-input-6-5152679644cb>\u001b[0m in \u001b[0;36m<cell line: 4>\u001b[0;34m()\u001b[0m\n\u001b[1;32m      4\u001b[0m \u001b[0;32mwhile\u001b[0m \u001b[0mi\u001b[0m\u001b[0;34m<\u001b[0m\u001b[0mn\u001b[0m\u001b[0;34m+\u001b[0m\u001b[0;36m1\u001b[0m\u001b[0;34m:\u001b[0m\u001b[0;34m\u001b[0m\u001b[0;34m\u001b[0m\u001b[0m\n\u001b[1;32m      5\u001b[0m   \u001b[0;32mif\u001b[0m \u001b[0mi\u001b[0m\u001b[0;34m%\u001b[0m\u001b[0;36m5\u001b[0m \u001b[0;34m==\u001b[0m\u001b[0;36m0\u001b[0m\u001b[0;34m:\u001b[0m\u001b[0;34m\u001b[0m\u001b[0;34m\u001b[0m\u001b[0m\n\u001b[0;32m----> 6\u001b[0;31m     \u001b[0;32mcontinue\u001b[0m\u001b[0;34m\u001b[0m\u001b[0;34m\u001b[0m\u001b[0m\n\u001b[0m\u001b[1;32m      7\u001b[0m   \u001b[0msum\u001b[0m \u001b[0;34m+=\u001b[0m \u001b[0mi\u001b[0m\u001b[0;34m\u001b[0m\u001b[0;34m\u001b[0m\u001b[0m\n\u001b[1;32m      8\u001b[0m   \u001b[0;32mif\u001b[0m \u001b[0msum\u001b[0m\u001b[0;34m>\u001b[0m\u001b[0;36m300\u001b[0m  \u001b[0;34m:\u001b[0m\u001b[0;34m\u001b[0m\u001b[0;34m\u001b[0m\u001b[0m\n",
            "\u001b[0;31mKeyboardInterrupt\u001b[0m: "
          ]
        }
      ],
      "source": [
        "n = int(input(\"Enter the number\"))\n",
        "sum = 0\n",
        "i =1\n",
        "while i<n+1:\n",
        "\n",
        "  if i%5 ==0:\n",
        "\n",
        "    continue\n",
        "  sum += i\n",
        "  if sum>300  :\n",
        "    sum -=i\n",
        "    break\n",
        "  i += 1\n",
        "print(sum)"
      ]
    },
    {
      "cell_type": "markdown",
      "metadata": {
        "id": "Q7ggImeA3xm4"
      },
      "source": [
        "### `Problem 9`: Write a program that keeps on accepting a number from the user until the user enters Zero. Display the sum and average of all the numbers."
      ]
    },
    {
      "cell_type": "code",
      "execution_count": null,
      "metadata": {
        "colab": {
          "background_save": true,
          "base_uri": "https://localhost:8080/"
        },
        "id": "t_YDSZDe4Kdo",
        "outputId": "579d88d0-dc09-406b-958d-17fa1ae729aa"
      },
      "outputs": [
        {
          "name": "stdout",
          "output_type": "stream",
          "text": [
            "Sum  12\n",
            "avg 6.0\n"
          ]
        }
      ],
      "source": [
        "# Write code here\n",
        "sum = 0\n",
        "count =0\n",
        "while True:\n",
        "  num = int(input('Enter number'))\n",
        "  if num == 0:\n",
        "    break\n",
        "  sum += num\n",
        "  count+=1\n",
        "\n",
        "print('Sum ',sum)\n",
        "print('avg',sum/count)"
      ]
    },
    {
      "cell_type": "markdown",
      "metadata": {
        "id": "6EhvEMvm4R7s"
      },
      "source": [
        "###`Problem 9`: Write a program which will find all such numbers which are divisible by 7 but are not a multiple of 5, between 2000 and 3200 (both included). The numbers obtained should be printed in a comma-separated sequence on a single line."
      ]
    },
    {
      "cell_type": "code",
      "execution_count": null,
      "metadata": {
        "id": "d6RgP1B34T6c"
      },
      "outputs": [],
      "source": [
        "# Write code here"
      ]
    },
    {
      "cell_type": "markdown",
      "metadata": {
        "id": "tYvmRR-G4Vp4"
      },
      "source": [
        "###`Problem 10`: Write a program, which will find all such numbers between 1000 and 3000 (both included) such that each digit of the number is an even number. The numbers obtained should be printed in a space-separated sequence on a single line.\n",
        "\n"
      ]
    },
    {
      "cell_type": "code",
      "execution_count": null,
      "metadata": {
        "id": "k6Gs1kIf4k19"
      },
      "outputs": [],
      "source": [
        "# Write code here"
      ]
    },
    {
      "cell_type": "markdown",
      "metadata": {
        "id": "GV18IINT4mf5"
      },
      "source": [
        "###`Problem 11`: A robot moves in a plane starting from the original point (0,0). The robot can move toward UP, DOWN, LEFT and RIGHT with a given steps.\n",
        "The trace of robot movement is shown as the following:\n",
        "```\n",
        "UP 5\n",
        "DOWN 3\n",
        "LEFT 3\n",
        "RIGHT 2\n",
        "!\n",
        "```\n",
        "> The numbers after the direction are steps.\n",
        "\n",
        "> `!` means robot stop there.\n",
        "\n",
        "**Please write a program to compute the distance from current position after a sequence of movement and original point.**\n",
        "\n",
        "*If the distance is a float, then just print the nearest integer.*\n",
        "\n",
        "Example:\n",
        "\n",
        "`Input`:\n",
        "```\n",
        "UP 5\n",
        "DOWN 3\n",
        "LEFT 3\n",
        "RIGHT 2\n",
        "!\n",
        "```\n",
        "`Output`:\n",
        "```\n",
        "2\n",
        "```"
      ]
    },
    {
      "cell_type": "code",
      "execution_count": null,
      "metadata": {
        "id": "6UNMC2aR4w5x"
      },
      "outputs": [],
      "source": [
        "# Write code here"
      ]
    },
    {
      "cell_type": "markdown",
      "metadata": {
        "id": "3fsAIAhK5GYY"
      },
      "source": [
        "###`Problem 12`:Write a program to print whether a given number is a prime number or not"
      ]
    },
    {
      "cell_type": "code",
      "execution_count": null,
      "metadata": {
        "id": "j6y91lxy5LZs"
      },
      "outputs": [],
      "source": [
        "# Write code here"
      ]
    },
    {
      "cell_type": "markdown",
      "metadata": {
        "id": "asAbmbK-5NHv"
      },
      "source": [
        "###`Problem 13`:Print all the Armstrong numbers in a given range.\n",
        "Range will be provided by the user<br>\n",
        "Armstrong number is a number that is equal to the sum of cubes of its digits. For example 0, 1, 153, 370, 371 and 407 are the Armstrong numbers."
      ]
    },
    {
      "cell_type": "code",
      "execution_count": null,
      "metadata": {
        "id": "PZuI67pm5jCT"
      },
      "outputs": [],
      "source": [
        "# Write code here"
      ]
    },
    {
      "cell_type": "markdown",
      "metadata": {
        "id": "ClCQZMqT7gK0"
      },
      "source": [
        "###`Problem 14`:Calculate the angle between the hour hand and minute hand.\n",
        "\n",
        "Note: There can be two angles between hands; we need to print a minimum of two. Also, we need to print the floor of the final result angle. For example, if the final angle is 10.61, we need to print 10.\n",
        "\n",
        "Input:<br>\n",
        "H = 9 , M = 0<br>\n",
        "Output:<br>\n",
        "90<br>\n",
        "Explanation:<br>\n",
        "The minimum angle between hour and minute\n",
        "hand when the time is 9 is 90 degress."
      ]
    },
    {
      "cell_type": "code",
      "execution_count": null,
      "metadata": {
        "id": "tNBTCZML7jy_"
      },
      "outputs": [],
      "source": [
        "# Write code here"
      ]
    },
    {
      "cell_type": "markdown",
      "metadata": {
        "id": "GwacF9Co72Qc"
      },
      "source": [
        "###`Problem 15`:Given two rectangles, find if the given two rectangles overlap or not. A rectangle is denoted by providing the x and y coordinates of two points: the left top corner and the right bottom corner of the rectangle. Two rectangles sharing a side are considered overlapping. (L1 and R1 are the extreme points of the first rectangle and L2 and R2 are the extreme points of the second rectangle).\n",
        "\n",
        "Note: It may be assumed that the rectangles are parallel to the coordinate axis.\n",
        "\n",
        "<img src='https://www.geeksforgeeks.org/wp-content/uploads/rectanglesOverlap.png' width='300' height='200'>"
      ]
    },
    {
      "cell_type": "code",
      "execution_count": null,
      "metadata": {
        "id": "6rrw_lpH78Rs"
      },
      "outputs": [],
      "source": [
        "# Write code here"
      ]
    }
  ],
  "metadata": {
    "colab": {
      "provenance": [],
      "include_colab_link": true
    },
    "kernelspec": {
      "display_name": "Python 3",
      "name": "python3"
    },
    "language_info": {
      "name": "python"
    }
  },
  "nbformat": 4,
  "nbformat_minor": 0
}