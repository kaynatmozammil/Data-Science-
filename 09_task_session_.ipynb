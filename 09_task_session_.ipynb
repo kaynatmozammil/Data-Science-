{
  "nbformat": 4,
  "nbformat_minor": 0,
  "metadata": {
    "colab": {
      "provenance": [],
      "collapsed_sections": [
        "BCleRtX43caS",
        "KBbGNTtQ47mJ",
        "ExIxsv4y-oEd",
        "OcQhJvXVALgp",
        "sEsGEqOHCSWG",
        "v1M5Yh9ZZO0z"
      ],
      "include_colab_link": true
    },
    "kernelspec": {
      "name": "python3",
      "display_name": "Python 3"
    },
    "language_info": {
      "name": "python"
    }
  },
  "cells": [
    {
      "cell_type": "markdown",
      "metadata": {
        "id": "view-in-github",
        "colab_type": "text"
      },
      "source": [
        "<a href=\"https://colab.research.google.com/github/kaynatmozammil/Data-Science-/blob/main/09_task_session_.ipynb\" target=\"_parent\"><img src=\"https://colab.research.google.com/assets/colab-badge.svg\" alt=\"Open In Colab\"/></a>"
      ]
    },
    {
      "cell_type": "markdown",
      "source": [
        "### `Problem-1:` Class inheritence\n",
        "\n",
        "Create a **Bus** child class that inherits from the Vehicle class. The default fare charge of any vehicle is seating capacity * 100. If Vehicle is Bus instance, we need to add an extra 10% on full fare as a maintenance charge. So total fare for bus instance will become the final amount = total fare + 10% of the total fare.\n",
        "\n",
        "Note: The bus seating capacity is 50. so the final fare amount should be 5500. You need to override the fare() method of a Vehicle class in Bus class."
      ],
      "metadata": {
        "id": "BCleRtX43caS"
      }
    },
    {
      "cell_type": "code",
      "execution_count": null,
      "metadata": {
        "colab": {
          "base_uri": "https://localhost:8080/"
        },
        "id": "6jVFCXKz3YZI",
        "outputId": "262e1787-6a46-414d-8163-79cbe1fc0ecd"
      },
      "outputs": [
        {
          "output_type": "stream",
          "name": "stdout",
          "text": [
            "5500.0\n"
          ]
        }
      ],
      "source": [
        "# Write code here\n",
        "class Vehicle:\n",
        "\n",
        "  def __init__(self,type,capacity):\n",
        "    self.type = type\n",
        "    self.capacity = capacity\n",
        "\n",
        "  def fare(self):\n",
        "    return 100*self.capacity\n",
        "\n",
        "\n",
        "class Bus(Vehicle):\n",
        "\n",
        "  def fare(self):\n",
        "    base_fare = super().fare()\n",
        "    bus_fare = base_fare + 0.1*base_fare\n",
        "    return bus_fare\n",
        "\n",
        "bus = Bus('School bus',50)\n",
        "print(bus.fare())"
      ]
    },
    {
      "cell_type": "markdown",
      "source": [
        "### `Problem-2:` Class Inheritence\n",
        "\n",
        "Create a Bus class that inherits from the Vehicle class. Give the capacity argument of *Bus.seating_capacity()* a default value of 50.\n",
        "\n",
        "Use the following code for your parent Vehicle class."
      ],
      "metadata": {
        "id": "KBbGNTtQ47mJ"
      }
    },
    {
      "cell_type": "code",
      "source": [],
      "metadata": {
        "id": "MwOnYE_14M-r"
      },
      "execution_count": null,
      "outputs": []
    },
    {
      "cell_type": "code",
      "source": [],
      "metadata": {
        "id": "Py5Gr0ip5OBB"
      },
      "execution_count": null,
      "outputs": []
    },
    {
      "cell_type": "markdown",
      "source": [
        "### `Problem-3:` Write a program that has a class Point. Define another class Location which has two objects (Location & Destination) of class Point. Also define a function in Location that prints the reflection of Destination on the x axis."
      ],
      "metadata": {
        "id": "ExIxsv4y-oEd"
      }
    },
    {
      "cell_type": "code",
      "source": [
        "class Point :\n",
        "  def __init__(self,x,y):\n",
        "    self.x = x\n",
        "    self.y = y\n",
        "\n",
        "  def show_point(self):\n",
        "    return '{},{}'.format(self.x,self.y)\n",
        "\n",
        "class Location:\n",
        "\n",
        "  def __init__(self,x1,y1,x2,y2):\n",
        "    self.source = Point(x1,y1)\n",
        "    self.destination = Point(x2,y2)\n",
        "\n",
        "  def show(self):\n",
        "    print('Source is',self.source.show_point())\n",
        "    print('Destination is',self.destination.show_point())\n",
        "\n",
        "  def reflection(self):\n",
        "    self.destination.y = -self.destination.y\n",
        "    print('Reflaction is ',self.destination.show_point())\n",
        "\n",
        "L = Location(0,0,1,1)\n",
        "L.show()\n",
        "L.reflection()\n",
        "\n",
        "\n"
      ],
      "metadata": {
        "id": "yT2QtzQp5VAB",
        "colab": {
          "base_uri": "https://localhost:8080/"
        },
        "outputId": "8cd8ff33-0817-45f0-bd1b-d1954fde4ee3"
      },
      "execution_count": null,
      "outputs": [
        {
          "output_type": "stream",
          "name": "stdout",
          "text": [
            "Source is 0,0\n",
            "Destination is 1,1\n",
            "Reflaction is  1,-1\n"
          ]
        }
      ]
    },
    {
      "cell_type": "markdown",
      "source": [
        "### `Problem-4:` Write a program that has an abstract class Polygon. Derive two classes Rectangle and Triamgle from Polygon and write methods to get the details of their dimensions and hence calculate the area."
      ],
      "metadata": {
        "id": "OcQhJvXVALgp"
      }
    },
    {
      "cell_type": "code",
      "source": [
        "from abc import ABC ,abstractmethod\n",
        "\n",
        "class Polygon(ABC):\n",
        "  @abstractmethod\n",
        "  def get_data():\n",
        "    pass\n",
        "\n",
        "  @abstractmethod\n",
        "  def area():\n",
        "    pass\n",
        "class Rectangle(Polygon):\n",
        "  def get_data(self,l,b):\n",
        "    self.l = l\n",
        "    self.b = b\n",
        "\n",
        "  def area(self):\n",
        "    return  self.l*self.b\n",
        "class Triangle(Polygon):\n",
        "  def get_data(self,b,h):\n",
        "    self.b = b\n",
        "    self.h = h\n",
        "\n",
        "  def area(self):\n",
        "    return 0.5 * self.b*self.h\n",
        "\n",
        "rect =  Rectangle()\n",
        "rect.get_data(4,5)\n",
        "print(rect.area())\n",
        "\n",
        "\n",
        "tri = Triangle()\n",
        "tri.get_data(4,5)\n",
        "tri.area()"
      ],
      "metadata": {
        "id": "9IMrtdUH__eA",
        "colab": {
          "base_uri": "https://localhost:8080/"
        },
        "outputId": "2baad3f8-efef-42b6-d8de-cb0b9af96710"
      },
      "execution_count": null,
      "outputs": [
        {
          "output_type": "stream",
          "name": "stdout",
          "text": [
            "20\n"
          ]
        },
        {
          "output_type": "execute_result",
          "data": {
            "text/plain": [
              "10.0"
            ]
          },
          "metadata": {},
          "execution_count": 6
        }
      ]
    },
    {
      "cell_type": "markdown",
      "source": [
        "### `Problem-5:` Write a program with class Bill. The users have the option to pay the bill either by cheque or by cash. Use the inheritance to model this situation."
      ],
      "metadata": {
        "id": "sEsGEqOHCSWG"
      }
    },
    {
      "cell_type": "code",
      "source": [
        "class Bill:\n",
        "  def __init__(self,items,price):\n",
        "    self.total = 0\n",
        "    self.items = items\n",
        "    self.price = price\n",
        "\n",
        "    for i in self.price:\n",
        "      self.total = self.total + i\n",
        "\n",
        "  def display(self):\n",
        "    print('Item \\t\\t\\t Price')\n",
        "\n",
        "    for i in range(len(self.items)):\n",
        "      print(self.items[i],'\\t',self.price[i])\n",
        "    print(\"*\"*10)\n",
        "\n",
        "    print(\"Total\",self.total)\n",
        "class CashPayment(Bill):\n",
        "  def __init__(self,items,price,deno,value):\n",
        "    super().__init__(items,price)\n",
        "\n",
        "    self.deno = deno\n",
        "    self.value = value\n",
        "\n",
        "  def show_cash_payment_details(self):\n",
        "    super().display()\n",
        "    for i in range(len(self.deno)):\n",
        "      print(self.deno[i],\"*\",self.value[i] ,\"=\", self.deno[i]*self.value[i])\n",
        "\n",
        "\n",
        "class ChequePayment(Bill):\n",
        "    def __init__(self,items,price,cno,name):\n",
        "     super().__init__(items,price)\n",
        "\n",
        "     self.cno = cno\n",
        "     self.name = name\n",
        "    def show_check_payment_details(self):\n",
        "     super().display()\n",
        "     print('Cheque No ',self.cno)\n",
        "     print('Bank name ',self.name)"
      ],
      "metadata": {
        "id": "l0WFyP2PB3nf"
      },
      "execution_count": null,
      "outputs": []
    },
    {
      "cell_type": "code",
      "source": [
        "items = [\"External Hard Disk\",\"RAM\",\"Printer\",\"Pen Drive\"]\n",
        "price = [5000,2000,6000,800]\n",
        "\n",
        "# bill = Bill(items,price)\n",
        "# bill.display()\n",
        "deno = [10,20,50,100,500,2000]\n",
        "value = [1,1,1,20,4,5]\n",
        "cash = CashPayment(items,price,deno,value)\n",
        "cash.show_cash_payment_details()"
      ],
      "metadata": {
        "colab": {
          "base_uri": "https://localhost:8080/"
        },
        "id": "Td4HWZMlpyH4",
        "outputId": "8df0b9dd-d625-479b-f0b1-97ca6f05bb6b"
      },
      "execution_count": null,
      "outputs": [
        {
          "output_type": "stream",
          "name": "stdout",
          "text": [
            "Item \t\t\t Price\n",
            "External Hard Disk \t 5000\n",
            "RAM \t 2000\n",
            "Printer \t 6000\n",
            "Pen Drive \t 800\n",
            "**********\n",
            "Total 13800\n",
            "10 * 1 = 10\n",
            "20 * 1 = 20\n",
            "50 * 1 = 50\n",
            "100 * 20 = 2000\n",
            "500 * 4 = 2000\n",
            "2000 * 5 = 10000\n"
          ]
        }
      ]
    },
    {
      "cell_type": "code",
      "source": [
        "items = [\"External Hard Disk\",\"RAM\",\"Printer\",\"Pen Drive\"]\n",
        "price = [5000,2000,6000,800]\n",
        "option = int(input('Would you like to pay by cheque or cash (1/2):'))\n",
        "\n",
        "if option == 1:\n",
        "  name = input(\"Enter the name of Bank:\")\n",
        "  cno = input('Enter the cheque number:')\n",
        "  cheque = ChequePayment(items,price,cno,name)\n",
        "  cheque.show_check_payment_details()\n",
        "else:\n",
        "  deno = [10,20,50,100,500,2000]\n",
        "  value = [1,1,1,20,4,5]\n",
        "  cash = CashPayment(items,price,deno,value)\n",
        "  cash.show_cash_payment_details()\n"
      ],
      "metadata": {
        "colab": {
          "base_uri": "https://localhost:8080/"
        },
        "id": "r_ln1eoBoIib",
        "outputId": "b7d64ec9-0a5f-4273-830a-2ee6a96da0a3"
      },
      "execution_count": null,
      "outputs": [
        {
          "output_type": "stream",
          "name": "stdout",
          "text": [
            "Would you like to pay by cheque or cash (1/2):2\n",
            "Item \t\t\t Price\n",
            "External Hard Disk \t 5000\n",
            "RAM \t 2000\n",
            "Printer \t 6000\n",
            "Pen Drive \t 800\n",
            "**********\n",
            "Total 13800\n",
            "10 * 1 = 10\n",
            "20 * 1 = 20\n",
            "50 * 1 = 50\n",
            "100 * 20 = 2000\n",
            "500 * 4 = 2000\n",
            "2000 * 5 = 10000\n"
          ]
        }
      ]
    },
    {
      "cell_type": "markdown",
      "source": [
        "###`Q-6:` FlexibleDict\n",
        "As of now we are accessing values from dictionary with exact keys. Now we want to amend accessing values functionality. if a dict have key `1` (int) the even if we try to access values by giving `'1'` (1 as str) as key, we should get the same result and vice versa.\n",
        "\n",
        "Write a class `FlexibleDict` upon builtin `dict` class with above required functionality.\n",
        "\n",
        "Hint- `dict[key] => dict.__getitem__(key)`"
      ],
      "metadata": {
        "id": "v1M5Yh9ZZO0z"
      }
    },
    {
      "cell_type": "markdown",
      "source": [
        "Ex.\n",
        "```\n",
        "fd = FlexibleDict()\n",
        "fd['a'] = 100\n",
        "print(fd['a']) # Like regular dict\n",
        "\n",
        "fd[5] = 500\n",
        "print(fd[5]) # Like regular dict\n",
        "\n",
        "fd[1] = 100\n",
        "print(fd['1']) # actual Key is int but still trying to access through str key.\n",
        "fd['1'] = 100\n",
        "print(fd[1])\n",
        "\n",
        "```\n",
        "`Output:`\n",
        "```\n",
        "100\n",
        "500\n",
        "100\n",
        "100\n",
        "\n",
        "```"
      ],
      "metadata": {
        "id": "uajGeWegbfda"
      }
    },
    {
      "cell_type": "code",
      "source": [],
      "metadata": {
        "id": "OHLbOtCxZ2nw"
      },
      "execution_count": null,
      "outputs": []
    },
    {
      "cell_type": "code",
      "source": [],
      "metadata": {
        "id": "7NM8r__dmeMf"
      },
      "execution_count": null,
      "outputs": []
    },
    {
      "cell_type": "code",
      "source": [],
      "metadata": {
        "id": "waHSud8Ymkz-"
      },
      "execution_count": null,
      "outputs": []
    }
  ]
}