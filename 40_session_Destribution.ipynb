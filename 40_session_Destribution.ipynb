{
  "nbformat": 4,
  "nbformat_minor": 0,
  "metadata": {
    "colab": {
      "provenance": [],
      "include_colab_link": true
    },
    "kernelspec": {
      "name": "python3",
      "display_name": "Python 3"
    },
    "language_info": {
      "name": "python"
    }
  },
  "cells": [
    {
      "cell_type": "markdown",
      "metadata": {
        "id": "view-in-github",
        "colab_type": "text"
      },
      "source": [
        "<a href=\"https://colab.research.google.com/github/kaynatmozammil/Data-Science-/blob/main/40_session_Destribution.ipynb\" target=\"_parent\"><img src=\"https://colab.research.google.com/assets/colab-badge.svg\" alt=\"Open In Colab\"/></a>"
      ]
    },
    {
      "cell_type": "code",
      "source": [
        "import pandas as pd"
      ],
      "metadata": {
        "id": "JEAkuQI8hKSl"
      },
      "execution_count": null,
      "outputs": []
    },
    {
      "cell_type": "code",
      "source": [
        "import random"
      ],
      "metadata": {
        "id": "w1P420ZehKQG"
      },
      "execution_count": null,
      "outputs": []
    },
    {
      "cell_type": "code",
      "source": [
        "L = []\n",
        "for i in range(10000):\n",
        "  a = random.randint(1,6)\n",
        "  b = random.randint(1,6)\n",
        "\n",
        "  L.append(a + b)"
      ],
      "metadata": {
        "id": "vwFinRTLhKOU"
      },
      "execution_count": null,
      "outputs": []
    },
    {
      "cell_type": "code",
      "source": [
        "len(L)"
      ],
      "metadata": {
        "colab": {
          "base_uri": "https://localhost:8080/"
        },
        "id": "M-vIvj2RuQtr",
        "outputId": "5f859336-c8f2-4df2-def9-44c38a7f79d6"
      },
      "execution_count": null,
      "outputs": [
        {
          "output_type": "execute_result",
          "data": {
            "text/plain": [
              "10000"
            ]
          },
          "metadata": {},
          "execution_count": 11
        }
      ]
    },
    {
      "cell_type": "code",
      "source": [
        "L[:5]"
      ],
      "metadata": {
        "colab": {
          "base_uri": "https://localhost:8080/"
        },
        "id": "4tSiV5kJhKMl",
        "outputId": "3742a8ab-69f8-41bd-f49b-5571de311ab6"
      },
      "execution_count": null,
      "outputs": [
        {
          "output_type": "execute_result",
          "data": {
            "text/plain": [
              "[5, 11, 5, 10, 5]"
            ]
          },
          "metadata": {},
          "execution_count": 12
        }
      ]
    },
    {
      "cell_type": "code",
      "source": [
        "s = (pd.Series(L).value_counts()/pd.Series(L).value_counts().sum()).sort_index()"
      ],
      "metadata": {
        "id": "zT7NsHHZhKGZ"
      },
      "execution_count": null,
      "outputs": []
    },
    {
      "cell_type": "code",
      "source": [
        "s"
      ],
      "metadata": {
        "colab": {
          "base_uri": "https://localhost:8080/",
          "height": 429
        },
        "id": "kLl9zdUMhKC0",
        "outputId": "777ca1a5-39e0-4ac0-e386-064fa22735aa"
      },
      "execution_count": null,
      "outputs": [
        {
          "output_type": "execute_result",
          "data": {
            "text/plain": [
              "2     0.0294\n",
              "3     0.0543\n",
              "4     0.0840\n",
              "5     0.1093\n",
              "6     0.1432\n",
              "7     0.1653\n",
              "8     0.1378\n",
              "9     0.1117\n",
              "10    0.0834\n",
              "11    0.0555\n",
              "12    0.0261\n",
              "Name: count, dtype: float64"
            ],
            "text/html": [
              "<div>\n",
              "<style scoped>\n",
              "    .dataframe tbody tr th:only-of-type {\n",
              "        vertical-align: middle;\n",
              "    }\n",
              "\n",
              "    .dataframe tbody tr th {\n",
              "        vertical-align: top;\n",
              "    }\n",
              "\n",
              "    .dataframe thead th {\n",
              "        text-align: right;\n",
              "    }\n",
              "</style>\n",
              "<table border=\"1\" class=\"dataframe\">\n",
              "  <thead>\n",
              "    <tr style=\"text-align: right;\">\n",
              "      <th></th>\n",
              "      <th>count</th>\n",
              "    </tr>\n",
              "  </thead>\n",
              "  <tbody>\n",
              "    <tr>\n",
              "      <th>2</th>\n",
              "      <td>0.0294</td>\n",
              "    </tr>\n",
              "    <tr>\n",
              "      <th>3</th>\n",
              "      <td>0.0543</td>\n",
              "    </tr>\n",
              "    <tr>\n",
              "      <th>4</th>\n",
              "      <td>0.0840</td>\n",
              "    </tr>\n",
              "    <tr>\n",
              "      <th>5</th>\n",
              "      <td>0.1093</td>\n",
              "    </tr>\n",
              "    <tr>\n",
              "      <th>6</th>\n",
              "      <td>0.1432</td>\n",
              "    </tr>\n",
              "    <tr>\n",
              "      <th>7</th>\n",
              "      <td>0.1653</td>\n",
              "    </tr>\n",
              "    <tr>\n",
              "      <th>8</th>\n",
              "      <td>0.1378</td>\n",
              "    </tr>\n",
              "    <tr>\n",
              "      <th>9</th>\n",
              "      <td>0.1117</td>\n",
              "    </tr>\n",
              "    <tr>\n",
              "      <th>10</th>\n",
              "      <td>0.0834</td>\n",
              "    </tr>\n",
              "    <tr>\n",
              "      <th>11</th>\n",
              "      <td>0.0555</td>\n",
              "    </tr>\n",
              "    <tr>\n",
              "      <th>12</th>\n",
              "      <td>0.0261</td>\n",
              "    </tr>\n",
              "  </tbody>\n",
              "</table>\n",
              "</div><br><label><b>dtype:</b> float64</label>"
            ]
          },
          "metadata": {},
          "execution_count": 18
        }
      ]
    },
    {
      "cell_type": "code",
      "source": [
        "s.plot(kind='bar')"
      ],
      "metadata": {
        "colab": {
          "base_uri": "https://localhost:8080/",
          "height": 451
        },
        "id": "fkH3z6DAeX5k",
        "outputId": "932fb15f-f0e9-4359-96cb-334b66bc59a4"
      },
      "execution_count": null,
      "outputs": [
        {
          "output_type": "execute_result",
          "data": {
            "text/plain": [
              "<Axes: >"
            ]
          },
          "metadata": {},
          "execution_count": 19
        },
        {
          "output_type": "display_data",
          "data": {
            "text/plain": [
              "<Figure size 640x480 with 1 Axes>"
            ],
            "image/png": "[encoded data removed]"
          },
          "metadata": {}
        }
      ]
    },
    {
      "cell_type": "code",
      "source": [
        "import numpy as np\n",
        "np.cumsum(s)"
      ],
      "metadata": {
        "colab": {
          "base_uri": "https://localhost:8080/",
          "height": 429
        },
        "id": "5we0aZsU04X5",
        "outputId": "17320313-e0f7-44c9-da51-15d48f01b447"
      },
      "execution_count": null,
      "outputs": [
        {
          "output_type": "execute_result",
          "data": {
            "text/plain": [
              "2     0.0294\n",
              "3     0.0837\n",
              "4     0.1677\n",
              "5     0.2770\n",
              "6     0.4202\n",
              "7     0.5855\n",
              "8     0.7233\n",
              "9     0.8350\n",
              "10    0.9184\n",
              "11    0.9739\n",
              "12    1.0000\n",
              "Name: count, dtype: float64"
            ],
            "text/html": [
              "<div>\n",
              "<style scoped>\n",
              "    .dataframe tbody tr th:only-of-type {\n",
              "        vertical-align: middle;\n",
              "    }\n",
              "\n",
              "    .dataframe tbody tr th {\n",
              "        vertical-align: top;\n",
              "    }\n",
              "\n",
              "    .dataframe thead th {\n",
              "        text-align: right;\n",
              "    }\n",
              "</style>\n",
              "<table border=\"1\" class=\"dataframe\">\n",
              "  <thead>\n",
              "    <tr style=\"text-align: right;\">\n",
              "      <th></th>\n",
              "      <th>count</th>\n",
              "    </tr>\n",
              "  </thead>\n",
              "  <tbody>\n",
              "    <tr>\n",
              "      <th>2</th>\n",
              "      <td>0.0294</td>\n",
              "    </tr>\n",
              "    <tr>\n",
              "      <th>3</th>\n",
              "      <td>0.0837</td>\n",
              "    </tr>\n",
              "    <tr>\n",
              "      <th>4</th>\n",
              "      <td>0.1677</td>\n",
              "    </tr>\n",
              "    <tr>\n",
              "      <th>5</th>\n",
              "      <td>0.2770</td>\n",
              "    </tr>\n",
              "    <tr>\n",
              "      <th>6</th>\n",
              "      <td>0.4202</td>\n",
              "    </tr>\n",
              "    <tr>\n",
              "      <th>7</th>\n",
              "      <td>0.5855</td>\n",
              "    </tr>\n",
              "    <tr>\n",
              "      <th>8</th>\n",
              "      <td>0.7233</td>\n",
              "    </tr>\n",
              "    <tr>\n",
              "      <th>9</th>\n",
              "      <td>0.8350</td>\n",
              "    </tr>\n",
              "    <tr>\n",
              "      <th>10</th>\n",
              "      <td>0.9184</td>\n",
              "    </tr>\n",
              "    <tr>\n",
              "      <th>11</th>\n",
              "      <td>0.9739</td>\n",
              "    </tr>\n",
              "    <tr>\n",
              "      <th>12</th>\n",
              "      <td>1.0000</td>\n",
              "    </tr>\n",
              "  </tbody>\n",
              "</table>\n",
              "</div><br><label><b>dtype:</b> float64</label>"
            ]
          },
          "metadata": {},
          "execution_count": 21
        }
      ]
    },
    {
      "cell_type": "code",
      "source": [
        "np.cumsum(s).plot(kind='bar')"
      ],
      "metadata": {
        "colab": {
          "base_uri": "https://localhost:8080/",
          "height": 451
        },
        "id": "b5JfV4WHg3yT",
        "outputId": "38ba19c6-e218-40fd-efc9-825065e88fd3"
      },
      "execution_count": null,
      "outputs": [
        {
          "output_type": "execute_result",
          "data": {
            "text/plain": [
              "<Axes: >"
            ]
          },
          "metadata": {},
          "execution_count": 23
        },
        {
          "output_type": "display_data",
          "data": {
            "text/plain": [
              "<Figure size 640x480 with 1 Axes>"
            ],
            "image/png": "[encoded data removed]"
          },
          "metadata": {}
        }
      ]
    },
    {
      "cell_type": "code",
      "source": [
        "# PMF\n",
        "s.plot(kind='bar')"
      ],
      "metadata": {
        "colab": {
          "base_uri": "https://localhost:8080/",
          "height": 451
        },
        "id": "sVCRq8NHhJ_j",
        "outputId": "80ea92f4-1f2f-4616-f21d-517d79c5bc99"
      },
      "execution_count": null,
      "outputs": [
        {
          "output_type": "execute_result",
          "data": {
            "text/plain": [
              "<Axes: >"
            ]
          },
          "metadata": {},
          "execution_count": 22
        },
        {
          "output_type": "display_data",
          "data": {
            "text/plain": [
              "<Figure size 640x480 with 1 Axes>"
            ],
            "image/png": "[encoded data removed]"
          },
          "metadata": {}
        }
      ]
    },
    {
      "cell_type": "code",
      "source": [
        "# CDF of PMF\n",
        "np.cumsum(s).plot(kind='bar')"
      ],
      "metadata": {
        "colab": {
          "base_uri": "https://localhost:8080/",
          "height": 451
        },
        "id": "FuXtqLTThJ8f",
        "outputId": "883f9cd0-30c7-4eba-8ef5-8ffc2dfa750e"
      },
      "execution_count": null,
      "outputs": [
        {
          "output_type": "execute_result",
          "data": {
            "text/plain": [
              "<Axes: >"
            ]
          },
          "metadata": {},
          "execution_count": 24
        },
        {
          "output_type": "display_data",
          "data": {
            "text/plain": [
              "<Figure size 640x480 with 1 Axes>"
            ],
            "image/png": "[encoded data removed]"
          },
          "metadata": {}
        }
      ]
    },
    {
      "cell_type": "markdown",
      "source": [
        "### Parametric Density Estimation"
      ],
      "metadata": {
        "id": "KRpXlCfKE8-U"
      }
    },
    {
      "cell_type": "code",
      "source": [
        "import matplotlib.pyplot as plt\n",
        "import numpy as np\n",
        "from numpy.random import normal\n",
        "\n",
        "sample  = normal(loc=50,scale=5,size=1000)"
      ],
      "metadata": {
        "id": "tTrXokVahJ1F"
      },
      "execution_count": null,
      "outputs": []
    },
    {
      "cell_type": "code",
      "source": [
        "sample.mean()"
      ],
      "metadata": {
        "colab": {
          "base_uri": "https://localhost:8080/"
        },
        "id": "gjU7V-75hJxG",
        "outputId": "89904acf-0aa2-4e16-afaf-1940e2146a74"
      },
      "execution_count": null,
      "outputs": [
        {
          "output_type": "execute_result",
          "data": {
            "text/plain": [
              "np.float64(50.010608443814036)"
            ]
          },
          "metadata": {},
          "execution_count": 3
        }
      ]
    },
    {
      "cell_type": "code",
      "source": [
        "# plot histogram to understand the distribution of data\n",
        "plt.hist(sample,bins=10)"
      ],
      "metadata": {
        "colab": {
          "base_uri": "https://localhost:8080/",
          "height": 552
        },
        "id": "8V5IUos3FldR",
        "outputId": "2e971f22-263f-4992-fde7-f18838b4f15a"
      },
      "execution_count": null,
      "outputs": [
        {
          "output_type": "execute_result",
          "data": {
            "text/plain": [
              "(array([ 12.,  32., 125., 179., 253., 223., 122.,  43.,   9.,   2.]),\n",
              " array([35.01530024, 38.28930991, 41.56331958, 44.83732924, 48.11133891,\n",
              "        51.38534857, 54.65935824, 57.9333679 , 61.20737757, 64.48138723,\n",
              "        67.7553969 ]),\n",
              " <BarContainer object of 10 artists>)"
            ]
          },
          "metadata": {},
          "execution_count": 4
        },
        {
          "output_type": "display_data",
          "data": {
            "text/plain": [
              "<Figure size 640x480 with 1 Axes>"
            ],
            "image/png": "[encoded data removed]"
          },
          "metadata": {}
        }
      ]
    },
    {
      "cell_type": "code",
      "source": [
        "# calculate sample mean and sample std dev\n",
        "sample_mean = sample.mean()\n",
        "sample_std = sample.std()"
      ],
      "metadata": {
        "id": "1BIBe4NFFlZu"
      },
      "execution_count": null,
      "outputs": []
    },
    {
      "cell_type": "code",
      "source": [],
      "metadata": {
        "id": "lgG5ihN3xsPw"
      },
      "execution_count": null,
      "outputs": []
    },
    {
      "cell_type": "code",
      "source": [
        "# fit the disribution with the above parameter\n",
        "from scipy.stats import norm\n",
        "dist  = norm(sample_mean,sample_std)"
      ],
      "metadata": {
        "id": "22vraLICFlXE"
      },
      "execution_count": null,
      "outputs": []
    },
    {
      "cell_type": "code",
      "source": [
        "values = np.linspace(sample.min(),sample.max(),100)"
      ],
      "metadata": {
        "id": "bQAb0MM6GYBG"
      },
      "execution_count": null,
      "outputs": []
    },
    {
      "cell_type": "code",
      "source": [
        "sample.min()"
      ],
      "metadata": {
        "colab": {
          "base_uri": "https://localhost:8080/"
        },
        "id": "uFaiypgwGXoi",
        "outputId": "e32328e4-baff-453e-fc5a-2282e85a683d"
      },
      "execution_count": null,
      "outputs": [
        {
          "output_type": "execute_result",
          "data": {
            "text/plain": [
              "np.float64(32.614203476597424)"
            ]
          },
          "metadata": {},
          "execution_count": 31
        }
      ]
    },
    {
      "cell_type": "code",
      "source": [
        "sample.max()"
      ],
      "metadata": {
        "colab": {
          "base_uri": "https://localhost:8080/"
        },
        "id": "8FW9Kgz8GXlD",
        "outputId": "afc312f4-bf42-4771-a694-0fa109e800e2"
      },
      "execution_count": null,
      "outputs": [
        {
          "output_type": "execute_result",
          "data": {
            "text/plain": [
              "np.float64(63.7668761944242)"
            ]
          },
          "metadata": {},
          "execution_count": 32
        }
      ]
    },
    {
      "cell_type": "code",
      "source": [
        "probabilities = [dist.pdf(value) for value in values]"
      ],
      "metadata": {
        "id": "ByTinP5OG9BM"
      },
      "execution_count": null,
      "outputs": []
    },
    {
      "cell_type": "code",
      "source": [
        "# plot the histogram and pdf\n",
        "plt.hist(sample,bins=10,density=True)\n",
        "plt.plot(values,probabilities)"
      ],
      "metadata": {
        "colab": {
          "base_uri": "https://localhost:8080/",
          "height": 447
        },
        "id": "0Wh9wbp1G8-G",
        "outputId": "0f486682-e0b5-4d1d-f760-523a042395f7"
      },
      "execution_count": null,
      "outputs": [
        {
          "output_type": "execute_result",
          "data": {
            "text/plain": [
              "[<matplotlib.lines.Line2D at 0x78c41aaba8d0>]"
            ]
          },
          "metadata": {},
          "execution_count": 34
        },
        {
          "output_type": "display_data",
          "data": {
            "text/plain": [
              "<Figure size 640x480 with 1 Axes>"
            ],
            "image/png": "[encoded data removed]"
          },
          "metadata": {}
        }
      ]
    },
    {
      "cell_type": "code",
      "source": [
        "import seaborn as sns\n",
        "sns.displot(sample)"
      ],
      "metadata": {
        "colab": {
          "base_uri": "https://localhost:8080/",
          "height": 523
        },
        "id": "3ChyVxmXG87q",
        "outputId": "83a47a17-ce24-4a65-c801-5f9bb4500358"
      },
      "execution_count": null,
      "outputs": [
        {
          "output_type": "execute_result",
          "data": {
            "text/plain": [
              "<seaborn.axisgrid.FacetGrid at 0x78c41aab8170>"
            ]
          },
          "metadata": {},
          "execution_count": 35
        },
        {
          "output_type": "display_data",
          "data": {
            "text/plain": [
              "<Figure size 500x500 with 1 Axes>"
            ],
            "image/png": "[encoded data removed]"
          },
          "metadata": {}
        }
      ]
    },
    {
      "cell_type": "markdown",
      "source": [
        "### KDE"
      ],
      "metadata": {
        "id": "t-TcOK5DNEPV"
      }
    },
    {
      "cell_type": "code",
      "source": [
        "sample1 = normal(loc=20 , scale=5 , size = 300)\n",
        "sample2 = normal(loc = 40 , scale = 5 , size = 700)\n",
        "sample = np.hstack((sample1,sample2))"
      ],
      "metadata": {
        "id": "QLkZH9bPG84a"
      },
      "execution_count": null,
      "outputs": []
    },
    {
      "cell_type": "code",
      "source": [
        "sample"
      ],
      "metadata": {
        "colab": {
          "base_uri": "https://localhost:8080/"
        },
        "id": "4VQ6BneAODvW",
        "outputId": "b359c391-b07d-4aec-8dbf-f96098532b50"
      },
      "execution_count": null,
      "outputs": [
        {
          "output_type": "execute_result",
          "data": {
            "text/plain": [
              "array([14.2373875 , 15.6344082 , 21.07008637, 27.23984511, 24.91288361,\n",
              "       19.63482783, 26.4225884 , 11.95124907, 33.0287541 , 22.88645886,\n",
              "       30.39319607, 26.43651816, 27.68494138, 25.09154193, 23.00313156,\n",
              "       22.58485147, 23.18824995, 17.92065158, 26.96156167, 16.61314655,\n",
              "       20.93653422, 20.92951595, 15.0921714 , 33.16096889, 24.95892354,\n",
              "       11.64248794, 18.50748143, 16.21688321, 18.49425606, 17.32378727,\n",
              "       17.44498572,  9.59131913,  6.31949792, 13.71928738, 20.27394451,\n",
              "       13.79505672, 14.42421889, 16.22307785, 22.40070739, 13.66853838,\n",
              "       26.44860138, 20.17308728, 23.14847033, 16.0513902 , 22.17767616,\n",
              "       22.44466691, 21.74422719, 17.00685378, 14.36360821, 23.99450183,\n",
              "       13.03740475, 23.30146413, 27.07523961, 13.65535713, 24.14783794,\n",
              "       17.21045121, 15.91150461, 18.66647177, 15.44461995, 18.33035238,\n",
              "       12.63302792, 15.63992347, 25.99291904, 22.75431717, 29.16552783,\n",
              "       22.87698623, 23.48149437, 15.95352514, 26.08610692, 23.63584567,\n",
              "       21.56102213, 16.97535388, 16.17423334, 22.32445413, 20.29281112,\n",
              "       16.61079663, 14.48541136, 17.61356278, 23.07389422, 23.69697941,\n",
              "       28.24746552, 35.97323844, 19.04556831, 12.97657753, 18.02984633,\n",
              "       16.00413101, 23.21705875, 25.85481133, 15.64649492, 20.75518677,\n",
              "       19.64926176, 13.04137572, 25.88047847, 28.93181424, 15.59652964,\n",
              "       24.77120691, 26.27756498, 12.196358  , 23.39681272,  8.86968739,\n",
              "       18.91037257, 26.36485817, 19.57826124, 15.53858712, 22.38271359,\n",
              "       27.3242071 , 19.78337744, 27.17741214, 25.89669242, 18.7504629 ,\n",
              "       15.37011532, 17.41730255, 15.63354786, 15.20021333, 18.96810205,\n",
              "       16.62160657, 15.69791279, 19.71975158,  9.01768156, 28.159104  ,\n",
              "       12.88538475, 17.15990468, 24.369416  , 22.31160837, 16.30626658,\n",
              "       26.49869041, 19.71500051, 19.79372756, 26.1982426 , 20.29041755,\n",
              "       14.9066787 , 22.805925  , 18.9796176 , 22.98982306, 16.89716682,\n",
              "       20.31478695, 26.34171254, 11.41666387, 19.91515786, 19.15100978,\n",
              "       21.90830898, 18.13806872, 18.54562615, 15.13867398, 12.18926002,\n",
              "       15.19138379, 25.5359734 , 18.06378324, 19.25484136, 27.55556626,\n",
              "       16.92862744, 20.58641697, 14.00058915, 20.92346935, 21.5545041 ,\n",
              "        8.86114567, 20.4367445 , 19.0318907 , 16.35176979, 21.56784085,\n",
              "       31.02507438, 20.64384737, 24.26061018, 22.26507791, 22.90750841,\n",
              "       20.27656561, 25.3343541 , 22.72461997, 28.066187  , 15.03865349,\n",
              "       25.76244208, 29.31600339, 22.47536536, 25.15363057, 22.2824987 ,\n",
              "       22.9740939 ,  6.40073865, 17.12993376,  6.045046  , 24.99337748,\n",
              "       24.91282135, 21.97514583, 16.80763511, 24.7881754 , 24.82784778,\n",
              "       21.13057326, 22.8646341 , 14.69348256, 27.01060024, 23.27798231,\n",
              "       19.84553423, 19.48406144, 16.24173221, 21.33794588, 15.93994245,\n",
              "       15.23468312, 23.85295945, 16.24324534, 24.62250361, 22.44205695,\n",
              "       15.11493539, 22.00428982, 20.73766309, 22.48692225, 17.27229074,\n",
              "       26.49194751, 24.81627449, 22.17054758, 19.44334789, 22.13342712,\n",
              "       16.77278747, 20.09529668, 18.0726047 , 14.99034166, 19.72273934,\n",
              "       24.29508567, 15.87324112,  9.96157562, 22.24157714, 17.32677395,\n",
              "       24.63199698, 24.21941865, 14.34570862, 18.44335286, 20.52753882,\n",
              "       23.75212608, 16.39444069, 13.67512666, 24.04326032, 20.80250983,\n",
              "       16.2308431 , 17.39059479, 20.76488124, 28.56068417, 19.0123737 ,\n",
              "       19.07650863, 21.64422816, 19.84960053, 26.3248244 , 24.67859289,\n",
              "       15.22086303, 20.45609234, 11.43971373, 17.02979853, 17.9198844 ,\n",
              "       20.2961979 , 19.53840194, 22.77037728, 14.77365793, 27.12257871,\n",
              "       15.11183881, 17.97326581, 25.08457528, 19.09372325, 24.88364792,\n",
              "       10.0927649 , 18.37630321, 19.47247437, 18.65916181, 22.59871775,\n",
              "       16.64181169, 18.84574405, 11.28829058, 18.42563663, 22.93690988,\n",
              "       11.62478885, 14.42966131, 16.88600753, 18.81539664, 25.06810093,\n",
              "       17.90556027, 23.5586346 , 24.64685132, 25.64270744, 20.173985  ,\n",
              "       17.59325635, 25.40939623, 17.07374055, 13.71920205, 26.85509936,\n",
              "       17.85849269, 24.30545078, 17.68879132, 14.70476739, 13.55844647,\n",
              "       17.52555077, 25.33278723, 23.54812743, 21.61291664, 32.98823743,\n",
              "       19.53000433, 28.27220492, 19.54177592, 32.30786081, 20.72787961,\n",
              "       16.89660068, 20.80056432, 30.39791427, 17.52706056, 28.78494114,\n",
              "       45.3832409 , 31.34099791, 32.90821645, 42.38601829, 37.31668831,\n",
              "       31.5517707 , 36.69272613, 37.30218092, 44.30244059, 38.5587131 ,\n",
              "       37.62845549, 37.53852772, 39.18460292, 35.24118659, 30.51255628,\n",
              "       43.55229275, 42.07563351, 47.14649847, 50.5698419 , 31.24585874,\n",
              "       43.57400474, 38.10390265, 40.9080025 , 47.82692116, 38.84156487,\n",
              "       43.48025722, 36.59019237, 40.12750416, 49.50194427, 42.42869394,\n",
              "       39.39438044, 42.23666311, 29.16712903, 41.55411382, 43.29015641,\n",
              "       44.38862727, 37.23566539, 40.66866871, 38.40290082, 42.43678463,\n",
              "       41.98428768, 30.73243389, 36.0216601 , 33.32143921, 47.317993  ,\n",
              "       44.38009436, 44.45220976, 37.57170281, 35.89151175, 34.88038695,\n",
              "       39.14326687, 42.23970061, 39.218157  , 39.16515951, 35.70852325,\n",
              "       43.70036915, 40.6772525 , 47.79712453, 36.80621431, 38.33761661,\n",
              "       47.91167535, 42.9150253 , 37.8892257 , 36.82122518, 40.71711966,\n",
              "       39.80162678, 36.58923025, 28.20998852, 39.589253  , 35.38091962,\n",
              "       31.78624784, 34.66175469, 46.84555508, 43.22444615, 40.13466396,\n",
              "       42.51382548, 29.48818094, 33.69945487, 46.45659348, 43.51334687,\n",
              "       38.7596171 , 39.39768661, 38.55117662, 46.21863581, 44.30269754,\n",
              "       36.31493102, 31.26203252, 41.09312046, 37.60317726, 32.36423634,\n",
              "       32.91401583, 36.22743691, 41.03935882, 33.88469793, 45.63291763,\n",
              "       33.77934011, 41.32052144, 39.22903384, 35.54260687, 42.53348602,\n",
              "       37.13222748, 36.34491504, 41.56491323, 41.59842979, 32.26647999,\n",
              "       29.897843  , 48.2996959 , 32.74997097, 53.02082166, 43.92964082,\n",
              "       43.52020674, 37.56456713, 34.73163373, 37.49810985, 39.6684345 ,\n",
              "       30.17991246, 45.21579363, 50.00104226, 33.16002839, 39.31823198,\n",
              "       41.10874905, 47.10857868, 35.2271157 , 38.26641626, 34.07101315,\n",
              "       48.13303393, 49.68442805, 38.11252798, 36.36716732, 35.96081069,\n",
              "       47.33806229, 38.14734397, 40.44459193, 46.22252734, 41.59125662,\n",
              "       44.26035528, 44.94335731, 39.42891881, 46.98099247, 37.85251215,\n",
              "       40.16046247, 47.17409967, 36.40451388, 41.08661751, 42.43914327,\n",
              "       41.1720961 , 40.56774777, 50.54887473, 35.23162349, 44.21074444,\n",
              "       35.45500349, 39.76018691, 37.73342369, 30.76182927, 44.32821137,\n",
              "       42.64234869, 40.50074201, 36.89407003, 34.57491862, 39.10775476,\n",
              "       44.20694612, 35.7867625 , 42.3624628 , 35.46887974, 44.05008632,\n",
              "       42.8371076 , 46.9551629 , 39.34237584, 43.4773878 , 37.70175466,\n",
              "       29.05681233, 41.30546902, 38.40197104, 53.35994077, 42.18024444,\n",
              "       42.27386084, 31.85062627, 44.29411171, 38.33920428, 49.19857752,\n",
              "       39.69278598, 39.78166913, 35.41008225, 35.57078273, 41.89438868,\n",
              "       46.82423015, 41.99795061, 44.2537077 , 40.67464582, 42.11774373,\n",
              "       45.32822907, 33.42554918, 45.42335498, 40.21119166, 46.34758133,\n",
              "       33.44912497, 32.75461666, 35.55355702, 33.67457383, 41.99922312,\n",
              "       47.82228913, 44.93262429, 41.82265592, 34.79811954, 34.4127473 ,\n",
              "       28.97736549, 41.02219493, 48.39223835, 34.7335042 , 41.88445542,\n",
              "       38.32168698, 41.35992945, 41.59510907, 40.95291808, 38.41724058,\n",
              "       32.1034971 , 44.17994346, 38.97843781, 39.45516164, 35.94541268,\n",
              "       29.59393542, 38.32088317, 36.035116  , 37.25347662, 43.56572292,\n",
              "       36.09089532, 44.52996072, 42.23014683, 39.10477222, 46.84435872,\n",
              "       44.02513354, 42.87546536, 48.86350183, 31.05545715, 33.4006049 ,\n",
              "       34.20239236, 39.33702706, 33.71762752, 37.47525997, 37.30453568,\n",
              "       35.78038659, 40.28276706, 44.28591634, 51.1661787 , 38.62435142,\n",
              "       47.47300467, 38.47000354, 36.71472715, 38.63678484, 38.77236896,\n",
              "       33.17715857, 38.53359611, 31.86298149, 43.17245372, 34.17363102,\n",
              "       44.93220415, 34.99751495, 37.95425231, 39.32480369, 37.70267085,\n",
              "       35.75968794, 34.97285795, 42.30257737, 41.69095061, 52.41065499,\n",
              "       47.71071286, 39.51568602, 39.04419798, 40.69644801, 40.63340327,\n",
              "       45.48031552, 32.87854894, 39.18575673, 44.05896272, 40.18189044,\n",
              "       40.59108904, 42.97651495, 40.33306353, 33.64902237, 37.66060762,\n",
              "       39.16955302, 36.26428454, 37.81257945, 40.54309403, 40.36078422,\n",
              "       36.6166661 , 33.53610686, 33.92615389, 38.70358442, 41.75212427,\n",
              "       31.4203909 , 38.162352  , 33.56738514, 43.83939201, 44.75832191,\n",
              "       39.90949063, 36.86168251, 35.87243634, 34.59880186, 34.6087456 ,\n",
              "       35.98392744, 41.14444001, 32.10101743, 42.87397004, 45.25714483,\n",
              "       46.71699685, 34.90417214, 46.34484712, 41.28345052, 37.36317374,\n",
              "       41.8420184 , 35.14591229, 32.17586095, 33.9827977 , 49.69541717,\n",
              "       49.7533005 , 39.88167603, 39.95461487, 37.44162005, 34.93932668,\n",
              "       39.13163669, 51.61498082, 38.52652265, 27.72578854, 44.64298182,\n",
              "       35.54357682, 44.7766304 , 42.67707286, 37.12351354, 43.59098816,\n",
              "       35.44238327, 27.76221652, 45.76708557, 36.37662792, 37.99815742,\n",
              "       40.45663879, 44.98251535, 40.68155993, 41.63494408, 34.04398057,\n",
              "       36.9963665 , 42.1445824 , 44.32982039, 36.72100098, 43.47082675,\n",
              "       41.66687321, 40.18966427, 38.0972077 , 39.59276971, 37.46841014,\n",
              "       43.32316939, 34.50677767, 44.30479767, 42.99221918, 45.51158747,\n",
              "       42.27713758, 41.32610406, 37.11094298, 29.46844542, 48.51335951,\n",
              "       41.53633237, 27.36004007, 48.42886711, 34.16867508, 46.78871039,\n",
              "       38.72848297, 36.68590232, 49.56225949, 40.29265896, 37.31182927,\n",
              "       34.90798643, 45.79186364, 29.80797309, 50.26355061, 36.64910393,\n",
              "       41.25974188, 39.5297204 , 37.42192805, 44.30980938, 44.04660455,\n",
              "       35.97971824, 35.85472535, 48.53918102, 51.9680534 , 41.33363221,\n",
              "       43.0394502 , 49.10801726, 40.42719929, 40.07071448, 50.29207208,\n",
              "       47.3630238 , 37.9368202 , 40.94476994, 41.28993235, 43.40133853,\n",
              "       39.16265189, 37.51559239, 46.00233235, 42.35300027, 35.77946143,\n",
              "       35.17481536, 42.43611336, 34.97786949, 43.64853567, 40.79836258,\n",
              "       41.39658493, 35.67408553, 28.32116459, 42.5538208 , 41.972011  ,\n",
              "       44.78428376, 40.83722796, 42.34243503, 37.80331855, 35.37307158,\n",
              "       47.39075967, 47.71167251, 40.13268519, 45.08048917, 39.7422259 ,\n",
              "       40.30633627, 37.85512901, 44.07283636, 34.51829016, 41.64283403,\n",
              "       42.67397733, 37.39617093, 39.30353299, 35.47145287, 46.55706295,\n",
              "       46.56688599, 43.79935904, 42.37935551, 43.95771765, 36.36604676,\n",
              "       38.1357533 , 46.11563212, 43.8500188 , 41.88536723, 41.49210732,\n",
              "       39.24078738, 38.84275069, 41.81192702, 32.83322434, 44.41811896,\n",
              "       33.30679596, 29.76722873, 40.08582217, 45.16603644, 41.13504939,\n",
              "       41.30908889, 38.61974275, 33.88485309, 42.55225901, 51.8796653 ,\n",
              "       40.83756759, 34.22993279, 33.8362045 , 48.62761147, 40.87701663,\n",
              "       40.73609794, 36.58857101, 33.05463274, 43.74320468, 29.97938505,\n",
              "       45.42254866, 43.49837738, 38.7534846 , 41.48180816, 41.26002031,\n",
              "       38.10756934, 38.10175083, 39.23680147, 41.87962906, 40.84653883,\n",
              "       39.64426644, 48.01576876, 54.87466918, 34.19202384, 44.02179553,\n",
              "       49.69561135, 33.93472433, 42.06864121, 33.83311687, 43.9777226 ,\n",
              "       37.48743346, 37.04546377, 35.26368147, 27.48220073, 40.17649073,\n",
              "       36.16086812, 41.40032326, 49.57064186, 47.88078025, 30.44020419,\n",
              "       43.12552902, 45.00427967, 39.72962913, 38.31744026, 40.44910642,\n",
              "       37.892422  , 38.77631726, 49.41787542, 44.40914382, 39.50237306,\n",
              "       50.05658446, 38.72904339, 34.80521339, 39.69246456, 41.88990152,\n",
              "       43.29868273, 43.97333644, 34.8186382 , 44.47747731, 45.43858329,\n",
              "       34.07862647, 43.73969588, 42.37647916, 48.88771142, 36.69853286,\n",
              "       32.62898803, 45.28028265, 33.50430466, 42.83512809, 41.28285317,\n",
              "       40.28840217, 41.45843367, 34.92129329, 45.90789637, 42.13414722,\n",
              "       52.1524063 , 36.88763043, 46.25736692, 44.88573118, 45.97232565,\n",
              "       31.0034745 , 46.46510982, 49.88140534, 44.35884589, 41.76134912,\n",
              "       43.00655969, 39.47456851, 39.03648967, 40.72286758, 37.91516189,\n",
              "       34.63779854, 39.50896872, 39.41152757, 45.55146576, 37.26257393,\n",
              "       44.63336327, 38.80170553, 48.63480976, 43.42360675, 41.30717644,\n",
              "       42.86766977, 56.30068395, 41.85865016, 38.92602552, 40.94738169,\n",
              "       37.43261438, 42.22591653, 36.90448137, 42.57319036, 45.40147118,\n",
              "       39.25873352, 45.51122314, 31.69361208, 38.82966685, 43.34015259,\n",
              "       48.50988345, 41.61001921, 41.90993602, 41.04915617, 38.65041981,\n",
              "       31.98550821, 41.81064795, 32.87845222, 45.60617535, 43.88219686,\n",
              "       41.68986285, 36.20553571, 38.95407148, 39.48859222, 44.30942509,\n",
              "       34.49618654, 36.25505333, 44.68181544, 35.26268454, 33.69254901,\n",
              "       46.15836296, 45.94461439, 43.65179847, 37.14139687, 46.35765947,\n",
              "       47.74081595, 43.16063898, 40.25988339, 32.88320256, 45.50321439,\n",
              "       50.8033358 , 37.46853631, 38.42458332, 34.75490301, 40.93712492,\n",
              "       35.26546568, 33.34297177, 43.2459766 , 49.38290759, 32.79665842,\n",
              "       33.87610817, 40.49485   , 48.21385855, 33.99639835, 42.42652458,\n",
              "       38.15965556, 47.99537747, 35.53936521, 45.90244796, 40.24773709,\n",
              "       44.75641705, 42.27449646, 40.73032789, 35.55211789, 39.21525177,\n",
              "       40.77057356, 33.34384303, 33.86925056, 43.92958589, 37.00065045,\n",
              "       42.4360554 , 38.72050758, 36.15535167, 37.70341224, 26.86373689,\n",
              "       42.68323221, 31.14822945, 31.51241447, 37.85665765, 34.97459604,\n",
              "       30.23286009, 47.49255419, 47.53728076, 42.79086164, 33.19079041,\n",
              "       33.65091075, 40.7577588 , 40.2166046 , 40.1736876 , 44.3077389 ,\n",
              "       37.49398275, 34.7023766 , 42.39949014, 37.77718283, 43.94486986,\n",
              "       33.88956647, 33.16603607, 31.61611497, 41.41697091, 34.68369205,\n",
              "       41.97222901, 35.97996445, 42.78223292, 33.88900101, 34.67717216,\n",
              "       39.95580139, 49.10944368, 30.1326531 , 33.2524552 , 42.09921498,\n",
              "       35.32173327, 41.23107349, 38.8132208 , 38.18788011, 46.57348226,\n",
              "       35.01728309, 34.96804284, 30.56111712, 43.74866416, 33.86548557,\n",
              "       36.99019706, 39.26023073, 41.76002606, 32.70683991, 35.85964637,\n",
              "       33.17544414, 48.27689238, 36.71938563, 47.02538169, 42.76843973,\n",
              "       33.57535804, 44.14336293, 35.3839598 , 39.90393984, 34.42418073,\n",
              "       44.6096572 , 42.25574037, 46.07006341, 35.03348805, 40.15539561])"
            ]
          },
          "metadata": {},
          "execution_count": 32
        }
      ]
    },
    {
      "cell_type": "code",
      "source": [
        "# plot histogram bins = 50\n",
        "plt.hist(sample,bins=50)"
      ],
      "metadata": {
        "colab": {
          "base_uri": "https://localhost:8080/",
          "height": 933
        },
        "id": "1VUtvZikODr5",
        "outputId": "c492b682-7643-4976-aaed-dd85d4af557c"
      },
      "execution_count": null,
      "outputs": [
        {
          "output_type": "execute_result",
          "data": {
            "text/plain": [
              "(array([ 1.,  0.,  1.,  1.,  1.,  1.,  4.,  3.,  4., 13., 11., 14., 17.,\n",
              "        24., 23., 24., 19., 21., 22., 17., 12., 17., 19., 14.,  7.,  5.,\n",
              "        11.,  9., 19., 16., 20., 25., 45., 42., 52., 51., 62., 47., 60.,\n",
              "        56., 52., 44., 23., 20., 20., 12.,  8.,  9.,  1.,  1.]),\n",
              " array([ 3.3371729 ,  4.33539407,  5.33361524,  6.33183641,  7.33005758,\n",
              "         8.32827876,  9.32649993, 10.3247211 , 11.32294227, 12.32116344,\n",
              "        13.31938461, 14.31760578, 15.31582695, 16.31404812, 17.31226929,\n",
              "        18.31049046, 19.30871163, 20.3069328 , 21.30515398, 22.30337515,\n",
              "        23.30159632, 24.29981749, 25.29803866, 26.29625983, 27.294481  ,\n",
              "        28.29270217, 29.29092334, 30.28914451, 31.28736568, 32.28558685,\n",
              "        33.28380802, 34.2820292 , 35.28025037, 36.27847154, 37.27669271,\n",
              "        38.27491388, 39.27313505, 40.27135622, 41.26957739, 42.26779856,\n",
              "        43.26601973, 44.2642409 , 45.26246207, 46.26068324, 47.25890441,\n",
              "        48.25712559, 49.25534676, 50.25356793, 51.2517891 , 52.25001027,\n",
              "        53.24823144]),\n",
              " <BarContainer object of 50 artists>)"
            ]
          },
          "metadata": {},
          "execution_count": 9
        },
        {
          "output_type": "display_data",
          "data": {
            "text/plain": [
              "<Figure size 640x480 with 1 Axes>"
            ],
            "image/png": "[encoded data removed]"
          },
          "metadata": {}
        }
      ]
    },
    {
      "cell_type": "code",
      "source": [
        "from sklearn.neighbors import KernelDensity\n",
        "model = KernelDensity(kernel='gaussian',bandwidth=3)\n",
        "\n",
        "# convert data to a 2D array\n",
        "sample = sample.reshape(len(sample),1)\n",
        "\n",
        "# fit the model\n",
        "model.fit(sample)"
      ],
      "metadata": {
        "colab": {
          "base_uri": "https://localhost:8080/",
          "height": 80
        },
        "id": "1DxeRX9mOaMF",
        "outputId": "9f71354e-d81e-4d1e-8640-c5edd5f33449"
      },
      "execution_count": null,
      "outputs": [
        {
          "output_type": "execute_result",
          "data": {
            "text/plain": [
              "KernelDensity(bandwidth=3)"
            ],
            "text/html": [
              "<style>#sk-container-id-1 {\n",
              "  /* Definition of color scheme common for light and dark mode */\n",
              "  --sklearn-color-text: #000;\n",
              "  --sklearn-color-text-muted: #666;\n",
              "  --sklearn-color-line: gray;\n",
              "  /* Definition of color scheme for unfitted estimators */\n",
              "  --sklearn-color-unfitted-level-0: #fff5e6;\n",
              "  --sklearn-color-unfitted-level-1: #f6e4d2;\n",
              "  --sklearn-color-unfitted-level-2: #ffe0b3;\n",
              "  --sklearn-color-unfitted-level-3: chocolate;\n",
              "  /* Definition of color scheme for fitted estimators */\n",
              "  --sklearn-color-fitted-level-0: #f0f8ff;\n",
              "  --sklearn-color-fitted-level-1: #d4ebff;\n",
              "  --sklearn-color-fitted-level-2: #b3dbfd;\n",
              "  --sklearn-color-fitted-level-3: cornflowerblue;\n",
              "\n",
              "  /* Specific color for light theme */\n",
              "  --sklearn-color-text-on-default-background: var(--sg-text-color, var(--theme-code-foreground, var(--jp-content-font-color1, black)));\n",
              "  --sklearn-color-background: var(--sg-background-color, var(--theme-background, var(--jp-layout-color0, white)));\n",
              "  --sklearn-color-border-box: var(--sg-text-color, var(--theme-code-foreground, var(--jp-content-font-color1, black)));\n",
              "  --sklearn-color-icon: #696969;\n",
              "\n",
              "  @media (prefers-color-scheme: dark) {\n",
              "    /* Redefinition of color scheme for dark theme */\n",
              "    --sklearn-color-text-on-default-background: var(--sg-text-color, var(--theme-code-foreground, var(--jp-content-font-color1, white)));\n",
              "    --sklearn-color-background: var(--sg-background-color, var(--theme-background, var(--jp-layout-color0, #111)));\n",
              "    --sklearn-color-border-box: var(--sg-text-color, var(--theme-code-foreground, var(--jp-content-font-color1, white)));\n",
              "    --sklearn-color-icon: #878787;\n",
              "  }\n",
              "}\n",
              "\n",
              "#sk-container-id-1 {\n",
              "  color: var(--sklearn-color-text);\n",
              "}\n",
              "\n",
              "#sk-container-id-1 pre {\n",
              "  padding: 0;\n",
              "}\n",
              "\n",
              "#sk-container-id-1 input.sk-hidden--visually {\n",
              "  border: 0;\n",
              "  clip: rect(1px 1px 1px 1px);\n",
              "  clip: rect(1px, 1px, 1px, 1px);\n",
              "  height: 1px;\n",
              "  margin: -1px;\n",
              "  overflow: hidden;\n",
              "  padding: 0;\n",
              "  position: absolute;\n",
              "  width: 1px;\n",
              "}\n",
              "\n",
              "#sk-container-id-1 div.sk-dashed-wrapped {\n",
              "  border: 1px dashed var(--sklearn-color-line);\n",
              "  margin: 0 0.4em 0.5em 0.4em;\n",
              "  box-sizing: border-box;\n",
              "  padding-bottom: 0.4em;\n",
              "  background-color: var(--sklearn-color-background);\n",
              "}\n",
              "\n",
              "#sk-container-id-1 div.sk-container {\n",
              "  /* jupyter's `normalize.less` sets `[hidden] { display: none; }`\n",
              "     but bootstrap.min.css set `[hidden] { display: none !important; }`\n",
              "     so we also need the `!important` here to be able to override the\n",
              "     default hidden behavior on the sphinx rendered scikit-learn.org.\n",
              "     See: https://github.com/scikit-learn/scikit-learn/issues/21755 */\n",
              "  display: inline-block !important;\n",
              "  position: relative;\n",
              "}\n",
              "\n",
              "#sk-container-id-1 div.sk-text-repr-fallback {\n",
              "  display: none;\n",
              "}\n",
              "\n",
              "div.sk-parallel-item,\n",
              "div.sk-serial,\n",
              "div.sk-item {\n",
              "  /* draw centered vertical line to link estimators */\n",
              "  background-image: linear-gradient(var(--sklearn-color-text-on-default-background), var(--sklearn-color-text-on-default-background));\n",
              "  background-size: 2px 100%;\n",
              "  background-repeat: no-repeat;\n",
              "  background-position: center center;\n",
              "}\n",
              "\n",
              "/* Parallel-specific style estimator block */\n",
              "\n",
              "#sk-container-id-1 div.sk-parallel-item::after {\n",
              "  content: \"\";\n",
              "  width: 100%;\n",
              "  border-bottom: 2px solid var(--sklearn-color-text-on-default-background);\n",
              "  flex-grow: 1;\n",
              "}\n",
              "\n",
              "#sk-container-id-1 div.sk-parallel {\n",
              "  display: flex;\n",
              "  align-items: stretch;\n",
              "  justify-content: center;\n",
              "  background-color: var(--sklearn-color-background);\n",
              "  position: relative;\n",
              "}\n",
              "\n",
              "#sk-container-id-1 div.sk-parallel-item {\n",
              "  display: flex;\n",
              "  flex-direction: column;\n",
              "}\n",
              "\n",
              "#sk-container-id-1 div.sk-parallel-item:first-child::after {\n",
              "  align-self: flex-end;\n",
              "  width: 50%;\n",
              "}\n",
              "\n",
              "#sk-container-id-1 div.sk-parallel-item:last-child::after {\n",
              "  align-self: flex-start;\n",
              "  width: 50%;\n",
              "}\n",
              "\n",
              "#sk-container-id-1 div.sk-parallel-item:only-child::after {\n",
              "  width: 0;\n",
              "}\n",
              "\n",
              "/* Serial-specific style estimator block */\n",
              "\n",
              "#sk-container-id-1 div.sk-serial {\n",
              "  display: flex;\n",
              "  flex-direction: column;\n",
              "  align-items: center;\n",
              "  background-color: var(--sklearn-color-background);\n",
              "  padding-right: 1em;\n",
              "  padding-left: 1em;\n",
              "}\n",
              "\n",
              "\n",
              "/* Toggleable style: style used for estimator/Pipeline/ColumnTransformer box that is\n",
              "clickable and can be expanded/collapsed.\n",
              "- Pipeline and ColumnTransformer use this feature and define the default style\n",
              "- Estimators will overwrite some part of the style using the `sk-estimator` class\n",
              "*/\n",
              "\n",
              "/* Pipeline and ColumnTransformer style (default) */\n",
              "\n",
              "#sk-container-id-1 div.sk-toggleable {\n",
              "  /* Default theme specific background. It is overwritten whether we have a\n",
              "  specific estimator or a Pipeline/ColumnTransformer */\n",
              "  background-color: var(--sklearn-color-background);\n",
              "}\n",
              "\n",
              "/* Toggleable label */\n",
              "#sk-container-id-1 label.sk-toggleable__label {\n",
              "  cursor: pointer;\n",
              "  display: flex;\n",
              "  width: 100%;\n",
              "  margin-bottom: 0;\n",
              "  padding: 0.5em;\n",
              "  box-sizing: border-box;\n",
              "  text-align: center;\n",
              "  align-items: start;\n",
              "  justify-content: space-between;\n",
              "  gap: 0.5em;\n",
              "}\n",
              "\n",
              "#sk-container-id-1 label.sk-toggleable__label .caption {\n",
              "  font-size: 0.6rem;\n",
              "  font-weight: lighter;\n",
              "  color: var(--sklearn-color-text-muted);\n",
              "}\n",
              "\n",
              "#sk-container-id-1 label.sk-toggleable__label-arrow:before {\n",
              "  /* Arrow on the left of the label */\n",
              "  content: \"▸\";\n",
              "  float: left;\n",
              "  margin-right: 0.25em;\n",
              "  color: var(--sklearn-color-icon);\n",
              "}\n",
              "\n",
              "#sk-container-id-1 label.sk-toggleable__label-arrow:hover:before {\n",
              "  color: var(--sklearn-color-text);\n",
              "}\n",
              "\n",
              "/* Toggleable content - dropdown */\n",
              "\n",
              "#sk-container-id-1 div.sk-toggleable__content {\n",
              "  max-height: 0;\n",
              "  max-width: 0;\n",
              "  overflow: hidden;\n",
              "  text-align: left;\n",
              "  /* unfitted */\n",
              "  background-color: var(--sklearn-color-unfitted-level-0);\n",
              "}\n",
              "\n",
              "#sk-container-id-1 div.sk-toggleable__content.fitted {\n",
              "  /* fitted */\n",
              "  background-color: var(--sklearn-color-fitted-level-0);\n",
              "}\n",
              "\n",
              "#sk-container-id-1 div.sk-toggleable__content pre {\n",
              "  margin: 0.2em;\n",
              "  border-radius: 0.25em;\n",
              "  color: var(--sklearn-color-text);\n",
              "  /* unfitted */\n",
              "  background-color: var(--sklearn-color-unfitted-level-0);\n",
              "}\n",
              "\n",
              "#sk-container-id-1 div.sk-toggleable__content.fitted pre {\n",
              "  /* unfitted */\n",
              "  background-color: var(--sklearn-color-fitted-level-0);\n",
              "}\n",
              "\n",
              "#sk-container-id-1 input.sk-toggleable__control:checked~div.sk-toggleable__content {\n",
              "  /* Expand drop-down */\n",
              "  max-height: 200px;\n",
              "  max-width: 100%;\n",
              "  overflow: auto;\n",
              "}\n",
              "\n",
              "#sk-container-id-1 input.sk-toggleable__control:checked~label.sk-toggleable__label-arrow:before {\n",
              "  content: \"▾\";\n",
              "}\n",
              "\n",
              "/* Pipeline/ColumnTransformer-specific style */\n",
              "\n",
              "#sk-container-id-1 div.sk-label input.sk-toggleable__control:checked~label.sk-toggleable__label {\n",
              "  color: var(--sklearn-color-text);\n",
              "  background-color: var(--sklearn-color-unfitted-level-2);\n",
              "}\n",
              "\n",
              "#sk-container-id-1 div.sk-label.fitted input.sk-toggleable__control:checked~label.sk-toggleable__label {\n",
              "  background-color: var(--sklearn-color-fitted-level-2);\n",
              "}\n",
              "\n",
              "/* Estimator-specific style */\n",
              "\n",
              "/* Colorize estimator box */\n",
              "#sk-container-id-1 div.sk-estimator input.sk-toggleable__control:checked~label.sk-toggleable__label {\n",
              "  /* unfitted */\n",
              "  background-color: var(--sklearn-color-unfitted-level-2);\n",
              "}\n",
              "\n",
              "#sk-container-id-1 div.sk-estimator.fitted input.sk-toggleable__control:checked~label.sk-toggleable__label {\n",
              "  /* fitted */\n",
              "  background-color: var(--sklearn-color-fitted-level-2);\n",
              "}\n",
              "\n",
              "#sk-container-id-1 div.sk-label label.sk-toggleable__label,\n",
              "#sk-container-id-1 div.sk-label label {\n",
              "  /* The background is the default theme color */\n",
              "  color: var(--sklearn-color-text-on-default-background);\n",
              "}\n",
              "\n",
              "/* On hover, darken the color of the background */\n",
              "#sk-container-id-1 div.sk-label:hover label.sk-toggleable__label {\n",
              "  color: var(--sklearn-color-text);\n",
              "  background-color: var(--sklearn-color-unfitted-level-2);\n",
              "}\n",
              "\n",
              "/* Label box, darken color on hover, fitted */\n",
              "#sk-container-id-1 div.sk-label.fitted:hover label.sk-toggleable__label.fitted {\n",
              "  color: var(--sklearn-color-text);\n",
              "  background-color: var(--sklearn-color-fitted-level-2);\n",
              "}\n",
              "\n",
              "/* Estimator label */\n",
              "\n",
              "#sk-container-id-1 div.sk-label label {\n",
              "  font-family: monospace;\n",
              "  font-weight: bold;\n",
              "  display: inline-block;\n",
              "  line-height: 1.2em;\n",
              "}\n",
              "\n",
              "#sk-container-id-1 div.sk-label-container {\n",
              "  text-align: center;\n",
              "}\n",
              "\n",
              "/* Estimator-specific */\n",
              "#sk-container-id-1 div.sk-estimator {\n",
              "  font-family: monospace;\n",
              "  border: 1px dotted var(--sklearn-color-border-box);\n",
              "  border-radius: 0.25em;\n",
              "  box-sizing: border-box;\n",
              "  margin-bottom: 0.5em;\n",
              "  /* unfitted */\n",
              "  background-color: var(--sklearn-color-unfitted-level-0);\n",
              "}\n",
              "\n",
              "#sk-container-id-1 div.sk-estimator.fitted {\n",
              "  /* fitted */\n",
              "  background-color: var(--sklearn-color-fitted-level-0);\n",
              "}\n",
              "\n",
              "/* on hover */\n",
              "#sk-container-id-1 div.sk-estimator:hover {\n",
              "  /* unfitted */\n",
              "  background-color: var(--sklearn-color-unfitted-level-2);\n",
              "}\n",
              "\n",
              "#sk-container-id-1 div.sk-estimator.fitted:hover {\n",
              "  /* fitted */\n",
              "  background-color: var(--sklearn-color-fitted-level-2);\n",
              "}\n",
              "\n",
              "/* Specification for estimator info (e.g. \"i\" and \"?\") */\n",
              "\n",
              "/* Common style for \"i\" and \"?\" */\n",
              "\n",
              ".sk-estimator-doc-link,\n",
              "a:link.sk-estimator-doc-link,\n",
              "a:visited.sk-estimator-doc-link {\n",
              "  float: right;\n",
              "  font-size: smaller;\n",
              "  line-height: 1em;\n",
              "  font-family: monospace;\n",
              "  background-color: var(--sklearn-color-background);\n",
              "  border-radius: 1em;\n",
              "  height: 1em;\n",
              "  width: 1em;\n",
              "  text-decoration: none !important;\n",
              "  margin-left: 0.5em;\n",
              "  text-align: center;\n",
              "  /* unfitted */\n",
              "  border: var(--sklearn-color-unfitted-level-1) 1pt solid;\n",
              "  color: var(--sklearn-color-unfitted-level-1);\n",
              "}\n",
              "\n",
              ".sk-estimator-doc-link.fitted,\n",
              "a:link.sk-estimator-doc-link.fitted,\n",
              "a:visited.sk-estimator-doc-link.fitted {\n",
              "  /* fitted */\n",
              "  border: var(--sklearn-color-fitted-level-1) 1pt solid;\n",
              "  color: var(--sklearn-color-fitted-level-1);\n",
              "}\n",
              "\n",
              "/* On hover */\n",
              "div.sk-estimator:hover .sk-estimator-doc-link:hover,\n",
              ".sk-estimator-doc-link:hover,\n",
              "div.sk-label-container:hover .sk-estimator-doc-link:hover,\n",
              ".sk-estimator-doc-link:hover {\n",
              "  /* unfitted */\n",
              "  background-color: var(--sklearn-color-unfitted-level-3);\n",
              "  color: var(--sklearn-color-background);\n",
              "  text-decoration: none;\n",
              "}\n",
              "\n",
              "div.sk-estimator.fitted:hover .sk-estimator-doc-link.fitted:hover,\n",
              ".sk-estimator-doc-link.fitted:hover,\n",
              "div.sk-label-container:hover .sk-estimator-doc-link.fitted:hover,\n",
              ".sk-estimator-doc-link.fitted:hover {\n",
              "  /* fitted */\n",
              "  background-color: var(--sklearn-color-fitted-level-3);\n",
              "  color: var(--sklearn-color-background);\n",
              "  text-decoration: none;\n",
              "}\n",
              "\n",
              "/* Span, style for the box shown on hovering the info icon */\n",
              ".sk-estimator-doc-link span {\n",
              "  display: none;\n",
              "  z-index: 9999;\n",
              "  position: relative;\n",
              "  font-weight: normal;\n",
              "  right: .2ex;\n",
              "  padding: .5ex;\n",
              "  margin: .5ex;\n",
              "  width: min-content;\n",
              "  min-width: 20ex;\n",
              "  max-width: 50ex;\n",
              "  color: var(--sklearn-color-text);\n",
              "  box-shadow: 2pt 2pt 4pt #999;\n",
              "  /* unfitted */\n",
              "  background: var(--sklearn-color-unfitted-level-0);\n",
              "  border: .5pt solid var(--sklearn-color-unfitted-level-3);\n",
              "}\n",
              "\n",
              ".sk-estimator-doc-link.fitted span {\n",
              "  /* fitted */\n",
              "  background: var(--sklearn-color-fitted-level-0);\n",
              "  border: var(--sklearn-color-fitted-level-3);\n",
              "}\n",
              "\n",
              ".sk-estimator-doc-link:hover span {\n",
              "  display: block;\n",
              "}\n",
              "\n",
              "/* \"?\"-specific style due to the `<a>` HTML tag */\n",
              "\n",
              "#sk-container-id-1 a.estimator_doc_link {\n",
              "  float: right;\n",
              "  font-size: 1rem;\n",
              "  line-height: 1em;\n",
              "  font-family: monospace;\n",
              "  background-color: var(--sklearn-color-background);\n",
              "  border-radius: 1rem;\n",
              "  height: 1rem;\n",
              "  width: 1rem;\n",
              "  text-decoration: none;\n",
              "  /* unfitted */\n",
              "  color: var(--sklearn-color-unfitted-level-1);\n",
              "  border: var(--sklearn-color-unfitted-level-1) 1pt solid;\n",
              "}\n",
              "\n",
              "#sk-container-id-1 a.estimator_doc_link.fitted {\n",
              "  /* fitted */\n",
              "  border: var(--sklearn-color-fitted-level-1) 1pt solid;\n",
              "  color: var(--sklearn-color-fitted-level-1);\n",
              "}\n",
              "\n",
              "/* On hover */\n",
              "#sk-container-id-1 a.estimator_doc_link:hover {\n",
              "  /* unfitted */\n",
              "  background-color: var(--sklearn-color-unfitted-level-3);\n",
              "  color: var(--sklearn-color-background);\n",
              "  text-decoration: none;\n",
              "}\n",
              "\n",
              "#sk-container-id-1 a.estimator_doc_link.fitted:hover {\n",
              "  /* fitted */\n",
              "  background-color: var(--sklearn-color-fitted-level-3);\n",
              "}\n",
              "</style><div id=\"sk-container-id-1\" class=\"sk-top-container\"><div class=\"sk-text-repr-fallback\"><pre>KernelDensity(bandwidth=3)</pre><b>In a Jupyter environment, please rerun this cell to show the HTML representation or trust the notebook. <br />On GitHub, the HTML representation is unable to render, please try loading this page with nbviewer.org.</b></div><div class=\"sk-container\" hidden><div class=\"sk-item\"><div class=\"sk-estimator fitted sk-toggleable\"><input class=\"sk-toggleable__control sk-hidden--visually\" id=\"sk-estimator-id-1\" type=\"checkbox\" checked><label for=\"sk-estimator-id-1\" class=\"sk-toggleable__label fitted sk-toggleable__label-arrow\"><div><div>KernelDensity</div></div><div><a class=\"sk-estimator-doc-link fitted\" rel=\"noreferrer\" target=\"_blank\" href=\"https://scikit-learn.org/1.6/modules/generated/sklearn.neighbors.KernelDensity.html\">?<span>Documentation for KernelDensity</span></a><span class=\"sk-estimator-doc-link fitted\">i<span>Fitted</span></span></div></label><div class=\"sk-toggleable__content fitted\"><pre>KernelDensity(bandwidth=3)</pre></div> </div></div></div></div>"
            ]
          },
          "metadata": {},
          "execution_count": 10
        }
      ]
    },
    {
      "cell_type": "code",
      "source": [
        "values = np.linspace(sample.min(),sample.max(),100)\n",
        "values = values.reshape((len(values),1))"
      ],
      "metadata": {
        "id": "CRaBA1z3OaIi"
      },
      "execution_count": null,
      "outputs": []
    },
    {
      "cell_type": "code",
      "source": [
        "probabilities = model.score_samples(values)\n",
        "probabilities = np.exp(probabilities)"
      ],
      "metadata": {
        "id": "tWKrRkuXOaGF"
      },
      "execution_count": null,
      "outputs": []
    },
    {
      "cell_type": "markdown",
      "source": [
        "`score_samples(values)` returns the log-density estimate of the input samples values. This is because the `score_samples()` method of the KernelDensity class returns the logarithm of the probability density estimate rather than the actual probability density estimate."
      ],
      "metadata": {
        "id": "_vX4yB6PPerD"
      }
    },
    {
      "cell_type": "code",
      "source": [
        "plt.hist(sample, bins=50, density=True)\n",
        "plt.plot(values[:],probabilities)\n",
        "plt.show()"
      ],
      "metadata": {
        "colab": {
          "base_uri": "https://localhost:8080/",
          "height": 430
        },
        "id": "3iicbYrzOaDj",
        "outputId": "001c7370-5d86-44c8-9d99-05e7f43cca0d"
      },
      "execution_count": null,
      "outputs": [
        {
          "output_type": "display_data",
          "data": {
            "text/plain": [
              "<Figure size 640x480 with 1 Axes>"
            ],
            "image/png": "[encoded data removed]"
          },
          "metadata": {}
        }
      ]
    },
    {
      "cell_type": "code",
      "source": [
        "sns.kdeplot(sample,bw_adjust=1)"
      ],
      "metadata": {
        "colab": {
          "base_uri": "https://localhost:8080/",
          "height": 176
        },
        "id": "zO_Tyu3dRUjr",
        "outputId": "78eec4ef-8497-4af6-86f1-056d168a6da3"
      },
      "execution_count": null,
      "outputs": [
        {
          "output_type": "error",
          "ename": "NameError",
          "evalue": "name 'sns' is not defined",
          "traceback": [
            "\u001b[0;31m---------------------------------------------------------------------------\u001b[0m",
            "\u001b[0;31mNameError\u001b[0m                                 Traceback (most recent call last)",
            "\u001b[0;32m/tmp/ipython-input-2065147617.py\u001b[0m in \u001b[0;36m<cell line: 0>\u001b[0;34m()\u001b[0m\n\u001b[0;32m----> 1\u001b[0;31m \u001b[0msns\u001b[0m\u001b[0;34m.\u001b[0m\u001b[0mkdeplot\u001b[0m\u001b[0;34m(\u001b[0m\u001b[0msample\u001b[0m\u001b[0;34m,\u001b[0m\u001b[0mbw_adjust\u001b[0m\u001b[0;34m=\u001b[0m\u001b[0;36m1\u001b[0m\u001b[0;34m)\u001b[0m\u001b[0;34m\u001b[0m\u001b[0;34m\u001b[0m\u001b[0m\n\u001b[0m",
            "\u001b[0;31mNameError\u001b[0m: name 'sns' is not defined"
          ]
        }
      ]
    },
    {
      "cell_type": "code",
      "source": [],
      "metadata": {
        "id": "1jus2RdFRUOD"
      },
      "execution_count": null,
      "outputs": []
    },
    {
      "cell_type": "code",
      "source": [],
      "metadata": {
        "id": "9BceSk3CRULM"
      },
      "execution_count": null,
      "outputs": []
    },
    {
      "cell_type": "code",
      "source": [],
      "metadata": {
        "id": "uhkj-kj8RUIz"
      },
      "execution_count": null,
      "outputs": []
    },
    {
      "cell_type": "code",
      "source": [],
      "metadata": {
        "id": "iAqhGIKeRUFN"
      },
      "execution_count": null,
      "outputs": []
    },
    {
      "cell_type": "code",
      "source": [
        "sns.kdeplot(data=df,x='petal_width',hue='species')"
      ],
      "metadata": {
        "colab": {
          "base_uri": "https://localhost:8080/",
          "height": 297
        },
        "id": "QrkO_gNGSM6v",
        "outputId": "d76ccd7f-3190-4d44-98a8-2f22bd972335"
      },
      "execution_count": null,
      "outputs": [
        {
          "output_type": "execute_result",
          "data": {
            "text/plain": [
              "<Axes: xlabel='petal_width', ylabel='Density'>"
            ]
          },
          "metadata": {},
          "execution_count": 17
        },
        {
          "output_type": "display_data",
          "data": {
            "text/plain": [
              "<Figure size 432x288 with 1 Axes>"
            ],
            "image/png": "[encoded data removed]"
          },
          "metadata": {
            "needs_background": "light"
          }
        }
      ]
    },
    {
      "cell_type": "code",
      "source": [],
      "metadata": {
        "id": "lZSdzNveSNGV"
      },
      "execution_count": null,
      "outputs": []
    },
    {
      "cell_type": "code",
      "source": [
        "sns.kdeplot(df['petal_width'],hue=df['species'])\n",
        "sns.ecdfplot(data=df,x='petal_width',hue='species')"
      ],
      "metadata": {
        "colab": {
          "base_uri": "https://localhost:8080/",
          "height": 297
        },
        "id": "gO8eZwpPPEe9",
        "outputId": "e37821ca-5a29-4355-e319-e9812efe2d30"
      },
      "execution_count": null,
      "outputs": [
        {
          "output_type": "execute_result",
          "data": {
            "text/plain": [
              "<AxesSubplot:xlabel='petal_width', ylabel='Density'>"
            ]
          },
          "metadata": {},
          "execution_count": 61
        },
        {
          "output_type": "display_data",
          "data": {
            "text/plain": [
              "<Figure size 432x288 with 1 Axes>"
            ],
            "image/png": "[encoded data removed]"
          },
          "metadata": {
            "needs_background": "light"
          }
        }
      ]
    },
    {
      "cell_type": "code",
      "source": [
        "titanic = pd.read_csv('https://raw.githubusercontent.com/datasciencedojo/datasets/master/titanic.csv')"
      ],
      "metadata": {
        "id": "Es7lOOwyRk7T"
      },
      "execution_count": null,
      "outputs": []
    },
    {
      "cell_type": "code",
      "source": [
        "titanic.head()"
      ],
      "metadata": {
        "colab": {
          "base_uri": "https://localhost:8080/",
          "height": 285
        },
        "id": "WDggW8PYRlcr",
        "outputId": "f15af5a9-bac3-402e-c28d-44e140d92454"
      },
      "execution_count": null,
      "outputs": [
        {
          "output_type": "execute_result",
          "data": {
            "text/plain": [
              "   PassengerId  Survived  Pclass  \\\n",
              "0            1         0       3   \n",
              "1            2         1       1   \n",
              "2            3         1       3   \n",
              "3            4         1       1   \n",
              "4            5         0       3   \n",
              "\n",
              "                                                Name     Sex   Age  SibSp  \\\n",
              "0                            Braund, Mr. Owen Harris    male  22.0      1   \n",
              "1  Cumings, Mrs. John Bradley (Florence Briggs Th...  female  38.0      1   \n",
              "2                             Heikkinen, Miss. Laina  female  26.0      0   \n",
              "3       Futrelle, Mrs. Jacques Heath (Lily May Peel)  female  35.0      1   \n",
              "4                           Allen, Mr. William Henry    male  35.0      0   \n",
              "\n",
              "   Parch            Ticket     Fare Cabin Embarked  \n",
              "0      0         A/5 21171   7.2500   NaN        S  \n",
              "1      0          PC 17599  71.2833   C85        C  \n",
              "2      0  STON/O2. 3101282   7.9250   NaN        S  \n",
              "3      0            113803  53.1000  C123        S  \n",
              "4      0            373450   8.0500   NaN        S  "
            ],
            "text/html": [
              "\n",
              "  <div id=\"df-f2e8ffe3-3034-44e1-ae5f-9f5c3eeeec6f\">\n",
              "    <div class=\"colab-df-container\">\n",
              "      <div>\n",
              "<style scoped>\n",
              "    .dataframe tbody tr th:only-of-type {\n",
              "        vertical-align: middle;\n",
              "    }\n",
              "\n",
              "    .dataframe tbody tr th {\n",
              "        vertical-align: top;\n",
              "    }\n",
              "\n",
              "    .dataframe thead th {\n",
              "        text-align: right;\n",
              "    }\n",
              "</style>\n",
              "<table border=\"1\" class=\"dataframe\">\n",
              "  <thead>\n",
              "    <tr style=\"text-align: right;\">\n",
              "      <th></th>\n",
              "      <th>PassengerId</th>\n",
              "      <th>Survived</th>\n",
              "      <th>Pclass</th>\n",
              "      <th>Name</th>\n",
              "      <th>Sex</th>\n",
              "      <th>Age</th>\n",
              "      <th>SibSp</th>\n",
              "      <th>Parch</th>\n",
              "      <th>Ticket</th>\n",
              "      <th>Fare</th>\n",
              "      <th>Cabin</th>\n",
              "      <th>Embarked</th>\n",
              "    </tr>\n",
              "  </thead>\n",
              "  <tbody>\n",
              "    <tr>\n",
              "      <th>0</th>\n",
              "      <td>1</td>\n",
              "      <td>0</td>\n",
              "      <td>3</td>\n",
              "      <td>Braund, Mr. Owen Harris</td>\n",
              "      <td>male</td>\n",
              "      <td>22.0</td>\n",
              "      <td>1</td>\n",
              "      <td>0</td>\n",
              "      <td>A/5 21171</td>\n",
              "      <td>7.2500</td>\n",
              "      <td>NaN</td>\n",
              "      <td>S</td>\n",
              "    </tr>\n",
              "    <tr>\n",
              "      <th>1</th>\n",
              "      <td>2</td>\n",
              "      <td>1</td>\n",
              "      <td>1</td>\n",
              "      <td>Cumings, Mrs. John Bradley (Florence Briggs Th...</td>\n",
              "      <td>female</td>\n",
              "      <td>38.0</td>\n",
              "      <td>1</td>\n",
              "      <td>0</td>\n",
              "      <td>PC 17599</td>\n",
              "      <td>71.2833</td>\n",
              "      <td>C85</td>\n",
              "      <td>C</td>\n",
              "    </tr>\n",
              "    <tr>\n",
              "      <th>2</th>\n",
              "      <td>3</td>\n",
              "      <td>1</td>\n",
              "      <td>3</td>\n",
              "      <td>Heikkinen, Miss. Laina</td>\n",
              "      <td>female</td>\n",
              "      <td>26.0</td>\n",
              "      <td>0</td>\n",
              "      <td>0</td>\n",
              "      <td>STON/O2. 3101282</td>\n",
              "      <td>7.9250</td>\n",
              "      <td>NaN</td>\n",
              "      <td>S</td>\n",
              "    </tr>\n",
              "    <tr>\n",
              "      <th>3</th>\n",
              "      <td>4</td>\n",
              "      <td>1</td>\n",
              "      <td>1</td>\n",
              "      <td>Futrelle, Mrs. Jacques Heath (Lily May Peel)</td>\n",
              "      <td>female</td>\n",
              "      <td>35.0</td>\n",
              "      <td>1</td>\n",
              "      <td>0</td>\n",
              "      <td>113803</td>\n",
              "      <td>53.1000</td>\n",
              "      <td>C123</td>\n",
              "      <td>S</td>\n",
              "    </tr>\n",
              "    <tr>\n",
              "      <th>4</th>\n",
              "      <td>5</td>\n",
              "      <td>0</td>\n",
              "      <td>3</td>\n",
              "      <td>Allen, Mr. William Henry</td>\n",
              "      <td>male</td>\n",
              "      <td>35.0</td>\n",
              "      <td>0</td>\n",
              "      <td>0</td>\n",
              "      <td>373450</td>\n",
              "      <td>8.0500</td>\n",
              "      <td>NaN</td>\n",
              "      <td>S</td>\n",
              "    </tr>\n",
              "  </tbody>\n",
              "</table>\n",
              "</div>\n",
              "      <button class=\"colab-df-convert\" onclick=\"convertToInteractive('df-f2e8ffe3-3034-44e1-ae5f-9f5c3eeeec6f')\"\n",
              "              title=\"Convert this dataframe to an interactive table.\"\n",
              "              style=\"display:none;\">\n",
              "        \n",
              "  <svg xmlns=\"http://www.w3.org/2000/svg\" height=\"24px\"viewBox=\"0 0 24 24\"\n",
              "       width=\"24px\">\n",
              "    <path d=\"M0 0h24v24H0V0z\" fill=\"none\"/>\n",
              "    <path d=\"M18.56 5.44l.94 2.06.94-2.06 2.06-.94-2.06-.94-.94-2.06-.94 2.06-2.06.94zm-11 1L8.5 8.5l.94-2.06 2.06-.94-2.06-.94L8.5 2.5l-.94 2.06-2.06.94zm10 10l.94 2.06.94-2.06 2.06-.94-2.06-.94-.94-2.06-.94 2.06-2.06.94z\"/><path d=\"M17.41 7.96l-1.37-1.37c-.4-.4-.92-.59-1.43-.59-.52 0-1.04.2-1.43.59L10.3 9.45l-7.72 7.72c-.78.78-.78 2.05 0 2.83L4 21.41c.39.39.9.59 1.41.59.51 0 1.02-.2 1.41-.59l7.78-7.78 2.81-2.81c.8-.78.8-2.07 0-2.86zM5.41 20L4 18.59l7.72-7.72 1.47 1.35L5.41 20z\"/>\n",
              "  </svg>\n",
              "      </button>\n",
              "      \n",
              "  <style>\n",
              "    .colab-df-container {\n",
              "      display:flex;\n",
              "      flex-wrap:wrap;\n",
              "      gap: 12px;\n",
              "    }\n",
              "\n",
              "    .colab-df-convert {\n",
              "      background-color: #E8F0FE;\n",
              "      border: none;\n",
              "      border-radius: 50%;\n",
              "      cursor: pointer;\n",
              "      display: none;\n",
              "      fill: #1967D2;\n",
              "      height: 32px;\n",
              "      padding: 0 0 0 0;\n",
              "      width: 32px;\n",
              "    }\n",
              "\n",
              "    .colab-df-convert:hover {\n",
              "      background-color: #E2EBFA;\n",
              "      box-shadow: 0px 1px 2px rgba(60, 64, 67, 0.3), 0px 1px 3px 1px rgba(60, 64, 67, 0.15);\n",
              "      fill: #174EA6;\n",
              "    }\n",
              "\n",
              "    [theme=dark] .colab-df-convert {\n",
              "      background-color: #3B4455;\n",
              "      fill: #D2E3FC;\n",
              "    }\n",
              "\n",
              "    [theme=dark] .colab-df-convert:hover {\n",
              "      background-color: #434B5C;\n",
              "      box-shadow: 0px 1px 3px 1px rgba(0, 0, 0, 0.15);\n",
              "      filter: drop-shadow(0px 1px 2px rgba(0, 0, 0, 0.3));\n",
              "      fill: #FFFFFF;\n",
              "    }\n",
              "  </style>\n",
              "\n",
              "      <script>\n",
              "        const buttonEl =\n",
              "          document.querySelector('#df-f2e8ffe3-3034-44e1-ae5f-9f5c3eeeec6f button.colab-df-convert');\n",
              "        buttonEl.style.display =\n",
              "          google.colab.kernel.accessAllowed ? 'block' : 'none';\n",
              "\n",
              "        async function convertToInteractive(key) {\n",
              "          const element = document.querySelector('#df-f2e8ffe3-3034-44e1-ae5f-9f5c3eeeec6f');\n",
              "          const dataTable =\n",
              "            await google.colab.kernel.invokeFunction('convertToInteractive',\n",
              "                                                     [key], {});\n",
              "          if (!dataTable) return;\n",
              "\n",
              "          const docLinkHtml = 'Like what you see? Visit the ' +\n",
              "            '<a target=\"_blank\" href=https://colab.research.google.com/notebooks/data_table.ipynb>data table notebook</a>'\n",
              "            + ' to learn more about interactive tables.';\n",
              "          element.innerHTML = '';\n",
              "          dataTable['output_type'] = 'display_data';\n",
              "          await google.colab.output.renderOutput(dataTable, element);\n",
              "          const docLink = document.createElement('div');\n",
              "          docLink.innerHTML = docLinkHtml;\n",
              "          element.appendChild(docLink);\n",
              "        }\n",
              "      </script>\n",
              "    </div>\n",
              "  </div>\n",
              "  "
            ]
          },
          "metadata": {},
          "execution_count": 19
        }
      ]
    },
    {
      "cell_type": "code",
      "source": [
        "# code here\n",
        "sns.kdeplot(data=titanic,x='Age',hue='Sex')"
      ],
      "metadata": {
        "colab": {
          "base_uri": "https://localhost:8080/",
          "height": 296
        },
        "id": "mwYpnDPNSDu1",
        "outputId": "e61f9827-fd5d-4e89-b7df-77d5c2f85f78"
      },
      "execution_count": null,
      "outputs": [
        {
          "output_type": "execute_result",
          "data": {
            "text/plain": [
              "<Axes: xlabel='Age', ylabel='Density'>"
            ]
          },
          "metadata": {},
          "execution_count": 21
        },
        {
          "output_type": "display_data",
          "data": {
            "text/plain": [
              "<Figure size 432x288 with 1 Axes>"
            ],
            "image/png": "[encoded data removed]"
          },
          "metadata": {
            "needs_background": "light"
          }
        }
      ]
    },
    {
      "cell_type": "code",
      "source": [
        " sns.jointplot(data=df, x=\"petal_length\", y=\"sepal_length\", kind=\"kde\",fill=True,cbar=True)"
      ],
      "metadata": {
        "colab": {
          "base_uri": "https://localhost:8080/",
          "height": 458
        },
        "id": "_5Az3OFmPNvn",
        "outputId": "1a5239a6-558b-4e4d-b9d5-1edf862d2f79"
      },
      "execution_count": null,
      "outputs": [
        {
          "output_type": "execute_result",
          "data": {
            "text/plain": [
              "<seaborn.axisgrid.JointGrid at 0x7f41e974e7c0>"
            ]
          },
          "metadata": {},
          "execution_count": 59
        },
        {
          "output_type": "display_data",
          "data": {
            "text/plain": [
              "<Figure size 432x432 with 4 Axes>"
            ],
            "image/png": "[encoded data removed]"
          },
          "metadata": {
            "needs_background": "light"
          }
        }
      ]
    },
    {
      "cell_type": "code",
      "source": [
        "sns.kdeplot(titanic['Age'])"
      ],
      "metadata": {
        "id": "HuCPjhWQSz5Q",
        "colab": {
          "base_uri": "https://localhost:8080/",
          "height": 296
        },
        "outputId": "a4396b99-d3e8-4426-c3ff-d92fd74dda18"
      },
      "execution_count": null,
      "outputs": [
        {
          "output_type": "execute_result",
          "data": {
            "text/plain": [
              "<Axes: xlabel='Age', ylabel='Density'>"
            ]
          },
          "metadata": {},
          "execution_count": 23
        },
        {
          "output_type": "display_data",
          "data": {
            "text/plain": [
              "<Figure size 432x288 with 1 Axes>"
            ],
            "image/png": "[encoded data removed]"
          },
          "metadata": {
            "needs_background": "light"
          }
        }
      ]
    },
    {
      "cell_type": "code",
      "source": [
        "titanic['Age'].mean()"
      ],
      "metadata": {
        "colab": {
          "base_uri": "https://localhost:8080/"
        },
        "id": "UU8EvZtkzLJH",
        "outputId": "35da9e11-07dc-48ee-bed2-edde8ab367d8"
      },
      "execution_count": null,
      "outputs": [
        {
          "output_type": "execute_result",
          "data": {
            "text/plain": [
              "29.69911764705882"
            ]
          },
          "metadata": {},
          "execution_count": 24
        }
      ]
    },
    {
      "cell_type": "code",
      "source": [
        "x = (titanic['Age'] - titanic['Age'].mean())/titanic['Age'].std()"
      ],
      "metadata": {
        "id": "-qZ7TLzXzWf6"
      },
      "execution_count": null,
      "outputs": []
    },
    {
      "cell_type": "code",
      "source": [
        "sns.kdeplot(x)"
      ],
      "metadata": {
        "colab": {
          "base_uri": "https://localhost:8080/",
          "height": 296
        },
        "id": "N1E-Wx3vzbpk",
        "outputId": "b8f9db68-59c2-47ce-8fb1-91089b3990fa"
      },
      "execution_count": null,
      "outputs": [
        {
          "output_type": "execute_result",
          "data": {
            "text/plain": [
              "<Axes: xlabel='Age', ylabel='Density'>"
            ]
          },
          "metadata": {},
          "execution_count": 28
        },
        {
          "output_type": "display_data",
          "data": {
            "text/plain": [
              "<Figure size 432x288 with 1 Axes>"
            ],
            "image/png": "[encoded data removed]"
          },
          "metadata": {
            "needs_background": "light"
          }
        }
      ]
    },
    {
      "cell_type": "code",
      "source": [
        "x.mean()"
      ],
      "metadata": {
        "colab": {
          "base_uri": "https://localhost:8080/"
        },
        "id": "HiyJuu1XzsS-",
        "outputId": "4442da60-baeb-44a4-b2eb-4999001d1d03"
      },
      "execution_count": null,
      "outputs": [
        {
          "output_type": "execute_result",
          "data": {
            "text/plain": [
              "2.338621049070358e-16"
            ]
          },
          "metadata": {},
          "execution_count": 29
        }
      ]
    },
    {
      "cell_type": "code",
      "source": [
        "x.std()"
      ],
      "metadata": {
        "colab": {
          "base_uri": "https://localhost:8080/"
        },
        "id": "hnxKg-YUzxBF",
        "outputId": "bc110ce5-2620-4aee-a9ba-4cdeebf06a6d"
      },
      "execution_count": null,
      "outputs": [
        {
          "output_type": "execute_result",
          "data": {
            "text/plain": [
              "1.0"
            ]
          },
          "metadata": {},
          "execution_count": 30
        }
      ]
    },
    {
      "cell_type": "code",
      "source": [
        "titanic['Age'].skew()"
      ],
      "metadata": {
        "colab": {
          "base_uri": "https://localhost:8080/"
        },
        "id": "zukZ3BmOz1XF",
        "outputId": "b12fe27e-d1ab-4c2d-9423-bb33bdc48cce"
      },
      "execution_count": null,
      "outputs": [
        {
          "output_type": "execute_result",
          "data": {
            "text/plain": [
              "0.38910778230082704"
            ]
          },
          "metadata": {},
          "execution_count": 32
        }
      ]
    },
    {
      "cell_type": "code",
      "source": [
        "titanic['Age'].mean() + 3*titanic['Age'].std()"
      ],
      "metadata": {
        "colab": {
          "base_uri": "https://localhost:8080/"
        },
        "id": "6EBKSsQd7SOy",
        "outputId": "d042a547-4320-48c8-9ec1-55137d352a14"
      },
      "execution_count": null,
      "outputs": [
        {
          "output_type": "execute_result",
          "data": {
            "text/plain": [
              "73.27860964406094"
            ]
          },
          "metadata": {},
          "execution_count": 33
        }
      ]
    },
    {
      "cell_type": "code",
      "source": [
        "titanic['Age'].mean() - 3*titanic['Age'].std()"
      ],
      "metadata": {
        "colab": {
          "base_uri": "https://localhost:8080/"
        },
        "id": "uf9R_YNL9uMs",
        "outputId": "b70b3edb-fda6-4ebe-ae77-fe613c79c493"
      },
      "execution_count": null,
      "outputs": [
        {
          "output_type": "execute_result",
          "data": {
            "text/plain": [
              "-13.880374349943303"
            ]
          },
          "metadata": {},
          "execution_count": 34
        }
      ]
    },
    {
      "cell_type": "code",
      "source": [
        "titanic[titanic['Age'] > 73]"
      ],
      "metadata": {
        "colab": {
          "base_uri": "https://localhost:8080/",
          "height": 112
        },
        "id": "rf3bBw7D9xgD",
        "outputId": "1b0db4c9-e0a0-4851-a162-71b0d1298c82"
      },
      "execution_count": null,
      "outputs": [
        {
          "output_type": "execute_result",
          "data": {
            "text/plain": [
              "     PassengerId  Survived  Pclass                                  Name  \\\n",
              "630          631         1       1  Barkworth, Mr. Algernon Henry Wilson   \n",
              "851          852         0       3                   Svensson, Mr. Johan   \n",
              "\n",
              "      Sex   Age  SibSp  Parch  Ticket    Fare Cabin Embarked  \n",
              "630  male  80.0      0      0   27042  30.000   A23        S  \n",
              "851  male  74.0      0      0  347060   7.775   NaN        S  "
            ],
            "text/html": [
              "\n",
              "  <div id=\"df-83d66de9-d78e-4ac5-a9d7-f1600ac3441d\">\n",
              "    <div class=\"colab-df-container\">\n",
              "      <div>\n",
              "<style scoped>\n",
              "    .dataframe tbody tr th:only-of-type {\n",
              "        vertical-align: middle;\n",
              "    }\n",
              "\n",
              "    .dataframe tbody tr th {\n",
              "        vertical-align: top;\n",
              "    }\n",
              "\n",
              "    .dataframe thead th {\n",
              "        text-align: right;\n",
              "    }\n",
              "</style>\n",
              "<table border=\"1\" class=\"dataframe\">\n",
              "  <thead>\n",
              "    <tr style=\"text-align: right;\">\n",
              "      <th></th>\n",
              "      <th>PassengerId</th>\n",
              "      <th>Survived</th>\n",
              "      <th>Pclass</th>\n",
              "      <th>Name</th>\n",
              "      <th>Sex</th>\n",
              "      <th>Age</th>\n",
              "      <th>SibSp</th>\n",
              "      <th>Parch</th>\n",
              "      <th>Ticket</th>\n",
              "      <th>Fare</th>\n",
              "      <th>Cabin</th>\n",
              "      <th>Embarked</th>\n",
              "    </tr>\n",
              "  </thead>\n",
              "  <tbody>\n",
              "    <tr>\n",
              "      <th>630</th>\n",
              "      <td>631</td>\n",
              "      <td>1</td>\n",
              "      <td>1</td>\n",
              "      <td>Barkworth, Mr. Algernon Henry Wilson</td>\n",
              "      <td>male</td>\n",
              "      <td>80.0</td>\n",
              "      <td>0</td>\n",
              "      <td>0</td>\n",
              "      <td>27042</td>\n",
              "      <td>30.000</td>\n",
              "      <td>A23</td>\n",
              "      <td>S</td>\n",
              "    </tr>\n",
              "    <tr>\n",
              "      <th>851</th>\n",
              "      <td>852</td>\n",
              "      <td>0</td>\n",
              "      <td>3</td>\n",
              "      <td>Svensson, Mr. Johan</td>\n",
              "      <td>male</td>\n",
              "      <td>74.0</td>\n",
              "      <td>0</td>\n",
              "      <td>0</td>\n",
              "      <td>347060</td>\n",
              "      <td>7.775</td>\n",
              "      <td>NaN</td>\n",
              "      <td>S</td>\n",
              "    </tr>\n",
              "  </tbody>\n",
              "</table>\n",
              "</div>\n",
              "      <button class=\"colab-df-convert\" onclick=\"convertToInteractive('df-83d66de9-d78e-4ac5-a9d7-f1600ac3441d')\"\n",
              "              title=\"Convert this dataframe to an interactive table.\"\n",
              "              style=\"display:none;\">\n",
              "        \n",
              "  <svg xmlns=\"http://www.w3.org/2000/svg\" height=\"24px\"viewBox=\"0 0 24 24\"\n",
              "       width=\"24px\">\n",
              "    <path d=\"M0 0h24v24H0V0z\" fill=\"none\"/>\n",
              "    <path d=\"M18.56 5.44l.94 2.06.94-2.06 2.06-.94-2.06-.94-.94-2.06-.94 2.06-2.06.94zm-11 1L8.5 8.5l.94-2.06 2.06-.94-2.06-.94L8.5 2.5l-.94 2.06-2.06.94zm10 10l.94 2.06.94-2.06 2.06-.94-2.06-.94-.94-2.06-.94 2.06-2.06.94z\"/><path d=\"M17.41 7.96l-1.37-1.37c-.4-.4-.92-.59-1.43-.59-.52 0-1.04.2-1.43.59L10.3 9.45l-7.72 7.72c-.78.78-.78 2.05 0 2.83L4 21.41c.39.39.9.59 1.41.59.51 0 1.02-.2 1.41-.59l7.78-7.78 2.81-2.81c.8-.78.8-2.07 0-2.86zM5.41 20L4 18.59l7.72-7.72 1.47 1.35L5.41 20z\"/>\n",
              "  </svg>\n",
              "      </button>\n",
              "      \n",
              "  <style>\n",
              "    .colab-df-container {\n",
              "      display:flex;\n",
              "      flex-wrap:wrap;\n",
              "      gap: 12px;\n",
              "    }\n",
              "\n",
              "    .colab-df-convert {\n",
              "      background-color: #E8F0FE;\n",
              "      border: none;\n",
              "      border-radius: 50%;\n",
              "      cursor: pointer;\n",
              "      display: none;\n",
              "      fill: #1967D2;\n",
              "      height: 32px;\n",
              "      padding: 0 0 0 0;\n",
              "      width: 32px;\n",
              "    }\n",
              "\n",
              "    .colab-df-convert:hover {\n",
              "      background-color: #E2EBFA;\n",
              "      box-shadow: 0px 1px 2px rgba(60, 64, 67, 0.3), 0px 1px 3px 1px rgba(60, 64, 67, 0.15);\n",
              "      fill: #174EA6;\n",
              "    }\n",
              "\n",
              "    [theme=dark] .colab-df-convert {\n",
              "      background-color: #3B4455;\n",
              "      fill: #D2E3FC;\n",
              "    }\n",
              "\n",
              "    [theme=dark] .colab-df-convert:hover {\n",
              "      background-color: #434B5C;\n",
              "      box-shadow: 0px 1px 3px 1px rgba(0, 0, 0, 0.15);\n",
              "      filter: drop-shadow(0px 1px 2px rgba(0, 0, 0, 0.3));\n",
              "      fill: #FFFFFF;\n",
              "    }\n",
              "  </style>\n",
              "\n",
              "      <script>\n",
              "        const buttonEl =\n",
              "          document.querySelector('#df-83d66de9-d78e-4ac5-a9d7-f1600ac3441d button.colab-df-convert');\n",
              "        buttonEl.style.display =\n",
              "          google.colab.kernel.accessAllowed ? 'block' : 'none';\n",
              "\n",
              "        async function convertToInteractive(key) {\n",
              "          const element = document.querySelector('#df-83d66de9-d78e-4ac5-a9d7-f1600ac3441d');\n",
              "          const dataTable =\n",
              "            await google.colab.kernel.invokeFunction('convertToInteractive',\n",
              "                                                     [key], {});\n",
              "          if (!dataTable) return;\n",
              "\n",
              "          const docLinkHtml = 'Like what you see? Visit the ' +\n",
              "            '<a target=\"_blank\" href=https://colab.research.google.com/notebooks/data_table.ipynb>data table notebook</a>'\n",
              "            + ' to learn more about interactive tables.';\n",
              "          element.innerHTML = '';\n",
              "          dataTable['output_type'] = 'display_data';\n",
              "          await google.colab.output.renderOutput(dataTable, element);\n",
              "          const docLink = document.createElement('div');\n",
              "          docLink.innerHTML = docLinkHtml;\n",
              "          element.appendChild(docLink);\n",
              "        }\n",
              "      </script>\n",
              "    </div>\n",
              "  </div>\n",
              "  "
            ]
          },
          "metadata": {},
          "execution_count": 37
        }
      ]
    },
    {
      "cell_type": "code",
      "source": [
        "titanic['Age'].max()"
      ],
      "metadata": {
        "colab": {
          "base_uri": "https://localhost:8080/"
        },
        "id": "KQu5isNq9-5b",
        "outputId": "81c376ea-9345-4043-8be1-1de17bfea78d"
      },
      "execution_count": null,
      "outputs": [
        {
          "output_type": "execute_result",
          "data": {
            "text/plain": [
              "80.0"
            ]
          },
          "metadata": {},
          "execution_count": 36
        }
      ]
    },
    {
      "cell_type": "code",
      "source": [],
      "metadata": {
        "id": "Gqi-IezQ-D_w"
      },
      "execution_count": null,
      "outputs": []
    }
  ]
}