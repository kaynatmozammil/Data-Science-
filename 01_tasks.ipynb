{
  "nbformat": 4,
  "nbformat_minor": 0,
  "metadata": {
    "colab": {
      "provenance": [],
      "include_colab_link": true
    },
    "kernelspec": {
      "name": "python3",
      "display_name": "Python 3"
    },
    "language_info": {
      "name": "python"
    }
  },
  "cells": [
    {
      "cell_type": "markdown",
      "metadata": {
        "id": "view-in-github",
        "colab_type": "text"
      },
      "source": [
        "<a href=\"https://colab.research.google.com/github/kaynatmozammil/Data-Science-/blob/main/session_1_tasks.ipynb\" target=\"_parent\"><img src=\"https://colab.research.google.com/assets/colab-badge.svg\" alt=\"Open In Colab\"/></a>"
      ]
    },
    {
      "cell_type": "markdown",
      "source": [
        "# Task : Session 1\n",
        "Solve these questions own your own and try to test yourself what you have learned in the session.\n",
        "\n",
        "Happy Learning!"
      ],
      "metadata": {
        "id": "A05OG15VqOPF"
      }
    },
    {
      "cell_type": "markdown",
      "source": [
        "### Q1 :- Print the given strings as per stated format.\n",
        "\n",
        "**Given strings**:\n",
        "```\n",
        "\"Data\" \"Science\" \"Mentorship\" \"Program\"\n",
        "\"By\" \"CampusX\"\n",
        "```\n",
        "**Output**:\n",
        "```\n",
        "Data-Science-Mentorship-Program-started-By-CampusX\n",
        "```\n",
        "\n",
        "Concept- [Seperator and End]"
      ],
      "metadata": {
        "id": "2doIXf8bqe9_"
      }
    },
    {
      "cell_type": "code",
      "source": [
        "# Write your code here\n",
        "print('Data','Science','Mentorship','Program','By','CampusX',sep='-')"
      ],
      "metadata": {
        "id": "-em6d3KErDtp",
        "outputId": "496aa47c-5b1d-4fd9-bfa7-802c84c0c993",
        "colab": {
          "base_uri": "https://localhost:8080/"
        }
      },
      "execution_count": null,
      "outputs": [
        {
          "output_type": "stream",
          "name": "stdout",
          "text": [
            "Data-Science-Mentorship-Program-By-CampusX\n"
          ]
        }
      ]
    },
    {
      "cell_type": "markdown",
      "source": [
        "### Q2:- Write a program that will convert celsius value to fahrenheit."
      ],
      "metadata": {
        "id": "1KUpN7ZTrC3_"
      }
    },
    {
      "cell_type": "code",
      "source": [
        "# Write your code here\n",
        "c=35\n",
        "f=((9/5)*c)+32\n",
        "print(f)"
      ],
      "metadata": {
        "id": "yxKYhYQiqWfj",
        "colab": {
          "base_uri": "https://localhost:8080/"
        },
        "outputId": "b5c4b94b-8a2c-4d64-c6fc-ef111e51c67c"
      },
      "execution_count": null,
      "outputs": [
        {
          "output_type": "stream",
          "name": "stdout",
          "text": [
            "95.0\n"
          ]
        }
      ]
    },
    {
      "cell_type": "markdown",
      "source": [
        "### Q3:- Take 2 numbers as input from the user.Write a program to swap the numbers without using any special python syntax."
      ],
      "metadata": {
        "id": "RLrOBBJurLB2"
      }
    },
    {
      "cell_type": "code",
      "source": [
        "# Write your code here\n",
        "x = input(\"Enter first number \")\n",
        "y = input(\"enter second number\")\n",
        "\n",
        "z = x\n",
        "x = y\n",
        "y = z\n",
        "print('first num ',x)\n",
        "print('second num', y)\n",
        "\n"
      ],
      "metadata": {
        "id": "yPn7if0TrJ4F",
        "colab": {
          "base_uri": "https://localhost:8080/"
        },
        "outputId": "0e97d8b5-d4e8-44f5-8627-a651e5d2b4da"
      },
      "execution_count": null,
      "outputs": [
        {
          "output_type": "stream",
          "name": "stdout",
          "text": [
            "Enter first number 4\n",
            "enter second number5\n",
            "first num  5\n",
            "second num 4\n"
          ]
        }
      ]
    },
    {
      "cell_type": "code",
      "source": [
        "# Taking input from the user\n",
        "num1 = float(input(\"Enter first number: \"))\n",
        "num2 = float(input(\"Enter second number: \"))\n",
        "\n",
        "print(\"Before swapping:\")\n",
        "print(\"First number:\", num1)\n",
        "print(\"Second number:\", num2)\n",
        "\n",
        "# Swapping the numbers without using any special syntax\n",
        "num1 = num1 + num2\n",
        "num2 = num1 - num2\n",
        "num1 = num1 - num2\n",
        "\n",
        "print(\"\\nAfter swapping:\")\n",
        "print(\"First number:\", num1)\n",
        "print(\"Second number:\", num2)\n"
      ],
      "metadata": {
        "colab": {
          "base_uri": "https://localhost:8080/"
        },
        "id": "wOJShqKjdDJJ",
        "outputId": "813b69b1-28c7-4c0d-b820-b81684993de3"
      },
      "execution_count": null,
      "outputs": [
        {
          "output_type": "stream",
          "name": "stdout",
          "text": [
            "Enter first number: 3\n",
            "Enter second number: 4\n",
            "Before swapping:\n",
            "First number: 3.0\n",
            "Second number: 4.0\n",
            "\n",
            "After swapping:\n",
            "First number: 4.0\n",
            "Second number: 3.0\n"
          ]
        }
      ]
    },
    {
      "cell_type": "markdown",
      "source": [
        "### Q4:- Write a program to find the euclidean distance between two coordinates.Take both the coordinates from the user as input."
      ],
      "metadata": {
        "id": "waLCP1bjr7ML"
      }
    },
    {
      "cell_type": "code",
      "source": [
        "\n",
        "# Write your code here\n",
        "#import math\n",
        "x1 =float(input('Enter X coodinates of ponit 1st '))\n",
        "y1 = float(input('Enter Y coodinates of ponit 1st '))\n",
        "x2 =float(input('Enter X coodinates of ponit 2nd '))\n",
        "y2 = float(input('Enter Y coodinates of ponit 2nd '))\n",
        "result =((x1-x2)**2+(y1-y2)**2)**0.5\n",
        "print(result)"
      ],
      "metadata": {
        "id": "Pl1Sv-xnrxnH",
        "colab": {
          "base_uri": "https://localhost:8080/"
        },
        "outputId": "9937a92d-1324-4c6d-d248-f420f647b4b6"
      },
      "execution_count": null,
      "outputs": [
        {
          "output_type": "stream",
          "name": "stdout",
          "text": [
            "Enter X coodinates of ponit 1st 1\n",
            "Enter Y coodinates of ponit 1st 2\n",
            "Enter X coodinates of ponit 2nd 3\n",
            "Enter Y coodinates of ponit 2nd 4\n",
            "2.8284271247461903\n"
          ]
        }
      ]
    },
    {
      "cell_type": "code",
      "source": [
        "import math\n",
        "\n",
        "def euclidean_distance(x1, y1, x2, y2):\n",
        "    return math.sqrt((x2 - x1)**2 + (y2 - y1)**2)\n",
        "\n",
        "# Input from the user\n",
        "x1 = float(input(\"Enter the x-coordinate of the first point: \"))\n",
        "y1 = float(input(\"Enter the y-coordinate of the first point: \"))\n",
        "x2 = float(input(\"Enter the x-coordinate of the second point: \"))\n",
        "y2 = float(input(\"Enter the y-coordinate of the second point: \"))\n",
        "\n",
        "# Calculate Euclidean distance\n",
        "distance = euclidean_distance(x1, y1, x2, y2)\n",
        "\n",
        "# Display the result\n",
        "print(\"Euclidean distance between the points ({}, {}) and ({}, {}) is {:.2f}\".format(x1, y1, x2, y2, distance))\n"
      ],
      "metadata": {
        "colab": {
          "base_uri": "https://localhost:8080/"
        },
        "id": "kvD20ySzf2F4",
        "outputId": "2e0f2ea1-444f-4517-f249-76c2e7d57d42"
      },
      "execution_count": null,
      "outputs": [
        {
          "output_type": "stream",
          "name": "stdout",
          "text": [
            "Enter the x-coordinate of the first point: 1\n",
            "Enter the y-coordinate of the first point: 2\n",
            "Enter the x-coordinate of the second point: 3\n",
            "Enter the y-coordinate of the second point: 4\n",
            "Euclidean distance between the points (1.0, 2.0) and (3.0, 4.0) is 2.83\n"
          ]
        }
      ]
    },
    {
      "cell_type": "markdown",
      "source": [
        "### Q5:- Write a program to find the simple interest when the value of principle,rate of interest and time period is provided by the user.\n"
      ],
      "metadata": {
        "id": "VLrhg-FRsHjR"
      }
    },
    {
      "cell_type": "code",
      "source": [
        "# Write your code here\n",
        "p =float(input(\"Enter principle ammount \"))\n",
        "r = float(input(\"enter rate of interest \"))\n",
        "t =float(input(\"Enter time period\"))\n",
        "si = (p*r*t)/100\n",
        "print(si)\n",
        "si"
      ],
      "metadata": {
        "id": "s40DlReZsTmY",
        "colab": {
          "base_uri": "https://localhost:8080/"
        },
        "outputId": "bd832270-5313-4a62-923e-18fe4e04f816"
      },
      "execution_count": null,
      "outputs": [
        {
          "output_type": "stream",
          "name": "stdout",
          "text": [
            "Enter principle ammount 1000\n",
            "enter rate of interest 20\n",
            "Enter time period4\n",
            "800.0\n"
          ]
        },
        {
          "output_type": "execute_result",
          "data": {
            "text/plain": [
              "800.0"
            ]
          },
          "metadata": {},
          "execution_count": 16
        }
      ]
    },
    {
      "cell_type": "markdown",
      "source": [
        "### Q6:- Write a program that will tell the number of dogs and chicken are there when the user will provide the value of total heads and legs.\n",
        "\n",
        "For example:\n",
        "Input:\n",
        "heads -> 4\n",
        "legs -> 12\n",
        "<br>\n",
        "Output:\n",
        "dogs -> 2\n",
        "chicken -> 2\n",
        "\n",
        "\n",
        "\n"
      ],
      "metadata": {
        "id": "LMy0BTUktYKa"
      }
    },
    {
      "cell_type": "code",
      "source": [
        "# Write your code here\n",
        "h = int(input(\"Enter number of heads : \"))\n",
        "l = int(input(\"Enter number of legs : \"))\n",
        "\n",
        "d = (l-2*h)/2\n",
        "c = (4*h-l)/2\n",
        "print(\"Number of dogs = \",d)\n",
        "print(\"Number of chicken = \",c)\n",
        "\n"
      ],
      "metadata": {
        "id": "XSBvJoA4tXaG",
        "colab": {
          "base_uri": "https://localhost:8080/"
        },
        "outputId": "1dfc6de7-ff78-4bd0-e76d-b48e9c67742d"
      },
      "execution_count": null,
      "outputs": [
        {
          "output_type": "stream",
          "name": "stdout",
          "text": [
            "Enter number of heads : 4\n",
            "Enter number of legs : 16\n",
            "Number of dogs =  4.0\n",
            "Number of chicken =  0.0\n"
          ]
        }
      ]
    },
    {
      "cell_type": "markdown",
      "source": [
        "### Q7:- Write a program to find the sum of squares of first n natural numbers where n will be provided by the user."
      ],
      "metadata": {
        "id": "gJ7C5kZYt4BP"
      }
    },
    {
      "cell_type": "code",
      "source": [
        "# Write your code here\n",
        "n = int(input(\"Enter value of N \"))\n",
        "i=1\n",
        "sum =0\n",
        "while i<=n:\n",
        "  sum = sum+i**2\n",
        "  i+=1\n",
        "print(sum)\n",
        "\n"
      ],
      "metadata": {
        "id": "_tHsmEHzt2nX",
        "colab": {
          "base_uri": "https://localhost:8080/"
        },
        "outputId": "ac233aea-5271-41e7-bf57-8485f01043cf"
      },
      "execution_count": null,
      "outputs": [
        {
          "output_type": "stream",
          "name": "stdout",
          "text": [
            "Enter value of N 5\n",
            "55\n"
          ]
        }
      ]
    },
    {
      "cell_type": "markdown",
      "source": [
        "### Q8:- Given the first 2 terms of an Arithmetic Series.Find the Nth term of the series. Assume all inputs are provided by the user."
      ],
      "metadata": {
        "id": "FHrMM7g-yG1h"
      }
    },
    {
      "cell_type": "code",
      "source": [
        "# Write your code here\n",
        "a1 = int(input(\"Enter 1st term \"))\n",
        "a2 = int(input(\"Enter 2nd term \"))\n",
        "n = int(input(\"Enter nth term \"))\n",
        "d=a2-a1\n",
        "nth_term = a1+(n-1)*d\n",
        "print(nth_term)\n"
      ],
      "metadata": {
        "id": "go4_kmZmyVSx",
        "colab": {
          "base_uri": "https://localhost:8080/"
        },
        "outputId": "3a2e3a45-6d1d-47a8-abe3-09c6f87772ec"
      },
      "execution_count": null,
      "outputs": [
        {
          "output_type": "stream",
          "name": "stdout",
          "text": [
            "Enter 1st term 1\n",
            "Enter 2nd term 4\n",
            "Enter nth term 6\n",
            "16\n"
          ]
        }
      ]
    },
    {
      "cell_type": "markdown",
      "source": [
        "### Q9:- Given 2 fractions, find the sum of those 2 fractions.Take the numerator and denominator values of the fractions from the user."
      ],
      "metadata": {
        "id": "QgyRX_es1oum"
      }
    },
    {
      "cell_type": "code",
      "source": [
        "# Write your code here\n",
        "n1 = float(input(\"Enter numerator of 1st fraction \"))\n",
        "d1 = float(input(\"Enter denominator of 1st fraction \"))\n",
        "n2 = float(input(\"Enter numerator of 2nd fraction \"))\n",
        "d2 = float(input(\"Enter denominator of 2nd fraction \"))\n",
        "\n",
        "rn = (n1*d1)+(n2*d2)\n",
        "rd = d1*d2\n",
        "print('{}/{}'.format(rn,rd))"
      ],
      "metadata": {
        "id": "X05xqFS1yW16",
        "colab": {
          "base_uri": "https://localhost:8080/"
        },
        "outputId": "84118aa6-ce2c-4fbd-efc5-b80e4b58fcc8"
      },
      "execution_count": null,
      "outputs": [
        {
          "output_type": "stream",
          "name": "stdout",
          "text": [
            "Enter numerator of 1st fraction 9\n",
            "Enter denominator of 1st fraction 8\n",
            "Enter numerator of 2nd fraction 7\n",
            "Enter denominator of 2nd fraction 8\n",
            "128.0/64.0\n"
          ]
        }
      ]
    },
    {
      "cell_type": "markdown",
      "source": [
        "### Q10:- Given the height, width and breadth of a milk tank, you have to find out how many glasses of milk can be obtained? Assume all the inputs are provided by the user.\n",
        "\n",
        "\n",
        "\n",
        "Input:<br>\n",
        "Dimensions of the milk tank<br>\n",
        "H = 20cm, L = 20cm, B = 20cm\n",
        "<br><br>\n",
        "Dimensions of the glass<br>\n",
        "h = 3cm, r = 1cm"
      ],
      "metadata": {
        "id": "eaql38ln13u7"
      }
    },
    {
      "cell_type": "code",
      "source": [
        "# Write your code here\n",
        "H = float(input(\"Enter height of milk tank \"))\n",
        "L = float(input(\"Enter width of milk tank \"))\n",
        "B = float(input(\"Enter breadth of milk tank \"))\n",
        "\n",
        "h = float(input(\"Enter height of milk glass \"))\n",
        "r = float(input(\"Enter radius of milk glass \"))\n",
        "\n",
        "n = (H*L*B)/(3.14*r**2*h)\n",
        "print(\"Number of glasses = \",n)\n"
      ],
      "metadata": {
        "id": "FePZqno74eWv",
        "colab": {
          "base_uri": "https://localhost:8080/"
        },
        "outputId": "1de7dc2d-f891-4a3d-96be-f79690940b17"
      },
      "execution_count": null,
      "outputs": [
        {
          "output_type": "stream",
          "name": "stdout",
          "text": [
            "Enter height of milk tank 20\n",
            "Enter width of milk tank 20\n",
            "Enter breadth of milk tank 20\n",
            "Enter height of milk glass 3\n",
            "Enter radius of milk glass 1\n",
            "Number of glasses =  849.2569002123142\n"
          ]
        }
      ]
    }
  ]
}