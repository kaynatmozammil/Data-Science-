{
  "nbformat": 4,
  "nbformat_minor": 0,
  "metadata": {
    "colab": {
      "provenance": [],
      "authorship_tag": "ABX9TyPHt783hvMccsQpk6e1nqfb",
      "include_colab_link": true
    },
    "kernelspec": {
      "name": "python3",
      "display_name": "Python 3"
    },
    "language_info": {
      "name": "python"
    }
  },
  "cells": [
    {
      "cell_type": "markdown",
      "metadata": {
        "id": "view-in-github",
        "colab_type": "text"
      },
      "source": [
        "<a href=\"https://colab.research.google.com/github/kaynatmozammil/Data-Science-/blob/main/08_session_OOP2.ipynb\" target=\"_parent\"><img src=\"https://colab.research.google.com/assets/colab-badge.svg\" alt=\"Open In Colab\"/></a>"
      ]
    },
    {
      "cell_type": "markdown",
      "source": [
        "### Write OOP classes to handle the following scenarios:\n",
        "\n",
        "- A user can create and view 2D coordinates\n",
        "- A user can find out the distance between 2 coordinates\n",
        "- A user can find find the distance of a coordinate from origin\n",
        "- A user can check if a point lies on a given line\n",
        "- A user can find the distance between a given 2D point and a given line\n",
        "\n"
      ],
      "metadata": {
        "id": "ZVL-QsWmkdNj"
      }
    },
    {
      "cell_type": "code",
      "execution_count": null,
      "metadata": {
        "id": "p_nWSrMGj2oG"
      },
      "outputs": [],
      "source": [
        "class Point:\n",
        "\n",
        "  def __init__(self,x,y):\n",
        "    self.x_cod = x\n",
        "    self.y_cod = y\n",
        "\n",
        "  def __str__(self):\n",
        "    return '<{},{}>'.format(self.x_cod,self.y_cod)\n",
        "\n",
        "  def euclidean_distance(self,other):\n",
        "    return ((self.x_cod - other.x_cod)**2 + (self.y_cod - other.y_cod)**2)**0.5\n",
        "\n",
        "  def distance_from_origin(self):\n",
        "     return (self.x_cod**2 + self.y_cod**2)**0.5\n",
        "    #return self.euclidean_distance(Point(0,0))\n",
        "\n",
        "\n",
        "class Line:\n",
        "\n",
        "  def __init__(self,A,B,C):\n",
        "    self.A = A\n",
        "    self.B = B\n",
        "    self.C = C\n",
        "\n",
        "  def __str__(self):\n",
        "    return '{}x + {}y + {} = 0'.format(self.A,self.B, self.C)\n",
        "\n",
        "  def point_on_line(line,point):\n",
        "    if line.A*point.x_cod + line.B*point.y_cod + line.C == 0:\n",
        "      return 'Lies on the Line'\n",
        "\n",
        "    else:\n",
        "      return 'Does not lie on the line'\n",
        "\n",
        "  def shortest_distance(line,point):\n",
        "    return abs(line.A*point.x_cod + line.B*point.y_cod + line.C)/ (line.A**2 + line.B**2)**0.5"
      ]
    },
    {
      "cell_type": "code",
      "source": [
        "p1 = Point(0,0)\n",
        "p2 = Point(10,10)\n",
        "# <x,y>\n",
        "print(p1)\n",
        "print(p2)\n",
        "p1.euclidean_distance(p2)\n",
        "p2.distance_from_origin()\n",
        "\n"
      ],
      "metadata": {
        "colab": {
          "base_uri": "https://localhost:8080/"
        },
        "id": "OI8VUkHplfvj",
        "outputId": "60cae923-81ec-4271-9079-f76cb2cf14fd"
      },
      "execution_count": null,
      "outputs": [
        {
          "output_type": "stream",
          "name": "stdout",
          "text": [
            "<0,0>\n",
            "<10,10>\n"
          ]
        },
        {
          "output_type": "execute_result",
          "data": {
            "text/plain": [
              "14.142135623730951"
            ]
          },
          "metadata": {},
          "execution_count": 36
        }
      ]
    },
    {
      "cell_type": "code",
      "source": [
        "l1 = Line(1,1,-2)\n",
        "p1 = Point(1,10)\n",
        "print(l1)\n",
        "print(p1)\n",
        "\n",
        "l1.point_on_line(p1)\n",
        "l1.shortest_distance(p1)"
      ],
      "metadata": {
        "colab": {
          "base_uri": "https://localhost:8080/"
        },
        "id": "HELMHBH2qYby",
        "outputId": "3945be1e-590d-4776-db88-0245e904086b"
      },
      "execution_count": null,
      "outputs": [
        {
          "output_type": "stream",
          "name": "stdout",
          "text": [
            "1x + 1y + -2 = 0\n",
            "<1,10>\n"
          ]
        },
        {
          "output_type": "execute_result",
          "data": {
            "text/plain": [
              "6.363961030678928"
            ]
          },
          "metadata": {},
          "execution_count": 39
        }
      ]
    },
    {
      "cell_type": "markdown",
      "source": [
        "# How objects access attributes"
      ],
      "metadata": {
        "id": "Ivdve3TywV1M"
      }
    },
    {
      "cell_type": "code",
      "source": [
        "class Person:\n",
        "  def __init__(self, name_input, country_input):\n",
        "    self.name = name_input\n",
        "    self.country = country_input\n",
        "\n",
        "  def greet(self):\n",
        "    if self.country == 'india':\n",
        "      print('Aadab', self.name)\n",
        "    else:\n",
        "      print('Hello', self.name)\n"
      ],
      "metadata": {
        "id": "OcTnudjTwdG6"
      },
      "execution_count": null,
      "outputs": []
    },
    {
      "cell_type": "code",
      "source": [
        "p = Person('Kaynat', 'india')\n",
        "p.country"
      ],
      "metadata": {
        "colab": {
          "base_uri": "https://localhost:8080/",
          "height": 36
        },
        "id": "YbZSm7vyxGSl",
        "outputId": "13cc0ede-6756-4e8f-b6d5-3eefd9d28ec7"
      },
      "execution_count": null,
      "outputs": [
        {
          "output_type": "execute_result",
          "data": {
            "text/plain": [
              "'india'"
            ],
            "application/vnd.google.colaboratory.intrinsic+json": {
              "type": "string"
            }
          },
          "metadata": {},
          "execution_count": 41
        }
      ]
    },
    {
      "cell_type": "code",
      "source": [
        "p.name"
      ],
      "metadata": {
        "colab": {
          "base_uri": "https://localhost:8080/",
          "height": 36
        },
        "id": "AJIjyUlXxT8k",
        "outputId": "c8edd597-4790-46dd-991a-ba306f19b9a4"
      },
      "execution_count": null,
      "outputs": [
        {
          "output_type": "execute_result",
          "data": {
            "text/plain": [
              "'Kaynat'"
            ],
            "application/vnd.google.colaboratory.intrinsic+json": {
              "type": "string"
            }
          },
          "metadata": {},
          "execution_count": 42
        }
      ]
    },
    {
      "cell_type": "code",
      "source": [
        "p.greet()"
      ],
      "metadata": {
        "colab": {
          "base_uri": "https://localhost:8080/"
        },
        "id": "rQe5RTO8xWy8",
        "outputId": "74b6fe3f-2ee2-4a7e-d02a-167c44c83872"
      },
      "execution_count": null,
      "outputs": [
        {
          "output_type": "stream",
          "name": "stdout",
          "text": [
            "Aadab Kaynat\n"
          ]
        }
      ]
    },
    {
      "cell_type": "code",
      "source": [
        "p.gender"
      ],
      "metadata": {
        "colab": {
          "base_uri": "https://localhost:8080/",
          "height": 141
        },
        "id": "qNoGR1vhxbyq",
        "outputId": "eb562329-b2a5-4334-d3f4-b3c165061a50"
      },
      "execution_count": null,
      "outputs": [
        {
          "output_type": "error",
          "ename": "AttributeError",
          "evalue": "'Person' object has no attribute 'gender'",
          "traceback": [
            "\u001b[0;31m---------------------------------------------------------------------------\u001b[0m",
            "\u001b[0;31mAttributeError\u001b[0m                            Traceback (most recent call last)",
            "\u001b[0;32m<ipython-input-46-a6f74d1c7954>\u001b[0m in \u001b[0;36m<cell line: 1>\u001b[0;34m()\u001b[0m\n\u001b[0;32m----> 1\u001b[0;31m \u001b[0mp\u001b[0m\u001b[0;34m.\u001b[0m\u001b[0mgender\u001b[0m\u001b[0;34m\u001b[0m\u001b[0;34m\u001b[0m\u001b[0m\n\u001b[0m",
            "\u001b[0;31mAttributeError\u001b[0m: 'Person' object has no attribute 'gender'"
          ]
        }
      ]
    },
    {
      "cell_type": "code",
      "source": [
        "p.gender = 'male'"
      ],
      "metadata": {
        "id": "tavv_6HxxkAC"
      },
      "execution_count": null,
      "outputs": []
    },
    {
      "cell_type": "code",
      "source": [
        "p.gender"
      ],
      "metadata": {
        "colab": {
          "base_uri": "https://localhost:8080/",
          "height": 36
        },
        "id": "mt9M-bdHxnhW",
        "outputId": "584c1aab-1efb-4a32-e0f5-901fda77bc0d"
      },
      "execution_count": null,
      "outputs": [
        {
          "output_type": "execute_result",
          "data": {
            "text/plain": [
              "'male'"
            ],
            "application/vnd.google.colaboratory.intrinsic+json": {
              "type": "string"
            }
          },
          "metadata": {},
          "execution_count": 48
        }
      ]
    },
    {
      "cell_type": "code",
      "source": [
        "\n",
        "# Reference Variable\n",
        "\n",
        "class Person:\n",
        "\n",
        "  def __init__(self):\n",
        "    self.name = 'Kaynat'\n",
        "    self.gender = 'male'\n",
        "\n",
        "p = Person()\n",
        "q = p"
      ],
      "metadata": {
        "id": "kpq_CTDSx4SY"
      },
      "execution_count": null,
      "outputs": []
    },
    {
      "cell_type": "code",
      "source": [
        "# muti ref\n",
        "print(id(p))\n",
        "print(id(q))"
      ],
      "metadata": {
        "colab": {
          "base_uri": "https://localhost:8080/"
        },
        "id": "EU0NtoXOzMdN",
        "outputId": "050f7759-8346-45ed-ea9f-39b9280de44f"
      },
      "execution_count": null,
      "outputs": [
        {
          "output_type": "stream",
          "name": "stdout",
          "text": [
            "132234372967408\n",
            "132234372967408\n"
          ]
        }
      ]
    },
    {
      "cell_type": "code",
      "source": [
        "print(p.name)\n",
        "print(q.name)\n",
        "q.name = 'khan'\n",
        "print(p.name)\n",
        "print(q.name)"
      ],
      "metadata": {
        "colab": {
          "base_uri": "https://localhost:8080/"
        },
        "id": "Mf7xjlryzZMx",
        "outputId": "4b44db6a-a738-4943-d802-e3db459b2ae7"
      },
      "execution_count": null,
      "outputs": [
        {
          "output_type": "stream",
          "name": "stdout",
          "text": [
            "Faiz\n",
            "Faiz\n",
            "khan\n",
            "khan\n"
          ]
        }
      ]
    },
    {
      "cell_type": "markdown",
      "source": [
        "# PAss by reference"
      ],
      "metadata": {
        "id": "kZmB--I50eOg"
      }
    },
    {
      "cell_type": "code",
      "source": [
        "class Person:\n",
        "  def __init__(self,name,gender):\n",
        "    self.name = name\n",
        "    self.gender = gender\n",
        "\n",
        "# Outside the class -> function\n",
        "def greet(person):\n",
        "  print(id(person))\n",
        "  print(\"Hi my name is \",person.name,'and  I am a ',person.gender)\n",
        "  p1  = Person('Faiz','male')\n",
        "  person.name = 'Adeeb'\n",
        "  print(person.name)\n",
        "\n",
        "  return p1\n",
        "\n",
        "p = Person('Kaynat','male')\n",
        "print(id(p))\n",
        "x = greet(p)\n",
        "print(x.name)\n",
        "print(x.gender)\n",
        "print(p.name)"
      ],
      "metadata": {
        "colab": {
          "base_uri": "https://localhost:8080/"
        },
        "id": "HwizKWpB0iyx",
        "outputId": "d0b23c32-5d69-457e-bf76-b77a26d7c677"
      },
      "execution_count": null,
      "outputs": [
        {
          "output_type": "stream",
          "name": "stdout",
          "text": [
            "132233897426080\n",
            "132233897426080\n",
            "Hi my name is  Kaynat and  I am a  male\n",
            "Adeeb\n",
            "Faiz\n",
            "male\n",
            "Adeeb\n"
          ]
        }
      ]
    },
    {
      "cell_type": "markdown",
      "source": [
        "# Object Ki Mutability"
      ],
      "metadata": {
        "id": "g4X_sR-G8Umn"
      }
    },
    {
      "cell_type": "code",
      "source": [
        "class Person:\n",
        "  def __init__(self,name,gender):\n",
        "    self.name = name\n",
        "    self.gender = gender\n",
        "\n",
        "# Outside the class -> function\n",
        "def greet(person):\n",
        "  person.name = 'Adeeb'\n",
        "  return person\n",
        "\n",
        "\n",
        "  return p1\n",
        "\n",
        "p = Person('Kaynat','male')\n",
        "print(id(p))\n",
        "p1 = greet(p)\n",
        "print(id(p1))\n"
      ],
      "metadata": {
        "colab": {
          "base_uri": "https://localhost:8080/"
        },
        "id": "bvk14v7r7TG_",
        "outputId": "6cc9fe6f-efcb-4794-b81d-39ab5d8fad2a"
      },
      "execution_count": null,
      "outputs": [
        {
          "output_type": "stream",
          "name": "stdout",
          "text": [
            "132233897422192\n",
            "132233897422192\n"
          ]
        }
      ]
    },
    {
      "cell_type": "markdown",
      "source": [
        "# Encapsulation"
      ],
      "metadata": {
        "id": "tQwqHEat8bLA"
      }
    },
    {
      "cell_type": "code",
      "source": [
        "class Person:\n",
        "\n",
        "  def __init__(self, name_input , country_input):\n",
        "    self.name = name_input\n",
        "    self.country = country_input\n",
        "\n",
        "p1 = Person('Kaynat', 'India')\n",
        "p2 = Person('Steve','Australia')"
      ],
      "metadata": {
        "id": "tqZ1dk8x8nsj"
      },
      "execution_count": null,
      "outputs": []
    },
    {
      "cell_type": "code",
      "source": [
        "p2.name"
      ],
      "metadata": {
        "colab": {
          "base_uri": "https://localhost:8080/",
          "height": 36
        },
        "id": "xGmH81Mv-utI",
        "outputId": "231c57e1-43d3-4fa7-e6df-8d1f005fdb12"
      },
      "execution_count": null,
      "outputs": [
        {
          "output_type": "execute_result",
          "data": {
            "text/plain": [
              "'Steve'"
            ],
            "application/vnd.google.colaboratory.intrinsic+json": {
              "type": "string"
            }
          },
          "metadata": {},
          "execution_count": 78
        }
      ]
    },
    {
      "cell_type": "code",
      "source": [
        "#Code - banking appilication\n",
        "\n",
        "\n",
        "class Atm:\n",
        "\n",
        "  # constructor(Special function )-> superpower ->\n",
        "  def __init__(self):\n",
        "    print(id(self))\n",
        "    self.pin = ''\n",
        "    self.__balance = 0\n",
        "  def get_balance(self):\n",
        "    return self.__balance\n",
        "\n",
        "  def set_balance(self,new_value):\n",
        "    if type(new_value) == int:\n",
        "     self.__balance = new_value\n",
        "    else:\n",
        "      print('Beta bahut maarenge')\n",
        "  def __menu(self):\n",
        "    user_input=input(\"\"\"\n",
        "    Hi! how can i help you?\n",
        "    1. press 1 to create pin\n",
        "    2. Press 2 to change pin\n",
        "    3. Press 3 to check balance\n",
        "    4. Press 4 to withdraw\n",
        "    5. Anything else to exit\n",
        "    \"\"\")\n",
        "\n",
        "    if user_input =='1':\n",
        "      #create pin\n",
        "      self.create_pin()\n",
        "    elif user_input == '2':\n",
        "      #chnage pin\n",
        "      self.change_pin()\n",
        "\n",
        "    elif user_input == '3':\n",
        "      #Check balance\n",
        "      self.check_balance()\n",
        "      pass\n",
        "    elif user_input=='4':\n",
        "      #withdraw\n",
        "      self.withdraw()\n",
        "      pass\n",
        "    else:\n",
        "      exit()\n",
        "\n",
        "  def create_pin(self):\n",
        "    user_pin = input('Enter your pin')\n",
        "    self.pin = user_pin\n",
        "\n",
        "    user_balance = int(input(\"Enter Balnce\"))\n",
        "    self.__balance = user_balance\n",
        "\n",
        "    print(\"Pin created successfully\")\n",
        "\n",
        "    # self.menu()\n",
        "  def change_pin(self):\n",
        "    old_pin = input(\"Enter old pin\")\n",
        "\n",
        "    if old_pin == self.pin:\n",
        "      # let him change the pin\n",
        "      new_pin = input(\"Enter new pin\")\n",
        "      self.pin=new_pin\n",
        "      print(\"Pin change successfully\")\n",
        "      # self.menu()\n",
        "    else:\n",
        "      print(\"Nai karne dunga\")\n",
        "      # self.menu()\n",
        "\n",
        "  def check_balance(self):\n",
        "    user_pin = input(\"Enter your pin\")\n",
        "    if user_pin == self.pin:\n",
        "      print(\"Your balance is \", self.balance)\n",
        "      # self.menu()\n",
        "\n",
        "    else:\n",
        "      print(\"Chal nikal le yaha se\")\n",
        "      # self.menu()\n",
        "\n",
        "  def withdraw(self):\n",
        "    user_pin = input(\"Enter the pin\")\n",
        "\n",
        "    if user_pin==self.pin:\n",
        "      # Allow to withdraw\n",
        "\n",
        "      amount = int(input(\"Enter the amount\"))\n",
        "      if amount<=self.__balance:\n",
        "        self.__balance = self.__balance - amount\n",
        "        print('Withdrawl successfully BAlance is ',self.__balance)\n",
        "\n",
        "      else:\n",
        "        print(\"Abe gareeb\")\n",
        "    else:\n",
        "      print(\"Chor ho\")\n",
        "    # self.menu()"
      ],
      "metadata": {
        "id": "7mMzYjyF_d7k"
      },
      "execution_count": null,
      "outputs": []
    },
    {
      "cell_type": "code",
      "source": [
        "obj = Atm()"
      ],
      "metadata": {
        "colab": {
          "base_uri": "https://localhost:8080/"
        },
        "id": "E9J9nXxz_1aO",
        "outputId": "73e40ebe-a0c4-4ffb-eded-cfee29af9b62"
      },
      "execution_count": null,
      "outputs": [
        {
          "output_type": "stream",
          "name": "stdout",
          "text": [
            "139323733676272\n"
          ]
        }
      ]
    },
    {
      "cell_type": "code",
      "source": [
        "obj.get_balance()"
      ],
      "metadata": {
        "colab": {
          "base_uri": "https://localhost:8080/"
        },
        "id": "ssIJVHXoADQZ",
        "outputId": "eff84fd5-5e33-4cad-ae21-5f872ae03c16"
      },
      "execution_count": null,
      "outputs": [
        {
          "output_type": "execute_result",
          "data": {
            "text/plain": [
              "0"
            ]
          },
          "metadata": {},
          "execution_count": 48
        }
      ]
    },
    {
      "cell_type": "code",
      "source": [
        "obj.set_balance('1000')\n",
        "obj.get_balance()"
      ],
      "metadata": {
        "colab": {
          "base_uri": "https://localhost:8080/"
        },
        "id": "BhDF7_dEAWN9",
        "outputId": "9c668bcf-2238-4630-a4b7-610bebef7fe0"
      },
      "execution_count": null,
      "outputs": [
        {
          "output_type": "stream",
          "name": "stdout",
          "text": [
            "Beta bahut maarenge\n"
          ]
        },
        {
          "output_type": "execute_result",
          "data": {
            "text/plain": [
              "0"
            ]
          },
          "metadata": {},
          "execution_count": 49
        }
      ]
    },
    {
      "cell_type": "code",
      "source": [
        "obj.withdraw()"
      ],
      "metadata": {
        "colab": {
          "base_uri": "https://localhost:8080/"
        },
        "id": "eC9Q03itHvnV",
        "outputId": "46147775-4da9-465a-acb3-d469ce8e55a8"
      },
      "execution_count": null,
      "outputs": [
        {
          "output_type": "stream",
          "name": "stdout",
          "text": [
            "Enter the pin1234\n",
            "Chor ho\n"
          ]
        }
      ]
    },
    {
      "cell_type": "code",
      "source": [
        "obj.create_pin()\n",
        "obj._Atm__balance='hehehe'"
      ],
      "metadata": {
        "colab": {
          "base_uri": "https://localhost:8080/"
        },
        "id": "MFFaiSlnAOF_",
        "outputId": "1d7d0706-e3e2-4a7f-a2e8-ce2bc021885f"
      },
      "execution_count": null,
      "outputs": [
        {
          "output_type": "stream",
          "name": "stdout",
          "text": [
            "Enter your pin1234\n",
            "Enter Balnce9000\n",
            "Pin created successfully\n"
          ]
        }
      ]
    },
    {
      "cell_type": "code",
      "source": [
        "obj.withdraw()"
      ],
      "metadata": {
        "colab": {
          "base_uri": "https://localhost:8080/",
          "height": 297
        },
        "id": "Y9PZNZUwBqkT",
        "outputId": "1e1b4ffb-7eef-49b2-b24a-8d6efa035324"
      },
      "execution_count": null,
      "outputs": [
        {
          "name": "stdout",
          "output_type": "stream",
          "text": [
            "Enter the pin1234\n",
            "Enter the amount4000\n"
          ]
        },
        {
          "output_type": "error",
          "ename": "TypeError",
          "evalue": "'<=' not supported between instances of 'int' and 'str'",
          "traceback": [
            "\u001b[0;31m---------------------------------------------------------------------------\u001b[0m",
            "\u001b[0;31mTypeError\u001b[0m                                 Traceback (most recent call last)",
            "\u001b[0;32m<ipython-input-35-826ea677aa70>\u001b[0m in \u001b[0;36m<cell line: 1>\u001b[0;34m()\u001b[0m\n\u001b[0;32m----> 1\u001b[0;31m \u001b[0mobj\u001b[0m\u001b[0;34m.\u001b[0m\u001b[0mwithdraw\u001b[0m\u001b[0;34m(\u001b[0m\u001b[0;34m)\u001b[0m\u001b[0;34m\u001b[0m\u001b[0;34m\u001b[0m\u001b[0m\n\u001b[0m",
            "\u001b[0;32m<ipython-input-30-a69a6a026ac0>\u001b[0m in \u001b[0;36mwithdraw\u001b[0;34m(self)\u001b[0m\n\u001b[1;32m     79\u001b[0m \u001b[0;34m\u001b[0m\u001b[0m\n\u001b[1;32m     80\u001b[0m       \u001b[0mamount\u001b[0m \u001b[0;34m=\u001b[0m \u001b[0mint\u001b[0m\u001b[0;34m(\u001b[0m\u001b[0minput\u001b[0m\u001b[0;34m(\u001b[0m\u001b[0;34m\"Enter the amount\"\u001b[0m\u001b[0;34m)\u001b[0m\u001b[0;34m)\u001b[0m\u001b[0;34m\u001b[0m\u001b[0;34m\u001b[0m\u001b[0m\n\u001b[0;32m---> 81\u001b[0;31m       \u001b[0;32mif\u001b[0m \u001b[0mamount\u001b[0m\u001b[0;34m<=\u001b[0m\u001b[0mself\u001b[0m\u001b[0;34m.\u001b[0m\u001b[0m__balance\u001b[0m\u001b[0;34m:\u001b[0m\u001b[0;34m\u001b[0m\u001b[0;34m\u001b[0m\u001b[0m\n\u001b[0m\u001b[1;32m     82\u001b[0m         \u001b[0mself\u001b[0m\u001b[0;34m.\u001b[0m\u001b[0m__balance\u001b[0m \u001b[0;34m=\u001b[0m \u001b[0mself\u001b[0m\u001b[0;34m.\u001b[0m\u001b[0m__balance\u001b[0m \u001b[0;34m-\u001b[0m \u001b[0mamount\u001b[0m\u001b[0;34m\u001b[0m\u001b[0;34m\u001b[0m\u001b[0m\n\u001b[1;32m     83\u001b[0m         \u001b[0mprint\u001b[0m\u001b[0;34m(\u001b[0m\u001b[0;34m'Withdrawl successfully BAlance is '\u001b[0m\u001b[0;34m,\u001b[0m\u001b[0mself\u001b[0m\u001b[0;34m.\u001b[0m\u001b[0m__balance\u001b[0m\u001b[0;34m)\u001b[0m\u001b[0;34m\u001b[0m\u001b[0;34m\u001b[0m\u001b[0m\n",
            "\u001b[0;31mTypeError\u001b[0m: '<=' not supported between instances of 'int' and 'str'"
          ]
        }
      ]
    },
    {
      "cell_type": "markdown",
      "source": [
        "# Collection of object\n"
      ],
      "metadata": {
        "id": "dUSlR-07JX9k"
      }
    },
    {
      "cell_type": "code",
      "source": [
        "# list of objects\n",
        "class Person:\n",
        "\n",
        "  def __init__(self,name, gender):\n",
        "    self.name = name\n",
        "    self.gender = gender\n",
        "\n",
        "p1 = Person('Kaynat','male')\n",
        "p2 = Person('Mozammil','male')\n",
        "p3 = Person('Ankita','female')\n",
        "\n",
        "# L = [p1,p2,p3]\n",
        "\n",
        "# # print(L)\n",
        "# for i in L:\n",
        "#   print(i.name,i.gender)\n",
        "\n",
        "\n",
        "d = {'p1':p1,'p2':p2,'p3':p3}\n",
        "for i in d:\n",
        "  print(i)\n",
        "  print(d[i])\n",
        "  print(d[i].gender)\n",
        "  print(d[i].name )"
      ],
      "metadata": {
        "colab": {
          "base_uri": "https://localhost:8080/"
        },
        "id": "zOgQhvllJdpP",
        "outputId": "d226da29-4e6d-428f-a571-1bdaa56abadb"
      },
      "execution_count": null,
      "outputs": [
        {
          "output_type": "stream",
          "name": "stdout",
          "text": [
            "p1\n",
            "<__main__.Person object at 0x7eb6d5a7af50>\n",
            "male\n",
            "Kaynat\n",
            "p2\n",
            "<__main__.Person object at 0x7eb6d5a79870>\n",
            "male\n",
            "Mozammil\n",
            "p3\n",
            "<__main__.Person object at 0x7eb6d5a7a980>\n",
            "female\n",
            "Ankita\n"
          ]
        }
      ]
    },
    {
      "cell_type": "markdown",
      "source": [
        "# Static variables"
      ],
      "metadata": {
        "id": "V_JFS1HzLf7m"
      }
    },
    {
      "cell_type": "code",
      "source": [
        "#Code - banking appilication\n",
        "\n",
        "\n",
        "class Atm:\n",
        "\n",
        "  __counter = 1\n",
        "  # constructor(Special function )-> superpower ->\n",
        "  def __init__(self):\n",
        "    print(id(self))\n",
        "    self.pin = ''\n",
        "    self.__balance = 0\n",
        "    self.cid = Atm.__counter\n",
        "    Atm.__counter = Atm.__counter + 1\n",
        "\n",
        "  # utility method\n",
        "  @staticmethod  # decorator\n",
        "  def get_counter():\n",
        "    return Atm.__counter\n",
        "\n",
        "\n",
        "  def get_balance(self):\n",
        "    return self.__balance\n",
        "\n",
        "  def set_balance(self,new_value):\n",
        "    if type(new_value) == int:\n",
        "     self.__balance = new_value\n",
        "    else:\n",
        "      print('Beta bahut maarenge')\n",
        "  def __menu(self):\n",
        "    user_input=input(\"\"\"\n",
        "    Hi! how can i help you?\n",
        "    1. press 1 to create pin\n",
        "    2. Press 2 to change pin\n",
        "    3. Press 3 to check balance\n",
        "    4. Press 4 to withdraw\n",
        "    5. Anything else to exit\n",
        "    \"\"\")\n",
        "\n",
        "    if user_input =='1':\n",
        "      #create pin\n",
        "      self.create_pin()\n",
        "    elif user_input == '2':\n",
        "      #chnage pin\n",
        "      self.change_pin()\n",
        "\n",
        "    elif user_input == '3':\n",
        "      #Check balance\n",
        "      self.check_balance()\n",
        "      pass\n",
        "    elif user_input=='4':\n",
        "      #withdraw\n",
        "      self.withdraw()\n",
        "      pass\n",
        "    else:\n",
        "      exit()\n",
        "\n",
        "  def create_pin(self):\n",
        "    user_pin = input('Enter your pin')\n",
        "    self.pin = user_pin\n",
        "\n",
        "    user_balance = int(input(\"Enter Balnce\"))\n",
        "    self.__balance = user_balance\n",
        "\n",
        "    print(\"Pin created successfully\")\n",
        "\n",
        "    # self.menu()\n",
        "  def change_pin(self):\n",
        "    old_pin = input(\"Enter old pin\")\n",
        "\n",
        "    if old_pin == self.pin:\n",
        "      # let him change the pin\n",
        "      new_pin = input(\"Enter new pin\")\n",
        "      self.pin=new_pin\n",
        "      print(\"Pin change successfully\")\n",
        "      # self.menu()\n",
        "    else:\n",
        "      print(\"Nai karne dunga\")\n",
        "      # self.menu()\n",
        "\n",
        "  def check_balance(self):\n",
        "    user_pin = input(\"Enter your pin\")\n",
        "    if user_pin == self.pin:\n",
        "      print(\"Your balance is \", self.balance)\n",
        "      # self.menu()\n",
        "\n",
        "    else:\n",
        "      print(\"Chal nikal le yaha se\")\n",
        "      # self.menu()\n",
        "\n",
        "  def withdraw(self):\n",
        "    user_pin = input(\"Enter the pin\")\n",
        "\n",
        "    if user_pin==self.pin:\n",
        "      # Allow to withdraw\n",
        "\n",
        "      amount = int(input(\"Enter the amount\"))\n",
        "      if amount<=self.__balance:\n",
        "        self.__balance = self.__balance - amount\n",
        "        print('Withdrawl successfully BAlance is ',self.__balance)\n",
        "\n",
        "      else:\n",
        "        print(\"Abe gareeb\")\n",
        "    else:\n",
        "      print(\"Chor ho\")\n",
        "    # self.menu()"
      ],
      "metadata": {
        "id": "YtdyfKFHLjF1"
      },
      "execution_count": null,
      "outputs": []
    },
    {
      "cell_type": "code",
      "source": [
        "c1 = Atm()"
      ],
      "metadata": {
        "colab": {
          "base_uri": "https://localhost:8080/"
        },
        "id": "lqHR2HSCL4GP",
        "outputId": "7b4a3aa1-e9c6-497e-dbaf-958ce0300797"
      },
      "execution_count": null,
      "outputs": [
        {
          "output_type": "stream",
          "name": "stdout",
          "text": [
            "139323733683088\n"
          ]
        }
      ]
    },
    {
      "cell_type": "code",
      "source": [
        "c2 = Atm()"
      ],
      "metadata": {
        "colab": {
          "base_uri": "https://localhost:8080/"
        },
        "id": "SpHXq4LBL6sC",
        "outputId": "4535cadb-4594-4a69-bdf1-63bbd5a7f03f"
      },
      "execution_count": null,
      "outputs": [
        {
          "output_type": "stream",
          "name": "stdout",
          "text": [
            "139323733687072\n"
          ]
        }
      ]
    },
    {
      "cell_type": "code",
      "source": [
        "c3 = Atm()"
      ],
      "metadata": {
        "colab": {
          "base_uri": "https://localhost:8080/"
        },
        "id": "jxGhCt-FL-zk",
        "outputId": "5cefb3d3-e912-4e86-e83e-745de76c07d6"
      },
      "execution_count": null,
      "outputs": [
        {
          "output_type": "stream",
          "name": "stdout",
          "text": [
            "139323733679920\n"
          ]
        }
      ]
    },
    {
      "cell_type": "code",
      "source": [
        "c3.cid"
      ],
      "metadata": {
        "colab": {
          "base_uri": "https://localhost:8080/"
        },
        "id": "jr34Ws2tMG3S",
        "outputId": "ab43c052-6246-4fbf-c505-0b5853ce821d"
      },
      "execution_count": null,
      "outputs": [
        {
          "output_type": "execute_result",
          "data": {
            "text/plain": [
              "3"
            ]
          },
          "metadata": {},
          "execution_count": 76
        }
      ]
    },
    {
      "cell_type": "code",
      "source": [
        "Atm.counter"
      ],
      "metadata": {
        "colab": {
          "base_uri": "https://localhost:8080/"
        },
        "id": "WoArrQcGOEPN",
        "outputId": "3fcf50ba-d33c-468a-8f59-d3b6429dda3f"
      },
      "execution_count": null,
      "outputs": [
        {
          "output_type": "execute_result",
          "data": {
            "text/plain": [
              "4"
            ]
          },
          "metadata": {},
          "execution_count": 77
        }
      ]
    },
    {
      "cell_type": "code",
      "source": [
        "Atm.counter = 'hehehe'"
      ],
      "metadata": {
        "id": "2n39KxlvOM9h"
      },
      "execution_count": null,
      "outputs": []
    },
    {
      "cell_type": "code",
      "source": [
        "c1 = Atm()"
      ],
      "metadata": {
        "colab": {
          "base_uri": "https://localhost:8080/",
          "height": 280
        },
        "id": "491V02ZCOkxe",
        "outputId": "195fdaf5-118f-4fd1-ac4c-5ebf4de81070"
      },
      "execution_count": null,
      "outputs": [
        {
          "output_type": "stream",
          "name": "stdout",
          "text": [
            "139323322214592\n"
          ]
        },
        {
          "output_type": "error",
          "ename": "TypeError",
          "evalue": "can only concatenate str (not \"int\") to str",
          "traceback": [
            "\u001b[0;31m---------------------------------------------------------------------------\u001b[0m",
            "\u001b[0;31mTypeError\u001b[0m                                 Traceback (most recent call last)",
            "\u001b[0;32m<ipython-input-80-f2eda67ecdc4>\u001b[0m in \u001b[0;36m<cell line: 1>\u001b[0;34m()\u001b[0m\n\u001b[0;32m----> 1\u001b[0;31m \u001b[0mc1\u001b[0m \u001b[0;34m=\u001b[0m \u001b[0mAtm\u001b[0m\u001b[0;34m(\u001b[0m\u001b[0;34m)\u001b[0m\u001b[0;34m\u001b[0m\u001b[0;34m\u001b[0m\u001b[0m\n\u001b[0m",
            "\u001b[0;32m<ipython-input-68-df62ad0e6176>\u001b[0m in \u001b[0;36m__init__\u001b[0;34m(self)\u001b[0m\n\u001b[1;32m     11\u001b[0m     \u001b[0mself\u001b[0m\u001b[0;34m.\u001b[0m\u001b[0m__balance\u001b[0m \u001b[0;34m=\u001b[0m \u001b[0;36m0\u001b[0m\u001b[0;34m\u001b[0m\u001b[0;34m\u001b[0m\u001b[0m\n\u001b[1;32m     12\u001b[0m     \u001b[0mself\u001b[0m\u001b[0;34m.\u001b[0m\u001b[0mcid\u001b[0m \u001b[0;34m=\u001b[0m \u001b[0mAtm\u001b[0m\u001b[0;34m.\u001b[0m\u001b[0mcounter\u001b[0m\u001b[0;34m\u001b[0m\u001b[0;34m\u001b[0m\u001b[0m\n\u001b[0;32m---> 13\u001b[0;31m     \u001b[0mAtm\u001b[0m\u001b[0;34m.\u001b[0m\u001b[0mcounter\u001b[0m \u001b[0;34m=\u001b[0m \u001b[0mAtm\u001b[0m\u001b[0;34m.\u001b[0m\u001b[0mcounter\u001b[0m \u001b[0;34m+\u001b[0m \u001b[0;36m1\u001b[0m\u001b[0;34m\u001b[0m\u001b[0;34m\u001b[0m\u001b[0m\n\u001b[0m\u001b[1;32m     14\u001b[0m   \u001b[0;32mdef\u001b[0m \u001b[0mget_balance\u001b[0m\u001b[0;34m(\u001b[0m\u001b[0mself\u001b[0m\u001b[0;34m)\u001b[0m\u001b[0;34m:\u001b[0m\u001b[0;34m\u001b[0m\u001b[0;34m\u001b[0m\u001b[0m\n\u001b[1;32m     15\u001b[0m     \u001b[0;32mreturn\u001b[0m \u001b[0mself\u001b[0m\u001b[0;34m.\u001b[0m\u001b[0m__balance\u001b[0m\u001b[0;34m\u001b[0m\u001b[0;34m\u001b[0m\u001b[0m\n",
            "\u001b[0;31mTypeError\u001b[0m: can only concatenate str (not \"int\") to str"
          ]
        }
      ]
    },
    {
      "cell_type": "code",
      "source": [
        "c1 = Atm()"
      ],
      "metadata": {
        "colab": {
          "base_uri": "https://localhost:8080/"
        },
        "id": "QyL9oGumPPiL",
        "outputId": "32105516-4583-4cc1-cb48-0b385f5318a5"
      },
      "execution_count": null,
      "outputs": [
        {
          "output_type": "stream",
          "name": "stdout",
          "text": [
            "139323322051040\n"
          ]
        }
      ]
    },
    {
      "cell_type": "code",
      "source": [
        "c1.get_counter()"
      ],
      "metadata": {
        "colab": {
          "base_uri": "https://localhost:8080/",
          "height": 141
        },
        "id": "jkkNHXSuPR4I",
        "outputId": "4bcabd19-315c-47a4-8ff7-9b60cd6ef74f"
      },
      "execution_count": null,
      "outputs": [
        {
          "output_type": "error",
          "ename": "TypeError",
          "evalue": "Atm.get_counter() takes 0 positional arguments but 1 was given",
          "traceback": [
            "\u001b[0;31m---------------------------------------------------------------------------\u001b[0m",
            "\u001b[0;31mTypeError\u001b[0m                                 Traceback (most recent call last)",
            "\u001b[0;32m<ipython-input-83-e3740219a44a>\u001b[0m in \u001b[0;36m<cell line: 1>\u001b[0;34m()\u001b[0m\n\u001b[0;32m----> 1\u001b[0;31m \u001b[0mc1\u001b[0m\u001b[0;34m.\u001b[0m\u001b[0mget_counter\u001b[0m\u001b[0;34m(\u001b[0m\u001b[0;34m)\u001b[0m\u001b[0;34m\u001b[0m\u001b[0;34m\u001b[0m\u001b[0m\n\u001b[0m",
            "\u001b[0;31mTypeError\u001b[0m: Atm.get_counter() takes 0 positional arguments but 1 was given"
          ]
        }
      ]
    },
    {
      "cell_type": "code",
      "source": [
        "Atm.get_counter()"
      ],
      "metadata": {
        "colab": {
          "base_uri": "https://localhost:8080/"
        },
        "id": "ecDo6zm2PXpV",
        "outputId": "27714aa5-1f84-4e30-b68b-db217bf2c80b"
      },
      "execution_count": null,
      "outputs": [
        {
          "output_type": "execute_result",
          "data": {
            "text/plain": [
              "2"
            ]
          },
          "metadata": {},
          "execution_count": 84
        }
      ]
    }
  ]
}