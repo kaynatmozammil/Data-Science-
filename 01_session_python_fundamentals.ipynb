{
  "nbformat": 4,
  "nbformat_minor": 0,
  "metadata": {
    "colab": {
      "provenance": [],
      "toc_visible": true,
      "mount_file_id": "1IP4e21ZL_nfOMmczGy-PJ398eYMy0irs",
      "authorship_tag": "ABX9TyNzhpnCyu2A6nHyoNgWzF1u",
      "include_colab_link": true
    },
    "kernelspec": {
      "name": "python3",
      "display_name": "Python 3"
    },
    "language_info": {
      "name": "python"
    }
  },
  "cells": [
    {
      "cell_type": "markdown",
      "metadata": {
        "id": "view-in-github",
        "colab_type": "text"
      },
      "source": [
        "<a href=\"https://colab.research.google.com/github/kaynatmozammil/Data-Science-/blob/main/session1_python_fundamentals.ipynb\" target=\"_parent\"><img src=\"https://colab.research.google.com/assets/colab-badge.svg\" alt=\"Open In Colab\"/></a>"
      ]
    },
    {
      "cell_type": "markdown",
      "source": [
        "#1.Python Outpout"
      ],
      "metadata": {
        "id": "FQzP7TBXqUCw"
      }
    },
    {
      "cell_type": "code",
      "execution_count": null,
      "metadata": {
        "colab": {
          "base_uri": "https://localhost:8080/"
        },
        "id": "wN9wPBxlp56q",
        "outputId": "600abafc-6c6b-4c88-c133-a43b9752bc94"
      },
      "outputs": [
        {
          "output_type": "stream",
          "name": "stdout",
          "text": [
            "Hello World\n"
          ]
        }
      ],
      "source": [
        "#python is case sensitive language\n",
        "print('Hello World');"
      ]
    },
    {
      "cell_type": "code",
      "source": [
        "print(\"salman khan\")"
      ],
      "metadata": {
        "colab": {
          "base_uri": "https://localhost:8080/"
        },
        "id": "ntNHhheCrjKE",
        "outputId": "894b2de0-4124-445e-e8d7-7bc1c6714c62"
      },
      "execution_count": null,
      "outputs": [
        {
          "output_type": "stream",
          "name": "stdout",
          "text": [
            "salman khan\n"
          ]
        }
      ]
    },
    {
      "cell_type": "code",
      "source": [
        "print(salman khan)"
      ],
      "metadata": {
        "colab": {
          "base_uri": "https://localhost:8080/",
          "height": 141
        },
        "id": "dAHS-TIwrn-W",
        "outputId": "09e73aab-9640-486a-b55a-bcd50ccfc2eb"
      },
      "execution_count": null,
      "outputs": [
        {
          "output_type": "error",
          "ename": "SyntaxError",
          "evalue": "invalid syntax. Perhaps you forgot a comma? (<ipython-input-3-0713073d8d88>, line 1)",
          "traceback": [
            "\u001b[0;36m  File \u001b[0;32m\"<ipython-input-3-0713073d8d88>\"\u001b[0;36m, line \u001b[0;32m1\u001b[0m\n\u001b[0;31m    print(salman khan)\u001b[0m\n\u001b[0m          ^\u001b[0m\n\u001b[0;31mSyntaxError\u001b[0m\u001b[0;31m:\u001b[0m invalid syntax. Perhaps you forgot a comma?\n"
          ]
        }
      ]
    },
    {
      "cell_type": "code",
      "source": [
        "print(7)"
      ],
      "metadata": {
        "colab": {
          "base_uri": "https://localhost:8080/"
        },
        "id": "GbfDoTdqr3tC",
        "outputId": "2ef47c5a-1b2e-4cb1-fb70-1e398197ba16"
      },
      "execution_count": null,
      "outputs": [
        {
          "output_type": "stream",
          "name": "stdout",
          "text": [
            "7\n"
          ]
        }
      ]
    },
    {
      "cell_type": "code",
      "source": [
        "print(7.7)"
      ],
      "metadata": {
        "colab": {
          "base_uri": "https://localhost:8080/"
        },
        "id": "LcZwQVJBr7-B",
        "outputId": "6a588a5b-161f-459b-dca4-af7d0294141e"
      },
      "execution_count": null,
      "outputs": [
        {
          "output_type": "stream",
          "name": "stdout",
          "text": [
            "7.7\n"
          ]
        }
      ]
    },
    {
      "cell_type": "code",
      "source": [
        "print(True)"
      ],
      "metadata": {
        "colab": {
          "base_uri": "https://localhost:8080/"
        },
        "id": "K271J-OVr_lj",
        "outputId": "92467253-28d1-43e2-a9a7-ebbcf5b7f407"
      },
      "execution_count": null,
      "outputs": [
        {
          "output_type": "stream",
          "name": "stdout",
          "text": [
            "True\n"
          ]
        }
      ]
    },
    {
      "cell_type": "code",
      "source": [
        "print('Hello',1,4,5,True)"
      ],
      "metadata": {
        "colab": {
          "base_uri": "https://localhost:8080/"
        },
        "id": "8hdlKnFhsVwM",
        "outputId": "fa49945e-b1a2-4c2a-8238-ad7835ac3ae8"
      },
      "execution_count": null,
      "outputs": [
        {
          "output_type": "stream",
          "name": "stdout",
          "text": [
            "Hello 1 4 5 True\n"
          ]
        }
      ]
    },
    {
      "cell_type": "code",
      "source": [
        "print('Hello',1,4,5,True, sep='/')"
      ],
      "metadata": {
        "colab": {
          "base_uri": "https://localhost:8080/"
        },
        "id": "lpxOhW4Pse0N",
        "outputId": "cccb3b4f-dce9-4d65-c5e0-fdd698db070e"
      },
      "execution_count": null,
      "outputs": [
        {
          "output_type": "stream",
          "name": "stdout",
          "text": [
            "Hello/1/4/5/True\n"
          ]
        }
      ]
    },
    {
      "cell_type": "code",
      "source": [
        "print('hello')\n",
        "print('world')"
      ],
      "metadata": {
        "colab": {
          "base_uri": "https://localhost:8080/"
        },
        "id": "uCHhSwvMs43W",
        "outputId": "b171196e-ec21-4c3a-b7d3-2068454bf415"
      },
      "execution_count": null,
      "outputs": [
        {
          "output_type": "stream",
          "name": "stdout",
          "text": [
            "hello\n",
            "world\n"
          ]
        }
      ]
    },
    {
      "cell_type": "code",
      "source": [
        "print('hello', end='_')\n",
        "print('world')"
      ],
      "metadata": {
        "colab": {
          "base_uri": "https://localhost:8080/"
        },
        "id": "kXJe0B0ytAYA",
        "outputId": "46f99cd5-b02c-4728-e63c-8fc2d6f010e2"
      },
      "execution_count": null,
      "outputs": [
        {
          "output_type": "stream",
          "name": "stdout",
          "text": [
            "hello_world\n"
          ]
        }
      ]
    },
    {
      "cell_type": "markdown",
      "source": [
        "#2.Data Types"
      ],
      "metadata": {
        "id": "04mbHIPxsGB0"
      }
    },
    {
      "cell_type": "code",
      "source": [],
      "metadata": {
        "id": "VFBEj2DW8P5a"
      },
      "execution_count": null,
      "outputs": []
    },
    {
      "cell_type": "code",
      "source": [
        "#Integer\n",
        "print(8)\n",
        "#1*10^308\n",
        "print(1e309)"
      ],
      "metadata": {
        "colab": {
          "base_uri": "https://localhost:8080/"
        },
        "id": "bX2px4RKtlRY",
        "outputId": "96b2d9ac-2a31-4ed6-86db-c543ef2ec8f7"
      },
      "execution_count": null,
      "outputs": [
        {
          "output_type": "stream",
          "name": "stdout",
          "text": [
            "8\n",
            "inf\n"
          ]
        }
      ]
    },
    {
      "cell_type": "code",
      "source": [
        "#Decimal/Float\n",
        "print(8.55)\n",
        "print(1.7e308)"
      ],
      "metadata": {
        "colab": {
          "base_uri": "https://localhost:8080/"
        },
        "id": "IvYOGJKNtsSI",
        "outputId": "fc76685c-ba8c-4116-e270-9ae2442d12f1"
      },
      "execution_count": null,
      "outputs": [
        {
          "output_type": "stream",
          "name": "stdout",
          "text": [
            "8.55\n",
            "1.7e+308\n"
          ]
        }
      ]
    },
    {
      "cell_type": "code",
      "source": [
        "#Boolean\n",
        "print(True)\n",
        "print(False)"
      ],
      "metadata": {
        "colab": {
          "base_uri": "https://localhost:8080/"
        },
        "id": "hb_CB0HnuMJ3",
        "outputId": "a691651f-a205-41e8-a713-3e1b37ab60e0"
      },
      "execution_count": null,
      "outputs": [
        {
          "output_type": "stream",
          "name": "stdout",
          "text": [
            "True\n",
            "False\n"
          ]
        }
      ]
    },
    {
      "cell_type": "code",
      "source": [
        "#Text/String\n",
        "print('Hellow World')"
      ],
      "metadata": {
        "colab": {
          "base_uri": "https://localhost:8080/"
        },
        "id": "zC-4iDYXus3A",
        "outputId": "a03ebf74-dbcb-4f51-80eb-4263228228a3"
      },
      "execution_count": null,
      "outputs": [
        {
          "output_type": "stream",
          "name": "stdout",
          "text": [
            "Hellow World\n"
          ]
        }
      ]
    },
    {
      "cell_type": "code",
      "source": [
        "#complex\n",
        "print(5+6j)"
      ],
      "metadata": {
        "colab": {
          "base_uri": "https://localhost:8080/"
        },
        "id": "Y06sTcbPu1Wq",
        "outputId": "69f8b996-d4b6-4aed-9c4e-9d194460f6db"
      },
      "execution_count": null,
      "outputs": [
        {
          "output_type": "stream",
          "name": "stdout",
          "text": [
            "(5+6j)\n"
          ]
        }
      ]
    },
    {
      "cell_type": "code",
      "source": [
        "#List -> C-> Array\n",
        "print([1,2,3,4,5])"
      ],
      "metadata": {
        "colab": {
          "base_uri": "https://localhost:8080/"
        },
        "id": "fFI4yR6nu7uQ",
        "outputId": "b4a4cc5c-55e7-44e0-bc71-181dddcf3585"
      },
      "execution_count": null,
      "outputs": [
        {
          "output_type": "stream",
          "name": "stdout",
          "text": [
            "[1, 2, 3, 4, 5]\n"
          ]
        }
      ]
    },
    {
      "cell_type": "code",
      "source": [
        "#Tuple\n",
        "print((1,2,3,4,5))"
      ],
      "metadata": {
        "colab": {
          "base_uri": "https://localhost:8080/"
        },
        "id": "_aRfSB05vFzC",
        "outputId": "eb547936-b808-4889-ac45-527910aaabdb"
      },
      "execution_count": null,
      "outputs": [
        {
          "output_type": "stream",
          "name": "stdout",
          "text": [
            "(1, 2, 3, 4, 5)\n"
          ]
        }
      ]
    },
    {
      "cell_type": "code",
      "source": [
        "#sets\n",
        "print({1,2,3,4,5})"
      ],
      "metadata": {
        "colab": {
          "base_uri": "https://localhost:8080/"
        },
        "id": "TBQVFmEOvLKt",
        "outputId": "60c62b23-3330-4c6b-e3f4-4f709bb16215"
      },
      "execution_count": null,
      "outputs": [
        {
          "output_type": "stream",
          "name": "stdout",
          "text": [
            "{1, 2, 3, 4, 5}\n"
          ]
        }
      ]
    },
    {
      "cell_type": "code",
      "source": [],
      "metadata": {
        "id": "rbluQ6tZ86J7"
      },
      "execution_count": null,
      "outputs": []
    },
    {
      "cell_type": "code",
      "source": [
        "#Dictionary\n",
        "print('Name':'Kaynat','Gender':'Male','weight':54)"
      ],
      "metadata": {
        "colab": {
          "base_uri": "https://localhost:8080/",
          "height": 141
        },
        "id": "HIM9MKQ1vQae",
        "outputId": "f172d7a7-4d15-4a2a-e9ba-9121d76de186"
      },
      "execution_count": null,
      "outputs": [
        {
          "output_type": "error",
          "ename": "SyntaxError",
          "evalue": "invalid syntax (<ipython-input-27-5eef925be393>, line 2)",
          "traceback": [
            "\u001b[0;36m  File \u001b[0;32m\"<ipython-input-27-5eef925be393>\"\u001b[0;36m, line \u001b[0;32m2\u001b[0m\n\u001b[0;31m    print('Name':'Kaynat','Gender':'Male','weight':54)\u001b[0m\n\u001b[0m                ^\u001b[0m\n\u001b[0;31mSyntaxError\u001b[0m\u001b[0;31m:\u001b[0m invalid syntax\n"
          ]
        }
      ]
    },
    {
      "cell_type": "code",
      "source": [
        "#dictionary\n",
        "print({'Name':'Kaynat','Gender':'Male','weight':54})"
      ],
      "metadata": {
        "colab": {
          "base_uri": "https://localhost:8080/"
        },
        "id": "bFLx0Qjuvu39",
        "outputId": "9f0584bb-a4bd-453e-b385-d20cf4bad115"
      },
      "execution_count": null,
      "outputs": [
        {
          "output_type": "stream",
          "name": "stdout",
          "text": [
            "{'Name': 'Kaynat', 'Gender': 'Male', 'weight': 54}\n"
          ]
        }
      ]
    },
    {
      "cell_type": "code",
      "source": [
        "#type\n",
        "type([1,2,3])"
      ],
      "metadata": {
        "colab": {
          "base_uri": "https://localhost:8080/"
        },
        "id": "oLoMiO229Afi",
        "outputId": "f58e5000-f8f2-413b-d5b1-a4ca052c218e"
      },
      "execution_count": null,
      "outputs": [
        {
          "output_type": "execute_result",
          "data": {
            "text/plain": [
              "list"
            ]
          },
          "metadata": {},
          "execution_count": 6
        }
      ]
    },
    {
      "cell_type": "markdown",
      "source": [
        "#3.Variables"
      ],
      "metadata": {
        "id": "6phYtVi-9FFU"
      }
    },
    {
      "cell_type": "code",
      "source": [
        "#they are container for feature use\n",
        "#Static Vs Dynamic typing\n",
        "#Static Vs Dynamic Binding\n",
        "#Stylish Declaration techniques\n"
      ],
      "metadata": {
        "id": "w6XhahQn9Nwq"
      },
      "execution_count": null,
      "outputs": []
    },
    {
      "cell_type": "code",
      "source": [
        "#C/C++\n",
        "#python\n",
        "name ='kaynat'\n",
        "print(name)\n",
        "\n",
        "a=5\n",
        "b=6\n",
        "print(a+b)"
      ],
      "metadata": {
        "colab": {
          "base_uri": "https://localhost:8080/"
        },
        "id": "L1LNfi1D9dIW",
        "outputId": "20eb3cf4-77fc-42bc-b226-cd3a3eff41e9"
      },
      "execution_count": null,
      "outputs": [
        {
          "output_type": "stream",
          "name": "stdout",
          "text": [
            "kaynat\n",
            "11\n"
          ]
        }
      ]
    },
    {
      "cell_type": "code",
      "source": [
        "#Dynamic Typing\n",
        "#where you do not tell data type of variable\n",
        "a=5;\n",
        "#Static typing\n",
        "int a=5"
      ],
      "metadata": {
        "id": "nmLrabo2-G7H"
      },
      "execution_count": null,
      "outputs": []
    },
    {
      "cell_type": "code",
      "source": [
        "#Dynamic binding\n",
        "#python varial kisi bhi type ka data type hold kar sakta hai\n",
        "a=5\n",
        "print(a)\n",
        "a='nitish'\n",
        "print(a)\n",
        "\n",
        "#Static binding\n",
        "int a=5"
      ],
      "metadata": {
        "colab": {
          "base_uri": "https://localhost:8080/"
        },
        "id": "x7rgqx0B-cGj",
        "outputId": "0e9a6d1e-4dd6-467b-8f9b-817e57cf6e3d"
      },
      "execution_count": null,
      "outputs": [
        {
          "output_type": "stream",
          "name": "stdout",
          "text": [
            "5\n",
            "nitish\n"
          ]
        }
      ]
    },
    {
      "cell_type": "code",
      "source": [
        "a=1\n",
        "b=2\n",
        "c=3\n",
        "print(a,b,c)"
      ],
      "metadata": {
        "colab": {
          "base_uri": "https://localhost:8080/"
        },
        "id": "RxOFDnek-8AT",
        "outputId": "b149606e-d1f4-4d1e-cc92-8e1f127721a7"
      },
      "execution_count": null,
      "outputs": [
        {
          "output_type": "stream",
          "name": "stdout",
          "text": [
            "1 2 3\n"
          ]
        }
      ]
    },
    {
      "cell_type": "code",
      "source": [
        "a,b,c=1,2,3\n",
        "print(a,b,c)"
      ],
      "metadata": {
        "colab": {
          "base_uri": "https://localhost:8080/"
        },
        "id": "O2H6lFw5_E02",
        "outputId": "d9c11be1-365d-4efa-97d8-5160ec2e6d2b"
      },
      "execution_count": null,
      "outputs": [
        {
          "output_type": "stream",
          "name": "stdout",
          "text": [
            "1 2 3\n"
          ]
        }
      ]
    },
    {
      "cell_type": "code",
      "source": [
        "a=b=c=5\n",
        "print(a,b,c)"
      ],
      "metadata": {
        "colab": {
          "base_uri": "https://localhost:8080/"
        },
        "id": "Hfiw27Rt_O7r",
        "outputId": "454fe3da-bed0-4870-eaeb-d3220b931f72"
      },
      "execution_count": null,
      "outputs": [
        {
          "output_type": "stream",
          "name": "stdout",
          "text": [
            "5 5 5\n"
          ]
        }
      ]
    },
    {
      "cell_type": "markdown",
      "source": [
        "#comments"
      ],
      "metadata": {
        "id": "36PDsaXjAO5D"
      }
    },
    {
      "cell_type": "code",
      "source": [
        "#This is a comments\n",
        "#second line\n",
        "a=4\n",
        "b=6 #like this\n",
        "#second comments\n",
        "print(a+b)"
      ],
      "metadata": {
        "colab": {
          "base_uri": "https://localhost:8080/"
        },
        "id": "o4HiE4_UAU59",
        "outputId": "6f5d6b5f-1511-40a4-ff1f-601ba50c66a6"
      },
      "execution_count": null,
      "outputs": [
        {
          "output_type": "stream",
          "name": "stdout",
          "text": [
            "10\n"
          ]
        }
      ]
    },
    {
      "cell_type": "markdown",
      "source": [
        "#4.Keywords & Identifiers"
      ],
      "metadata": {
        "id": "Xq9aKFH5AG6H"
      }
    },
    {
      "cell_type": "code",
      "source": [
        "#Keywords 32"
      ],
      "metadata": {
        "id": "fXKODkTWIvjO"
      },
      "execution_count": null,
      "outputs": []
    },
    {
      "cell_type": "code",
      "source": [
        "#Identifier\n",
        "#when we create name\n",
        "#Rule\n",
        "#Tou can't start with a digit\n",
        "1name='kynat'\n",
        "nam1='mozammil'\n",
        "#you can use special chars-> _\n",
        "_=\"kaynat\"\n",
        "#Identifiers can not be keywords\n"
      ],
      "metadata": {
        "id": "ke8-W18wLGb6"
      },
      "execution_count": null,
      "outputs": []
    },
    {
      "cell_type": "markdown",
      "source": [
        "#5.User Input"
      ],
      "metadata": {
        "id": "Jss_HTpsLr_b"
      }
    },
    {
      "cell_type": "code",
      "source": [
        "#Static Vs Dynamic\n",
        "input ('Enter Email')"
      ],
      "metadata": {
        "colab": {
          "base_uri": "https://localhost:8080/",
          "height": 52
        },
        "id": "ouIEvPhUL2ke",
        "outputId": "093451dc-8cd9-4bd9-bdcb-94a4a7031c1b"
      },
      "execution_count": null,
      "outputs": [
        {
          "name": "stdout",
          "output_type": "stream",
          "text": [
            "Enter Emailkaynat@gmail.com\n"
          ]
        },
        {
          "output_type": "execute_result",
          "data": {
            "text/plain": [
              "'kaynat@gmail.com'"
            ],
            "application/vnd.google.colaboratory.intrinsic+json": {
              "type": "string"
            }
          },
          "metadata": {},
          "execution_count": 19
        }
      ]
    },
    {
      "cell_type": "code",
      "source": [
        "#Take input from user and store them in a variable\n",
        "fnum = input(\"enter first number\")\n",
        "snum = input(\"enter second number\")\n",
        "print(fnum,snum)\n",
        "print(type(fnum),type(snum))\n",
        "#add the 2 variables\n",
        "result= int(fnum)+int(snum)\n",
        "#print the result\n",
        "print(result)\n",
        "print(type(fnum),type(snum))"
      ],
      "metadata": {
        "colab": {
          "base_uri": "https://localhost:8080/"
        },
        "id": "PoxTLXyuM2Vk",
        "outputId": "08b9f25e-b51f-4163-8f9e-1ff1d7609f83"
      },
      "execution_count": null,
      "outputs": [
        {
          "output_type": "stream",
          "name": "stdout",
          "text": [
            "enter first number45\n",
            "enter second number56\n",
            "45 56\n",
            "<class 'str'> <class 'str'>\n",
            "101\n",
            "<class 'str'> <class 'str'>\n"
          ]
        }
      ]
    },
    {
      "cell_type": "markdown",
      "source": [],
      "metadata": {
        "id": "KPrpgMDSXsk0"
      }
    },
    {
      "cell_type": "markdown",
      "source": [
        "#6. Type Conversion"
      ],
      "metadata": {
        "id": "XMr4tVWsVj1I"
      }
    },
    {
      "cell_type": "markdown",
      "source": [],
      "metadata": {
        "id": "m8kJyfTAXu5t"
      }
    },
    {
      "cell_type": "code",
      "source": [
        "#Implicit Vs Explicit\n",
        "print(5+5.6)\n",
        "print(type(5),type(5.9))\n",
        "print(4+'4')"
      ],
      "metadata": {
        "colab": {
          "base_uri": "https://localhost:8080/",
          "height": 211
        },
        "id": "4Opi8Q30Vv_3",
        "outputId": "e8427bfe-c682-4887-cbfb-9d689110d3ff"
      },
      "execution_count": null,
      "outputs": [
        {
          "output_type": "stream",
          "name": "stdout",
          "text": [
            "10.6\n",
            "<class 'int'> <class 'float'>\n"
          ]
        },
        {
          "output_type": "error",
          "ename": "TypeError",
          "evalue": "unsupported operand type(s) for +: 'int' and 'str'",
          "traceback": [
            "\u001b[0;31m---------------------------------------------------------------------------\u001b[0m",
            "\u001b[0;31mTypeError\u001b[0m                                 Traceback (most recent call last)",
            "\u001b[0;32m<ipython-input-28-e2e34d34edfe>\u001b[0m in \u001b[0;36m<cell line: 4>\u001b[0;34m()\u001b[0m\n\u001b[1;32m      2\u001b[0m \u001b[0mprint\u001b[0m\u001b[0;34m(\u001b[0m\u001b[0;36m5\u001b[0m\u001b[0;34m+\u001b[0m\u001b[0;36m5.6\u001b[0m\u001b[0;34m)\u001b[0m\u001b[0;34m\u001b[0m\u001b[0;34m\u001b[0m\u001b[0m\n\u001b[1;32m      3\u001b[0m \u001b[0mprint\u001b[0m\u001b[0;34m(\u001b[0m\u001b[0mtype\u001b[0m\u001b[0;34m(\u001b[0m\u001b[0;36m5\u001b[0m\u001b[0;34m)\u001b[0m\u001b[0;34m,\u001b[0m\u001b[0mtype\u001b[0m\u001b[0;34m(\u001b[0m\u001b[0;36m5.9\u001b[0m\u001b[0;34m)\u001b[0m\u001b[0;34m)\u001b[0m\u001b[0;34m\u001b[0m\u001b[0;34m\u001b[0m\u001b[0m\n\u001b[0;32m----> 4\u001b[0;31m \u001b[0mprint\u001b[0m\u001b[0;34m(\u001b[0m\u001b[0;36m4\u001b[0m\u001b[0;34m+\u001b[0m\u001b[0;34m'4'\u001b[0m\u001b[0;34m)\u001b[0m\u001b[0;34m\u001b[0m\u001b[0;34m\u001b[0m\u001b[0m\n\u001b[0m",
            "\u001b[0;31mTypeError\u001b[0m: unsupported operand type(s) for +: 'int' and 'str'"
          ]
        }
      ]
    },
    {
      "cell_type": "code",
      "source": [
        "#EXplicit\n",
        "#Str -> int\n",
        "# type(int(4+6j))\n",
        "\n",
        "#int -> str\n",
        "str(5)\n",
        "\n",
        "#float\n",
        "float(4)\n",
        "\n",
        "#"
      ],
      "metadata": {
        "colab": {
          "base_uri": "https://localhost:8080/"
        },
        "id": "aj1aNSUgWIa7",
        "outputId": "a9f404c9-4a68-4b57-cca4-0ab697c2d8c2"
      },
      "execution_count": null,
      "outputs": [
        {
          "output_type": "execute_result",
          "data": {
            "text/plain": [
              "4.0"
            ]
          },
          "metadata": {},
          "execution_count": 36
        }
      ]
    },
    {
      "cell_type": "markdown",
      "source": [
        "# 7. Literals"
      ],
      "metadata": {
        "id": "oeaxGoAKXyEP"
      }
    },
    {
      "cell_type": "code",
      "source": [
        "a=0b101 #Binary Literals\n",
        "b=100 #Decimal Literals\n",
        "c= 0o310 #Octal Literals\n",
        "d=0x12c #Hexadecimal Literal\n",
        "\n",
        "#Float Literal\n",
        "float_1=10.5\n",
        "float_2=1.5e2\n",
        "float_3=1.5e-3\n",
        "\n",
        "#Complex Literals\n",
        "x=3.14j"
      ],
      "metadata": {
        "id": "jJk3KWgAX4_6"
      },
      "execution_count": null,
      "outputs": []
    },
    {
      "cell_type": "code",
      "source": [
        "#Binary\n",
        "a= 0b1001\n",
        "print(a)\n",
        "c= 0o310\n",
        "print(c)\n",
        "float_2=1.5e2\n",
        "print(float_2)\n",
        "x=3.14j\n",
        "print(x)\n",
        "print(x.real,x.imag)"
      ],
      "metadata": {
        "colab": {
          "base_uri": "https://localhost:8080/"
        },
        "id": "mLJAG711YPpo",
        "outputId": "bfbbc528-a30b-4c31-8f96-111d8c398416"
      },
      "execution_count": null,
      "outputs": [
        {
          "output_type": "stream",
          "name": "stdout",
          "text": [
            "9\n",
            "200\n",
            "150.0\n",
            "3.14j\n",
            "0.0 3.14\n"
          ]
        }
      ]
    },
    {
      "cell_type": "code",
      "source": [
        "strint='This is Python'\n",
        "string=\"This is Python\"\n",
        "char=\"C\"\n",
        "multiline_str=\"\"\"THis is a multiline string with more than one line code.\"\"\"\n",
        "unicode= u\"\\U0001f600\\U0001F606\\U0001F923\"\n",
        "raw_str=r\"raw \\n string\"\n",
        "\n",
        "print(string)\n",
        "print(string)\n",
        "print(char)\n",
        "print(multiline_str)\n",
        "print(unicode)\n",
        "print(raw_str)"
      ],
      "metadata": {
        "colab": {
          "base_uri": "https://localhost:8080/"
        },
        "id": "vRhbRnGqZ6zC",
        "outputId": "cded22dd-c0d3-4601-e22f-60f06cd41e0d"
      },
      "execution_count": null,
      "outputs": [
        {
          "output_type": "stream",
          "name": "stdout",
          "text": [
            "This is Python\n",
            "This is Python\n",
            "C\n",
            "THis is a multiline string with more than one line code.\n",
            "😀😆🤣\n",
            "raw \\n string\n"
          ]
        }
      ]
    },
    {
      "cell_type": "code",
      "source": [
        "a= True +4\n",
        "b=False+10\n",
        "print(\"a:\",a)\n",
        "print(\"b:\",b)"
      ],
      "metadata": {
        "colab": {
          "base_uri": "https://localhost:8080/"
        },
        "id": "NNEHG_OPbO1g",
        "outputId": "6981e082-2f29-4ebd-b98d-cc5b5c44d71b"
      },
      "execution_count": null,
      "outputs": [
        {
          "output_type": "stream",
          "name": "stdout",
          "text": [
            "a: 5\n",
            "b: 10\n"
          ]
        }
      ]
    },
    {
      "cell_type": "code",
      "source": [
        "a=None\n",
        "print(a)"
      ],
      "metadata": {
        "colab": {
          "base_uri": "https://localhost:8080/"
        },
        "id": "_k8I9p9Wbe_V",
        "outputId": "90814ea4-b3a5-4af0-a08c-47102cbf8bbb"
      },
      "execution_count": null,
      "outputs": [
        {
          "output_type": "stream",
          "name": "stdout",
          "text": [
            "None\n"
          ]
        }
      ]
    },
    {
      "cell_type": "code",
      "source": [
        "k=None\n",
        "a=5\n",
        "b=6\n",
        "print('Program execute')"
      ],
      "metadata": {
        "colab": {
          "base_uri": "https://localhost:8080/"
        },
        "id": "0vEtgRxLbylB",
        "outputId": "c9051918-1995-4abf-d541-afb368490a46"
      },
      "execution_count": null,
      "outputs": [
        {
          "output_type": "stream",
          "name": "stdout",
          "text": [
            "Program execute\n"
          ]
        }
      ]
    }
  ]
}