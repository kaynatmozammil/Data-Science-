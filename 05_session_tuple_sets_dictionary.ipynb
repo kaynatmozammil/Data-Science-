{
  "nbformat": 4,
  "nbformat_minor": 0,
  "metadata": {
    "colab": {
      "provenance": [],
      "authorship_tag": "ABX9TyNiKIaE1QqP6sep6rP4/lhw",
      "include_colab_link": true
    },
    "kernelspec": {
      "name": "python3",
      "display_name": "Python 3"
    },
    "language_info": {
      "name": "python"
    }
  },
  "cells": [
    {
      "cell_type": "markdown",
      "metadata": {
        "id": "view-in-github",
        "colab_type": "text"
      },
      "source": [
        "<a href=\"https://colab.research.google.com/github/kaynatmozammil/Data-Science-/blob/main/05_session_tuple_sets_dictionary.ipynb\" target=\"_parent\"><img src=\"https://colab.research.google.com/assets/colab-badge.svg\" alt=\"Open In Colab\"/></a>"
      ]
    },
    {
      "cell_type": "code",
      "execution_count": null,
      "metadata": {
        "colab": {
          "base_uri": "https://localhost:8080/"
        },
        "id": "3Le1MX__xJU0",
        "outputId": "7a38dd80-9087-4281-86ec-867b0e826e86"
      },
      "outputs": [
        {
          "output_type": "stream",
          "name": "stdout",
          "text": [
            "()\n",
            "<class 'tuple'>\n",
            "(1, 2, 3, 4, 5)\n",
            "(1, 2, 3, 4, True, [1, 2, 3])\n",
            "(1, 2, 3, (4, 5))\n",
            "('h', 'e', 'l', 'l', 'o')\n",
            "(1, 2)\n"
          ]
        }
      ],
      "source": [
        "#Create tuple\n",
        "#empty\n",
        "t1=()\n",
        "print(t1)\n",
        "#how to create a tuple with a single item\n",
        "t2=(2,)\n",
        "print(type(t2))\n",
        "#homogenous\n",
        "t3=(1,2,3,4,5)\n",
        "print(t3)\n",
        "#Hetrogenous\n",
        "t4 =(1,2,3,4,True,[1,2,3])\n",
        "print(t4)\n",
        "#2D tuple\n",
        "t5=(1,2,3,(4,5))\n",
        "print(t5)\n",
        "#using typle conversion\n",
        "t6=tuple ('hello')\n",
        "print(t6)\n",
        "t7= (1,2)\n",
        "print(t7)"
      ]
    },
    {
      "cell_type": "code",
      "source": [
        "print(t3)\n",
        "print(t3[0])\n",
        "print(t3[-1])"
      ],
      "metadata": {
        "colab": {
          "base_uri": "https://localhost:8080/"
        },
        "id": "ZP4o6Yrm1gSV",
        "outputId": "2906bd38-66f8-4d12-ac94-1995faf9913f"
      },
      "execution_count": null,
      "outputs": [
        {
          "output_type": "stream",
          "name": "stdout",
          "text": [
            "(1, 2, 3, 4)\n",
            "1\n",
            "4\n"
          ]
        }
      ]
    },
    {
      "cell_type": "code",
      "source": [
        "print(t3[::-1])"
      ],
      "metadata": {
        "colab": {
          "base_uri": "https://localhost:8080/"
        },
        "id": "yB7WMNQn2Q-n",
        "outputId": "3bba79a4-7c3b-462b-80f0-9dfcb4b202ea"
      },
      "execution_count": null,
      "outputs": [
        {
          "output_type": "stream",
          "name": "stdout",
          "text": [
            "(4, 3, 2, 1)\n"
          ]
        }
      ]
    },
    {
      "cell_type": "code",
      "source": [
        "t5\n",
        "print(t5[-1][-2])"
      ],
      "metadata": {
        "colab": {
          "base_uri": "https://localhost:8080/"
        },
        "id": "3Xo9GljF2ov_",
        "outputId": "f25aa4cf-f055-4ac9-f87c-1b55196dd823"
      },
      "execution_count": null,
      "outputs": [
        {
          "output_type": "stream",
          "name": "stdout",
          "text": [
            "4\n"
          ]
        }
      ]
    },
    {
      "cell_type": "code",
      "source": [
        "print(t3)\n",
        "t3[0]=100\n",
        "#immutable just like strings"
      ],
      "metadata": {
        "colab": {
          "base_uri": "https://localhost:8080/",
          "height": 176
        },
        "id": "xj5gJiJb30KP",
        "outputId": "f113bd67-3144-4c2c-88d3-a4bb67b401de"
      },
      "execution_count": null,
      "outputs": [
        {
          "output_type": "stream",
          "name": "stdout",
          "text": [
            "(1, 2, 3, 4, 5)\n"
          ]
        },
        {
          "output_type": "error",
          "ename": "TypeError",
          "evalue": "'tuple' object does not support item assignment",
          "traceback": [
            "\u001b[0;31m---------------------------------------------------------------------------\u001b[0m",
            "\u001b[0;31mTypeError\u001b[0m                                 Traceback (most recent call last)",
            "\u001b[0;32m<ipython-input-34-57098919957b>\u001b[0m in \u001b[0;36m<cell line: 2>\u001b[0;34m()\u001b[0m\n\u001b[1;32m      1\u001b[0m \u001b[0mprint\u001b[0m\u001b[0;34m(\u001b[0m\u001b[0mt3\u001b[0m\u001b[0;34m)\u001b[0m\u001b[0;34m\u001b[0m\u001b[0;34m\u001b[0m\u001b[0m\n\u001b[0;32m----> 2\u001b[0;31m \u001b[0mt3\u001b[0m\u001b[0;34m[\u001b[0m\u001b[0;36m0\u001b[0m\u001b[0;34m]\u001b[0m\u001b[0;34m=\u001b[0m\u001b[0;36m100\u001b[0m\u001b[0;34m\u001b[0m\u001b[0;34m\u001b[0m\u001b[0m\n\u001b[0m",
            "\u001b[0;31mTypeError\u001b[0m: 'tuple' object does not support item assignment"
          ]
        }
      ]
    },
    {
      "cell_type": "code",
      "source": [
        "print(t3)\n",
        "#not poassible"
      ],
      "metadata": {
        "colab": {
          "base_uri": "https://localhost:8080/"
        },
        "id": "Vrht_Mtq4L83",
        "outputId": "b4c970b7-21ee-4f37-bbf7-524b63c56779"
      },
      "execution_count": null,
      "outputs": [
        {
          "output_type": "stream",
          "name": "stdout",
          "text": [
            "(1, 2, 3, 4, 5)\n"
          ]
        }
      ]
    },
    {
      "cell_type": "code",
      "source": [
        "print(t3)\n",
        "del t3\n",
        "print(t3)"
      ],
      "metadata": {
        "colab": {
          "base_uri": "https://localhost:8080/",
          "height": 193
        },
        "id": "VxL9AfYz4oH4",
        "outputId": "bbc17f57-9866-4dfe-c7ca-a170674c357c"
      },
      "execution_count": null,
      "outputs": [
        {
          "output_type": "stream",
          "name": "stdout",
          "text": [
            "(1, 2, 3, 4, 5)\n"
          ]
        },
        {
          "output_type": "error",
          "ename": "NameError",
          "evalue": "name 't3' is not defined",
          "traceback": [
            "\u001b[0;31m---------------------------------------------------------------------------\u001b[0m",
            "\u001b[0;31mNameError\u001b[0m                                 Traceback (most recent call last)",
            "\u001b[0;32m<ipython-input-37-0a67b29ad777>\u001b[0m in \u001b[0;36m<cell line: 3>\u001b[0;34m()\u001b[0m\n\u001b[1;32m      1\u001b[0m \u001b[0mprint\u001b[0m\u001b[0;34m(\u001b[0m\u001b[0mt3\u001b[0m\u001b[0;34m)\u001b[0m\u001b[0;34m\u001b[0m\u001b[0;34m\u001b[0m\u001b[0m\n\u001b[1;32m      2\u001b[0m \u001b[0;32mdel\u001b[0m \u001b[0mt3\u001b[0m\u001b[0;34m\u001b[0m\u001b[0;34m\u001b[0m\u001b[0m\n\u001b[0;32m----> 3\u001b[0;31m \u001b[0mprint\u001b[0m\u001b[0;34m(\u001b[0m\u001b[0mt3\u001b[0m\u001b[0;34m)\u001b[0m\u001b[0;34m\u001b[0m\u001b[0;34m\u001b[0m\u001b[0m\n\u001b[0m",
            "\u001b[0;31mNameError\u001b[0m: name 't3' is not defined"
          ]
        }
      ]
    },
    {
      "cell_type": "code",
      "source": [
        "t=(1,2,3,4,5)\n",
        "t[-1:-4:2]"
      ],
      "metadata": {
        "colab": {
          "base_uri": "https://localhost:8080/"
        },
        "id": "zJq2bnwO5OhS",
        "outputId": "e7b1d1f9-25d3-4c8a-fa76-463720fbeb23"
      },
      "execution_count": null,
      "outputs": [
        {
          "output_type": "execute_result",
          "data": {
            "text/plain": [
              "()"
            ]
          },
          "metadata": {},
          "execution_count": 48
        }
      ]
    },
    {
      "cell_type": "markdown",
      "source": [
        "#Sets"
      ],
      "metadata": {
        "id": "QXl3jZd8KVNv"
      }
    },
    {
      "cell_type": "code",
      "source": [
        "s={1,2,3,'hello',4.5,(454,43),True,7.4}\n",
        "print(s)\n",
        "\n",
        "s2=set([1,2,3])\n",
        "print(s2)\n",
        "\n",
        "#set can't have mutable item\n",
        "s3={1,2,3,[3,4]}"
      ],
      "metadata": {
        "colab": {
          "base_uri": "https://localhost:8080/",
          "height": 211
        },
        "id": "_fL-PBUSKZJn",
        "outputId": "49743888-7e48-4ab9-c160-333521beac91"
      },
      "execution_count": null,
      "outputs": [
        {
          "output_type": "stream",
          "name": "stdout",
          "text": [
            "{1, 2, 3, 4.5, 'hello', (454, 43), 7.4}\n",
            "{1, 2, 3}\n"
          ]
        },
        {
          "output_type": "error",
          "ename": "TypeError",
          "evalue": "unhashable type: 'list'",
          "traceback": [
            "\u001b[0;31m---------------------------------------------------------------------------\u001b[0m",
            "\u001b[0;31mTypeError\u001b[0m                                 Traceback (most recent call last)",
            "\u001b[0;32m<ipython-input-57-38c8dc51cba1>\u001b[0m in \u001b[0;36m<cell line: 8>\u001b[0;34m()\u001b[0m\n\u001b[1;32m      6\u001b[0m \u001b[0;34m\u001b[0m\u001b[0m\n\u001b[1;32m      7\u001b[0m \u001b[0;31m#set can't have mutable item\u001b[0m\u001b[0;34m\u001b[0m\u001b[0;34m\u001b[0m\u001b[0m\n\u001b[0;32m----> 8\u001b[0;31m \u001b[0ms3\u001b[0m\u001b[0;34m=\u001b[0m\u001b[0;34m{\u001b[0m\u001b[0;36m1\u001b[0m\u001b[0;34m,\u001b[0m\u001b[0;36m2\u001b[0m\u001b[0;34m,\u001b[0m\u001b[0;36m3\u001b[0m\u001b[0;34m,\u001b[0m\u001b[0;34m[\u001b[0m\u001b[0;36m3\u001b[0m\u001b[0;34m,\u001b[0m\u001b[0;36m4\u001b[0m\u001b[0;34m]\u001b[0m\u001b[0;34m}\u001b[0m\u001b[0;34m\u001b[0m\u001b[0;34m\u001b[0m\u001b[0m\n\u001b[0m",
            "\u001b[0;31mTypeError\u001b[0m: unhashable type: 'list'"
          ]
        }
      ]
    },
    {
      "cell_type": "markdown",
      "source": [
        "#Adding Items\n"
      ],
      "metadata": {
        "id": "BsJ7GAFSrhP_"
      }
    },
    {
      "cell_type": "code",
      "source": [
        "s={1,2,3,4}\n",
        "#add\n",
        "#s.add(5);\n",
        "#print(s)\n",
        "#Update\n",
        "s.update([8,6,5])\n",
        "print(s)"
      ],
      "metadata": {
        "colab": {
          "base_uri": "https://localhost:8080/"
        },
        "id": "pMouUllyrebk",
        "outputId": "96c995b3-27c0-43a2-8116-f8b84a58362e"
      },
      "execution_count": null,
      "outputs": [
        {
          "output_type": "stream",
          "name": "stdout",
          "text": [
            "{1, 2, 3, 4, 5, 6, 8}\n"
          ]
        }
      ]
    },
    {
      "cell_type": "markdown",
      "source": [
        "# Deleting Item"
      ],
      "metadata": {
        "id": "QCxwXQV4sMNe"
      }
    },
    {
      "cell_type": "code",
      "source": [
        "#Del key\n",
        "s={1,2,3,4,5}\n",
        "# print(s)\n",
        "# del s\n",
        "# print(s)\n",
        "\n",
        "#discard\n",
        "# s.discard(5)\n",
        "# print(s)\n",
        "#remove\n",
        "# s.remove(6)\n",
        "# print(s)\n",
        "\n",
        "#pop\n",
        "# s.pop()\n",
        "# s.pop()\n",
        "# print(s)\n",
        "# #Clear\n",
        "# s.clear()\n",
        "# print(s)"
      ],
      "metadata": {
        "colab": {
          "base_uri": "https://localhost:8080/"
        },
        "id": "xMf2OjZpsPyH",
        "outputId": "bbd7fd09-68fb-4cac-8427-5b1b3a07fc6e"
      },
      "execution_count": null,
      "outputs": [
        {
          "output_type": "stream",
          "name": "stdout",
          "text": [
            "{3, 4, 5}\n",
            "set()\n"
          ]
        }
      ]
    },
    {
      "cell_type": "markdown",
      "source": [
        "# Set Operation"
      ],
      "metadata": {
        "id": "eSEDYA7Mt9bG"
      }
    },
    {
      "cell_type": "code",
      "source": [
        "s1={1,2,3,4,5}\n",
        "s2={4,5,6,7,8}\n",
        "#Union(|)\n",
        "s1 | s2\n",
        "#Intersection(&)\n",
        "s1 & s2\n",
        "#Difference(-)\n",
        "s1-s2\n",
        "s2-s1\n",
        "#Symetric difference(^)\n",
        "s1^s2\n",
        "\n",
        "# #Membership Test\n",
        "# 1 in s1\n",
        "# 1 not in s1\n",
        "# #Iteration\n",
        "# for i in s1:\n",
        "#   print(i)"
      ],
      "metadata": {
        "colab": {
          "base_uri": "https://localhost:8080/"
        },
        "id": "ScdNus8EuBOl",
        "outputId": "24de5644-f428-461b-fe7e-5f0d0c6a4ff1"
      },
      "execution_count": null,
      "outputs": [
        {
          "output_type": "execute_result",
          "data": {
            "text/plain": [
              "{1, 2, 3, 6, 7, 8}"
            ]
          },
          "metadata": {},
          "execution_count": 55
        }
      ]
    },
    {
      "cell_type": "markdown",
      "source": [
        "#Set functions"
      ],
      "metadata": {
        "id": "zxPbIZnjvBnF"
      }
    },
    {
      "cell_type": "code",
      "source": [
        "#len/min/max/sorted\n",
        "s={3,1,4,5,2,7}\n",
        "len(s)\n",
        "sum(s)\n",
        "min(s)\n",
        "max(s)\n",
        "sorted(s,reverse=True)"
      ],
      "metadata": {
        "colab": {
          "base_uri": "https://localhost:8080/"
        },
        "id": "ZAseh4K7vFd5",
        "outputId": "01bb4a62-9113-46dd-b7ac-c7f8e521f8ae"
      },
      "execution_count": null,
      "outputs": [
        {
          "output_type": "execute_result",
          "data": {
            "text/plain": [
              "[7, 5, 4, 3, 2, 1]"
            ]
          },
          "metadata": {},
          "execution_count": 37
        }
      ]
    },
    {
      "cell_type": "code",
      "source": [
        "#union / update function\n",
        "s1={1,2,3,4,5}\n",
        "s2={4,5,6,7,8}\n",
        "#s1|s2\n",
        "s1.union(s2)\n",
        "print(s1)\n",
        "print(s2)\n",
        "s1.update(s2)\n",
        "print(s1)\n",
        "print(s2)"
      ],
      "metadata": {
        "colab": {
          "base_uri": "https://localhost:8080/"
        },
        "id": "Op9_u8rYvk0y",
        "outputId": "033ef549-ec78-4c59-c48f-4a3a07c0679b"
      },
      "execution_count": null,
      "outputs": [
        {
          "output_type": "stream",
          "name": "stdout",
          "text": [
            "{1, 2, 3, 4, 5}\n"
          ]
        }
      ]
    },
    {
      "cell_type": "code",
      "source": [
        "#Intersection / intersection_update\n",
        "s1={1,2,3,4,5}\n",
        "s2={4,5,6,7,8}\n",
        "\n",
        "s1.intersection(s2)\n",
        "print(s1.intersection_update(s2))\n",
        "print(s1)\n",
        "print(s2)"
      ],
      "metadata": {
        "colab": {
          "base_uri": "https://localhost:8080/"
        },
        "id": "JO3kMr88wMXt",
        "outputId": "c93fb2bb-769a-45a1-acf0-96abc75b1a4e"
      },
      "execution_count": null,
      "outputs": [
        {
          "output_type": "stream",
          "name": "stdout",
          "text": [
            "None\n",
            "{4, 5}\n",
            "{4, 5, 6, 7, 8}\n"
          ]
        }
      ]
    },
    {
      "cell_type": "code",
      "source": [
        "#Diffrence/ difference_update\n",
        "\n",
        "s1={1,2,3,4,5}\n",
        "s2={4,5,6,7,8}\n",
        "\n",
        "s1.difference(s2)\n",
        "s1.difference_update(s2)\n",
        "print(s1)\n",
        "print(s2)"
      ],
      "metadata": {
        "colab": {
          "base_uri": "https://localhost:8080/"
        },
        "id": "bwXUIj8Nw6yp",
        "outputId": "ff3ade11-3c15-41fc-a7dc-7d2231bd983a"
      },
      "execution_count": null,
      "outputs": [
        {
          "output_type": "stream",
          "name": "stdout",
          "text": [
            "{1, 2, 3}\n",
            "{4, 5, 6, 7, 8}\n"
          ]
        }
      ]
    },
    {
      "cell_type": "code",
      "source": [
        "#Symetric_difference/ symetric_difference_update\n",
        "s1={1,2,3,4,5}\n",
        "s2={4,5,6,7,8}\n",
        "\n",
        "s1.symmetric_difference(s2)\n",
        "s1.symmetric_difference_update(s2)\n",
        "print(s1)\n",
        "print(s2)"
      ],
      "metadata": {
        "colab": {
          "base_uri": "https://localhost:8080/"
        },
        "id": "Et2XiThlxetL",
        "outputId": "7ed9cb83-de90-4f7d-b1cb-da6d8de8dd59"
      },
      "execution_count": null,
      "outputs": [
        {
          "output_type": "stream",
          "name": "stdout",
          "text": [
            "None\n",
            "{1, 2, 3, 6, 7, 8}\n",
            "{4, 5, 6, 7, 8}\n"
          ]
        }
      ]
    },
    {
      "cell_type": "code",
      "source": [
        "# isdisjoint/issubset/issuperset\n",
        "s1={1,2,3,4}\n",
        "s2={3,4,5,6}\n",
        "\n",
        "s1.isdisjoint(s2)\n"
      ],
      "metadata": {
        "colab": {
          "base_uri": "https://localhost:8080/"
        },
        "id": "Alj1Q0sLasmp",
        "outputId": "336ebab6-91e3-48d1-abf4-7b7b039f7bda"
      },
      "execution_count": null,
      "outputs": [
        {
          "output_type": "execute_result",
          "data": {
            "text/plain": [
              "False"
            ]
          },
          "metadata": {},
          "execution_count": 2
        }
      ]
    },
    {
      "cell_type": "code",
      "source": [
        "#issubset\n",
        "s1={1,2,3,4,5}\n",
        "s2={3,4,5}\n",
        "s2.issubset(s1)\n"
      ],
      "metadata": {
        "colab": {
          "base_uri": "https://localhost:8080/"
        },
        "id": "Z1rzRMHXbLki",
        "outputId": "893c5421-4d1b-4c1b-8fce-8deef864b57b"
      },
      "execution_count": null,
      "outputs": [
        {
          "output_type": "execute_result",
          "data": {
            "text/plain": [
              "True"
            ]
          },
          "metadata": {},
          "execution_count": 5
        }
      ]
    },
    {
      "cell_type": "code",
      "source": [
        "s1={1,2,3,4,5}\n",
        "s2={3,4,5}\n",
        "s2.issuperset(s1)"
      ],
      "metadata": {
        "colab": {
          "base_uri": "https://localhost:8080/"
        },
        "id": "0aRT70eBbeVS",
        "outputId": "6090442a-6c8e-4c7e-83b4-e39a667fcbb8"
      },
      "execution_count": null,
      "outputs": [
        {
          "output_type": "execute_result",
          "data": {
            "text/plain": [
              "False"
            ]
          },
          "metadata": {},
          "execution_count": 7
        }
      ]
    },
    {
      "cell_type": "code",
      "source": [
        "#Copy\n",
        "s1={1,2,3}\n",
        "s2=s1.copy()\n",
        "print(s1)\n",
        "print(s2)"
      ],
      "metadata": {
        "colab": {
          "base_uri": "https://localhost:8080/"
        },
        "id": "Z378wp0-bniz",
        "outputId": "c1486273-48fa-4661-9229-59816fc0af15"
      },
      "execution_count": null,
      "outputs": [
        {
          "output_type": "stream",
          "name": "stdout",
          "text": [
            "{1, 2, 3}\n",
            "{1, 2, 3}\n"
          ]
        }
      ]
    },
    {
      "cell_type": "code",
      "source": [
        "# create frozenset\n",
        "fs1=frozenset([1,2,3])\n",
        "fs2=frozenset([3,4,5])\n",
        "fs1|fs2"
      ],
      "metadata": {
        "colab": {
          "base_uri": "https://localhost:8080/"
        },
        "id": "iTWOOmUrtgCW",
        "outputId": "90dfd47f-c31b-453f-d308-8e50d901b5b0"
      },
      "execution_count": null,
      "outputs": [
        {
          "output_type": "execute_result",
          "data": {
            "text/plain": [
              "frozenset({1, 2, 3, 4, 5})"
            ]
          },
          "metadata": {},
          "execution_count": 2
        }
      ]
    },
    {
      "cell_type": "code",
      "source": [
        "# what works and what does not\n",
        "# work -> all read function\n",
        "# does't work m-> write operation\n"
      ],
      "metadata": {
        "id": "ounLHYqRtwGT"
      },
      "execution_count": null,
      "outputs": []
    },
    {
      "cell_type": "code",
      "source": [
        "#When to use -> read only\n",
        "# 2D frozensets?yes\n",
        "fs=frozenset([1,2,frozenset([2,3,4])])\n",
        "fs\n",
        "\n"
      ],
      "metadata": {
        "colab": {
          "base_uri": "https://localhost:8080/"
        },
        "id": "XCb4aHxEupiJ",
        "outputId": "929872c5-63c3-433e-d3b1-da1b1a4d4577"
      },
      "execution_count": null,
      "outputs": [
        {
          "output_type": "execute_result",
          "data": {
            "text/plain": [
              "frozenset({1, 2, frozenset({2, 3, 4})})"
            ]
          },
          "metadata": {},
          "execution_count": 3
        }
      ]
    },
    {
      "cell_type": "code",
      "source": [
        "#Set comprehension\n",
        "#example\n",
        "{i**2 for i in range(1,11) if i>5}"
      ],
      "metadata": {
        "colab": {
          "base_uri": "https://localhost:8080/"
        },
        "id": "njNlOFWVvMGn",
        "outputId": "9dbf0987-9e02-4ad2-dfdc-450c8d0faa5c"
      },
      "execution_count": null,
      "outputs": [
        {
          "output_type": "execute_result",
          "data": {
            "text/plain": [
              "{36, 49, 64, 81, 100}"
            ]
          },
          "metadata": {},
          "execution_count": 6
        }
      ]
    },
    {
      "cell_type": "markdown",
      "source": [
        "# Dictionary\n",
        "\n"
      ],
      "metadata": {
        "id": "jfiskftgexrS"
      }
    },
    {
      "cell_type": "code",
      "source": [
        "#Empty dictionary\n",
        "d={}\n",
        "d\n",
        "#1D dictionary\n",
        "d1={'name':'KAynat','geneder':'male'}\n",
        "d1\n",
        "#With mixed keys\n",
        "d2={(1,2,3):1,'hello':'world'}\n",
        "d2\n",
        "# 2D dictionary\n",
        "s={\n",
        "    'name':'Kaynat',\n",
        "    'college':'JMI',\n",
        "    'sem':4,\n",
        "    'subjects':{\n",
        "        'dsa':50,\n",
        "        'maths':67,\n",
        "        'enlish':34\n",
        "    }\n",
        "}\n",
        "s\n",
        "# Using sequence and dict function\n",
        "d4=dict([('name','Kaynat'),('age',32),(3,3)])\n",
        "d4\n",
        "# duplicate Keys\n",
        "d5={'name':'kaynat','name':'rahul'}\n",
        "d5\n",
        "# Mutable Item as Keys\n",
        "#d6={'name':'KAynat',[1,2,3]:2}\n",
        "d6={'name':'KAynat',(1,2,3):2}\n",
        "d6"
      ],
      "metadata": {
        "colab": {
          "base_uri": "https://localhost:8080/"
        },
        "id": "u-3KF42Ge08z",
        "outputId": "4dea1c33-949e-4828-d266-d0ae80df87ba"
      },
      "execution_count": null,
      "outputs": [
        {
          "output_type": "execute_result",
          "data": {
            "text/plain": [
              "{'name': 'KAynat', (1, 2, 3): 2}"
            ]
          },
          "metadata": {},
          "execution_count": 14
        }
      ]
    },
    {
      "cell_type": "code",
      "source": [
        "my_dict={'name':'Kaynat','age':26}\n",
        "# []\n",
        "my_dict['name']\n",
        "# get\n",
        "my_dict.get('age')\n",
        "\n",
        "s['subjects']['dsa']"
      ],
      "metadata": {
        "colab": {
          "base_uri": "https://localhost:8080/"
        },
        "id": "uT9YX30yitMA",
        "outputId": "7040fbe7-6806-4b84-e487-ff007cf482b7"
      },
      "execution_count": null,
      "outputs": [
        {
          "output_type": "execute_result",
          "data": {
            "text/plain": [
              "50"
            ]
          },
          "metadata": {},
          "execution_count": 34
        }
      ]
    },
    {
      "cell_type": "code",
      "source": [
        "# Adding key value pair\n",
        "d4['gender']='male'\n",
        "d4\n",
        "d4['weight']=52\n",
        "d4\n",
        "\n",
        "s['subjects']['ds']=45\n",
        "s"
      ],
      "metadata": {
        "colab": {
          "base_uri": "https://localhost:8080/"
        },
        "id": "3BArCxYzjM6t",
        "outputId": "da3ae993-b50d-43f3-f9ef-803c24abfa1f"
      },
      "execution_count": null,
      "outputs": [
        {
          "output_type": "execute_result",
          "data": {
            "text/plain": [
              "{'name': 'Kaynat',\n",
              " 'college': 'JMI',\n",
              " 'sem': 4,\n",
              " 'subjects': {'dsa': 50, 'maths': 67, 'enlish': 34, 'ds': 45}}"
            ]
          },
          "metadata": {},
          "execution_count": 36
        }
      ]
    },
    {
      "cell_type": "code",
      "source": [
        "# Remove Key value pair\n",
        "d={'name': 'Kaynat', 'age': 32, 3: 3, 'gender': 'male', 'weight': 52}\n",
        "#pop\n",
        "#d.pop('name')\n",
        "d\n",
        "# popitem\n",
        "#d.popitem()\n",
        "d\n",
        "#d.popitem()\n",
        "d\n",
        "\n",
        "# del\n",
        "del d['name']\n",
        "d\n",
        "# clear\n",
        "d.clear()\n",
        "d\n",
        "\n",
        "del s['subjects']['maths']\n",
        "s"
      ],
      "metadata": {
        "colab": {
          "base_uri": "https://localhost:8080/"
        },
        "id": "HQaDdSKpjmRC",
        "outputId": "4252434c-c15c-4ce8-ecb8-f926ed24b454"
      },
      "execution_count": null,
      "outputs": [
        {
          "output_type": "execute_result",
          "data": {
            "text/plain": [
              "{'name': 'Kaynat',\n",
              " 'college': 'JMI',\n",
              " 'sem': 4,\n",
              " 'subjects': {'dsa': 50, 'enlish': 34, 'ds': 45}}"
            ]
          },
          "metadata": {},
          "execution_count": 37
        }
      ]
    },
    {
      "cell_type": "code",
      "source": [
        "# Editing key - value pair\n",
        "s['sem']=5\n",
        "s\n",
        "s['subjects']['dsa']=67\n",
        "s"
      ],
      "metadata": {
        "colab": {
          "base_uri": "https://localhost:8080/"
        },
        "id": "kXIwfbMqlQaf",
        "outputId": "92e0725e-3dbc-46b0-ce24-a998a2432ac9"
      },
      "execution_count": null,
      "outputs": [
        {
          "output_type": "execute_result",
          "data": {
            "text/plain": [
              "{'name': 'Kaynat',\n",
              " 'college': 'JMI',\n",
              " 'sem': 5,\n",
              " 'subjects': {'dsa': 67, 'enlish': 34, 'ds': 45}}"
            ]
          },
          "metadata": {},
          "execution_count": 41
        }
      ]
    },
    {
      "cell_type": "markdown",
      "source": [
        "# Dictionary Operation\n",
        "\n",
        "*   Membership   \n",
        "*   Iteration\n",
        "\n"
      ],
      "metadata": {
        "id": "w-ICjJNNn61I"
      }
    },
    {
      "cell_type": "code",
      "source": [
        "print(s)\n",
        "\n",
        "'name' in s"
      ],
      "metadata": {
        "colab": {
          "base_uri": "https://localhost:8080/"
        },
        "id": "YW9lXW3voIjC",
        "outputId": "ed75f6a1-b1ca-430e-9c32-a3029d2cca00"
      },
      "execution_count": null,
      "outputs": [
        {
          "output_type": "stream",
          "name": "stdout",
          "text": [
            "{'name': 'Kaynat', 'college': 'JMI', 'sem': 5, 'subjects': {'dsa': 67, 'enlish': 34, 'ds': 45}}\n"
          ]
        },
        {
          "output_type": "execute_result",
          "data": {
            "text/plain": [
              "True"
            ]
          },
          "metadata": {},
          "execution_count": 47
        }
      ]
    },
    {
      "cell_type": "code",
      "source": [
        "d = {'name':'Kaynat','gender':'male','age':18}\n",
        "\n",
        "for i in d:\n",
        "  print(i,d[i])\n",
        "\n"
      ],
      "metadata": {
        "colab": {
          "base_uri": "https://localhost:8080/"
        },
        "id": "y4v9kFzIoigc",
        "outputId": "3d6c39bd-adf4-4b33-8796-e8e1ecb45df4"
      },
      "execution_count": null,
      "outputs": [
        {
          "output_type": "stream",
          "name": "stdout",
          "text": [
            "name Kaynat\n",
            "gender male\n",
            "age 18\n"
          ]
        }
      ]
    },
    {
      "cell_type": "code",
      "source": [
        "# Dictionary function\n",
        "\n",
        "#len/sorted\n",
        "len(d)\n",
        "print(d)\n",
        "sorted(d,reverse=True)\n",
        "min(d)\n",
        "max(d)"
      ],
      "metadata": {
        "colab": {
          "base_uri": "https://localhost:8080/",
          "height": 53
        },
        "id": "fsrucKBWpGpj",
        "outputId": "e8903801-650b-49e2-b16d-37b0b4031ce8"
      },
      "execution_count": null,
      "outputs": [
        {
          "output_type": "stream",
          "name": "stdout",
          "text": [
            "{'name': 'Kaynat', 'gender': 'male', 'age': 18}\n"
          ]
        },
        {
          "output_type": "execute_result",
          "data": {
            "text/plain": [
              "'name'"
            ],
            "application/vnd.google.colaboratory.intrinsic+json": {
              "type": "string"
            }
          },
          "metadata": {},
          "execution_count": 56
        }
      ]
    },
    {
      "cell_type": "code",
      "source": [
        "# Item / keys / values\n",
        "print(d)\n",
        "\n",
        "print(d.items())\n",
        "print(d.keys())\n",
        "print(d.values())"
      ],
      "metadata": {
        "colab": {
          "base_uri": "https://localhost:8080/"
        },
        "id": "22mnbxxtpjre",
        "outputId": "faf7b11a-f0b7-48cd-bc2e-d2b8836c15ef"
      },
      "execution_count": null,
      "outputs": [
        {
          "output_type": "stream",
          "name": "stdout",
          "text": [
            "{'name': 'Kaynat', 'gender': 'male', 'age': 18}\n",
            "dict_items([('name', 'Kaynat'), ('gender', 'male'), ('age', 18)])\n",
            "dict_keys(['name', 'gender', 'age'])\n",
            "dict_values(['Kaynat', 'male', 18])\n"
          ]
        }
      ]
    },
    {
      "cell_type": "code",
      "source": [
        "# Update\n",
        "d1={1:2,3:4,4:5}\n",
        "d2={4:7,3:8}\n",
        "\n",
        "d1.update(d2)\n",
        "print(d1)"
      ],
      "metadata": {
        "colab": {
          "base_uri": "https://localhost:8080/"
        },
        "id": "F0KFG6mCp5bH",
        "outputId": "6b0b0a5b-4369-44cc-e73d-62281507c2e3"
      },
      "execution_count": null,
      "outputs": [
        {
          "output_type": "stream",
          "name": "stdout",
          "text": [
            "{1: 2, 3: 8, 4: 7}\n"
          ]
        }
      ]
    },
    {
      "cell_type": "markdown",
      "source": [
        "# Dictionary Comprehension"
      ],
      "metadata": {
        "id": "4Q5mm1_fqzpk"
      }
    },
    {
      "cell_type": "code",
      "source": [
        "# Print 1st 10 numbers and their squares\n",
        "{i:i**2 for i in range(1,11)}"
      ],
      "metadata": {
        "colab": {
          "base_uri": "https://localhost:8080/"
        },
        "id": "SXStYmvVq7Tu",
        "outputId": "860e8b8b-6a68-4f10-f4da-8af7b501351e"
      },
      "execution_count": null,
      "outputs": [
        {
          "output_type": "execute_result",
          "data": {
            "text/plain": [
              "{1: 1, 2: 4, 3: 9, 4: 16, 5: 25, 6: 36, 7: 49, 8: 64, 9: 81, 10: 100}"
            ]
          },
          "metadata": {},
          "execution_count": 65
        }
      ]
    },
    {
      "cell_type": "code",
      "source": [
        "distances ={'delhi':1000,'mumbai':2000,'bangalore':3000}\n",
        "print(distances.items())"
      ],
      "metadata": {
        "colab": {
          "base_uri": "https://localhost:8080/"
        },
        "id": "CR9yalRzsCsA",
        "outputId": "aa330653-e378-4ffd-c83a-181364d2f4d1"
      },
      "execution_count": null,
      "outputs": [
        {
          "output_type": "stream",
          "name": "stdout",
          "text": [
            "dict_items([('delhi', 1000), ('mumbai', 2000), ('bangalore', 3000)])\n"
          ]
        }
      ]
    },
    {
      "cell_type": "code",
      "source": [
        "# USing existing dict\n",
        "distances ={'delhi':1000,'mumbai':2000,'bangalore':3000}\n",
        "{key:value*0.5 for (key,value) in distances.items()}"
      ],
      "metadata": {
        "colab": {
          "base_uri": "https://localhost:8080/"
        },
        "id": "lV_LjJvCrXbC",
        "outputId": "145a674f-7d5d-44d7-f93c-e1996555df4a"
      },
      "execution_count": null,
      "outputs": [
        {
          "output_type": "execute_result",
          "data": {
            "text/plain": [
              "{'delhi': 500.0, 'mumbai': 1000.0, 'bangalore': 1500.0}"
            ]
          },
          "metadata": {},
          "execution_count": 69
        }
      ]
    },
    {
      "cell_type": "code",
      "source": [
        "# Using Zip\n",
        "\n",
        "days =[\"Sunday\",\"Monday\",\"Tuesday\",\"Wednesday\",\"Thursday\",\"Friday\",\"Saturday\"]\n",
        "temp_C=[30.5,32.6,31.8,33.4,29.8,30.2,29.9]\n",
        "\n",
        "{i:j for(i,j)in zip(days,temp_C)}"
      ],
      "metadata": {
        "colab": {
          "base_uri": "https://localhost:8080/"
        },
        "id": "n3rPUNNns6ww",
        "outputId": "af5ac6c5-1f86-4461-dd12-d5664a607022"
      },
      "execution_count": null,
      "outputs": [
        {
          "output_type": "execute_result",
          "data": {
            "text/plain": [
              "{'Sunday': 30.5,\n",
              " 'Monday': 32.6,\n",
              " 'Tuesday': 31.8,\n",
              " 'Wednesday': 33.4,\n",
              " 'Thursday': 29.8,\n",
              " 'Friday': 30.2,\n",
              " 'Saturday': 29.9}"
            ]
          },
          "metadata": {},
          "execution_count": 71
        }
      ]
    },
    {
      "cell_type": "code",
      "source": [
        "# using if condition\n",
        "products = {'phone':10,'lapto':0,'charger':32,'tablet':0}\n",
        "\n",
        "{key:value for (key , value) in products.items() if value>0}"
      ],
      "metadata": {
        "colab": {
          "base_uri": "https://localhost:8080/"
        },
        "id": "kAXZIK2Kt5hf",
        "outputId": "0ccbfdb5-4394-4b4f-f912-aaf0c4b7bd0e"
      },
      "execution_count": null,
      "outputs": [
        {
          "output_type": "execute_result",
          "data": {
            "text/plain": [
              "{'phone': 10, 'charger': 32}"
            ]
          },
          "metadata": {},
          "execution_count": 72
        }
      ]
    },
    {
      "cell_type": "code",
      "source": [
        "# Nested Comprehension\n",
        "\n",
        "{i:{j:i*j for j in range(1,11)} for i in range(2,5)}"
      ],
      "metadata": {
        "colab": {
          "base_uri": "https://localhost:8080/"
        },
        "id": "BGGglsAnuWFs",
        "outputId": "e6fef4bf-f552-49eb-8641-dd9e5fbf3f56"
      },
      "execution_count": null,
      "outputs": [
        {
          "output_type": "execute_result",
          "data": {
            "text/plain": [
              "{2: {1: 2, 2: 4, 3: 6, 4: 8, 5: 10, 6: 12, 7: 14, 8: 16, 9: 18, 10: 20},\n",
              " 3: {1: 3, 2: 6, 3: 9, 4: 12, 5: 15, 6: 18, 7: 21, 8: 24, 9: 27, 10: 30},\n",
              " 4: {1: 4, 2: 8, 3: 12, 4: 16, 5: 20, 6: 24, 7: 28, 8: 32, 9: 36, 10: 40}}"
            ]
          },
          "metadata": {},
          "execution_count": 75
        }
      ]
    },
    {
      "cell_type": "code",
      "source": [
        "{\n",
        "    2:{1:2,2:4,3:6,4:8},\n",
        "    3:{1:3,2:6,3:9,4:12},\n",
        "    4:{1:4,2:8,3:12,4:16},\n",
        "}"
      ],
      "metadata": {
        "id": "gdVdTt6vu7Pk"
      },
      "execution_count": null,
      "outputs": []
    }
  ]
}